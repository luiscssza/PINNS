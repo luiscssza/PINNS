{
 "cells": [
  {
   "cell_type": "markdown",
   "id": "745557e6-0093-4b0c-9086-30e41c6cf26f",
   "metadata": {},
   "source": [
    "PINN_PENDULO_LUIS_T_MU.ipynb (2023.09.30)"
   ]
  },
  {
   "cell_type": "code",
   "execution_count": 1,
   "id": "40c22569-040e-41ee-9ea1-3a937c7b7edb",
   "metadata": {},
   "outputs": [],
   "source": [
    "### Import all what you need:\n",
    "import torch\n",
    "import torch.nn as nn\n",
    "from torchsummary import summary # https://pypi.org/project/torch-summary/\n",
    "import torchinfo \n",
    "import numpy as np\n",
    "import matplotlib.pyplot as plt"
   ]
  },
  {
   "cell_type": "code",
   "execution_count": 2,
   "id": "e2085019-11d0-4e4d-b8b1-a4a87e045612",
   "metadata": {},
   "outputs": [
    {
     "data": {
      "text/plain": [
       "<torch._C.Generator at 0x7f60a3fe0890>"
      ]
     },
     "execution_count": 2,
     "metadata": {},
     "output_type": "execute_result"
    }
   ],
   "source": [
    "torch.manual_seed(123)"
   ]
  },
  {
   "cell_type": "code",
   "execution_count": 3,
   "id": "9b087543-66e7-4964-a8f0-0c36f894a53d",
   "metadata": {},
   "outputs": [
    {
     "name": "stdout",
     "output_type": "stream",
     "text": [
      "Using cuda device\n"
     ]
    }
   ],
   "source": [
    "# Save in a variable the device cuda(Linux and Windows), mps(Apple) or cpu, you will use for training:\n",
    "device = (\n",
    "    \"cuda\"\n",
    "    if torch.cuda.is_available()\n",
    "    else \"mps\"\n",
    "    if torch.backends.mps.is_available()\n",
    "    else \"cpu\"\n",
    ")\n",
    "print(f\"Using {device} device\")"
   ]
  },
  {
   "cell_type": "code",
   "execution_count": 4,
   "id": "c05773e1-42fd-43e0-a76f-cef595eeda96",
   "metadata": {},
   "outputs": [
    {
     "data": {
      "text/plain": [
       "0"
      ]
     },
     "execution_count": 4,
     "metadata": {},
     "output_type": "execute_result"
    }
   ],
   "source": [
    "torch.cuda.current_device()"
   ]
  },
  {
   "cell_type": "code",
   "execution_count": 5,
   "id": "a6fdb0e9-ec24-4b7e-b4f6-5b509794feec",
   "metadata": {},
   "outputs": [],
   "source": [
    "#Definition of the physical constants and hyperparameters:\n",
    "d, w0 = 2, 20\n",
    "mu, k = 2*d, w0**2\n",
    "learning_rate =  1e-4         # learning rate\n",
    "lambda1, lambda2 = 1e-4, 1e-4 # loss term hyperparameters\n",
    "epochs = 20001"
   ]
  },
  {
   "cell_type": "markdown",
   "id": "a2a23905-0efb-486b-a59c-54f800cf0c66",
   "metadata": {},
   "source": [
    "### Generate initial training points:\n"
   ]
  },
  {
   "cell_type": "code",
   "execution_count": 6,
   "id": "f2c7e3a6-70e5-4a5e-97e1-948db9811948",
   "metadata": {},
   "outputs": [],
   "source": [
    "#### Initial condition 1: t and mu training points generation \n",
    "point_resolution = 40"
   ]
  },
  {
   "cell_type": "code",
   "execution_count": 7,
   "id": "76db9e31-10cc-4740-94ea-106a8490b485",
   "metadata": {},
   "outputs": [],
   "source": [
    "mu_range = (1,10)"
   ]
  },
  {
   "cell_type": "code",
   "execution_count": 8,
   "id": "7193aa2f-b6fa-4c2c-9e61-a6fb946d703d",
   "metadata": {},
   "outputs": [
    {
     "data": {
      "text/plain": [
       "(1, 10, 40)"
      ]
     },
     "execution_count": 8,
     "metadata": {},
     "output_type": "execute_result"
    }
   ],
   "source": [
    "test = (*mu_range, point_resolution)\n",
    "test"
   ]
  },
  {
   "cell_type": "code",
   "execution_count": 9,
   "id": "8a55e2f9-2cec-440e-9a56-40b94684d95b",
   "metadata": {},
   "outputs": [],
   "source": [
    "#torch.linspace(*test)"
   ]
  },
  {
   "cell_type": "code",
   "execution_count": 10,
   "id": "1b59d538-c9bf-4c3d-8120-6f37d3984851",
   "metadata": {},
   "outputs": [],
   "source": [
    "ic1_t_mu = torch.stack([torch.zeros(point_resolution).requires_grad_(True), torch.linspace(1,10, point_resolution).requires_grad_(True)],-1)\n",
    "#ic1_t_mu = torch.stack([torch.zeros(point_resolution), torch.linspace(1,10, point_resolution)],-1).requires_grad_(True).to(device)\n",
    "#ic1_t_mu"
   ]
  },
  {
   "cell_type": "code",
   "execution_count": 11,
   "id": "1bffbbf4-1b6b-45b2-8f32-a323e9e9235e",
   "metadata": {},
   "outputs": [
    {
     "name": "stdout",
     "output_type": "stream",
     "text": [
      "torch.Size([40, 2]) torch.Size([40, 1])\n"
     ]
    }
   ],
   "source": [
    "ic1_scope = torch.ones_like(ic1_t_mu[:,0:1]).requires_grad_(True)#.to(device)\n",
    "print(ic1_t_mu.shape, ic1_scope.shape)"
   ]
  },
  {
   "cell_type": "code",
   "execution_count": 12,
   "id": "8a449294-135f-4829-a3f8-b385e3f2d6d8",
   "metadata": {},
   "outputs": [],
   "source": [
    "#ic1_scope"
   ]
  },
  {
   "cell_type": "markdown",
   "id": "14a3556d-a8e5-4869-96c5-1ad657294d10",
   "metadata": {},
   "source": [
    "#### Initial condition 2: t and mu training points generation:"
   ]
  },
  {
   "cell_type": "code",
   "execution_count": 13,
   "id": "e948f10f-422c-4c8c-b583-ccf88d582af8",
   "metadata": {},
   "outputs": [],
   "source": [
    "ic2_t_mu = torch.stack([torch.zeros(point_resolution).requires_grad_(True), torch.linspace(1,10, point_resolution).requires_grad_(True)], -1)\n",
    "#ic2_t_mu = torch.stack([torch.zeros(point_resolution).requires_grad_(True).to(device), torch.linspace(1,10, point_resolution).requires_grad_(True).to(device)], -1)\n",
    "ic2_scope = torch.zeros_like(ic2_t_mu[:,0:1]).requires_grad_(True)#.to(device)\n",
    "#ic2_t_mu"
   ]
  },
  {
   "cell_type": "code",
   "execution_count": 14,
   "id": "bfe4683f-aebc-44a2-8e37-bb3197390e27",
   "metadata": {},
   "outputs": [],
   "source": [
    "#ic2_scope"
   ]
  },
  {
   "cell_type": "markdown",
   "id": "92c522a7-1779-4393-8aa7-aeae804817db",
   "metadata": {},
   "source": [
    "#### Generation of physical domain training points: "
   ]
  },
  {
   "cell_type": "code",
   "execution_count": 15,
   "id": "2db496d1-a104-4b16-9b91-a4b1aeef5b2b",
   "metadata": {},
   "outputs": [
    {
     "data": {
      "text/plain": [
       "[tensor([0.0100, 0.0354, 0.0608, 0.0862, 0.1115, 0.1369, 0.1623, 0.1877, 0.2131,\n",
       "         0.2385, 0.2638, 0.2892, 0.3146, 0.3400, 0.3654, 0.3908, 0.4162, 0.4415,\n",
       "         0.4669, 0.4923, 0.5177, 0.5431, 0.5685, 0.5938, 0.6192, 0.6446, 0.6700,\n",
       "         0.6954, 0.7208, 0.7462, 0.7715, 0.7969, 0.8223, 0.8477, 0.8731, 0.8985,\n",
       "         0.9238, 0.9492, 0.9746, 1.0000], requires_grad=True),\n",
       " tensor([ 1.0000,  1.2308,  1.4615,  1.6923,  1.9231,  2.1538,  2.3846,  2.6154,\n",
       "          2.8462,  3.0769,  3.3077,  3.5385,  3.7692,  4.0000,  4.2308,  4.4615,\n",
       "          4.6923,  4.9231,  5.1538,  5.3846,  5.6154,  5.8462,  6.0769,  6.3077,\n",
       "          6.5385,  6.7692,  7.0000,  7.2308,  7.4615,  7.6923,  7.9231,  8.1538,\n",
       "          8.3846,  8.6154,  8.8462,  9.0769,  9.3077,  9.5385,  9.7692, 10.0000],\n",
       "        requires_grad=True)]"
      ]
     },
     "execution_count": 15,
     "metadata": {},
     "output_type": "execute_result"
    }
   ],
   "source": [
    "### Generate domain physic loss sample points:\n",
    "physic_in_t_mu = [torch.linspace(1e-2,1, point_resolution).requires_grad_(True), torch.linspace(1,10, point_resolution).requires_grad_(True)] # Mejora: se puede utilizar torch.rand\n",
    "#physic_in_t_mu = [torch.linspace(1e-2,1, point_resolution).requires_grad_(True).to(device), torch.linspace(1,10, point_resolution).requires_grad_(True).to(device)] # Mejora: se puede utilizar torch.rand\n",
    "physic_in_t_mu"
   ]
  },
  {
   "cell_type": "code",
   "execution_count": 16,
   "id": "cdbe0c9a-733f-43f0-b7ad-ac1bd33443f9",
   "metadata": {},
   "outputs": [
    {
     "data": {
      "text/plain": [
       "tensor([[1.0000e-02, 1.0000e+00],\n",
       "        [1.0000e-02, 1.2308e+00],\n",
       "        [1.0000e-02, 1.4615e+00],\n",
       "        ...,\n",
       "        [1.0000e+00, 9.5385e+00],\n",
       "        [1.0000e+00, 9.7692e+00],\n",
       "        [1.0000e+00, 1.0000e+01]], grad_fn=<ViewBackward0>)"
      ]
     },
     "execution_count": 16,
     "metadata": {},
     "output_type": "execute_result"
    }
   ],
   "source": [
    "physic_domain_t_mu = torch.stack(torch.meshgrid(*physic_in_t_mu, indexing='ij'), -1).view(-1, 2).requires_grad_(True)#.to(device)\n",
    "physic_domain_t_mu"
   ]
  },
  {
   "cell_type": "code",
   "execution_count": 17,
   "id": "a5b2c387-53d1-4ebf-91a6-45483391014a",
   "metadata": {},
   "outputs": [
    {
     "data": {
      "text/plain": [
       "torch.Size([1600, 2])"
      ]
     },
     "execution_count": 17,
     "metadata": {},
     "output_type": "execute_result"
    }
   ],
   "source": [
    "physic_domain_t_mu.size()"
   ]
  },
  {
   "cell_type": "markdown",
   "id": "a58dd45d-654d-4134-88aa-aa2d9a2b035e",
   "metadata": {},
   "source": [
    "#### Generation of testing points:"
   ]
  },
  {
   "cell_type": "code",
   "execution_count": 18,
   "id": "331543da-62ec-4679-8c97-a42bb6918073",
   "metadata": {},
   "outputs": [],
   "source": [
    "point_resolution_test = 100"
   ]
  },
  {
   "cell_type": "code",
   "execution_count": 19,
   "id": "3f67b655-9aad-46dd-8d6e-6d296cd9ba90",
   "metadata": {},
   "outputs": [
    {
     "data": {
      "text/plain": [
       "torch.Size([10000, 2])"
      ]
     },
     "execution_count": 19,
     "metadata": {},
     "output_type": "execute_result"
    }
   ],
   "source": [
    "# get testing locations\n",
    "test_in_t_mu = [torch.linspace(0,1,point_resolution_test), torch.linspace(1,10,point_resolution_test) ]\n",
    "test_domain_t_mu = torch.stack(torch.meshgrid(*test_in_t_mu, indexing='ij'), -1).view(-1, 2)\n",
    "test_domain_t_mu.size()"
   ]
  },
  {
   "cell_type": "code",
   "execution_count": 20,
   "id": "2826af80-92e8-45f0-925a-c5042279bd00",
   "metadata": {},
   "outputs": [],
   "source": [
    "### Definition of the Fully Connected Neural Network Class:\n",
    "# define NN\n",
    "class FCN(nn.Module):\n",
    "    \"Defines a fully-connected network\"\n",
    "    \n",
    "    def __init__(self, N_INPUT, N_OUTPUT, N_HIDDEN, N_LAYERS):\n",
    "        super().__init__()\n",
    "        activation = nn.Tanh\n",
    "        self.fcs = nn.Sequential(*[\n",
    "                        nn.Linear(N_INPUT, N_HIDDEN),\n",
    "                        activation()])\n",
    "        self.fch = nn.Sequential(*[\n",
    "                        nn.Sequential(*[\n",
    "                            nn.Linear(N_HIDDEN, N_HIDDEN),\n",
    "                            activation()]) for _ in range(N_LAYERS-1)])\n",
    "        self.fce = nn.Linear(N_HIDDEN, N_OUTPUT)\n",
    "        \n",
    "    def forward(self, x):\n",
    "        x = self.fcs(x)\n",
    "        x = self.fch(x)\n",
    "        x = self.fce(x)\n",
    "        return x"
   ]
  },
  {
   "cell_type": "code",
   "execution_count": 21,
   "id": "b224cb70-c88c-4f14-83cb-9b988bd7142c",
   "metadata": {},
   "outputs": [],
   "source": [
    "model = FCN(2,1,64,4)\n",
    "#model.parameters"
   ]
  },
  {
   "cell_type": "code",
   "execution_count": 22,
   "id": "9012dbc9-3c41-47ba-abbd-8a087290ba6e",
   "metadata": {},
   "outputs": [],
   "source": [
    "optimizer = torch.optim.Adam(model.parameters(), lr= learning_rate)\n",
    "#optimizer"
   ]
  },
  {
   "cell_type": "markdown",
   "id": "9108ca98-72f8-4471-8385-a0ca3053ca5c",
   "metadata": {},
   "source": [
    "## Training (one epoch):"
   ]
  },
  {
   "cell_type": "code",
   "execution_count": 23,
   "id": "f3c4a000-4c95-48f6-9a25-11bdb22bedaa",
   "metadata": {},
   "outputs": [],
   "source": [
    "optimizer.zero_grad()"
   ]
  },
  {
   "cell_type": "markdown",
   "id": "62331492-2c88-419f-8803-41c672ce5aa5",
   "metadata": {},
   "source": [
    "### Compute the \"data loss\":"
   ]
  },
  {
   "cell_type": "markdown",
   "id": "18615cd3-765d-4fea-aa46-71ce9baf43af",
   "metadata": {},
   "source": [
    "Loss term from the initial condition 1 (u):"
   ]
  },
  {
   "cell_type": "code",
   "execution_count": 24,
   "id": "71dd54ba-427d-4890-a242-819afcb15ea6",
   "metadata": {},
   "outputs": [],
   "source": [
    "ic1_predicted= model(ic1_t_mu)"
   ]
  },
  {
   "cell_type": "code",
   "execution_count": 25,
   "id": "d50aa4a2-1b03-4b06-831f-f5498631f5e2",
   "metadata": {},
   "outputs": [],
   "source": [
    "#ic1_predicted"
   ]
  },
  {
   "cell_type": "code",
   "execution_count": 26,
   "id": "323b0664-c9e6-4f81-aafa-4cc581d99a34",
   "metadata": {},
   "outputs": [
    {
     "data": {
      "text/plain": [
       "tensor(0.7632, grad_fn=<MeanBackward0>)"
      ]
     },
     "execution_count": 26,
     "metadata": {},
     "output_type": "execute_result"
    }
   ],
   "source": [
    "loss_ic1 = torch.mean((ic1_predicted - ic1_scope)**2)\n",
    "loss_ic1"
   ]
  },
  {
   "cell_type": "markdown",
   "id": "6324d188-27d0-4133-9346-3aab251bc2ad",
   "metadata": {},
   "source": [
    "Loss term from the initial condition 2 (du/dt):"
   ]
  },
  {
   "cell_type": "code",
   "execution_count": 27,
   "id": "e61a7ef7-98f6-4260-bf2a-bf84256726ed",
   "metadata": {},
   "outputs": [],
   "source": [
    "du_dtdmu_initial = torch.autograd.grad(outputs = ic1_predicted, inputs = ic1_t_mu, grad_outputs= torch.ones_like(ic1_predicted), create_graph= True)[0]\n",
    "ic2_du_dt, ic2_du_dmu = du_dtdmu_initial[:, 0:1], du_dtdmu_initial[:,1:2]"
   ]
  },
  {
   "cell_type": "code",
   "execution_count": 28,
   "id": "8ec5f3c8-43af-44d9-a5f3-61f66c4b4ab2",
   "metadata": {},
   "outputs": [
    {
     "data": {
      "text/plain": [
       "torch.Size([40, 2])"
      ]
     },
     "execution_count": 28,
     "metadata": {},
     "output_type": "execute_result"
    }
   ],
   "source": [
    "du_dtdmu_initial.size()"
   ]
  },
  {
   "cell_type": "code",
   "execution_count": 29,
   "id": "bcfec00a-23d6-41ae-a326-21bfc3b9c263",
   "metadata": {},
   "outputs": [
    {
     "data": {
      "text/plain": [
       "tensor(8.0313e-05, grad_fn=<MeanBackward0>)"
      ]
     },
     "execution_count": 29,
     "metadata": {},
     "output_type": "execute_result"
    }
   ],
   "source": [
    "loss_ic2 = torch.mean((ic2_du_dt- ic2_scope)**2)\n",
    "loss_ic2"
   ]
  },
  {
   "cell_type": "markdown",
   "id": "9890686d-5402-4a41-bc5b-796655209910",
   "metadata": {},
   "source": [
    "### Compute the \"physics loss\":"
   ]
  },
  {
   "cell_type": "code",
   "execution_count": 30,
   "id": "4eae3680-fd81-46bb-9a4a-d151068fcd06",
   "metadata": {},
   "outputs": [
    {
     "data": {
      "text/plain": [
       "torch.Size([1600, 1])"
      ]
     },
     "execution_count": 30,
     "metadata": {},
     "output_type": "execute_result"
    }
   ],
   "source": [
    "physic_domain_predicted = model(physic_domain_t_mu)\n",
    "physic_domain_predicted.size()"
   ]
  },
  {
   "cell_type": "code",
   "execution_count": 31,
   "id": "6b9b1e8e-09e5-4b1f-b692-fdbbc4edd353",
   "metadata": {},
   "outputs": [
    {
     "data": {
      "text/plain": [
       "tensor([[-0.0213,  0.0193],\n",
       "        [-0.0204,  0.0203],\n",
       "        [-0.0193,  0.0203],\n",
       "        ...,\n",
       "        [ 0.0085,  0.0018],\n",
       "        [ 0.0087,  0.0016],\n",
       "        [ 0.0088,  0.0015]], grad_fn=<MmBackward0>)"
      ]
     },
     "execution_count": 31,
     "metadata": {},
     "output_type": "execute_result"
    }
   ],
   "source": [
    "physic_domain_du_dt = torch.autograd.grad(outputs = physic_domain_predicted, inputs = physic_domain_t_mu, grad_outputs= torch.ones_like(physic_domain_predicted), create_graph= True)[0]\n",
    "physic_domain_du_dt"
   ]
  },
  {
   "cell_type": "code",
   "execution_count": 32,
   "id": "ad8e2d03-e1a1-49f6-be1a-3c79c904fb2a",
   "metadata": {},
   "outputs": [
    {
     "data": {
      "text/plain": [
       "tensor([[-0.0213,  0.0193],\n",
       "        [-0.0204,  0.0203],\n",
       "        [-0.0193,  0.0203],\n",
       "        ...,\n",
       "        [ 0.0085,  0.0018],\n",
       "        [ 0.0087,  0.0016],\n",
       "        [ 0.0088,  0.0015]], grad_fn=<MmBackward0>)"
      ]
     },
     "execution_count": 32,
     "metadata": {},
     "output_type": "execute_result"
    }
   ],
   "source": [
    "physic_domain_du_dtdmu = torch.autograd.grad(outputs = physic_domain_predicted, inputs = physic_domain_t_mu, grad_outputs= torch.ones_like(physic_domain_predicted), create_graph= True)[0]\n",
    "physic_domain_du_dtdmu"
   ]
  },
  {
   "cell_type": "code",
   "execution_count": 33,
   "id": "5efe195a-7038-435f-bf0b-77ddbede6985",
   "metadata": {},
   "outputs": [],
   "source": [
    "#physic_domain_du_dt == physic_domain_du_dtdmu"
   ]
  },
  {
   "cell_type": "code",
   "execution_count": 34,
   "id": "815232cd-aea8-4521-8192-f40fbfbc9dbb",
   "metadata": {},
   "outputs": [
    {
     "data": {
      "text/plain": [
       "tensor([[-0.0213],\n",
       "        [-0.0204],\n",
       "        [-0.0193],\n",
       "        ...,\n",
       "        [ 0.0085],\n",
       "        [ 0.0087],\n",
       "        [ 0.0088]], grad_fn=<SliceBackward0>)"
      ]
     },
     "execution_count": 34,
     "metadata": {},
     "output_type": "execute_result"
    }
   ],
   "source": [
    "physic_domain_du_dtdmu[:,0:1]"
   ]
  },
  {
   "cell_type": "code",
   "execution_count": 35,
   "id": "116dc4e4-1efa-4221-b78e-8491fab2986d",
   "metadata": {},
   "outputs": [
    {
     "data": {
      "text/plain": [
       "tensor([[0.0193],\n",
       "        [0.0203],\n",
       "        [0.0203],\n",
       "        ...,\n",
       "        [0.0018],\n",
       "        [0.0016],\n",
       "        [0.0015]], grad_fn=<SliceBackward0>)"
      ]
     },
     "execution_count": 35,
     "metadata": {},
     "output_type": "execute_result"
    }
   ],
   "source": [
    "physic_domain_du_dtdmu[:,1:2]"
   ]
  },
  {
   "cell_type": "code",
   "execution_count": 36,
   "id": "e35d7320-8755-44c0-841e-87d75d7a44a0",
   "metadata": {},
   "outputs": [
    {
     "data": {
      "text/plain": [
       "tensor([[ 0.0323,  0.0099],\n",
       "        [ 0.0297,  0.0064],\n",
       "        [ 0.0269,  0.0042],\n",
       "        ...,\n",
       "        [ 0.0030, -0.0001],\n",
       "        [ 0.0031, -0.0002],\n",
       "        [ 0.0031, -0.0002]], grad_fn=<MmBackward0>)"
      ]
     },
     "execution_count": 36,
     "metadata": {},
     "output_type": "execute_result"
    }
   ],
   "source": [
    "physic_domain_d2u_d2t = torch.autograd.grad(outputs = physic_domain_du_dt, inputs = physic_domain_t_mu, grad_outputs= torch.ones_like(physic_domain_du_dt), create_graph= True)[0]\n",
    "physic_domain_d2u_d2t"
   ]
  },
  {
   "cell_type": "code",
   "execution_count": 37,
   "id": "fec1a912-8d31-43e5-927f-00c3c7243d77",
   "metadata": {},
   "outputs": [
    {
     "data": {
      "text/plain": [
       "tensor([[0.0292, 0.0030],\n",
       "        [0.0252, 0.0045],\n",
       "        [0.0213, 0.0056],\n",
       "        ...,\n",
       "        [0.0024, 0.0006],\n",
       "        [0.0026, 0.0005],\n",
       "        [0.0027, 0.0004]], grad_fn=<MmBackward0>)"
      ]
     },
     "execution_count": 37,
     "metadata": {},
     "output_type": "execute_result"
    }
   ],
   "source": [
    "physic_domain_d2u_d2t_d2mu = torch.autograd.grad(outputs = physic_domain_du_dtdmu[:,0:1], inputs = physic_domain_t_mu, grad_outputs= torch.ones_like(physic_domain_du_dtdmu[:,0:1]), create_graph= True)[0]\n",
    "physic_domain_d2u_d2t_d2mu"
   ]
  },
  {
   "cell_type": "code",
   "execution_count": 38,
   "id": "032031af-b5c6-4483-9d07-9d1f334f3b66",
   "metadata": {},
   "outputs": [
    {
     "data": {
      "text/plain": [
       "tensor([[0.0292],\n",
       "        [0.0252],\n",
       "        [0.0213],\n",
       "        ...,\n",
       "        [0.0024],\n",
       "        [0.0026],\n",
       "        [0.0027]], grad_fn=<SliceBackward0>)"
      ]
     },
     "execution_count": 38,
     "metadata": {},
     "output_type": "execute_result"
    }
   ],
   "source": [
    "physic_domain_d2u_d2t_d2mu[:,0:1]"
   ]
  },
  {
   "cell_type": "code",
   "execution_count": 39,
   "id": "513d3d73-6798-4e06-830a-aa0e02427e17",
   "metadata": {},
   "outputs": [
    {
     "data": {
      "text/plain": [
       "tensor([[0.0030],\n",
       "        [0.0045],\n",
       "        [0.0056],\n",
       "        ...,\n",
       "        [0.0006],\n",
       "        [0.0005],\n",
       "        [0.0004]], grad_fn=<SliceBackward0>)"
      ]
     },
     "execution_count": 39,
     "metadata": {},
     "output_type": "execute_result"
    }
   ],
   "source": [
    "physic_domain_d2u_d2t_d2mu[:,1:2]"
   ]
  },
  {
   "cell_type": "code",
   "execution_count": 40,
   "id": "16d6e4bf-ef1a-4039-b087-22af08ea24b4",
   "metadata": {},
   "outputs": [
    {
     "data": {
      "text/plain": [
       "tensor(2629.2915, grad_fn=<MeanBackward0>)"
      ]
     },
     "execution_count": 40,
     "metadata": {},
     "output_type": "execute_result"
    }
   ],
   "source": [
    "loss_differential_equation = torch.mean( (physic_domain_d2u_d2t + physic_domain_t_mu[:,1:2] * physic_domain_du_dt + k * physic_domain_predicted )**2)\n",
    "loss_differential_equation"
   ]
  },
  {
   "cell_type": "code",
   "execution_count": 41,
   "id": "a1c04dac-0acc-404e-b82d-ce9f0e1838fe",
   "metadata": {},
   "outputs": [
    {
     "data": {
      "text/plain": [
       "tensor(2628.7378, grad_fn=<MeanBackward0>)"
      ]
     },
     "execution_count": 41,
     "metadata": {},
     "output_type": "execute_result"
    }
   ],
   "source": [
    "loss_differential_equation_1 = torch.mean( (physic_domain_d2u_d2t_d2mu[:,0:1] + physic_domain_t_mu[:,1:2] * physic_domain_du_dtdmu[:,0:1] + k * physic_domain_predicted )**2)\n",
    "loss_differential_equation_1"
   ]
  },
  {
   "cell_type": "code",
   "execution_count": 42,
   "id": "5d3e3ee8-8605-45cc-ac2b-38823d5d9f49",
   "metadata": {},
   "outputs": [
    {
     "data": {
      "text/plain": [
       "tensor(1.0261, grad_fn=<AddBackward0>)"
      ]
     },
     "execution_count": 42,
     "metadata": {},
     "output_type": "execute_result"
    }
   ],
   "source": [
    "loss = loss_ic1 + lambda1 * loss_ic2 + lambda2 * loss_differential_equation\n",
    "loss"
   ]
  },
  {
   "cell_type": "code",
   "execution_count": 43,
   "id": "141a688f-40d0-44ff-8e88-09800325324a",
   "metadata": {},
   "outputs": [
    {
     "data": {
      "text/plain": [
       "tensor(1.0260, grad_fn=<AddBackward0>)"
      ]
     },
     "execution_count": 43,
     "metadata": {},
     "output_type": "execute_result"
    }
   ],
   "source": [
    "loss_1 = loss_ic1 + lambda1 * loss_ic2 + lambda2 * loss_differential_equation_1\n",
    "loss_1"
   ]
  },
  {
   "cell_type": "code",
   "execution_count": 44,
   "id": "013ffbfe-0900-406d-a8b0-fed4304bcf67",
   "metadata": {},
   "outputs": [],
   "source": [
    "loss.backward()"
   ]
  },
  {
   "cell_type": "code",
   "execution_count": 45,
   "id": "1d8fefd0-dcb5-4677-84c2-7839054096ec",
   "metadata": {},
   "outputs": [],
   "source": [
    "optimizer.step()"
   ]
  },
  {
   "cell_type": "markdown",
   "id": "1310249a-bf14-41da-a1ec-9fa7dfa0171e",
   "metadata": {},
   "source": [
    "#### Test points"
   ]
  },
  {
   "cell_type": "code",
   "execution_count": 55,
   "id": "c376b2ed-ef6e-4108-a688-7e268e7172ad",
   "metadata": {},
   "outputs": [
    {
     "data": {
      "text/plain": [
       "torch.Size([100, 2])"
      ]
     },
     "execution_count": 55,
     "metadata": {},
     "output_type": "execute_result"
    }
   ],
   "source": [
    "test_mu = 5\n",
    "test_in_t_constant_mu = torch.stack([torch.linspace(0,1,point_resolution_test), test_mu*torch.ones(point_resolution_test)], -1).view(-1,2)\n",
    "test_in_t_constant_mu.size()"
   ]
  },
  {
   "cell_type": "code",
   "execution_count": 47,
   "id": "79d8aeef-136e-442e-b752-b420f4c1b339",
   "metadata": {},
   "outputs": [],
   "source": [
    "#test_domain_t_constant_mu = torch.stack(torch.meshgrid(*test_in_t_constant_mu, indexing='ij'), -1).view(-1, 2)\n",
    "#test_domain_t_constant_mu.size()"
   ]
  },
  {
   "cell_type": "code",
   "execution_count": 48,
   "id": "0d1e0d7d-fdbc-46d1-923b-9f6ebaded840",
   "metadata": {},
   "outputs": [],
   "source": [
    "#test_domain_t_constant_mu"
   ]
  },
  {
   "cell_type": "code",
   "execution_count": 49,
   "id": "84d5f3e9-f7eb-4480-adca-523b7da72a6d",
   "metadata": {},
   "outputs": [
    {
     "data": {
      "text/plain": [
       "torch.Size([100, 1])"
      ]
     },
     "execution_count": 49,
     "metadata": {},
     "output_type": "execute_result"
    }
   ],
   "source": [
    "test_predicted = model(test_in_t_constant_mu)\n",
    "test_predicted.size()"
   ]
  },
  {
   "cell_type": "code",
   "execution_count": 50,
   "id": "d54b550a-9286-4f5e-8291-65b39dfb5abe",
   "metadata": {},
   "outputs": [],
   "source": [
    "#test_predicted"
   ]
  },
  {
   "cell_type": "code",
   "execution_count": 51,
   "id": "41a5abb2-87b4-4874-a83a-8cf349f080d8",
   "metadata": {},
   "outputs": [],
   "source": [
    "#plt.figure()\n",
    "#plt.imshow(test_in_t_constant_mu[:,0:1],test_in_t_constant_mu[:,1:2],test_predicted.detach())\n",
    "#plt.show"
   ]
  },
  {
   "cell_type": "code",
   "execution_count": 56,
   "id": "a7dced4e-d2e9-4d75-b0e9-b94f09ee74b4",
   "metadata": {},
   "outputs": [
    {
     "data": {
      "image/png": "[encoded data removed]",
      "text/plain": [
       "<Figure size 1400x900 with 2 Axes>"
      ]
     },
     "metadata": {},
     "output_type": "display_data"
    }
   ],
   "source": [
    "# Creating 3D figure:\n",
    "fig = plt.figure(figsize =(14, 9)) \n",
    "ax = plt.axes(projection ='3d') \n",
    "\n",
    "# Creating color map \n",
    "my_cmap = plt.get_cmap('hot') \n",
    "\n",
    "# Creating plot \n",
    "surf = ax.plot_surface(test_in_t_constant_mu[:,0:1].detach().numpy(), test_in_t_constant_mu[:,1:2].detach().numpy(), test_predicted.detach().numpy(), cmap = my_cmap, edgecolor ='none') \n",
    "\n",
    "fig.colorbar(surf, ax = ax, shrink = 0.5, aspect = 5) \n",
    "\n",
    "ax.set_title('Surface plot based on Dataset') \n",
    "plt.xlabel(\"x\")\n",
    "plt.ylabel(\"t\")\n",
    "#plt.zlabel(\"u\")\n",
    "\n",
    "# show plot \n",
    "plt.show() "
   ]
  },
  {
   "cell_type": "code",
   "execution_count": 57,
   "id": "b6dfa674-820a-4cb1-9563-b6d423c473f2",
   "metadata": {},
   "outputs": [],
   "source": [
    "x = torch.tensor([1.,3.,6.,10.]) \n",
    "y = torch.tensor([2.,7.,9.,13.]) \n",
    " "
   ]
  },
  {
   "cell_type": "code",
   "execution_count": 66,
   "id": "38e7cfe9-b8a4-4304-bc8c-14ed59c46b74",
   "metadata": {},
   "outputs": [
    {
     "name": "stdout",
     "output_type": "stream",
     "text": [
      "tensor([[ 1.,  3.,  6., 10.],\n",
      "        [ 2.,  7.,  9., 13.]])\n"
     ]
    }
   ],
   "source": [
    "t = torch.stack([x,y], dim = 0) \n",
    "print(t) "
   ]
  },
  {
   "cell_type": "code",
   "execution_count": 67,
   "id": "735e6526-0747-4777-ae2d-bacdbcb43ad4",
   "metadata": {},
   "outputs": [
    {
     "name": "stdout",
     "output_type": "stream",
     "text": [
      "tensor([[ 1.,  3.,  6., 10.],\n",
      "        [ 2.,  7.,  9., 13.]])\n"
     ]
    }
   ],
   "source": [
    "t1 = torch.stack((x,y), dim = 0) \n",
    "print(t) "
   ]
  },
  {
   "cell_type": "code",
   "execution_count": 68,
   "id": "f09fd274-998e-4767-bd8a-8405a000cd8b",
   "metadata": {},
   "outputs": [
    {
     "data": {
      "text/plain": [
       "tensor([[True, True, True, True],\n",
       "        [True, True, True, True]])"
      ]
     },
     "execution_count": 68,
     "metadata": {},
     "output_type": "execute_result"
    }
   ],
   "source": [
    "t==t1"
   ]
  },
  {
   "cell_type": "code",
   "execution_count": null,
   "id": "731715b2-e04a-4774-9744-aa6e7a230eb8",
   "metadata": {},
   "outputs": [],
   "source": []
  }
 ],
 "metadata": {
  "kernelspec": {
   "display_name": "Python 3 (ipykernel)",
   "language": "python",
   "name": "python3"
  },
  "language_info": {
   "codemirror_mode": {
    "name": "ipython",
    "version": 3
   },
   "file_extension": ".py",
   "mimetype": "text/x-python",
   "name": "python",
   "nbconvert_exporter": "python",
   "pygments_lexer": "ipython3",
   "version": "3.10.12"
  }
 },
 "nbformat": 4,
 "nbformat_minor": 5
}
