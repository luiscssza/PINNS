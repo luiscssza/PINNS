{
 "cells": [
  {
   "cell_type": "markdown",
   "id": "2a9b51ac-0c81-4ae2-a717-c9d35bb86de6",
   "metadata": {},
   "source": [
    "# AUTOENCODERS"
   ]
  },
  {
   "cell_type": "code",
   "execution_count": 6,
   "id": "d361c29b-2701-4ba5-8a37-ed538f9e16df",
   "metadata": {
    "execution": {
     "iopub.execute_input": "2024-03-21T18:52:22.481770Z",
     "iopub.status.busy": "2024-03-21T18:52:22.481220Z",
     "iopub.status.idle": "2024-03-21T18:52:22.496534Z",
     "shell.execute_reply": "2024-03-21T18:52:22.495287Z",
     "shell.execute_reply.started": "2024-03-21T18:52:22.481733Z"
    }
   },
   "outputs": [
    {
     "data": {
      "text/plain": [
       "OrderedDict([('fc.weight', tensor([[ 0.1893, -0.5814]])),\n",
       "             ('fc.bias', tensor([0.6679]))])"
      ]
     },
     "execution_count": 6,
     "metadata": {},
     "output_type": "execute_result"
    }
   ],
   "source": [
    "import torch\n",
    "import torch.nn as nn\n",
    "\n",
    "# Define a simple fully connected neural network class\n",
    "class SimpleFCNN(nn.Module):\n",
    "    def __init__(self):\n",
    "        super(SimpleFCNN, self).__init__()\n",
    "        \n",
    "        # Define a single linear layer since we want a model with only nn.Linear\n",
    "        # This layer directly maps 4 input features to 4 output features\n",
    "        self.fc = nn.Linear(in_features=2, out_features=1)\n",
    "\n",
    "    def forward(self, x):\n",
    "        # Pass the input through the fully connected layer\n",
    "        output = self.fc(x)\n",
    "        return output\n",
    "\n",
    "# Instantiate the fully connected neural network\n",
    "fcnn_model = SimpleFCNN()\n",
    "\n",
    "# Print the model structure\n",
    "fcnn_model.state_dict()\n"
   ]
  },
  {
   "cell_type": "code",
   "execution_count": 7,
   "id": "f8745651-b5b0-4d79-8282-214e288dff80",
   "metadata": {
    "execution": {
     "iopub.execute_input": "2024-03-21T18:52:22.498732Z",
     "iopub.status.busy": "2024-03-21T18:52:22.498365Z",
     "iopub.status.idle": "2024-03-21T18:52:22.520367Z",
     "shell.execute_reply": "2024-03-21T18:52:22.519084Z",
     "shell.execute_reply.started": "2024-03-21T18:52:22.498699Z"
    }
   },
   "outputs": [
    {
     "data": {
      "text/plain": [
       "OrderedDict([('encoder.weight',\n",
       "              tensor([[-0.3758, -0.1041, -0.1434,  0.2611],\n",
       "                      [-0.2135,  0.0050,  0.0057,  0.2078],\n",
       "                      [-0.3465,  0.0528,  0.4432, -0.4202],\n",
       "                      [-0.3720, -0.2820,  0.0533, -0.4373]])),\n",
       "             ('encoder.bias', tensor([ 0.4317,  0.2250, -0.2415,  0.3843])),\n",
       "             ('decoder.weight',\n",
       "              tensor([[ 0.0681,  0.1031, -0.1947, -0.2338],\n",
       "                      [ 0.4484,  0.2925,  0.0275,  0.2679],\n",
       "                      [ 0.3199, -0.0778,  0.3124,  0.1674],\n",
       "                      [-0.3417,  0.3060,  0.4230,  0.0902]])),\n",
       "             ('decoder.bias', tensor([-0.1925,  0.0099,  0.4207, -0.3289]))])"
      ]
     },
     "execution_count": 7,
     "metadata": {},
     "output_type": "execute_result"
    }
   ],
   "source": [
    "import torch\n",
    "import torch.nn as nn\n",
    "\n",
    "# Define a simple autoencoder class\n",
    "class SimpleAutoencoder(nn.Module):\n",
    "    def __init__(self):\n",
    "        super(SimpleAutoencoder, self).__init__()\n",
    "        \n",
    "        # Since this model only has input and output layers, and both have 4 neurons,\n",
    "        # we directly connect them without any hidden layers or compression\n",
    "        self.encoder = nn.Linear(in_features=4, out_features=4)\n",
    "        self.decoder = nn.Linear(in_features=4, out_features=4)\n",
    "\n",
    "    def forward(self, x):\n",
    "        # Encoding\n",
    "        encoded = self.encoder(x)\n",
    "        # Decoding\n",
    "        decoded = self.decoder(encoded)\n",
    "        return decoded\n",
    "\n",
    "# Instantiate the model\n",
    "model = SimpleAutoencoder()\n",
    "\n",
    "# Print the model structure\n",
    "model.state_dict()\n"
   ]
  },
  {
   "cell_type": "code",
   "execution_count": 8,
   "id": "3977b054-e6d7-40e2-ad26-ecf982cf583c",
   "metadata": {
    "execution": {
     "iopub.execute_input": "2024-03-21T18:52:22.521930Z",
     "iopub.status.busy": "2024-03-21T18:52:22.521542Z",
     "iopub.status.idle": "2024-03-21T18:52:27.813443Z",
     "shell.execute_reply": "2024-03-21T18:52:27.812500Z",
     "shell.execute_reply.started": "2024-03-21T18:52:22.521898Z"
    }
   },
   "outputs": [
    {
     "name": "stdout",
     "output_type": "stream",
     "text": [
      "Epoch [1], Loss: 0.2895\n",
      "Epoch [201], Loss: 0.0442\n",
      "Epoch [401], Loss: 0.0293\n",
      "Epoch [601], Loss: 0.0224\n",
      "Epoch [801], Loss: 0.0169\n",
      "Epoch [1001], Loss: 0.0125\n",
      "Epoch [1201], Loss: 0.0095\n",
      "Epoch [1401], Loss: 0.0073\n",
      "Epoch [1601], Loss: 0.0058\n",
      "Epoch [1801], Loss: 0.0046\n",
      "Epoch [2001], Loss: 0.0038\n",
      "Epoch [2201], Loss: 0.0031\n",
      "Epoch [2401], Loss: 0.0027\n",
      "Epoch [2601], Loss: 0.0024\n",
      "Epoch [2801], Loss: 0.0022\n",
      "Epoch [3001], Loss: 0.0021\n",
      "Epoch [3201], Loss: 0.0020\n",
      "Epoch [3401], Loss: 0.0020\n",
      "Epoch [3601], Loss: 0.0019\n",
      "Epoch [3801], Loss: 0.0019\n",
      "Epoch [4001], Loss: 0.0019\n",
      "Epoch [4201], Loss: 0.0018\n",
      "Epoch [4401], Loss: 0.0018\n",
      "Epoch [4601], Loss: 0.0018\n",
      "Epoch [4801], Loss: 0.0017\n",
      "Epoch [5001], Loss: 0.0017\n",
      "Epoch [5201], Loss: 0.0017\n",
      "Epoch [5401], Loss: 0.0016\n",
      "Epoch [5601], Loss: 0.0016\n",
      "Epoch [5801], Loss: 0.0016\n",
      "Epoch [6001], Loss: 0.0016\n",
      "Epoch [6201], Loss: 0.0015\n",
      "Epoch [6401], Loss: 0.0015\n",
      "Epoch [6601], Loss: 0.0015\n",
      "Epoch [6801], Loss: 0.0014\n",
      "Epoch [7001], Loss: 0.0014\n",
      "Epoch [7201], Loss: 0.0013\n",
      "Epoch [7401], Loss: 0.0013\n",
      "Epoch [7601], Loss: 0.0012\n",
      "Epoch [7801], Loss: 0.0012\n",
      "Epoch [8001], Loss: 0.0011\n",
      "Epoch [8201], Loss: 0.0011\n",
      "Epoch [8401], Loss: 0.0010\n",
      "Epoch [8601], Loss: 0.0010\n",
      "Epoch [8801], Loss: 0.0009\n",
      "Epoch [9001], Loss: 0.0009\n",
      "Epoch [9201], Loss: 0.0008\n",
      "Epoch [9401], Loss: 0.0008\n",
      "Epoch [9601], Loss: 0.0007\n",
      "Epoch [9801], Loss: 0.0007\n",
      "Training stopped after reaching maximum epochs at Epoch [10000], Loss: 0.0006\n"
     ]
    },
    {
     "data": {
      "image/png": "[encoded data removed]",
      "text/plain": [
       "<Figure size 640x480 with 1 Axes>"
      ]
     },
     "metadata": {},
     "output_type": "display_data"
    },
    {
     "name": "stdout",
     "output_type": "stream",
     "text": [
      "OrderedDict([('encoder.0.weight', tensor([[-0.1491,  0.1030,  0.2583,  0.3129],\n",
      "        [-0.8394,  0.1675, -0.6275,  1.3021],\n",
      "        [-0.6996, -1.4989,  0.4503,  0.0207],\n",
      "        [-0.2703,  0.0397,  0.1322, -0.7776]])), ('encoder.0.bias', tensor([-0.2297, -0.3720,  1.4542,  0.5918])), ('decoder.0.weight', tensor([[-0.7612, -0.8565, -0.5108, -1.6314],\n",
      "        [ 1.4472,  0.3099, -1.5272,  0.8879],\n",
      "        [ 3.4464, -0.8387,  0.2049,  0.2106],\n",
      "        [ 0.6167,  0.2354,  0.1281, -1.4512]])), ('decoder.0.bias', tensor([0.8683, 1.3084, 0.0721, 0.8289]))])\n"
     ]
    }
   ],
   "source": [
    "import torch\n",
    "import torch.nn as nn\n",
    "import torch.optim as optim\n",
    "import matplotlib.pyplot as plt\n",
    "\n",
    "class Autoencoder(nn.Module):\n",
    "    def __init__(self, num_neurons, inputs, lr, max_epochs, stabilization_threshold, check_interval):\n",
    "        super(Autoencoder, self).__init__()\n",
    "        self.encoder = nn.Sequential(\n",
    "            nn.Linear(num_neurons, num_neurons),\n",
    "            nn.Tanh()\n",
    "        )\n",
    "        self.decoder = nn.Sequential(\n",
    "            nn.Linear(num_neurons, num_neurons),\n",
    "            nn.Tanh()\n",
    "        )\n",
    "        self.inputs = inputs\n",
    "        self.lr = lr\n",
    "        self.max_epochs = max_epochs\n",
    "        self.stabilization_threshold = stabilization_threshold\n",
    "        self.check_interval = check_interval\n",
    "        self.optimizer = optim.Adam(self.parameters(), lr=self.lr)\n",
    "        self.criterion = nn.MSELoss()\n",
    "        self.loss_values = []\n",
    "\n",
    "        # Start training upon instantiation\n",
    "        self.train_autoencoder()\n",
    "\n",
    "        # Save the state dictionary for future use\n",
    "        self.state_dict = self.state_dict()\n",
    "\n",
    "    def forward(self, x):\n",
    "        x = self.encoder(x)\n",
    "        x = self.decoder(x)\n",
    "        return x\n",
    "\n",
    "    def train_autoencoder(self):\n",
    "        epoch = 0\n",
    "        while True:\n",
    "            self.optimizer.zero_grad()\n",
    "            outputs = self(self.inputs)\n",
    "            loss = self.criterion(outputs, self.inputs)\n",
    "            loss.backward()\n",
    "            self.optimizer.step()\n",
    "\n",
    "            self.loss_values.append(loss.item())\n",
    "\n",
    "            # Print loss every 100 epochs\n",
    "            if epoch % 200 == 0:\n",
    "                print(f'Epoch [{epoch+1}], Loss: {loss.item():.4f}')\n",
    "            \n",
    "            # Check for stopping condition every 'check_interval' epochs\n",
    "            if epoch >= self.check_interval:\n",
    "                recent_loss_decay = self.loss_values[-self.check_interval] - self.loss_values[-1]\n",
    "                if recent_loss_decay < self.stabilization_threshold:\n",
    "                    print(f'Training stopped due to loss stabilization at Epoch [{epoch+1}], Loss: {loss.item():.4f}')\n",
    "                    break\n",
    "\n",
    "            epoch += 1\n",
    "            if epoch >= self.max_epochs:\n",
    "                print(f'Training stopped after reaching maximum epochs at Epoch [{epoch}], Loss: {loss.item():.4f}')\n",
    "                break\n",
    "\n",
    "    def plot_loss(self):\n",
    "        plt.plot(self.loss_values)\n",
    "        plt.title('Autoencoder Training Loss')\n",
    "        plt.xlabel('Epoch')\n",
    "        plt.ylabel('Loss')\n",
    "        plt.show()\n",
    "\n",
    "# Example usage:\n",
    "# Assuming the parameters are defined as before:\n",
    "autoencoder = Autoencoder(num_neurons=4, inputs=torch.rand(10, 4), lr=0.001, max_epochs=10000, stabilization_threshold=0.00001, check_interval=200)\n",
    "autoencoder.plot_loss()\n",
    "\n",
    "# To access the saved state_dict:\n",
    "print(autoencoder.state_dict)\n"
   ]
  },
  {
   "cell_type": "markdown",
   "id": "10449a9e-16ee-4c72-950c-053e1be22f91",
   "metadata": {},
   "source": [
    "### Simple and ComplicatedFCNN"
   ]
  },
  {
   "cell_type": "code",
   "execution_count": 9,
   "id": "8e65ee0d-3daa-4dcf-8300-f4dcf4f04a9c",
   "metadata": {
    "execution": {
     "iopub.execute_input": "2024-03-21T18:52:27.815469Z",
     "iopub.status.busy": "2024-03-21T18:52:27.815273Z",
     "iopub.status.idle": "2024-03-21T18:52:27.824677Z",
     "shell.execute_reply": "2024-03-21T18:52:27.823824Z",
     "shell.execute_reply.started": "2024-03-21T18:52:27.815452Z"
    }
   },
   "outputs": [],
   "source": [
    "import torch.optim as optim\n",
    "\n",
    "class SimpleFCNN(nn.Module):\n",
    "    def __init__(self, in_features, out_features):\n",
    "        super(SimpleFCNN, self).__init__()\n",
    "        self.fc = nn.Linear(in_features=in_features, out_features=out_features)\n",
    "        self.activation = nn.Tanh()\n",
    "\n",
    "    def forward(self, x):\n",
    "        x = self.fc(x)\n",
    "        x = self.activation(x)\n",
    "        return x\n",
    "    \n",
    "    def train_model(self, inputs, targets, epochs=100, lr=0.01):\n",
    "        criterion = nn.MSELoss()\n",
    "        optimizer = optim.SGD(self.parameters(), lr=lr)\n",
    "        for epoch in range(epochs):\n",
    "            optimizer.zero_grad()\n",
    "            outputs = self(inputs)\n",
    "            loss = criterion(outputs, targets)\n",
    "            loss.backward()\n",
    "            optimizer.step()\n",
    "\n",
    "class ComplicatedFCNN(nn.Module):\n",
    "    def __init__(self, input_layer_features, hidden_layers_neurons, output_layer_features, inputs, targets):\n",
    "        super(ComplicatedFCNN, self).__init__()\n",
    "        \n",
    "        # Instantiate and train SimpleFCNN with inputs\n",
    "        self.simple_fcnn = SimpleFCNN(in_features=hidden_layers_neurons, out_features=hidden_layers_neurons)\n",
    "        self.simple_fcnn.train_model(inputs, targets)\n",
    "        simple_fcnn_state_dict = self.simple_fcnn.state_dict()\n",
    "        \n",
    "        # Define the complicated model using nn.Sequential\n",
    "        self.model = nn.Sequential(\n",
    "            nn.Linear(in_features=input_layer_features, out_features=hidden_layers_neurons),\n",
    "            nn.Tanh(),\n",
    "            nn.Linear(in_features=hidden_layers_neurons, out_features=hidden_layers_neurons),\n",
    "            nn.Tanh(),\n",
    "            nn.Linear(in_features=hidden_layers_neurons, out_features=hidden_layers_neurons),\n",
    "            nn.Tanh(),\n",
    "            nn.Linear(in_features=hidden_layers_neurons, out_features=output_layer_features),\n",
    "        )\n",
    "        \n",
    "        # Load the trained state_dict from SimpleFCNN into the last hidden layer of ComplicatedFCNN\n",
    "        self.model[4].weight.data = simple_fcnn_state_dict['fc.weight']\n",
    "        self.model[4].bias.data = simple_fcnn_state_dict['fc.bias']\n",
    "\n",
    "    def forward(self, x):\n",
    "        return self.model(x)\n"
   ]
  },
  {
   "cell_type": "code",
   "execution_count": 10,
   "id": "a936e26a-1cb8-489e-8c19-fed40a6097ec",
   "metadata": {
    "execution": {
     "iopub.execute_input": "2024-03-21T18:52:27.825610Z",
     "iopub.status.busy": "2024-03-21T18:52:27.825430Z",
     "iopub.status.idle": "2024-03-21T18:52:28.464077Z",
     "shell.execute_reply": "2024-03-21T18:52:28.462873Z",
     "shell.execute_reply.started": "2024-03-21T18:52:27.825594Z"
    }
   },
   "outputs": [
    {
     "name": "stdout",
     "output_type": "stream",
     "text": [
      "Epoch [1/100], Loss: 0.4516\n",
      "Epoch [11/100], Loss: 0.4027\n",
      "Epoch [21/100], Loss: 0.3577\n",
      "Epoch [31/100], Loss: 0.3173\n",
      "Epoch [41/100], Loss: 0.2817\n",
      "Epoch [51/100], Loss: 0.2507\n",
      "Epoch [61/100], Loss: 0.2239\n",
      "Epoch [71/100], Loss: 0.2009\n",
      "Epoch [81/100], Loss: 0.1812\n",
      "Epoch [91/100], Loss: 0.1645\n",
      "Epoch [101/100], Loss: 0.1501\n",
      "Epoch [111/100], Loss: 0.1379\n",
      "Epoch [121/100], Loss: 0.1274\n",
      "Epoch [131/100], Loss: 0.1184\n",
      "Epoch [141/100], Loss: 0.1108\n",
      "Epoch [151/100], Loss: 0.1042\n",
      "Epoch [161/100], Loss: 0.0985\n",
      "Epoch [171/100], Loss: 0.0936\n",
      "Epoch [181/100], Loss: 0.0893\n",
      "Epoch [191/100], Loss: 0.0856\n",
      "Epoch [201/100], Loss: 0.0823\n",
      "Epoch [211/100], Loss: 0.0794\n",
      "Epoch [221/100], Loss: 0.0769\n",
      "Epoch [231/100], Loss: 0.0747\n",
      "Epoch [241/100], Loss: 0.0726\n",
      "Epoch [251/100], Loss: 0.0708\n",
      "Epoch [261/100], Loss: 0.0692\n",
      "Epoch [271/100], Loss: 0.0677\n",
      "Epoch [281/100], Loss: 0.0663\n",
      "Epoch [291/100], Loss: 0.0651\n",
      "Epoch [301/100], Loss: 0.0639\n",
      "Epoch [311/100], Loss: 0.0628\n",
      "Epoch [321/100], Loss: 0.0618\n",
      "Epoch [331/100], Loss: 0.0608\n",
      "Epoch [341/100], Loss: 0.0600\n",
      "Epoch [351/100], Loss: 0.0591\n",
      "Epoch [361/100], Loss: 0.0583\n",
      "Epoch [371/100], Loss: 0.0575\n",
      "Epoch [381/100], Loss: 0.0568\n",
      "Epoch [391/100], Loss: 0.0561\n",
      "Epoch [401/100], Loss: 0.0554\n",
      "Epoch [411/100], Loss: 0.0547\n",
      "Epoch [421/100], Loss: 0.0541\n",
      "Epoch [431/100], Loss: 0.0535\n",
      "Epoch [441/100], Loss: 0.0529\n",
      "Epoch [451/100], Loss: 0.0523\n",
      "Epoch [461/100], Loss: 0.0517\n",
      "Epoch [471/100], Loss: 0.0511\n",
      "Epoch [481/100], Loss: 0.0506\n",
      "Epoch [491/100], Loss: 0.0501\n",
      "Epoch [501/100], Loss: 0.0495\n",
      "Epoch [511/100], Loss: 0.0490\n",
      "Epoch [521/100], Loss: 0.0485\n",
      "Epoch [531/100], Loss: 0.0480\n",
      "Epoch [541/100], Loss: 0.0475\n",
      "Epoch [551/100], Loss: 0.0470\n",
      "Epoch [561/100], Loss: 0.0465\n",
      "Epoch [571/100], Loss: 0.0460\n",
      "Epoch [581/100], Loss: 0.0455\n",
      "Epoch [591/100], Loss: 0.0450\n",
      "Epoch [601/100], Loss: 0.0445\n",
      "Epoch [611/100], Loss: 0.0440\n",
      "Epoch [621/100], Loss: 0.0436\n",
      "Epoch [631/100], Loss: 0.0431\n",
      "Epoch [641/100], Loss: 0.0426\n",
      "Epoch [651/100], Loss: 0.0422\n",
      "Epoch [661/100], Loss: 0.0417\n",
      "Epoch [671/100], Loss: 0.0413\n",
      "Epoch [681/100], Loss: 0.0408\n",
      "Epoch [691/100], Loss: 0.0404\n",
      "Epoch [701/100], Loss: 0.0399\n",
      "Epoch [711/100], Loss: 0.0395\n",
      "Epoch [721/100], Loss: 0.0390\n",
      "Epoch [731/100], Loss: 0.0386\n",
      "Epoch [741/100], Loss: 0.0381\n",
      "Epoch [751/100], Loss: 0.0377\n",
      "Epoch [761/100], Loss: 0.0373\n",
      "Epoch [771/100], Loss: 0.0369\n",
      "Epoch [781/100], Loss: 0.0364\n",
      "Epoch [791/100], Loss: 0.0360\n",
      "Epoch [801/100], Loss: 0.0356\n",
      "Epoch [811/100], Loss: 0.0352\n",
      "Epoch [821/100], Loss: 0.0348\n",
      "Epoch [831/100], Loss: 0.0344\n",
      "Epoch [841/100], Loss: 0.0340\n",
      "Epoch [851/100], Loss: 0.0336\n",
      "Epoch [861/100], Loss: 0.0332\n",
      "Epoch [871/100], Loss: 0.0328\n",
      "Epoch [881/100], Loss: 0.0324\n",
      "Epoch [891/100], Loss: 0.0321\n",
      "Epoch [901/100], Loss: 0.0317\n",
      "Epoch [911/100], Loss: 0.0313\n",
      "Epoch [921/100], Loss: 0.0310\n",
      "Epoch [931/100], Loss: 0.0306\n",
      "Epoch [941/100], Loss: 0.0302\n",
      "Epoch [951/100], Loss: 0.0299\n",
      "Epoch [961/100], Loss: 0.0296\n",
      "Epoch [971/100], Loss: 0.0292\n",
      "Epoch [981/100], Loss: 0.0289\n",
      "Epoch [991/100], Loss: 0.0285\n"
     ]
    },
    {
     "data": {
      "image/png": "[encoded data removed]",
      "text/plain": [
       "<Figure size 640x480 with 1 Axes>"
      ]
     },
     "metadata": {},
     "output_type": "display_data"
    }
   ],
   "source": [
    "import torch\n",
    "import torch.nn as nn\n",
    "import torch.optim as optim\n",
    "import matplotlib.pyplot as plt\n",
    "\n",
    "# Define the autoencoder class with dynamic neuron numbers\n",
    "class Autoencoder(nn.Module):\n",
    "    def __init__(self, num_neurons=4):\n",
    "        super(Autoencoder, self).__init__()\n",
    "        self.encoder = nn.Sequential(\n",
    "            nn.Linear(num_neurons, num_neurons),\n",
    "            nn.Tanh()\n",
    "        )\n",
    "        self.decoder = nn.Sequential(\n",
    "            nn.Linear(num_neurons, num_neurons),\n",
    "            nn.Tanh()\n",
    "        )\n",
    "\n",
    "    def forward(self, x):\n",
    "        x = self.encoder(x)\n",
    "        x = self.decoder(x)\n",
    "        return x\n",
    "\n",
    "# Initialize the autoencoder\n",
    "autoencoder = Autoencoder(num_neurons=4)\n",
    "\n",
    "# Loss function and optimizer\n",
    "criterion = nn.MSELoss()\n",
    "optimizer = optim.Adam(autoencoder.parameters(), lr=0.001)\n",
    "\n",
    "# Dummy input data\n",
    "inputs = torch.rand(10, 4)  # Batch size of 10, 4 features each\n",
    "\n",
    "# List to store loss values\n",
    "loss_values = []\n",
    "\n",
    "# Training loop\n",
    "for epoch in range(1000):\n",
    "    optimizer.zero_grad()\n",
    "    outputs = autoencoder(inputs)\n",
    "    loss = criterion(outputs, inputs)\n",
    "    loss.backward()\n",
    "    optimizer.step()\n",
    "\n",
    "    loss_values.append(loss.item())\n",
    "\n",
    "    if epoch % 10 == 0:\n",
    "        print(f'Epoch [{epoch+1}/100], Loss: {loss.item():.4f}')\n",
    "\n",
    "# Plotting the loss\n",
    "plt.plot(loss_values)\n",
    "plt.title('Autoencoder Training Loss')\n",
    "plt.xlabel('Epoch')\n",
    "plt.ylabel('Loss')\n",
    "plt.show()\n"
   ]
  },
  {
   "cell_type": "code",
   "execution_count": 11,
   "id": "f02be5b6-e295-40e2-9110-5f05999beb98",
   "metadata": {
    "execution": {
     "iopub.execute_input": "2024-03-21T18:52:28.465232Z",
     "iopub.status.busy": "2024-03-21T18:52:28.465052Z",
     "iopub.status.idle": "2024-03-21T18:52:30.429058Z",
     "shell.execute_reply": "2024-03-21T18:52:30.428314Z",
     "shell.execute_reply.started": "2024-03-21T18:52:28.465216Z"
    }
   },
   "outputs": [
    {
     "name": "stdout",
     "output_type": "stream",
     "text": [
      "Epoch [1], Loss: 0.6053\n",
      "Epoch [101], Loss: 0.2911\n",
      "Epoch [201], Loss: 0.1171\n",
      "Epoch [301], Loss: 0.0683\n",
      "Epoch [401], Loss: 0.0566\n",
      "Epoch [501], Loss: 0.0521\n",
      "Epoch [601], Loss: 0.0493\n",
      "Epoch [701], Loss: 0.0472\n",
      "Epoch [801], Loss: 0.0452\n",
      "Epoch [901], Loss: 0.0432\n",
      "Epoch [1001], Loss: 0.0411\n",
      "Epoch [1101], Loss: 0.0386\n",
      "Epoch [1201], Loss: 0.0359\n",
      "Epoch [1301], Loss: 0.0328\n",
      "Epoch [1401], Loss: 0.0295\n",
      "Epoch [1501], Loss: 0.0260\n",
      "Epoch [1601], Loss: 0.0225\n",
      "Epoch [1701], Loss: 0.0191\n",
      "Epoch [1801], Loss: 0.0161\n",
      "Epoch [1901], Loss: 0.0135\n",
      "Epoch [2001], Loss: 0.0114\n",
      "Epoch [2101], Loss: 0.0098\n",
      "Epoch [2201], Loss: 0.0085\n",
      "Epoch [2301], Loss: 0.0075\n",
      "Epoch [2401], Loss: 0.0067\n",
      "Epoch [2501], Loss: 0.0060\n",
      "Epoch [2601], Loss: 0.0054\n",
      "Epoch [2701], Loss: 0.0048\n",
      "Epoch [2801], Loss: 0.0043\n",
      "Epoch [2901], Loss: 0.0039\n",
      "Epoch [3001], Loss: 0.0035\n",
      "Epoch [3101], Loss: 0.0033\n",
      "Epoch [3201], Loss: 0.0030\n",
      "Epoch [3301], Loss: 0.0028\n",
      "Epoch [3401], Loss: 0.0027\n",
      "Epoch [3501], Loss: 0.0026\n",
      "Training stopped due to loss stabilization at Epoch [3537], Loss: 0.0025\n"
     ]
    },
    {
     "data": {
      "image/png": "[encoded data removed]",
      "text/plain": [
       "<Figure size 640x480 with 1 Axes>"
      ]
     },
     "metadata": {},
     "output_type": "display_data"
    }
   ],
   "source": [
    "import torch\n",
    "import torch.nn as nn\n",
    "import torch.optim as optim\n",
    "import matplotlib.pyplot as plt\n",
    "\n",
    "# Define the autoencoder class with dynamic neuron numbers\n",
    "class Autoencoder(nn.Module):\n",
    "    def __init__(self, num_neurons=4):\n",
    "        super(Autoencoder, self).__init__()\n",
    "        self.encoder = nn.Sequential(\n",
    "            nn.Linear(num_neurons, num_neurons),\n",
    "            nn.Tanh()\n",
    "        )\n",
    "        self.decoder = nn.Sequential(\n",
    "            nn.Linear(num_neurons, num_neurons),\n",
    "            nn.Tanh()\n",
    "        )\n",
    "\n",
    "    def forward(self, x):\n",
    "        x = self.encoder(x)\n",
    "        x = self.decoder(x)\n",
    "        return x\n",
    "\n",
    "# Initialize the autoencoder\n",
    "autoencoder = Autoencoder(num_neurons=4)\n",
    "\n",
    "# Loss function and optimizer\n",
    "criterion = nn.MSELoss()\n",
    "optimizer = optim.Adam(autoencoder.parameters(), lr=0.001)\n",
    "\n",
    "# Dummy input data\n",
    "inputs = torch.rand(10, 4)  # Batch size of 10, 4 features each\n",
    "\n",
    "# List to store loss values\n",
    "loss_values = []\n",
    "\n",
    "# Training parameters\n",
    "max_epochs = 10000  # Maximum number of epochs\n",
    "stabilization_threshold = 0.0001  # Threshold for loss stabilization\n",
    "check_interval = 100  # Interval for checking loss stabilization\n",
    "\n",
    "# Training loop\n",
    "epoch = 0\n",
    "while True:\n",
    "    optimizer.zero_grad()\n",
    "    outputs = autoencoder(inputs)\n",
    "    loss = criterion(outputs, inputs)\n",
    "    loss.backward()\n",
    "    optimizer.step()\n",
    "\n",
    "    loss_values.append(loss.item())\n",
    "\n",
    "    # Print loss every 100 epochs\n",
    "    if epoch % 100 == 0:\n",
    "        print(f'Epoch [{epoch+1}], Loss: {loss.item():.4f}')\n",
    "    \n",
    "    # Check for stopping condition every 'check_interval' epochs after at least 'check_interval' epochs have been run\n",
    "    if epoch >= check_interval:\n",
    "        # Calculate loss decay over the last 'check_interval' epochs\n",
    "        recent_loss_decay = loss_values[-check_interval] - loss_values[-1]\n",
    "        # Check if loss decay is below the threshold\n",
    "        if recent_loss_decay < stabilization_threshold:\n",
    "            print(f'Training stopped due to loss stabilization at Epoch [{epoch+1}], Loss: {loss.item():.4f}')\n",
    "            break\n",
    "\n",
    "    # Increment epoch counter\n",
    "    epoch += 1\n",
    "    # Check for maximum number of epochs\n",
    "    if epoch >= max_epochs:\n",
    "        print(f'Training stopped after reaching maximum epochs at Epoch [{epoch}], Loss: {loss.item():.4f}')\n",
    "        break\n",
    "\n",
    "# Plotting the loss\n",
    "plt.plot(loss_values)\n",
    "plt.title('Autoencoder Training Loss')\n",
    "plt.xlabel('Epoch')\n",
    "plt.ylabel('Loss')\n",
    "plt.show()\n"
   ]
  },
  {
   "cell_type": "markdown",
   "id": "ea49fec8-aef9-4fc5-b838-bfd746b97890",
   "metadata": {},
   "source": [
    "## STEP 5: Training the PINN"
   ]
  },
  {
   "cell_type": "code",
   "execution_count": null,
   "id": "2f2b1400-b1e7-4f3d-a5ff-1386de8567c6",
   "metadata": {},
   "outputs": [],
   "source": []
  },
  {
   "cell_type": "code",
   "execution_count": null,
   "id": "6d47b02c-3e2e-4b3d-8ae2-ab3833bfb6fb",
   "metadata": {},
   "outputs": [],
   "source": []
  },
  {
   "cell_type": "code",
   "execution_count": null,
   "id": "ed114d8d-61d7-4a82-9275-28f178087d57",
   "metadata": {},
   "outputs": [],
   "source": []
  },
  {
   "cell_type": "code",
   "execution_count": 12,
   "id": "51408128-78ef-4fe3-b9ad-51bf0ab23eaf",
   "metadata": {
    "execution": {
     "iopub.execute_input": "2024-03-21T18:52:30.430343Z",
     "iopub.status.busy": "2024-03-21T18:52:30.430149Z",
     "iopub.status.idle": "2024-03-21T18:52:30.830725Z",
     "shell.execute_reply": "2024-03-21T18:52:30.828352Z",
     "shell.execute_reply.started": "2024-03-21T18:52:30.430325Z"
    },
    "scrolled": true
   },
   "outputs": [
    {
     "ename": "NameError",
     "evalue": "name 'time' is not defined",
     "output_type": "error",
     "traceback": [
      "\u001b[0;31m---------------------------------------------------------------------------\u001b[0m",
      "\u001b[0;31mNameError\u001b[0m                                 Traceback (most recent call last)",
      "Cell \u001b[0;32mIn[12], line 2\u001b[0m\n\u001b[1;32m      1\u001b[0m epochs \u001b[38;5;241m=\u001b[39m \u001b[38;5;241m50001\u001b[39m\n\u001b[0;32m----> 2\u001b[0m start \u001b[38;5;241m=\u001b[39m \u001b[43mtime\u001b[49m\u001b[38;5;241m.\u001b[39mtime()\n\u001b[1;32m      3\u001b[0m \u001b[38;5;66;03m# Creation of the variables loss1_history, loss2_history and loss3_history for printing the evolution of the contribution of every loss term:\u001b[39;00m\n\u001b[1;32m      4\u001b[0m \u001b[38;5;66;03m# Plot the loss history as before\u001b[39;00m\n\u001b[1;32m      6\u001b[0m loss_ic1_history \u001b[38;5;241m=\u001b[39m []\n",
      "\u001b[0;31mNameError\u001b[0m: name 'time' is not defined"
     ]
    }
   ],
   "source": [
    "epochs = 50001\n",
    "start = time.time()\n",
    "# Creation of the variables loss1_history, loss2_history and loss3_history for printing the evolution of the contribution of every loss term:\n",
    "# Plot the loss history as before\n",
    "\n",
    "loss_ic1_history = []\n",
    "loss_ic2_history = []\n",
    "loss_differential_equation_history = []\n",
    "loss_total_history = []\n",
    "\n",
    "loss_history = []  # To track loss over epochs\n",
    "threshold = 0.0001  # Predetermined threshold for stopping\n",
    "check_range = 200\n",
    "#initial_loss_value = 0.05\n",
    "\n",
    "for i in range(epochs):\n",
    "    optimiser.zero_grad()\n",
    "\n",
    "    # compute initial condition 1 loss:\n",
    "    ic1_predicted= original_model(ic1_t_mu)\n",
    "    \n",
    "    residuals_ic1 = ic1_predicted - ic1_scope\n",
    "    \n",
    "    loss_ic1 = torch.mean((ic1_predicted - ic1_scope)**2)\n",
    "    loss_ic1_history.append(loss_ic1.item())\n",
    "\n",
    "\n",
    "    # compute initial condition 2 loss:\n",
    "    du_dtdmu_initial = torch.autograd.grad(outputs = ic1_predicted, inputs = ic1_t_mu, grad_outputs= torch.ones_like(ic1_predicted), create_graph= True)[0]\n",
    "    ic2_du_dt, ic2_du_dmu = du_dtdmu_initial[:, 0:1], du_dtdmu_initial[:,1:2]\n",
    "    \n",
    "    residuals_ic2 = ic2_du_dt- ic2_scope\n",
    "    \n",
    "    loss_ic2 = torch.mean((ic2_du_dt- ic2_scope)**2)\n",
    "    loss_ic2_history.append(loss_ic2.item())\n",
    "\n",
    "    # compute physic loss:\n",
    "    physic_domain_predicted = original_model(physic_domain_t_mu)\n",
    "    physic_domain_du_dtdmu = torch.autograd.grad(outputs = physic_domain_predicted, inputs = physic_domain_t_mu, grad_outputs= torch.ones_like(physic_domain_predicted), create_graph= True)[0]\n",
    "    physic_domain_d2u_d2t_d2mu = torch.autograd.grad(outputs = physic_domain_du_dtdmu[:,0:1], inputs = physic_domain_t_mu, grad_outputs= torch.ones_like(physic_domain_du_dtdmu[:,0:1]), create_graph= True)[0]\n",
    "    \n",
    "    residuals_differential_equation = physic_domain_d2u_d2t_d2mu[:,0:1] + physic_domain_t_mu[:,1:2] * physic_domain_du_dtdmu[:,0:1] + k * physic_domain_predicted \n",
    "    \n",
    "    loss_differential_equation = torch.mean( (physic_domain_d2u_d2t_d2mu[:,0:1] + physic_domain_t_mu[:,1:2] * physic_domain_du_dtdmu[:,0:1] + k * physic_domain_predicted )**2)\n",
    "    loss_differential_equation_history.append(loss_differential_equation.item())\n",
    "    \n",
    "    loss = loss_ic1 + lambda1 * loss_ic2 + lambda2 * loss_differential_equation\n",
    "    loss_total_history.append(loss.item())\n",
    "    loss_history.append(loss.item())\n",
    "    if i ==1:\n",
    "        \n",
    "        initial_loss_value = loss.item()        \n",
    "    \n",
    "    loss.backward()\n",
    "    optimiser.step()\n",
    "    \n",
    "    # Update loss history and ensure it contains the losses of the last check_range epochs\n",
    "    if len(loss_history) > check_range:\n",
    "        loss_history.pop(0)  # Remove the oldest loss value\n",
    "    \n",
    "    # Check if the difference between max and min loss in the last 100 epochs is within the threshold\n",
    "    max_min_range = max(loss_history) - min(loss_history)\n",
    "    absolut_loss_value = sum(loss_history) / len(loss_history)\n",
    "    if len(loss_history) == check_range and max_min_range <= threshold and  absolut_loss_value < initial_loss_value:\n",
    "        print(f\"Stopping training at epoch {i} as the loss stabilized within the threshold.\")\n",
    "        print(f\"max_min_range = {max_min_range} \\n absolute_loss_value: {absolut_loss_value} \")\n",
    "        break\n",
    "    \n",
    "    if i%1000 == 0:\n",
    "        print(f\"Shape of ic1 residuals: {residuals_ic1.shape}\")\n",
    "        print(f'Decomposition of the loss terms: \\n loss({loss}) = loss1({loss_ic1}) + {lambda1} * loss2({loss_ic2}) + {lambda2} * loss3({loss_differential_equation})')\n",
    "        \n",
    "        test_predicted = original_model(test_in_t_constant_mu)\n",
    "        \n",
    "        plt.figure(figsize=(10,2.5))\n",
    "        plt.plot(test_in_t_mu[0].detach().numpy(), \n",
    "                 u_exact, \n",
    "                 label=\"Exact solution\", \n",
    "                 color=\"tab:grey\", \n",
    "                 alpha=0.6\n",
    "        )\n",
    "        plt.plot(\n",
    "                test_in_t_mu[0], \n",
    "                test_predicted[:,0].detach().numpy(), \n",
    "                label=\"PINN solution\", \n",
    "                color=\"tab:green\"\n",
    "        )\n",
    "        plt.scatter(\n",
    "                    physic_in_t_mu[0].detach().numpy(), \n",
    "                    torch.zeros_like(physic_in_t_mu[0]), \n",
    "                    s=20, \n",
    "                    lw=0, \n",
    "                    color=\"tab:red\",\n",
    "                    alpha=0.6,\n",
    "                    label= \"Training points\"\n",
    "        )\n",
    "        plt.scatter(\n",
    "                    test_in_t_mu[0], \n",
    "                    torch.zeros_like(test_in_t_mu[0]), \n",
    "                    s=20, \n",
    "                    lw=0, \n",
    "                    color=\"tab:green\",\n",
    "                    alpha=0.6,\n",
    "                    label= \"Seed points(testing)\"\n",
    "        )\n",
    "        #plt.title(f\"Exact and predicted solution \\n u(t=(0,1), $\\mu$ = {test_mu}), model: {original_model.__class__.__name__}, activation function: {original_model.activation()}, epoch = {i} \\n (learning rate: {learning_rate}, lambda1: {lambda1}, lambda2: {lambda2})\")\n",
    "        plt.title(f\"Exact and predicted solution \\n u(t=(0,1), $\\mu$ = {test_mu}), model: {original_model.__class__.__name__}, activation function: Tanh, epoch = {i} \\n (learning rate: {learning_rate}, lambda1: {lambda1}, lambda2: {lambda2})\")\n",
    "\n",
    "        plt.grid()\n",
    "        plt.legend()\n",
    "        plt.show()\n",
    "        torch.save({\n",
    "                    \"epoch\": i,\n",
    "                    \"model_state_dict\": original_model.state_dict(),\n",
    "                    \"optimiser_state_dict\": optimiser.state_dict(),\n",
    "                    \"loss\": loss,\n",
    "                   },                    \n",
    "                    f\"lr{learning_rate}_epoch{i}.pth\") #f\"lr{learning_rate}_epoch{i}.pth\")\n",
    "        print(f\"Saved the checkpoint corresponding to epoch: {i}\")\n",
    "end = time.time()\n",
    "execution_time = (end - start)\n",
    "print(f\"Training elapsed time (s): {execution_time}\")\n",
    "        "
   ]
  },
  {
   "cell_type": "code",
   "execution_count": null,
   "id": "0b6649e2-a848-449f-8c69-b5361a65c65b",
   "metadata": {
    "execution": {
     "iopub.status.busy": "2024-03-21T18:52:30.831282Z",
     "iopub.status.idle": "2024-03-21T18:52:30.831521Z",
     "shell.execute_reply": "2024-03-21T18:52:30.831408Z",
     "shell.execute_reply.started": "2024-03-21T18:52:30.831397Z"
    }
   },
   "outputs": [],
   "source": [
    "# Plot the loss history as before\n",
    "plt.figure(figsize=(10, 6))\n",
    "plt.plot(loss_history, label='Loss over epochs')\n",
    "plt.xlabel('Epochs')\n",
    "plt.ylabel('Loss')\n",
    "plt.title('Training Loss')\n",
    "plt.legend()\n",
    "plt.show()\n"
   ]
  },
  {
   "cell_type": "code",
   "execution_count": null,
   "id": "231ddaae-922a-4283-bf3f-43f79596794b",
   "metadata": {
    "execution": {
     "iopub.status.busy": "2024-03-21T18:52:30.832640Z",
     "iopub.status.idle": "2024-03-21T18:52:30.832871Z",
     "shell.execute_reply": "2024-03-21T18:52:30.832764Z",
     "shell.execute_reply.started": "2024-03-21T18:52:30.832754Z"
    }
   },
   "outputs": [],
   "source": [
    "plt.figure(figsize=(10, 6))\n",
    "plt.plot(loss_total_history[-1000:], label='Loss over epochs')\n",
    "plt.xlabel('Epochs')\n",
    "plt.ylabel('Loss')\n",
    "plt.title('Training Loss')\n",
    "plt.legend()\n",
    "plt.show()"
   ]
  },
  {
   "cell_type": "code",
   "execution_count": null,
   "id": "eedc5ccf-a2ae-4d15-97d2-2874239b6cb6",
   "metadata": {
    "execution": {
     "iopub.status.busy": "2024-03-21T18:52:30.833688Z",
     "iopub.status.idle": "2024-03-21T18:52:30.833915Z",
     "shell.execute_reply": "2024-03-21T18:52:30.833811Z",
     "shell.execute_reply.started": "2024-03-21T18:52:30.833801Z"
    }
   },
   "outputs": [],
   "source": [
    "plt.figure(figsize=(10, 6))\n",
    "plt.plot(loss_total_history, label='Loss over epochs')\n",
    "plt.xlabel('Epochs')\n",
    "plt.ylabel('Loss')\n",
    "plt.title('Training Loss')\n",
    "plt.legend()\n",
    "plt.show()"
   ]
  },
  {
   "cell_type": "code",
   "execution_count": null,
   "id": "3db8f80d-2ccc-4f8f-bdb0-ab58b79cd665",
   "metadata": {},
   "outputs": [],
   "source": []
  },
  {
   "cell_type": "markdown",
   "id": "0faa82cc-210b-4bea-917f-1e439e81bab5",
   "metadata": {},
   "source": [
    "## STEP 7: Investigation of the loss terms"
   ]
  },
  {
   "cell_type": "code",
   "execution_count": null,
   "id": "f9487fd7-6866-43c2-ab32-f064be36a874",
   "metadata": {
    "execution": {
     "iopub.status.busy": "2024-03-21T18:52:30.834691Z",
     "iopub.status.idle": "2024-03-21T18:52:30.834912Z",
     "shell.execute_reply": "2024-03-21T18:52:30.834810Z",
     "shell.execute_reply.started": "2024-03-21T18:52:30.834800Z"
    }
   },
   "outputs": [],
   "source": [
    "# plot the contribution of every loss term (loss1, loss2 and loss3)\n",
    "fig, (loss1_2, loss3) = plt.subplots(1,2, layout = 'constrained', sharex = True, figsize = (15,5))\n",
    "#fig.suptitle(f\"Decomposition of the loss terms using {original_model.__class__.__name__} model and Tanh #{original_model.activation()}# activation function \\n (learning_rate: {learning_rate}, lambda1: {lambda1}, lambda2: {lambda2})\", fontsize = 14)\n",
    "fig.suptitle(f\"Decomposition of the loss terms using {original_model.__class__.__name__} model and Tanh activation function \\n (learning_rate: {learning_rate}, lambda1: {lambda1}, lambda2: {lambda2})\", fontsize = 14)\n",
    "\n",
    "loss1_2.plot(loss_ic1_history, label = \"loss1: residuals of u(t=0)=1\", color = \"tab:red\")\n",
    "loss1_2.plot(loss_ic2_history, label = \"loss2: residuals of du/dt(t=0)=0\", color = \"tab:blue\")\n",
    "loss1_2.set_title(\"loss1: (u(t=0)=1) and loss2: (du/dt(t=0)=0)\")\n",
    "loss1_2.set_xlabel(\"epochs\")\n",
    "loss1_2.set_ylabel(\"residuals\")\n",
    "loss1_2.grid()\n",
    "loss1_2.legend()\n",
    "\n",
    "loss3.plot(loss_differential_equation_history, label= \"loss3: residuals of the differential equation\", color = \"tab:grey\")\n",
    "loss3.set_title(\"loss3: residuals of the differential equation\")\n",
    "loss3.set_xlabel(\"epochs\")\n",
    "loss3.set_ylabel(\"residuals\")\n",
    "loss3.legend()\n",
    "loss3.grid()"
   ]
  },
  {
   "cell_type": "markdown",
   "id": "12471976-8e6a-4bc3-9fc2-67de49835233",
   "metadata": {},
   "source": [
    "## STEP9: Training using a different initialization & activation function"
   ]
  },
  {
   "cell_type": "code",
   "execution_count": null,
   "id": "f431204a-ce45-470f-8bd4-d1a626336f4c",
   "metadata": {
    "execution": {
     "iopub.status.busy": "2024-03-21T18:52:30.837225Z",
     "iopub.status.idle": "2024-03-21T18:52:30.837452Z",
     "shell.execute_reply": "2024-03-21T18:52:30.837349Z",
     "shell.execute_reply.started": "2024-03-21T18:52:30.837339Z"
    }
   },
   "outputs": [],
   "source": [
    "activation_func = \"LeakyReLU\"\n",
    "model_init = FCN_init(2,1,64,4, activation= activation_func)\n",
    "model_init.parameters"
   ]
  },
  {
   "cell_type": "code",
   "execution_count": null,
   "id": "c9997911-17ff-4dbc-908e-38cfa1b3e2da",
   "metadata": {
    "execution": {
     "iopub.status.busy": "2024-03-21T18:52:30.838831Z",
     "iopub.status.idle": "2024-03-21T18:52:30.839061Z",
     "shell.execute_reply": "2024-03-21T18:52:30.838955Z",
     "shell.execute_reply.started": "2024-03-21T18:52:30.838945Z"
    }
   },
   "outputs": [],
   "source": [
    "#plt.imshow(model_init.state_dict()[\"fcs.0.weight\"])"
   ]
  },
  {
   "cell_type": "code",
   "execution_count": null,
   "id": "83ee4774-4326-489f-a0d1-16fbb3ad1bb1",
   "metadata": {
    "execution": {
     "iopub.status.busy": "2024-03-21T18:52:30.839749Z",
     "iopub.status.idle": "2024-03-21T18:52:30.839965Z",
     "shell.execute_reply": "2024-03-21T18:52:30.839864Z",
     "shell.execute_reply.started": "2024-03-21T18:52:30.839854Z"
    }
   },
   "outputs": [],
   "source": [
    "model_init.fcs"
   ]
  },
  {
   "cell_type": "code",
   "execution_count": null,
   "id": "be40e860-0cb9-43c6-8254-d9f109fb5bfd",
   "metadata": {
    "execution": {
     "iopub.status.busy": "2024-03-21T18:52:30.840695Z",
     "iopub.status.idle": "2024-03-21T18:52:30.840912Z",
     "shell.execute_reply": "2024-03-21T18:52:30.840813Z",
     "shell.execute_reply.started": "2024-03-21T18:52:30.840803Z"
    }
   },
   "outputs": [],
   "source": [
    "print(model_init.parameters)\n",
    "print(model_init.state_dict().keys())"
   ]
  },
  {
   "cell_type": "code",
   "execution_count": null,
   "id": "b9c47c7c-21f5-4f33-94ef-0a7877a0c6e9",
   "metadata": {
    "execution": {
     "iopub.status.busy": "2024-03-21T18:52:30.841893Z",
     "iopub.status.idle": "2024-03-21T18:52:30.842118Z",
     "shell.execute_reply": "2024-03-21T18:52:30.842014Z",
     "shell.execute_reply.started": "2024-03-21T18:52:30.842004Z"
    }
   },
   "outputs": [],
   "source": [
    "test_predicted_init = model_init(test_in_t_constant_mu)"
   ]
  },
  {
   "cell_type": "code",
   "execution_count": null,
   "id": "741b2b84-e5cf-49f4-ab3a-02eece464dbb",
   "metadata": {
    "execution": {
     "iopub.status.busy": "2024-03-21T18:52:30.842775Z",
     "iopub.status.idle": "2024-03-21T18:52:30.842992Z",
     "shell.execute_reply": "2024-03-21T18:52:30.842891Z",
     "shell.execute_reply.started": "2024-03-21T18:52:30.842881Z"
    }
   },
   "outputs": [],
   "source": [
    "plt.figure(figsize=(10,2.5))\n",
    "plt.plot(test_in_t_mu[0].detach().numpy(), \n",
    "                 u_exact, \n",
    "                 label=\"Exact solution\", \n",
    "                 color=\"tab:grey\", \n",
    "                 alpha=0.6\n",
    ")\n",
    "plt.plot(test_in_t_mu[0], \n",
    "                 test_predicted_init[:,0].detach().numpy(), \n",
    "                 label=\"PINN solution (initial)\", \n",
    "                 color=\"tab:green\"\n",
    ")\n",
    "plt.scatter(\n",
    "        test_in_t_mu[0], \n",
    "        torch.zeros_like(test_in_t_mu[0]), \n",
    "        s=20, \n",
    "        lw=0, \n",
    "        color=\"tab:green\",\n",
    "        alpha=0.6,\n",
    "        label= \"Seed points(testing)\"\n",
    ")\n",
    "plt.scatter(\n",
    "        physic_in_t_mu[0].detach().numpy(), \n",
    "        torch.zeros_like(physic_in_t_mu[0]), \n",
    "        s=20, \n",
    "        lw=0, \n",
    "        color=\"tab:purple\",\n",
    "        alpha=0.6,\n",
    "        label= \"Training points\"\n",
    ")\n",
    "plt.title(f\"Exact and predicted solution \\n u(t=(0,1), $\\mu$ = {test_mu}), epoch = 1, model: {model_init.__class__.__name__}, activation function: {activation_func}()\")\n",
    "plt.legend()\n",
    "plt.show()"
   ]
  },
  {
   "cell_type": "markdown",
   "id": "5783efd8-c3f3-45c9-b5e8-68c47f70c38e",
   "metadata": {},
   "source": [
    "## STEP10: Inference Case (Check for a fixed value of mu)"
   ]
  },
  {
   "cell_type": "code",
   "execution_count": null,
   "id": "49bc64f4-5020-4b92-85b6-d0a3c873ebd0",
   "metadata": {
    "execution": {
     "iopub.status.busy": "2024-03-21T18:52:30.843542Z",
     "iopub.status.idle": "2024-03-21T18:52:30.843763Z",
     "shell.execute_reply": "2024-03-21T18:52:30.843655Z",
     "shell.execute_reply.started": "2024-03-21T18:52:30.843644Z"
    }
   },
   "outputs": [],
   "source": [
    "test_mu = 5\n",
    "test_in_t_constant_mu = torch.stack([torch.linspace(0,1,point_resolution_test), test_mu*torch.ones(point_resolution_test)], -1).view(-1,2)\n",
    "u_exact = exact_solution(test_mu/(2*mass), w0, test_in_t_mu[0])\n",
    "#print(f\" Point seed list for mesh grid domain points: \\n \\t {test_in_t_constant_mu}\")\n",
    "#print(f\"Size of Domain training points: \\n \\t {test_in_t_constant_mu.size()}\")b"
   ]
  },
  {
   "cell_type": "code",
   "execution_count": null,
   "id": "9b64d80f-7b0d-4bd0-a617-9dda19c0c50a",
   "metadata": {
    "execution": {
     "iopub.status.busy": "2024-03-21T18:52:30.844377Z",
     "iopub.status.idle": "2024-03-21T18:52:30.844588Z",
     "shell.execute_reply": "2024-03-21T18:52:30.844490Z",
     "shell.execute_reply.started": "2024-03-21T18:52:30.844480Z"
    }
   },
   "outputs": [],
   "source": [
    "test_predicted_init = model_init(test_in_t_constant_mu)\n",
    "#print(test_predicted)"
   ]
  },
  {
   "cell_type": "code",
   "execution_count": null,
   "id": "f1997cb3-aa24-40fc-9555-c4fb369ff878",
   "metadata": {
    "execution": {
     "iopub.status.busy": "2024-03-21T18:52:30.845166Z",
     "iopub.status.idle": "2024-03-21T18:52:30.845379Z",
     "shell.execute_reply": "2024-03-21T18:52:30.845279Z",
     "shell.execute_reply.started": "2024-03-21T18:52:30.845269Z"
    }
   },
   "outputs": [],
   "source": [
    "plt.figure(figsize=(10,2.5))\n",
    "plt.plot(test_in_t_mu[0].detach().numpy(), \n",
    "                 u_exact, \n",
    "                 label=\"Exact solution\", \n",
    "                 color=\"tab:grey\", \n",
    "                 alpha=0.6\n",
    ")\n",
    "plt.plot(test_in_t_mu[0], \n",
    "                 test_predicted_init[:,0].detach().numpy(), \n",
    "                 label=\"PINN solution (initial)\", \n",
    "                 color=\"tab:green\"\n",
    ")\n",
    "plt.scatter(\n",
    "        test_in_t_mu[0], \n",
    "        torch.zeros_like(test_in_t_mu[0]), \n",
    "        s=20, \n",
    "        lw=0, \n",
    "        color=\"tab:green\",\n",
    "        alpha=0.6,\n",
    "        label= \"Seed points(testing)\"\n",
    ")\n",
    "plt.scatter(\n",
    "        physic_in_t_mu[0].detach().numpy(), \n",
    "        torch.zeros_like(physic_in_t_mu[0]), \n",
    "        s=20, \n",
    "        lw=0, \n",
    "        color=\"tab:purple\",\n",
    "        alpha=0.6,\n",
    "        label= \"Training points\"\n",
    ")\n",
    "plt.title(f\"Exact and predicted solution \\n u(t=(0,1), $\\mu$ = {test_mu}), epoch = 1, model: {model.__class__.__name__}, activation function: {activation_func}()\")\n",
    "plt.grid()\n",
    "plt.legend()\n",
    "plt.show()"
   ]
  },
  {
   "cell_type": "code",
   "execution_count": null,
   "id": "ed92aa21-2f28-4237-9d17-970a2eb65f56",
   "metadata": {
    "execution": {
     "iopub.status.busy": "2024-03-21T18:52:30.846281Z",
     "iopub.status.idle": "2024-03-21T18:52:30.846498Z",
     "shell.execute_reply": "2024-03-21T18:52:30.846398Z",
     "shell.execute_reply.started": "2024-03-21T18:52:30.846388Z"
    }
   },
   "outputs": [],
   "source": [
    "ic1_t_mu\n",
    "physic_domain_t_mu\n",
    "loss_ic1"
   ]
  },
  {
   "cell_type": "code",
   "execution_count": null,
   "id": "7ebe3d64-6f43-4b01-8375-59debe22d51d",
   "metadata": {
    "execution": {
     "iopub.status.busy": "2024-03-21T18:52:30.848113Z",
     "iopub.status.idle": "2024-03-21T18:52:30.848340Z",
     "shell.execute_reply": "2024-03-21T18:52:30.848236Z",
     "shell.execute_reply.started": "2024-03-21T18:52:30.848226Z"
    }
   },
   "outputs": [],
   "source": [
    "optimizer_init = torch.optim.Adam(model_init.parameters(), lr= learning_rate)\n",
    "epochs = 10001\n",
    "start = time.time()\n",
    "# Creation of the variables loss1_history, loss2_history and loss3_history for printing the evolution of the contribution of every loss term:\n",
    "\n",
    "loss_ic1_history = []\n",
    "loss_ic2_history = []\n",
    "loss_differential_equation_history = []\n",
    "\n",
    "for i in range(epochs):\n",
    "    optimizer_init.zero_grad()\n",
    "\n",
    "    # compute initial condition 1 loss:\n",
    "    ic1_predicted= model_init(ic1_t_mu)\n",
    "    loss_ic1 = torch.mean((ic1_predicted - ic1_scope)**2)\n",
    "    loss_ic1_history.append(loss_ic1.item())\n",
    "\n",
    "\n",
    "    # compute initial condition 2 loss:\n",
    "    du_dtdmu_initial = torch.autograd.grad(outputs = ic1_predicted, inputs = ic1_t_mu, grad_outputs= torch.ones_like(ic1_predicted), create_graph= True)[0]\n",
    "    ic2_du_dt, ic2_du_dmu = du_dtdmu_initial[:, 0:1], du_dtdmu_initial[:,1:2]\n",
    "    loss_ic2 = torch.mean((ic2_du_dt- ic2_scope)**2)\n",
    "    loss_ic2_history.append(loss_ic2.item())\n",
    "\n",
    "    # compute physic loss:\n",
    "    physic_domain_predicted = model_init(physic_domain_t_mu)\n",
    "    physic_domain_du_dtdmu = torch.autograd.grad(outputs = physic_domain_predicted, inputs = physic_domain_t_mu, grad_outputs= torch.ones_like(physic_domain_predicted), create_graph= True)[0]\n",
    "    physic_domain_d2u_d2t_d2mu = torch.autograd.grad(outputs = physic_domain_du_dtdmu[:,0:1], inputs = physic_domain_t_mu, grad_outputs= torch.ones_like(physic_domain_du_dtdmu[:,0:1]), create_graph= True)[0]\n",
    "    loss_differential_equation = torch.mean( (physic_domain_d2u_d2t_d2mu[:,0:1] + physic_domain_t_mu[:,1:2] * physic_domain_du_dtdmu[:,0:1] + k * physic_domain_predicted )**2)\n",
    "    loss_differential_equation_history.append(loss_differential_equation.item())\n",
    "    \n",
    "    loss = loss_ic1 + lambda1 * loss_ic2 + lambda2 * loss_differential_equation\n",
    "    \n",
    "    loss.backward()\n",
    "    optimizer_init.step()\n",
    "    \n",
    "    \n",
    "    if i%1000 == 0:\n",
    "        print(f'Decomposition of the loss terms: \\n loss({loss}) = loss1({loss_ic1}) + {lambda1} * loss2({loss_ic2}) + {lambda2} * loss3({loss_differential_equation})')\n",
    "        \n",
    "        test_predicted_init = model_init(test_in_t_constant_mu)\n",
    "        \n",
    "        plt.figure(figsize=(10,2.5))\n",
    "        plt.plot(test_in_t_mu[0].detach().numpy(), \n",
    "                 u_exact, \n",
    "                 label=\"Exact solution\", \n",
    "                 color=\"tab:grey\", \n",
    "                 alpha=0.6\n",
    "        )\n",
    "        plt.plot(\n",
    "                test_in_t_mu[0], \n",
    "                test_predicted_init[:,0].detach().numpy(), \n",
    "                label=\"PINN solution\", \n",
    "                color=\"tab:green\"\n",
    "        )\n",
    "        plt.scatter(\n",
    "                    physic_in_t_mu[0].detach().numpy(), \n",
    "                    torch.zeros_like(physic_in_t_mu[0]), \n",
    "                    s=20, \n",
    "                    lw=0, \n",
    "                    color=\"tab:red\",\n",
    "                    alpha=0.6,\n",
    "                    label= \"Training points\"\n",
    "        )\n",
    "        plt.scatter(\n",
    "                    test_in_t_mu[0], \n",
    "                    torch.zeros_like(test_in_t_mu[0]), \n",
    "                    s=20, \n",
    "                    lw=0, \n",
    "                    color=\"tab:green\",\n",
    "                    alpha=0.6,\n",
    "                    label= \"Seed points(testing)\"\n",
    "        )\n",
    "        plt.title(f\"Exact and predicted solution \\n u(t=(0,1), $\\mu$ = {test_mu}), model: {model_init.__class__.__name__}, activation function: {activation_func}, epoch = {i} \\n (learning rate: {learning_rate}, lambda1: {lambda1}, lambda2: {lambda2})\")\n",
    "        plt.grid()\n",
    "        plt.legend()\n",
    "        plt.show()\n",
    "end = time.time()\n",
    "execution_time = (end - start)\n",
    "print(f\"Training elapsed time (s): {execution_time}\")"
   ]
  },
  {
   "cell_type": "code",
   "execution_count": null,
   "id": "2c4dc233-a77a-4900-8de5-3654ccecd37a",
   "metadata": {},
   "outputs": [],
   "source": []
  },
  {
   "cell_type": "code",
   "execution_count": null,
   "id": "c9487f44-ad23-4420-88c7-41131790de83",
   "metadata": {},
   "outputs": [],
   "source": []
  },
  {
   "cell_type": "code",
   "execution_count": null,
   "id": "f13ae528-306f-40b5-a298-5dce14eaba59",
   "metadata": {},
   "outputs": [],
   "source": []
  },
  {
   "cell_type": "code",
   "execution_count": null,
   "id": "55e39052-be98-4bfb-b520-a2feaa0c01c8",
   "metadata": {},
   "outputs": [],
   "source": []
  },
  {
   "cell_type": "code",
   "execution_count": null,
   "id": "133ad365-6b1e-4a56-9a2c-2aec7265400c",
   "metadata": {},
   "outputs": [],
   "source": []
  },
  {
   "cell_type": "code",
   "execution_count": null,
   "id": "4ebfc107-2874-42bf-bb72-db2a75a19744",
   "metadata": {},
   "outputs": [],
   "source": []
  },
  {
   "cell_type": "markdown",
   "id": "fe967186-9538-49ad-a528-8ce63ac9dbb1",
   "metadata": {},
   "source": [
    "### Predicted values"
   ]
  },
  {
   "cell_type": "markdown",
   "id": "a29191fe-e164-4266-924f-748c213b7645",
   "metadata": {},
   "source": [
    "#### Generation of testing points:"
   ]
  },
  {
   "cell_type": "code",
   "execution_count": null,
   "id": "3723f617-9cb9-41f5-93d3-4f4a8ec48c34",
   "metadata": {
    "execution": {
     "iopub.status.busy": "2024-03-21T18:52:30.848962Z",
     "iopub.status.idle": "2024-03-21T18:52:30.849173Z",
     "shell.execute_reply": "2024-03-21T18:52:30.849074Z",
     "shell.execute_reply.started": "2024-03-21T18:52:30.849064Z"
    }
   },
   "outputs": [],
   "source": [
    "#### Generation of t and mu test points within the domain:\n",
    "point_resolution_test = 100\n",
    "\n",
    "# Testing points:\n",
    "test_in_t_mu = [torch.linspace(0,1,point_resolution_test), torch.linspace(1,10,point_resolution_test) ]\n",
    "test_domain_t_mu = torch.stack(torch.meshgrid(*test_in_t_mu, indexing='ij'), -1).view(-1, 2)\n",
    "\n",
    "# print(f\"Point seed list for mesh grid test points: \\n \\t \\n \\t: {test_in_t_mu}\")\n",
    "# print(f\"Test points \\n \\t [t, mu]: \\n \\t {test_domain_t_mu}\")\n",
    "# print(f\"Size of the test domain points: \\n \\t {test_domain_t_mu.size()}\")"
   ]
  },
  {
   "cell_type": "code",
   "execution_count": null,
   "id": "6805e044-070c-4c10-ad27-6293ac074988",
   "metadata": {
    "execution": {
     "iopub.status.busy": "2024-03-21T18:52:30.849672Z",
     "iopub.status.idle": "2024-03-21T18:52:30.849888Z",
     "shell.execute_reply": "2024-03-21T18:52:30.849785Z",
     "shell.execute_reply.started": "2024-03-21T18:52:30.849775Z"
    }
   },
   "outputs": [],
   "source": [
    "test_predicted = original_model(test_in_t_constant_mu)\n",
    "#test_predicted.size()\n",
    "#test_predicted"
   ]
  },
  {
   "cell_type": "code",
   "execution_count": null,
   "id": "0ebd5d74-5f22-4316-9aac-43ca096917b3",
   "metadata": {
    "execution": {
     "iopub.status.busy": "2024-03-21T18:52:30.850991Z",
     "iopub.status.idle": "2024-03-21T18:52:30.851212Z",
     "shell.execute_reply": "2024-03-21T18:52:30.851111Z",
     "shell.execute_reply.started": "2024-03-21T18:52:30.851101Z"
    },
    "scrolled": true
   },
   "outputs": [],
   "source": [
    "plt.figure(figsize=(10,2.5))\n",
    "plt.plot(test_in_t_mu[0].detach().numpy(), \n",
    "                 u_exact, \n",
    "                 label=\"Exact solution\", \n",
    "                 color=\"tab:grey\", \n",
    "                 alpha=0.6\n",
    ")\n",
    "plt.plot(test_in_t_mu[0], \n",
    "                 test_predicted[:,0].detach().numpy(), \n",
    "                 label=\"PINN solution (initial)\", \n",
    "                 color=\"tab:green\"\n",
    ")\n",
    "plt.scatter(\n",
    "        test_in_t_mu[0], \n",
    "        torch.zeros_like(test_in_t_mu[0]), \n",
    "        s=20, \n",
    "        lw=0, \n",
    "        color=\"tab:green\",\n",
    "        alpha=0.6,\n",
    "        label= \"Seed points(testing)\"\n",
    ")\n",
    "plt.scatter(\n",
    "        physic_in_t_mu[0].detach().numpy(), \n",
    "        torch.zeros_like(physic_in_t_mu[0]), \n",
    "        s=20, \n",
    "        lw=0, \n",
    "        color=\"tab:purple\",\n",
    "        alpha=0.6,\n",
    "        label= \"Training points\"\n",
    ")\n",
    "### model and activation has to be manually adapted\n",
    "plt.title(f\"Exact and predicted solution for a nn with following architecture: [{original_input_size}, {original_hidden_layers}, {original_output_size}] \\n u(t=(0,1), $\\mu$ = {test_mu}), model: {original_model.__class__.__name__}, activation function: {original_model.activation}, epoch = 1\")\n",
    "plt.legend()\n",
    "plt.show()"
   ]
  },
  {
   "cell_type": "markdown",
   "id": "ff570665-c6de-4a72-b37a-f63478a196ac",
   "metadata": {},
   "source": [
    "### Exact solution:"
   ]
  },
  {
   "cell_type": "code",
   "execution_count": null,
   "id": "e9dd8001-d35a-4fb3-8415-645c98683966",
   "metadata": {
    "execution": {
     "iopub.status.busy": "2024-03-21T18:52:30.852263Z",
     "iopub.status.idle": "2024-03-21T18:52:30.852486Z",
     "shell.execute_reply": "2024-03-21T18:52:30.852382Z",
     "shell.execute_reply.started": "2024-03-21T18:52:30.852371Z"
    }
   },
   "outputs": [],
   "source": [
    "def exact_solution(d, w0, t):\n",
    "    \"Defines the analytical solution to the under-damped harmonic oscillator problem above.\"\n",
    "    assert d < w0             \n",
    "    w = np.sqrt(w0**2-d**2)\n",
    "    phi = np.arctan(-d/w)\n",
    "    A = 1/(2*np.cos(phi))\n",
    "    cos = torch.cos(phi+w*t)\n",
    "    exp = torch.exp(-d*t)\n",
    "    u = exp*2*A*cos\n",
    "    return u"
   ]
  },
  {
   "cell_type": "code",
   "execution_count": null,
   "id": "42f8e8cd-082b-45c6-ab5e-379601fdb612",
   "metadata": {
    "execution": {
     "iopub.status.busy": "2024-03-21T18:52:30.853394Z",
     "iopub.status.idle": "2024-03-21T18:52:30.853616Z",
     "shell.execute_reply": "2024-03-21T18:52:30.853515Z",
     "shell.execute_reply.started": "2024-03-21T18:52:30.853506Z"
    }
   },
   "outputs": [],
   "source": [
    "# Example to check if it works (calculation of the exact solution):\n",
    "test_mu = 5\n",
    "u_exact = exact_solution(test_mu/(2*mass), w0, test_in_t_mu[0])\n",
    "#u_exact.view(-1,1)\n",
    "#u_exact.size()\n",
    "#u_exact.numel()\n",
    "#u_exact.dim()\n",
    "#u_exact"
   ]
  },
  {
   "cell_type": "code",
   "execution_count": null,
   "id": "47f8a0ae-39a3-4364-9611-283ecc3833ea",
   "metadata": {
    "execution": {
     "iopub.status.busy": "2024-03-21T18:52:30.854358Z",
     "iopub.status.idle": "2024-03-21T18:52:30.854573Z",
     "shell.execute_reply": "2024-03-21T18:52:30.854474Z",
     "shell.execute_reply.started": "2024-03-21T18:52:30.854464Z"
    }
   },
   "outputs": [],
   "source": [
    "#physic_in_t_mu[0]"
   ]
  },
  {
   "cell_type": "code",
   "execution_count": null,
   "id": "2cb8e88b-e242-4414-bd08-08551277e38e",
   "metadata": {
    "execution": {
     "iopub.status.busy": "2024-03-21T18:52:30.855175Z",
     "iopub.status.idle": "2024-03-21T18:52:30.855383Z",
     "shell.execute_reply": "2024-03-21T18:52:30.855286Z",
     "shell.execute_reply.started": "2024-03-21T18:52:30.855276Z"
    }
   },
   "outputs": [],
   "source": [
    "# Plotting the exact solution:\n",
    "plt.figure(figsize=(10,2.5))\n",
    "plt.plot(\n",
    "        test_in_t_mu[0], \n",
    "        u_exact, \n",
    "        label=\"Exact solution\", \n",
    "        color=\"tab:grey\", \n",
    "        alpha=0.6)\n",
    "plt.scatter(\n",
    "        test_in_t_mu[0], \n",
    "        torch.zeros_like(test_in_t_mu[0]), \n",
    "        s=20, \n",
    "        lw=0, \n",
    "        color=\"tab:green\",\n",
    "        alpha=0.6,\n",
    "        label= \"Seed points (testing)\")\n",
    "plt.scatter(\n",
    "        physic_in_t_mu[0].detach().numpy(), \n",
    "        torch.zeros_like(physic_in_t_mu[0]), \n",
    "        s=20, \n",
    "        lw=0, \n",
    "        color=\"tab:red\",\n",
    "        alpha=0.6,\n",
    "        label= \"Training points\")\n",
    "\n",
    "plt.title(f\"Exact solution \\n u(t=(0,1), $\\mu$ = {test_mu}) using {point_resolution_test} seed points\")\n",
    "plt.legend()\n",
    "plt.show()"
   ]
  },
  {
   "cell_type": "code",
   "execution_count": null,
   "id": "8c1e5ff1-1230-4fae-8dc7-3c584d695376",
   "metadata": {
    "execution": {
     "iopub.status.busy": "2024-03-21T18:52:30.856869Z",
     "iopub.status.idle": "2024-03-21T18:52:30.857092Z",
     "shell.execute_reply": "2024-03-21T18:52:30.856989Z",
     "shell.execute_reply.started": "2024-03-21T18:52:30.856978Z"
    }
   },
   "outputs": [],
   "source": [
    "test_predicted = original_model(test_in_t_constant_mu)\n",
    "        \n",
    "        plt.figure(figsize=(10,2.5))\n",
    "        plt.plot(test_in_t_mu[0].detach().numpy(), \n",
    "                 u_exact, \n",
    "                 label=\"Exact solution\", \n",
    "                 color=\"tab:grey\", \n",
    "                 alpha=0.6\n",
    "        )\n",
    "        plt.plot(\n",
    "                test_in_t_mu[0], \n",
    "                test_predicted[:,0].detach().numpy(), \n",
    "                label=\"PINN solution\", \n",
    "                color=\"tab:green\"\n",
    "        )\n",
    "        plt.scatter(\n",
    "                    physic_in_t_mu[0].detach().numpy(), \n",
    "                    torch.zeros_like(physic_in_t_mu[0]), \n",
    "                    s=20, \n",
    "                    lw=0, \n",
    "                    color=\"tab:red\",\n",
    "                    alpha=0.6,\n",
    "                    label= \"Training points\"\n",
    "        )\n",
    "        plt.scatter(\n",
    "                    test_in_t_mu[0], \n",
    "                    torch.zeros_like(test_in_t_mu[0]), \n",
    "                    s=20, \n",
    "                    lw=0, \n",
    "                    color=\"tab:green\",\n",
    "                    alpha=0.6,\n",
    "                    label= \"Seed points(testing)\"\n",
    "        )\n",
    "        #plt.title(f\"Exact and predicted solution \\n u(t=(0,1), $\\mu$ = {test_mu}), model: {original_model.__class__.__name__}, activation function: {original_model.activation()}, epoch = {i} \\n (learning rate: {learning_rate}, lambda1: {lambda1}, lambda2: {lambda2})\")\n",
    "        plt.grid()\n",
    "        plt.legend()\n",
    "        plt.show()"
   ]
  },
  {
   "cell_type": "code",
   "execution_count": null,
   "id": "5290d472-fd3f-44e4-9c0b-96f0dc2b06a7",
   "metadata": {},
   "outputs": [],
   "source": []
  }
 ],
 "metadata": {
  "kernelspec": {
   "display_name": "Python 3 (ipykernel)",
   "language": "python",
   "name": "python3"
  },
  "language_info": {
   "codemirror_mode": {
    "name": "ipython",
    "version": 3
   },
   "file_extension": ".py",
   "mimetype": "text/x-python",
   "name": "python",
   "nbconvert_exporter": "python",
   "pygments_lexer": "ipython3",
   "version": "3.10.12"
  }
 },
 "nbformat": 4,
 "nbformat_minor": 5
}
