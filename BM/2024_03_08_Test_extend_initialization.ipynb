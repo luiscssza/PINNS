{
 "cells": [
  {
   "cell_type": "markdown",
   "id": "714d8156-5065-4df2-aee4-4d4eea4ffa2c",
   "metadata": {},
   "source": [
    "# AS-II (version 1: 2024.03.08): "
   ]
  },
  {
   "cell_type": "code",
   "execution_count": 7,
   "id": "17298665-6518-46fd-9ce0-5334bd84e5b3",
   "metadata": {
    "execution": {
     "iopub.execute_input": "2024-03-06T16:01:16.106954Z",
     "iopub.status.busy": "2024-03-06T16:01:16.106494Z",
     "iopub.status.idle": "2024-03-06T16:01:16.167983Z",
     "shell.execute_reply": "2024-03-06T16:01:16.166532Z",
     "shell.execute_reply.started": "2024-03-06T16:01:16.106917Z"
    }
   },
   "outputs": [],
   "source": [
    "import os\n",
    "import torch\n",
    "import torch.nn as nn\n",
    "import torch.optim as optim\n",
    "import torch.nn.init as init\n",
    "import matplotlib.pyplot as plt\n",
    "import numpy as np\n",
    "\n",
    "class FCN(nn.Module):\n",
    "    def __init__(self, N_INPUT = 2, hidden_layers = [4], N_OUTPUT = 1, activation='Tanh', initialization='Xavier'):\n",
    "        super().__init__()\n",
    "\n",
    "        self.activation_functions = nn.ModuleDict([\n",
    "            [\"Tanh\", nn.Tanh()],\n",
    "            [\"ReLU\", nn.ReLU()],\n",
    "            [\"LeakyReLU\", nn.LeakyReLU()],\n",
    "            [\"Sigmoid\", nn.Sigmoid()],\n",
    "            [\"Softmax\", nn.Softmax(dim=-1)],\n",
    "        ])\n",
    "\n",
    "        if activation not in self.activation_functions:\n",
    "            raise ValueError(\"Unsupported activation function\")\n",
    "\n",
    "        self.activation = self.activation_functions[activation]\n",
    "\n",
    "        self.fch = nn.ModuleList([\n",
    "            nn.Sequential(\n",
    "                nn.Linear(N_INPUT if i == 0 else hidden_size, hidden_size),\n",
    "                self.activation\n",
    "            ) for i, hidden_size in enumerate(hidden_layers[:])   \n",
    "        ])\n",
    "\n",
    "        self.fco = nn.Linear(hidden_layers[-1], N_OUTPUT)\n",
    "\n",
    "        self.initialize_parameters(initialization)\n",
    "\n",
    "    def forward(self, x):\n",
    "        #x = self.activation(self.fci(x))\n",
    "        for layer in self.fch:\n",
    "            x = self.activation(layer(x))\n",
    "        x = self.fco(x)\n",
    "        return x\n",
    "\n",
    "    def initialize_parameters(self, initialization):\n",
    "        \n",
    "        for module in self.modules():\n",
    "            if isinstance(module, nn.Linear):\n",
    "                if initialization == 'Uniform':\n",
    "                    init.uniform_(module.weight.data, -0.1, 0.1)\n",
    "                    init.zeros_(module.bias.data)\n",
    "                elif initialization == 'Normal':\n",
    "                    init.normal_(module.weight.data, mean=0, std=0.01)\n",
    "                    init.zeros_(module.bias.data)\n",
    "                elif initialization == 'Xavier':\n",
    "                    init.xavier_uniform_(module.weight.data)\n",
    "                    init.zeros_(module.bias.data)\n",
    "                elif initialization == 'He':\n",
    "                    init.kaiming_uniform_(module.weight.data, mode='fan_in', nonlinearity='relu')\n",
    "                    init.zeros_(module.bias.data)\n",
    "                elif initialization == 'Orthogonal':\n",
    "                    init.orthogonal_(module.weight.data)\n",
    "                    init.zeros_(module.bias.data)\n",
    "                elif initialization == 'Kaiming':\n",
    "                    init.kaiming_uniform_(module.weight.data, mode='fan_in', nonlinearity='leaky_relu')\n",
    "                    init.zeros_(module.bias.data)\n",
    "                else:\n",
    "                    raise ValueError(\"Unsupported initialization type\")\n",
    "    \n",
    "    def plot_weights(self, fig_size = (10,5), font_size = 8):\n",
    "        \n",
    "        self.fig_size = fig_size\n",
    "        self.font_size = font_size\n",
    "        \n",
    "        weights_biases_dict = self.state_dict()\n",
    "        \n",
    "        # Definition of columns, rows and subplots\n",
    "        num_subplots = len(weights_biases_dict)\n",
    "        num_cols = 2\n",
    "        num_rows = (num_subplots + num_cols - 1) // num_cols  \n",
    "        \n",
    "        # For colorbar (collect minimum and maximum values across all tensors)\n",
    "        all_values = np.concatenate([tensor.flatten() for tensor in weights_biases_dict.values()])\n",
    "        min_val = round(all_values.min(), 2)\n",
    "        max_val = round(all_values.max(), 2)\n",
    "        \n",
    "        # Create subplots\n",
    "        fig, axs = plt.subplots(num_rows, num_cols, figsize = self.fig_size)\n",
    "        \n",
    "        # Plot images and add values in each subplot\n",
    "        for i, (key, tensor) in enumerate(weights_biases_dict.items()):\n",
    "            row = i // num_cols\n",
    "            col = i % num_cols\n",
    "            ax = axs[row, col]\n",
    "            if 'weight' in key:\n",
    "                im = ax.imshow(tensor, cmap='viridis',vmin=min_val, vmax=max_val, interpolation='none')\n",
    "                ax.set_title(f'{key}', fontsize = self.font_size)\n",
    "            elif 'bias' in key:\n",
    "                im = ax.imshow(tensor.unsqueeze(0), cmap='viridis', vmin=min_val, vmax=max_val, interpolation='none')\n",
    "                ax.set_title(f'{key}', fontsize = self.font_size)\n",
    "            #ax.axis('off')\n",
    "            \n",
    "            # If the data is 1D (possibly biases), reshape them to (1, len(data))\n",
    "            if len(tensor.shape) == 1:\n",
    "                tensor = tensor.reshape(1, -1)\n",
    "\n",
    "            # Add xticks and yticks\n",
    "            ax.set_xticks(np.arange(0, tensor.shape[1] , step=1))  \n",
    "            ax.tick_params(axis='x', labelsize = self.font_size)\n",
    "            ax.set_yticks(np.arange(0, tensor.shape[0] , step=1))\n",
    "            ax.tick_params(axis='y', labelsize = self.font_size)\n",
    "\n",
    "           \n",
    "            # Add values in the middle of the cell\n",
    "            for y in range(tensor.shape[0]):\n",
    "                for x in range(tensor.shape[1]):\n",
    "                    value = tensor[y, x]\n",
    "                    ax.text(x, y, f'{value:.2f}', fontsize = self.font_size, color='white', ha='center', va='center')\n",
    "            \n",
    "         # Hide extra subplots\n",
    "        for i in range(num_subplots, num_rows * num_cols):\n",
    "            axs.flatten()[i].axis('off')\n",
    "            \n",
    "        # Add a title to the figure\n",
    "        plt.suptitle('Weights and Biases of the Neural Network', fontsize = self.font_size)\n",
    "        \n",
    "        # Add a colorbar\n",
    "            # Set custom ticks and intervals\n",
    "        tick_interval = 0.2\n",
    "        ticks = np.arange(min_val, max_val, step=tick_interval)\n",
    "\n",
    "        cbar_ax = fig.add_axes([0.25, 0.05, 0.5, 0.01])  # [left, bottom, width, height]\n",
    "        cbar = fig.colorbar(im, cax=cbar_ax, orientation='horizontal', ticks = ticks)\n",
    "        cbar.ax.tick_params(labelsize = self.font_size)\n",
    "        \n",
    "        cbar.set_label('Range of Weights and Biases', fontsize= self.font_size) \n",
    "        \n",
    "        # Show the plots\n",
    "        plt.show()\n",
    "\n",
    "class FCN_extended(FCN):\n",
    "    def __init__(self, N_INPUT, hidden_layers, N_OUTPUT, activation='Tanh', initialization='Xavier', original_model_path=None):\n",
    "        super().__init__(N_INPUT, hidden_layers, N_OUTPUT, activation, initialization)\n",
    "\n",
    "        #self.initialize_parameters(initialization)\n",
    "        \n",
    "        self.original_model_path = original_model_path\n",
    "        self.original_state_dict = self.load_original_state_dict()\n",
    "\n",
    "        self.extend_layers_neurons()\n",
    "        \n",
    "    def extend_layers_neurons(self):\n",
    "        #current_model.initialize_parameters(initialization)  # Initialize current model first\n",
    "        for name, param in self.named_parameters():\n",
    "            \n",
    "            if name in self.original_state_dict:                \n",
    "                original_param = self.original_state_dict[name]\n",
    "                \n",
    "                if param.shape == original_param.shape:                    \n",
    "                    param.data.copy_(original_param)   \n",
    "                    \n",
    "                else:\n",
    "                    \n",
    "                    if \"weight\" in name: \n",
    "                        if param.shape != original_param.shape:  \n",
    "                            # Copy matching portion of old weights                     \n",
    "                            param.data[:original_param.size(0), :original_param.size(1)].copy_(original_param)\n",
    "                        \n",
    "                        elif param.size(0) != original_param.size(0): \n",
    "                            # Copy matching portion of old weights                           \n",
    "                            param.data[:original_param.size(0), :].copy_(original_param)                           \n",
    "                        \n",
    "                        elif param.size(0) != original_param.size(0) and \"fc0\" in name:                            \n",
    "                            param.data[0,:original_param.size(1)].copy_(original_param[0]) \n",
    "               \n",
    "                    if \"bias\" in name: \n",
    "                        if param.size(0) != original_param.size(0):  \n",
    "                            # Copy matching portion of old weights\n",
    "                            param.data[:original_param.size(0)].copy_(original_param)\n",
    "                        else:\n",
    "                            param.data.copy_(original_param)     \n",
    "    \n",
    "    def load_original_state_dict(self):\n",
    "        if self.original_model_path is None:\n",
    "            raise ValueError(\"Path to the original model checkpoint is not provided.\")\n",
    "\n",
    "        if not os.path.exists(self.original_model_path):\n",
    "            raise FileNotFoundError(f\"Provided path '{self.original_model_path}' does not exist.\")\n",
    "\n",
    "        if not os.path.isfile(self.original_model_path):\n",
    "            raise ValueError(f\"Provided path '{self.original_model_path}' is not a file.\")\n",
    "\n",
    "        _, ext = os.path.splitext(self.original_model_path)\n",
    "        if ext not in ['.pt', '.pth']:\n",
    "            raise ValueError(\"Provided file is not a valid checkpoint file.\")\n",
    "        \n",
    "        # Load weights and biases from original_model\n",
    "        return torch.load(self.original_model_path)['model_state_dict']\n",
    "\n",
    "class TrainModel:\n",
    "    def __init__(self, model, num_epochs, save_interval, loss_threshold=None):\n",
    "        self.model = model\n",
    "        self.num_epochs = num_epochs\n",
    "        self.save_interval = save_interval\n",
    "        self.loss_threshold = loss_threshold\n",
    "        self.train()\n",
    "        \n",
    "    def train(self):\n",
    "        optimizer = optim.Adam(self.model.parameters())\n",
    "        criterion = nn.MSELoss()\n",
    "\n",
    "        for epoch in range(1, self.num_epochs + 1):\n",
    "            # Train the model\n",
    "            optimizer.zero_grad()\n",
    "            # Forward pass\n",
    "            outputs = self.model(torch.randn(10, original_input_size))\n",
    "            # Compute loss\n",
    "            loss = criterion(outputs, torch.randn(10, original_output_size))\n",
    "            # Backward pass\n",
    "            loss.backward()\n",
    "            optimizer.step()\n",
    "\n",
    "            # Save model checkpoint\n",
    "            if epoch % self.save_interval == 0:\n",
    "                torch.save({\n",
    "                    'epoch': epoch,\n",
    "                    'model_state_dict': self.model.state_dict(),\n",
    "                    'optimizer_state_dict': optimizer.state_dict(),\n",
    "                    'loss': loss\n",
    "                }, f\"original_model_{epoch}.pt\")\n",
    "\n",
    "            # Check loss threshold\n",
    "            if self.loss_threshold is not None and loss.item() < self.loss_threshold:\n",
    "                print(f\"Loss threshold reached at epoch {epoch}. Stopping training.\")\n",
    "                break\n"
   ]
  },
  {
   "cell_type": "code",
   "execution_count": 8,
   "id": "516396f8-1793-4475-a2dd-09a93012cbcf",
   "metadata": {
    "execution": {
     "iopub.execute_input": "2024-03-06T16:01:18.406614Z",
     "iopub.status.busy": "2024-03-06T16:01:18.406165Z",
     "iopub.status.idle": "2024-03-06T16:01:18.415057Z",
     "shell.execute_reply": "2024-03-06T16:01:18.413518Z",
     "shell.execute_reply.started": "2024-03-06T16:01:18.406576Z"
    }
   },
   "outputs": [],
   "source": [
    "# Usage example\n",
    "original_input_size = 2\n",
    "original_hidden_layers = [4]\n",
    "original_output_size = 1\n",
    "original_model = FCN(original_input_size, original_hidden_layers, original_output_size, activation='Tanh', initialization='Xavier')"
   ]
  },
  {
   "cell_type": "code",
   "execution_count": 9,
   "id": "f67d182e-31b4-40d9-8c32-d697135c1277",
   "metadata": {
    "execution": {
     "iopub.execute_input": "2024-03-06T16:01:22.025741Z",
     "iopub.status.busy": "2024-03-06T16:01:22.025293Z",
     "iopub.status.idle": "2024-03-06T16:01:22.365926Z",
     "shell.execute_reply": "2024-03-06T16:01:22.364858Z",
     "shell.execute_reply.started": "2024-03-06T16:01:22.025705Z"
    }
   },
   "outputs": [
    {
     "data": {
      "image/png": "[encoded data removed]",
      "text/plain": [
       "<Figure size 1000x500 with 5 Axes>"
      ]
     },
     "metadata": {},
     "output_type": "display_data"
    }
   ],
   "source": [
    "original_model.plot_weights(fig_size = (10,5), font_size = 8)"
   ]
  },
  {
   "cell_type": "code",
   "execution_count": 10,
   "id": "44743663-86fa-4402-8bef-84851d2fdea7",
   "metadata": {
    "execution": {
     "iopub.execute_input": "2024-03-06T16:01:33.504239Z",
     "iopub.status.busy": "2024-03-06T16:01:33.503757Z",
     "iopub.status.idle": "2024-03-06T16:01:34.089858Z",
     "shell.execute_reply": "2024-03-06T16:01:34.088764Z",
     "shell.execute_reply.started": "2024-03-06T16:01:33.504201Z"
    }
   },
   "outputs": [
    {
     "data": {
      "text/plain": [
       "<__main__.TrainModel at 0x7fa2c53bd720>"
      ]
     },
     "execution_count": 10,
     "metadata": {},
     "output_type": "execute_result"
    }
   ],
   "source": [
    "# Train original model\n",
    "TrainModel(original_model, num_epochs=1000, save_interval=100, loss_threshold=0.01)"
   ]
  },
  {
   "cell_type": "code",
   "execution_count": 11,
   "id": "1fd800ad-3e6b-4201-b03b-6c2e3a430d24",
   "metadata": {
    "execution": {
     "iopub.execute_input": "2024-03-06T16:02:01.437852Z",
     "iopub.status.busy": "2024-03-06T16:02:01.437302Z",
     "iopub.status.idle": "2024-03-06T16:02:01.780369Z",
     "shell.execute_reply": "2024-03-06T16:02:01.779383Z",
     "shell.execute_reply.started": "2024-03-06T16:02:01.437813Z"
    }
   },
   "outputs": [
    {
     "data": {
      "image/png": "[encoded data removed]",
      "text/plain": [
       "<Figure size 1000x500 with 5 Axes>"
      ]
     },
     "metadata": {},
     "output_type": "display_data"
    }
   ],
   "source": [
    "original_model.plot_weights(fig_size = (10,5), font_size = 8)"
   ]
  },
  {
   "cell_type": "code",
   "execution_count": null,
   "id": "1deb5e4c-c3d8-4484-b669-1fbc1a5db4b2",
   "metadata": {},
   "outputs": [],
   "source": [
    "# Create extended model\n",
    "extended_input_size = 2\n",
    "extended_hidden_layers = [4,4]\n",
    "extended_output_size = 1\n",
    "extended_model = FCN_extended(extended_input_size, extended_hidden_layers, extended_output_size, activation='Tanh', initialization='Xavier', original_model_path='original_model_1000.pt')"
   ]
  },
  {
   "cell_type": "code",
   "execution_count": null,
   "id": "78dad87c-d8ef-4642-b503-51a97525b123",
   "metadata": {},
   "outputs": [],
   "source": [
    "extended_model.plot_weights(fig_size = (10,5), font_size = 8)"
   ]
  },
  {
   "cell_type": "code",
   "execution_count": null,
   "id": "608135ec-8068-41d8-aec7-990ec7a0b9a0",
   "metadata": {},
   "outputs": [],
   "source": [
    "# Train original model\n",
    "train_extended_model = TrainModel(extended_model, num_epochs=1000, save_interval=100, loss_threshold=0.01)"
   ]
  },
  {
   "cell_type": "code",
   "execution_count": null,
   "id": "4c1198da-2e43-4e22-9e73-6aeff0313835",
   "metadata": {},
   "outputs": [],
   "source": [
    "extended_model.plot_weights(fig_size= (10,5), font_size = 8)"
   ]
  },
  {
   "cell_type": "code",
   "execution_count": null,
   "id": "f82d9ea4-c177-467f-9971-ffbe6580745b",
   "metadata": {},
   "outputs": [],
   "source": [
    "# Create extended model\n",
    "extended1_input_size = 2\n",
    "extended1_hidden_layers = [8,8]\n",
    "extended1_output_size = 1\n",
    "extended1_model = FCN_extended(extended1_input_size, extended1_hidden_layers, extended1_output_size, activation='Tanh', initialization='Xavier', original_model_path='original_model_1000.pt')"
   ]
  },
  {
   "cell_type": "code",
   "execution_count": null,
   "id": "4ce2aad3-ad7a-4473-9c8e-23fb4fca23af",
   "metadata": {},
   "outputs": [],
   "source": [
    "extended1_model.plot_weights(fig_size= (15,10), font_size = 6)"
   ]
  },
  {
   "cell_type": "code",
   "execution_count": null,
   "id": "52d14029-73c5-4d19-ad1f-81320f234226",
   "metadata": {},
   "outputs": [],
   "source": [
    "# Train original model\n",
    "train_extended1_model = TrainModel(extended1_model, num_epochs=1000, save_interval=100, loss_threshold=0.01)"
   ]
  },
  {
   "cell_type": "code",
   "execution_count": null,
   "id": "f96b3746-2ee7-477c-a387-8ef390711977",
   "metadata": {},
   "outputs": [],
   "source": [
    "extended1_model.plot_weights(fig_size= (15,10), font_size = 6)"
   ]
  },
  {
   "cell_type": "code",
   "execution_count": null,
   "id": "674e35ca-f4b0-4fcd-b4b6-ab24e6f900d2",
   "metadata": {},
   "outputs": [],
   "source": [
    "# Create extended model\n",
    "extended2_input_size = 2\n",
    "extended2_hidden_layers = [16,16,16,16]\n",
    "extended2_output_size = 1\n",
    "extended2_model = FCN_extended(extended2_input_size, extended2_hidden_layers, extended2_output_size, activation='Tanh', initialization='Xavier', original_model_path='original_model_1000.pt')"
   ]
  },
  {
   "cell_type": "code",
   "execution_count": null,
   "id": "a99ecedd-fabe-4da6-b82e-37a13ad829f8",
   "metadata": {},
   "outputs": [],
   "source": [
    "extended2_model.plot_weights(fig_size= (15,40), font_size = 8)"
   ]
  },
  {
   "cell_type": "code",
   "execution_count": null,
   "id": "2e04167b-3f3b-4928-b73f-2abfcb16cbc4",
   "metadata": {},
   "outputs": [],
   "source": []
  }
 ],
 "metadata": {
  "kernelspec": {
   "display_name": "Python 3 (ipykernel)",
   "language": "python",
   "name": "python3"
  },
  "language_info": {
   "codemirror_mode": {
    "name": "ipython",
    "version": 3
   },
   "file_extension": ".py",
   "mimetype": "text/x-python",
   "name": "python",
   "nbconvert_exporter": "python",
   "pygments_lexer": "ipython3",
   "version": "3.10.12"
  }
 },
 "nbformat": 4,
 "nbformat_minor": 5
}
