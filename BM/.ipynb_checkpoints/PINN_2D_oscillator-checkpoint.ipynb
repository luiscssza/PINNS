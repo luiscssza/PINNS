{
 "cells": [
  {
   "cell_type": "markdown",
   "id": "8290e9ed-496b-4c4d-8389-a32d0600ca15",
   "metadata": {},
   "source": [
    "## PINN_2D_oscillator.ipynb"
   ]
  },
  {
   "cell_type": "markdown",
   "id": "86388dfa-76e0-4aa7-a6cc-920dc21a6b0a",
   "metadata": {},
   "source": [
    "## 2D time-dependent Burgers equation\n",
    "The example problem we solve here is the 2D time-dependent Burgers equations as example for the 2D damped harmonic oscillator:\n",
    "$$\n",
    "\\dfrac{d u}{dt} + u * \\dfrac{d u}{d x} = \\nu * \\dfrac{d^2 u}{d^2 x} ,\n",
    "$$\n",
    "in the interval:\n",
    "$$\n",
    "-1 < x < 1~~~,~~~ 0 < t\n",
    "$$\n",
    "with the initial and boundary conditions:\n",
    "$$\n",
    "u(x,0) = \\sin(\\pi * x), ~~~ u(-1,t) = u(+1,t) = 0\n",
    "$$\n",
    "This problem is taken from the original PINN paper: https://maziarraissi.github.io/PINNs/"
   ]
  },
  {
   "cell_type": "markdown",
   "id": "70c6ea64-c01e-4356-bd20-7c66ecc04f0c",
   "metadata": {},
   "source": [
    "### Import all what you need:"
   ]
  },
  {
   "cell_type": "code",
   "execution_count": 1,
   "id": "4b049d77-1704-4ebf-a913-86cb5ffaf3dd",
   "metadata": {},
   "outputs": [],
   "source": [
    "import numpy as np\n",
    "import torch\n",
    "import torch.nn as nn\n",
    "import matplotlib.pyplot as plt"
   ]
  },
  {
   "cell_type": "markdown",
   "id": "2e352794-1077-42eb-830a-1e04b09ed114",
   "metadata": {},
   "source": [
    "### Generate boundary training points:"
   ]
  },
  {
   "cell_type": "code",
   "execution_count": 2,
   "id": "a4980deb-c863-4a9b-aa83-1e03274c8a76",
   "metadata": {},
   "outputs": [
    {
     "name": "stdout",
     "output_type": "stream",
     "text": [
      "torch.Size([40, 2]) torch.Size([40, 1])\n"
     ]
    },
    {
     "data": {
      "text/plain": [
       "tensor([[-1.0000,  0.0000],\n",
       "        [-1.0000,  0.0256],\n",
       "        [-1.0000,  0.0513],\n",
       "        [-1.0000,  0.0769],\n",
       "        [-1.0000,  0.1026],\n",
       "        [-1.0000,  0.1282],\n",
       "        [-1.0000,  0.1538],\n",
       "        [-1.0000,  0.1795],\n",
       "        [-1.0000,  0.2051],\n",
       "        [-1.0000,  0.2308],\n",
       "        [-1.0000,  0.2564],\n",
       "        [-1.0000,  0.2821],\n",
       "        [-1.0000,  0.3077],\n",
       "        [-1.0000,  0.3333],\n",
       "        [-1.0000,  0.3590],\n",
       "        [-1.0000,  0.3846],\n",
       "        [-1.0000,  0.4103],\n",
       "        [-1.0000,  0.4359],\n",
       "        [-1.0000,  0.4615],\n",
       "        [-1.0000,  0.4872],\n",
       "        [-1.0000,  0.5128],\n",
       "        [-1.0000,  0.5385],\n",
       "        [-1.0000,  0.5641],\n",
       "        [-1.0000,  0.5897],\n",
       "        [-1.0000,  0.6154],\n",
       "        [-1.0000,  0.6410],\n",
       "        [-1.0000,  0.6667],\n",
       "        [-1.0000,  0.6923],\n",
       "        [-1.0000,  0.7179],\n",
       "        [-1.0000,  0.7436],\n",
       "        [-1.0000,  0.7692],\n",
       "        [-1.0000,  0.7949],\n",
       "        [-1.0000,  0.8205],\n",
       "        [-1.0000,  0.8462],\n",
       "        [-1.0000,  0.8718],\n",
       "        [-1.0000,  0.8974],\n",
       "        [-1.0000,  0.9231],\n",
       "        [-1.0000,  0.9487],\n",
       "        [-1.0000,  0.9744],\n",
       "        [-1.0000,  1.0000]])"
      ]
     },
     "execution_count": 2,
     "metadata": {},
     "output_type": "execute_result"
    }
   ],
   "source": [
    "x1 = torch.stack([-torch.ones(40), torch.linspace(0,1,40)],-1)\n",
    "u1 = torch.zeros_like(x1[:,0:1])\n",
    "print(x1.shape, u1.shape)\n",
    "x1"
   ]
  },
  {
   "cell_type": "code",
   "execution_count": 3,
   "id": "a3204a7a-d005-4c74-9036-1557955e2b81",
   "metadata": {},
   "outputs": [
    {
     "data": {
      "text/plain": [
       "tensor([[0.],\n",
       "        [0.],\n",
       "        [0.],\n",
       "        [0.],\n",
       "        [0.],\n",
       "        [0.],\n",
       "        [0.],\n",
       "        [0.],\n",
       "        [0.],\n",
       "        [0.],\n",
       "        [0.],\n",
       "        [0.],\n",
       "        [0.],\n",
       "        [0.],\n",
       "        [0.],\n",
       "        [0.],\n",
       "        [0.],\n",
       "        [0.],\n",
       "        [0.],\n",
       "        [0.],\n",
       "        [0.],\n",
       "        [0.],\n",
       "        [0.],\n",
       "        [0.],\n",
       "        [0.],\n",
       "        [0.],\n",
       "        [0.],\n",
       "        [0.],\n",
       "        [0.],\n",
       "        [0.],\n",
       "        [0.],\n",
       "        [0.],\n",
       "        [0.],\n",
       "        [0.],\n",
       "        [0.],\n",
       "        [0.],\n",
       "        [0.],\n",
       "        [0.],\n",
       "        [0.],\n",
       "        [0.]])"
      ]
     },
     "execution_count": 3,
     "metadata": {},
     "output_type": "execute_result"
    }
   ],
   "source": [
    "u1"
   ]
  },
  {
   "cell_type": "code",
   "execution_count": 4,
   "id": "239ab33e-f78d-4fdb-a122-bd216a266c3a",
   "metadata": {},
   "outputs": [
    {
     "name": "stdout",
     "output_type": "stream",
     "text": [
      "torch.Size([40, 2]) torch.Size([40, 1])\n"
     ]
    },
    {
     "data": {
      "text/plain": [
       "tensor([[1.0000, 0.0000],\n",
       "        [1.0000, 0.0256],\n",
       "        [1.0000, 0.0513],\n",
       "        [1.0000, 0.0769],\n",
       "        [1.0000, 0.1026],\n",
       "        [1.0000, 0.1282],\n",
       "        [1.0000, 0.1538],\n",
       "        [1.0000, 0.1795],\n",
       "        [1.0000, 0.2051],\n",
       "        [1.0000, 0.2308],\n",
       "        [1.0000, 0.2564],\n",
       "        [1.0000, 0.2821],\n",
       "        [1.0000, 0.3077],\n",
       "        [1.0000, 0.3333],\n",
       "        [1.0000, 0.3590],\n",
       "        [1.0000, 0.3846],\n",
       "        [1.0000, 0.4103],\n",
       "        [1.0000, 0.4359],\n",
       "        [1.0000, 0.4615],\n",
       "        [1.0000, 0.4872],\n",
       "        [1.0000, 0.5128],\n",
       "        [1.0000, 0.5385],\n",
       "        [1.0000, 0.5641],\n",
       "        [1.0000, 0.5897],\n",
       "        [1.0000, 0.6154],\n",
       "        [1.0000, 0.6410],\n",
       "        [1.0000, 0.6667],\n",
       "        [1.0000, 0.6923],\n",
       "        [1.0000, 0.7179],\n",
       "        [1.0000, 0.7436],\n",
       "        [1.0000, 0.7692],\n",
       "        [1.0000, 0.7949],\n",
       "        [1.0000, 0.8205],\n",
       "        [1.0000, 0.8462],\n",
       "        [1.0000, 0.8718],\n",
       "        [1.0000, 0.8974],\n",
       "        [1.0000, 0.9231],\n",
       "        [1.0000, 0.9487],\n",
       "        [1.0000, 0.9744],\n",
       "        [1.0000, 1.0000]])"
      ]
     },
     "execution_count": 4,
     "metadata": {},
     "output_type": "execute_result"
    }
   ],
   "source": [
    "x2 = torch.stack([torch.ones(40), torch.linspace(0,1,40)],-1)\n",
    "u2 = torch.zeros_like(x2[:,0:1])\n",
    "print(x2.shape, u2.shape)\n",
    "x2"
   ]
  },
  {
   "cell_type": "code",
   "execution_count": 5,
   "id": "f33294c9-8635-4163-965b-a4f55c7e8040",
   "metadata": {},
   "outputs": [
    {
     "data": {
      "text/plain": [
       "tensor([[0.],\n",
       "        [0.],\n",
       "        [0.],\n",
       "        [0.],\n",
       "        [0.],\n",
       "        [0.],\n",
       "        [0.],\n",
       "        [0.],\n",
       "        [0.],\n",
       "        [0.],\n",
       "        [0.],\n",
       "        [0.],\n",
       "        [0.],\n",
       "        [0.],\n",
       "        [0.],\n",
       "        [0.],\n",
       "        [0.],\n",
       "        [0.],\n",
       "        [0.],\n",
       "        [0.],\n",
       "        [0.],\n",
       "        [0.],\n",
       "        [0.],\n",
       "        [0.],\n",
       "        [0.],\n",
       "        [0.],\n",
       "        [0.],\n",
       "        [0.],\n",
       "        [0.],\n",
       "        [0.],\n",
       "        [0.],\n",
       "        [0.],\n",
       "        [0.],\n",
       "        [0.],\n",
       "        [0.],\n",
       "        [0.],\n",
       "        [0.],\n",
       "        [0.],\n",
       "        [0.],\n",
       "        [0.]])"
      ]
     },
     "execution_count": 5,
     "metadata": {},
     "output_type": "execute_result"
    }
   ],
   "source": [
    "u2"
   ]
  },
  {
   "cell_type": "code",
   "execution_count": 6,
   "id": "4d50ca32-55ac-4d92-b5c3-2b9d3f4dd2a7",
   "metadata": {},
   "outputs": [
    {
     "name": "stdout",
     "output_type": "stream",
     "text": [
      "torch.Size([40, 2]) torch.Size([40, 1])\n"
     ]
    },
    {
     "data": {
      "text/plain": [
       "tensor([[-1.0000,  0.0000],\n",
       "        [-0.9487,  0.0000],\n",
       "        [-0.8974,  0.0000],\n",
       "        [-0.8462,  0.0000],\n",
       "        [-0.7949,  0.0000],\n",
       "        [-0.7436,  0.0000],\n",
       "        [-0.6923,  0.0000],\n",
       "        [-0.6410,  0.0000],\n",
       "        [-0.5897,  0.0000],\n",
       "        [-0.5385,  0.0000],\n",
       "        [-0.4872,  0.0000],\n",
       "        [-0.4359,  0.0000],\n",
       "        [-0.3846,  0.0000],\n",
       "        [-0.3333,  0.0000],\n",
       "        [-0.2821,  0.0000],\n",
       "        [-0.2308,  0.0000],\n",
       "        [-0.1795,  0.0000],\n",
       "        [-0.1282,  0.0000],\n",
       "        [-0.0769,  0.0000],\n",
       "        [-0.0256,  0.0000],\n",
       "        [ 0.0256,  0.0000],\n",
       "        [ 0.0769,  0.0000],\n",
       "        [ 0.1282,  0.0000],\n",
       "        [ 0.1795,  0.0000],\n",
       "        [ 0.2308,  0.0000],\n",
       "        [ 0.2821,  0.0000],\n",
       "        [ 0.3333,  0.0000],\n",
       "        [ 0.3846,  0.0000],\n",
       "        [ 0.4359,  0.0000],\n",
       "        [ 0.4872,  0.0000],\n",
       "        [ 0.5385,  0.0000],\n",
       "        [ 0.5897,  0.0000],\n",
       "        [ 0.6410,  0.0000],\n",
       "        [ 0.6923,  0.0000],\n",
       "        [ 0.7436,  0.0000],\n",
       "        [ 0.7949,  0.0000],\n",
       "        [ 0.8462,  0.0000],\n",
       "        [ 0.8974,  0.0000],\n",
       "        [ 0.9487,  0.0000],\n",
       "        [ 1.0000,  0.0000]])"
      ]
     },
     "execution_count": 6,
     "metadata": {},
     "output_type": "execute_result"
    }
   ],
   "source": [
    "x3 = torch.stack([torch.linspace(-1,1,40), torch.zeros(40)],-1)\n",
    "u3 = -torch.sin(np.pi*x3[:,0:1])\n",
    "print(x3.shape, u3.shape)\n",
    "x3"
   ]
  },
  {
   "cell_type": "code",
   "execution_count": 7,
   "id": "a86bfd4a-fffb-4d25-8abf-89c7dc0b3478",
   "metadata": {},
   "outputs": [
    {
     "data": {
      "text/plain": [
       "tensor([[-8.7423e-08],\n",
       "        [ 1.6041e-01],\n",
       "        [ 3.1667e-01],\n",
       "        [ 4.6472e-01],\n",
       "        [ 6.0074e-01],\n",
       "        [ 7.2120e-01],\n",
       "        [ 8.2298e-01],\n",
       "        [ 9.0345e-01],\n",
       "        [ 9.6052e-01],\n",
       "        [ 9.9271e-01],\n",
       "        [ 9.9919e-01],\n",
       "        [ 9.7979e-01],\n",
       "        [ 9.3502e-01],\n",
       "        [ 8.6603e-01],\n",
       "        [ 7.7460e-01],\n",
       "        [ 6.6312e-01],\n",
       "        [ 5.3447e-01],\n",
       "        [ 3.9197e-01],\n",
       "        [ 2.3932e-01],\n",
       "        [ 8.0467e-02],\n",
       "        [-8.0467e-02],\n",
       "        [-2.3932e-01],\n",
       "        [-3.9197e-01],\n",
       "        [-5.3447e-01],\n",
       "        [-6.6312e-01],\n",
       "        [-7.7460e-01],\n",
       "        [-8.6603e-01],\n",
       "        [-9.3502e-01],\n",
       "        [-9.7979e-01],\n",
       "        [-9.9919e-01],\n",
       "        [-9.9271e-01],\n",
       "        [-9.6052e-01],\n",
       "        [-9.0345e-01],\n",
       "        [-8.2298e-01],\n",
       "        [-7.2120e-01],\n",
       "        [-6.0074e-01],\n",
       "        [-4.6472e-01],\n",
       "        [-3.1667e-01],\n",
       "        [-1.6041e-01],\n",
       "        [ 8.7423e-08]])"
      ]
     },
     "execution_count": 7,
     "metadata": {},
     "output_type": "execute_result"
    }
   ],
   "source": [
    "u3"
   ]
  },
  {
   "cell_type": "code",
   "execution_count": 8,
   "id": "1b32ffd9-c21f-4edd-af8a-5fd02535d6f9",
   "metadata": {},
   "outputs": [
    {
     "data": {
      "text/plain": [
       "[tensor([-1.0000, -0.9487, -0.8974, -0.8462, -0.7949, -0.7436, -0.6923, -0.6410,\n",
       "         -0.5897, -0.5385, -0.4872, -0.4359, -0.3846, -0.3333, -0.2821, -0.2308,\n",
       "         -0.1795, -0.1282, -0.0769, -0.0256,  0.0256,  0.0769,  0.1282,  0.1795,\n",
       "          0.2308,  0.2821,  0.3333,  0.3846,  0.4359,  0.4872,  0.5385,  0.5897,\n",
       "          0.6410,  0.6923,  0.7436,  0.7949,  0.8462,  0.8974,  0.9487,  1.0000]),\n",
       " tensor([0.0000, 0.0256, 0.0513, 0.0769, 0.1026, 0.1282, 0.1538, 0.1795, 0.2051,\n",
       "         0.2308, 0.2564, 0.2821, 0.3077, 0.3333, 0.3590, 0.3846, 0.4103, 0.4359,\n",
       "         0.4615, 0.4872, 0.5128, 0.5385, 0.5641, 0.5897, 0.6154, 0.6410, 0.6667,\n",
       "         0.6923, 0.7179, 0.7436, 0.7692, 0.7949, 0.8205, 0.8462, 0.8718, 0.8974,\n",
       "         0.9231, 0.9487, 0.9744, 1.0000])]"
      ]
     },
     "execution_count": 8,
     "metadata": {},
     "output_type": "execute_result"
    }
   ],
   "source": [
    "### Generate physic loss sample points:\n",
    "# get physics loss sample points over full domain\n",
    "xs = [torch.linspace(-1,1,40), torch.linspace(0,1,40)]\n",
    "xs"
   ]
  },
  {
   "cell_type": "code",
   "execution_count": 9,
   "id": "01171dad-384d-4b55-87d7-6e2d250970a5",
   "metadata": {},
   "outputs": [
    {
     "name": "stdout",
     "output_type": "stream",
     "text": [
      "torch.Size([1600, 2])\n"
     ]
    },
    {
     "data": {
      "text/plain": [
       "tensor([[-1.0000,  0.0000],\n",
       "        [-1.0000,  0.0256],\n",
       "        [-1.0000,  0.0513],\n",
       "        ...,\n",
       "        [ 1.0000,  0.9487],\n",
       "        [ 1.0000,  0.9744],\n",
       "        [ 1.0000,  1.0000]], requires_grad=True)"
      ]
     },
     "execution_count": 9,
     "metadata": {},
     "output_type": "execute_result"
    }
   ],
   "source": [
    "x_physics = torch.stack(torch.meshgrid(*xs, indexing='ij'), -1).view(-1, 2).requires_grad_(True)\n",
    "print(x_physics.shape)\n",
    "x_physics"
   ]
  },
  {
   "cell_type": "code",
   "execution_count": 10,
   "id": "11297850-0567-4fc6-b083-82f5f9734b37",
   "metadata": {},
   "outputs": [
    {
     "data": {
      "text/plain": [
       "[tensor([-1.0000, -0.9798, -0.9596, -0.9394, -0.9192, -0.8990, -0.8788, -0.8586,\n",
       "         -0.8384, -0.8182, -0.7980, -0.7778, -0.7576, -0.7374, -0.7172, -0.6970,\n",
       "         -0.6768, -0.6566, -0.6364, -0.6162, -0.5960, -0.5758, -0.5556, -0.5354,\n",
       "         -0.5152, -0.4949, -0.4747, -0.4545, -0.4343, -0.4141, -0.3939, -0.3737,\n",
       "         -0.3535, -0.3333, -0.3131, -0.2929, -0.2727, -0.2525, -0.2323, -0.2121,\n",
       "         -0.1919, -0.1717, -0.1515, -0.1313, -0.1111, -0.0909, -0.0707, -0.0505,\n",
       "         -0.0303, -0.0101,  0.0101,  0.0303,  0.0505,  0.0707,  0.0909,  0.1111,\n",
       "          0.1313,  0.1515,  0.1717,  0.1919,  0.2121,  0.2323,  0.2525,  0.2727,\n",
       "          0.2929,  0.3131,  0.3333,  0.3535,  0.3737,  0.3939,  0.4141,  0.4343,\n",
       "          0.4545,  0.4747,  0.4949,  0.5152,  0.5354,  0.5556,  0.5758,  0.5960,\n",
       "          0.6162,  0.6364,  0.6566,  0.6768,  0.6970,  0.7172,  0.7374,  0.7576,\n",
       "          0.7778,  0.7980,  0.8182,  0.8384,  0.8586,  0.8788,  0.8990,  0.9192,\n",
       "          0.9394,  0.9596,  0.9798,  1.0000]),\n",
       " tensor([0.0000, 0.0101, 0.0202, 0.0303, 0.0404, 0.0505, 0.0606, 0.0707, 0.0808,\n",
       "         0.0909, 0.1010, 0.1111, 0.1212, 0.1313, 0.1414, 0.1515, 0.1616, 0.1717,\n",
       "         0.1818, 0.1919, 0.2020, 0.2121, 0.2222, 0.2323, 0.2424, 0.2525, 0.2626,\n",
       "         0.2727, 0.2828, 0.2929, 0.3030, 0.3131, 0.3232, 0.3333, 0.3434, 0.3535,\n",
       "         0.3636, 0.3737, 0.3838, 0.3939, 0.4040, 0.4141, 0.4242, 0.4343, 0.4444,\n",
       "         0.4545, 0.4646, 0.4747, 0.4848, 0.4949, 0.5051, 0.5152, 0.5253, 0.5354,\n",
       "         0.5455, 0.5556, 0.5657, 0.5758, 0.5859, 0.5960, 0.6061, 0.6162, 0.6263,\n",
       "         0.6364, 0.6465, 0.6566, 0.6667, 0.6768, 0.6869, 0.6970, 0.7071, 0.7172,\n",
       "         0.7273, 0.7374, 0.7475, 0.7576, 0.7677, 0.7778, 0.7879, 0.7980, 0.8081,\n",
       "         0.8182, 0.8283, 0.8384, 0.8485, 0.8586, 0.8687, 0.8788, 0.8889, 0.8990,\n",
       "         0.9091, 0.9192, 0.9293, 0.9394, 0.9495, 0.9596, 0.9697, 0.9798, 0.9899,\n",
       "         1.0000])]"
      ]
     },
     "execution_count": 10,
     "metadata": {},
     "output_type": "execute_result"
    }
   ],
   "source": [
    "### Generate testing points:\n",
    "# get testing locations\n",
    "xs = [torch.linspace(-1,1,100), torch.linspace(0,1,100)]\n",
    "xs\n"
   ]
  },
  {
   "cell_type": "code",
   "execution_count": 11,
   "id": "d4263b2f-aad7-4b6b-8d98-9e0308f9592d",
   "metadata": {},
   "outputs": [
    {
     "name": "stdout",
     "output_type": "stream",
     "text": [
      "torch.Size([10000, 2])\n"
     ]
    },
    {
     "data": {
      "text/plain": [
       "tensor([[-1.0000,  0.0000],\n",
       "        [-1.0000,  0.0101],\n",
       "        [-1.0000,  0.0202],\n",
       "        ...,\n",
       "        [ 1.0000,  0.9798],\n",
       "        [ 1.0000,  0.9899],\n",
       "        [ 1.0000,  1.0000]])"
      ]
     },
     "execution_count": 11,
     "metadata": {},
     "output_type": "execute_result"
    }
   ],
   "source": [
    "x_test = torch.stack(torch.meshgrid(*xs, indexing='ij'), -1).view(-1, 2)\n",
    "print(x_test.shape)\n",
    "x_test"
   ]
  },
  {
   "cell_type": "markdown",
   "id": "ec884109-5e28-493d-8624-1c5773da99cf",
   "metadata": {},
   "source": [
    "### Definition of the Fully Connected Neural Network Class:"
   ]
  },
  {
   "cell_type": "code",
   "execution_count": 12,
   "id": "ae20b46d-4505-469b-aad6-b19bdebc7833",
   "metadata": {},
   "outputs": [],
   "source": [
    "# define NN\n",
    "class FCN(nn.Module):\n",
    "    \"Defines a fully-connected network\"\n",
    "    \n",
    "    def __init__(self, N_INPUT, N_OUTPUT, N_HIDDEN, N_LAYERS):\n",
    "        super().__init__()\n",
    "        activation = nn.Tanh\n",
    "        self.fcs = nn.Sequential(*[\n",
    "                        nn.Linear(N_INPUT, N_HIDDEN),\n",
    "                        activation()])\n",
    "        self.fch = nn.Sequential(*[\n",
    "                        nn.Sequential(*[\n",
    "                            nn.Linear(N_HIDDEN, N_HIDDEN),\n",
    "                            activation()]) for _ in range(N_LAYERS-1)])\n",
    "        self.fce = nn.Linear(N_HIDDEN, N_OUTPUT)\n",
    "        \n",
    "    def forward(self, x):\n",
    "        x = self.fcs(x)\n",
    "        x = self.fch(x)\n",
    "        x = self.fce(x)\n",
    "        return x"
   ]
  },
  {
   "cell_type": "code",
   "execution_count": 13,
   "id": "0ca7f74f-f2d4-4d1c-ba0a-27cfdd18feff",
   "metadata": {},
   "outputs": [
    {
     "data": {
      "text/plain": [
       "<torch._C.Generator at 0x7f60c13d8830>"
      ]
     },
     "execution_count": 13,
     "metadata": {},
     "output_type": "execute_result"
    }
   ],
   "source": [
    "nu=0.01/np.pi\n",
    "torch.manual_seed(123)"
   ]
  },
  {
   "cell_type": "code",
   "execution_count": 14,
   "id": "1e549e1b-1741-416d-8ae0-24f32028efd0",
   "metadata": {},
   "outputs": [
    {
     "data": {
      "text/plain": [
       "FCN(\n",
       "  (fcs): Sequential(\n",
       "    (0): Linear(in_features=2, out_features=64, bias=True)\n",
       "    (1): Tanh()\n",
       "  )\n",
       "  (fch): Sequential(\n",
       "    (0): Sequential(\n",
       "      (0): Linear(in_features=64, out_features=64, bias=True)\n",
       "      (1): Tanh()\n",
       "    )\n",
       "    (1): Sequential(\n",
       "      (0): Linear(in_features=64, out_features=64, bias=True)\n",
       "      (1): Tanh()\n",
       "    )\n",
       "    (2): Sequential(\n",
       "      (0): Linear(in_features=64, out_features=64, bias=True)\n",
       "      (1): Tanh()\n",
       "    )\n",
       "  )\n",
       "  (fce): Linear(in_features=64, out_features=1, bias=True)\n",
       ")"
      ]
     },
     "execution_count": 14,
     "metadata": {},
     "output_type": "execute_result"
    }
   ],
   "source": [
    "model = FCN(2,1,64,4)\n",
    "model"
   ]
  },
  {
   "cell_type": "code",
   "execution_count": 15,
   "id": "391f00f8-e8b0-4887-92a6-4d4daff7a6a8",
   "metadata": {},
   "outputs": [
    {
     "data": {
      "text/plain": [
       "Adam (\n",
       "Parameter Group 0\n",
       "    amsgrad: False\n",
       "    betas: (0.9, 0.999)\n",
       "    capturable: False\n",
       "    differentiable: False\n",
       "    eps: 1e-08\n",
       "    foreach: None\n",
       "    fused: None\n",
       "    lr: 0.0001\n",
       "    maximize: False\n",
       "    weight_decay: 0\n",
       ")"
      ]
     },
     "execution_count": 15,
     "metadata": {},
     "output_type": "execute_result"
    }
   ],
   "source": [
    "optimizer = torch.optim.Adam(model.parameters(),lr=1e-4)\n",
    "optimizer"
   ]
  },
  {
   "cell_type": "code",
   "execution_count": 16,
   "id": "1bd0becb-29be-4cfd-9650-888632b94d01",
   "metadata": {},
   "outputs": [
    {
     "data": {
      "text/plain": [
       "<generator object Module.parameters at 0x7f608da6c7b0>"
      ]
     },
     "execution_count": 16,
     "metadata": {},
     "output_type": "execute_result"
    }
   ],
   "source": [
    "model.parameters()"
   ]
  },
  {
   "cell_type": "markdown",
   "id": "ad4f4d24-aee0-4ef7-8127-d0777cac603c",
   "metadata": {},
   "source": [
    "### One Epoch:"
   ]
  },
  {
   "cell_type": "code",
   "execution_count": 17,
   "id": "815341dd-1eea-4355-b676-89ab80a8dfbb",
   "metadata": {},
   "outputs": [],
   "source": [
    "optimizer.zero_grad()"
   ]
  },
  {
   "cell_type": "code",
   "execution_count": 18,
   "id": "44d3a8a8-9f59-4c29-9a9a-25f316afc62f",
   "metadata": {},
   "outputs": [
    {
     "data": {
      "text/plain": [
       "tensor([[0.1019],\n",
       "        [0.1020],\n",
       "        [0.1020],\n",
       "        [0.1020],\n",
       "        [0.1021],\n",
       "        [0.1021],\n",
       "        [0.1022],\n",
       "        [0.1023],\n",
       "        [0.1024],\n",
       "        [0.1025],\n",
       "        [0.1026],\n",
       "        [0.1027],\n",
       "        [0.1028],\n",
       "        [0.1029],\n",
       "        [0.1030],\n",
       "        [0.1032],\n",
       "        [0.1033],\n",
       "        [0.1035],\n",
       "        [0.1036],\n",
       "        [0.1038],\n",
       "        [0.1040],\n",
       "        [0.1042],\n",
       "        [0.1043],\n",
       "        [0.1045],\n",
       "        [0.1047],\n",
       "        [0.1049],\n",
       "        [0.1052],\n",
       "        [0.1054],\n",
       "        [0.1056],\n",
       "        [0.1058],\n",
       "        [0.1061],\n",
       "        [0.1063],\n",
       "        [0.1065],\n",
       "        [0.1068],\n",
       "        [0.1070],\n",
       "        [0.1073],\n",
       "        [0.1075],\n",
       "        [0.1078],\n",
       "        [0.1081],\n",
       "        [0.1083]], grad_fn=<AddmmBackward0>)"
      ]
     },
     "execution_count": 18,
     "metadata": {},
     "output_type": "execute_result"
    }
   ],
   "source": [
    "# compute the \"data loss\"\n",
    "y1, y2, y3 = model(x1), model(x2), model(x3)\n",
    "y1"
   ]
  },
  {
   "cell_type": "code",
   "execution_count": 19,
   "id": "2f94b23d-89ba-49a7-a63f-a1452da26bdc",
   "metadata": {},
   "outputs": [
    {
     "data": {
      "text/plain": [
       "tensor(0.4950, grad_fn=<AddBackward0>)"
      ]
     },
     "execution_count": 19,
     "metadata": {},
     "output_type": "execute_result"
    }
   ],
   "source": [
    "loss1 = torch.mean((y1-u1)**2) + torch.mean((y2-u2)**2) + torch.mean((y3-u3)**2)\n",
    "loss1"
   ]
  },
  {
   "cell_type": "code",
   "execution_count": 20,
   "id": "5830268f-7396-4efb-a962-7265c52eb062",
   "metadata": {},
   "outputs": [
    {
     "data": {
      "text/plain": [
       "torch.Size([1600, 1])"
      ]
     },
     "execution_count": 20,
     "metadata": {},
     "output_type": "execute_result"
    }
   ],
   "source": [
    "# compute the \"physics loss\"\n",
    "yp = model(x_physics)\n",
    "yp.size()"
   ]
  },
  {
   "cell_type": "code",
   "execution_count": 21,
   "id": "73691848-ab61-4a05-8bc4-002ffb627b40",
   "metadata": {},
   "outputs": [
    {
     "data": {
      "text/plain": [
       "torch.Size([1600, 2])"
      ]
     },
     "execution_count": 21,
     "metadata": {},
     "output_type": "execute_result"
    }
   ],
   "source": [
    "dx  = torch.autograd.grad(yp, x_physics, torch.ones_like(yp), create_graph=True)[0]# computes dy/dx\n",
    "dx.size()"
   ]
  },
  {
   "cell_type": "code",
   "execution_count": 22,
   "id": "97d292f3-c137-4e4b-973e-9cc3b7d5b561",
   "metadata": {},
   "outputs": [
    {
     "data": {
      "text/plain": [
       "torch.Size([1600, 1])"
      ]
     },
     "execution_count": 22,
     "metadata": {},
     "output_type": "execute_result"
    }
   ],
   "source": [
    "dx1, dx2 = dx[:,0:1], dx[:,1:2]\n",
    "dx1.size()"
   ]
  },
  {
   "cell_type": "code",
   "execution_count": 23,
   "id": "ad592fdf-78f9-43f0-9692-8bf3d15e1c71",
   "metadata": {},
   "outputs": [
    {
     "data": {
      "text/plain": [
       "tensor([[ True, False, False,  ..., False, False, False],\n",
       "        [False,  True, False,  ..., False, False, False],\n",
       "        [False, False,  True,  ..., False, False, False],\n",
       "        ...,\n",
       "        [False, False, False,  ...,  True, False, False],\n",
       "        [False, False, False,  ..., False,  True, False],\n",
       "        [False, False, False,  ..., False, False,  True]])"
      ]
     },
     "execution_count": 23,
     "metadata": {},
     "output_type": "execute_result"
    }
   ],
   "source": [
    "dx2 == dx2[:,0]"
   ]
  },
  {
   "cell_type": "code",
   "execution_count": 24,
   "id": "1d882010-bfc2-4305-9c4c-d1ded2cb8489",
   "metadata": {},
   "outputs": [
    {
     "data": {
      "text/plain": [
       "tensor([[ 0.0017,  0.0044],\n",
       "        [ 0.0015,  0.0048],\n",
       "        [ 0.0014,  0.0052],\n",
       "        ...,\n",
       "        [ 0.0160, -0.0089],\n",
       "        [ 0.0159, -0.0090],\n",
       "        [ 0.0159, -0.0091]], grad_fn=<MmBackward0>)"
      ]
     },
     "execution_count": 24,
     "metadata": {},
     "output_type": "execute_result"
    }
   ],
   "source": [
    "dx1dx = torch.autograd.grad(dx1, x_physics, torch.ones_like(dx1), create_graph=True)[0]# computes d^2y/dx^2\n",
    "dx1dx"
   ]
  },
  {
   "cell_type": "code",
   "execution_count": 25,
   "id": "1515837a-acd5-4155-88ff-b9de13256821",
   "metadata": {},
   "outputs": [
    {
     "data": {
      "text/plain": [
       "tensor([[0.0017],\n",
       "        [0.0015],\n",
       "        [0.0014],\n",
       "        ...,\n",
       "        [0.0160],\n",
       "        [0.0159],\n",
       "        [0.0159]], grad_fn=<SliceBackward0>)"
      ]
     },
     "execution_count": 25,
     "metadata": {},
     "output_type": "execute_result"
    }
   ],
   "source": [
    "dx1dx1 = dx1dx[:,0:1]\n",
    "dx1dx1"
   ]
  },
  {
   "cell_type": "code",
   "execution_count": 26,
   "id": "d9f0c0c5-9d11-42ae-8b47-df9459fb7cd8",
   "metadata": {},
   "outputs": [
    {
     "data": {
      "text/plain": [
       "torch.Size([1600])"
      ]
     },
     "execution_count": 26,
     "metadata": {},
     "output_type": "execute_result"
    }
   ],
   "source": [
    "# computes the residual of the Burgers equation\n",
    "physics = (dx2[:,0] + yp[:,0] * dx1[:,0]) - (nu * dx1dx1[:,0])\n",
    "physics.size()"
   ]
  },
  {
   "cell_type": "code",
   "execution_count": 27,
   "id": "bf0f835e-8675-436d-adea-ce20e1aeb459",
   "metadata": {},
   "outputs": [
    {
     "data": {
      "text/plain": [
       "tensor(9.7288e-06, grad_fn=<MulBackward0>)"
      ]
     },
     "execution_count": 27,
     "metadata": {},
     "output_type": "execute_result"
    }
   ],
   "source": [
    "loss2 = (0.1)*torch.mean(physics**2)\n",
    "loss2"
   ]
  },
  {
   "cell_type": "code",
   "execution_count": 28,
   "id": "65395825-2564-43af-a61b-584683013c2f",
   "metadata": {},
   "outputs": [
    {
     "data": {
      "text/plain": [
       "tensor(0.4950, grad_fn=<AddBackward0>)"
      ]
     },
     "execution_count": 28,
     "metadata": {},
     "output_type": "execute_result"
    }
   ],
   "source": [
    "# backpropagate joint loss\n",
    "loss = loss1 + loss2# add two loss terms together\n",
    "loss"
   ]
  },
  {
   "cell_type": "code",
   "execution_count": 29,
   "id": "6f620f23-c06c-4b90-b848-e402e5584d69",
   "metadata": {},
   "outputs": [],
   "source": [
    "loss.backward()\n",
    "optimizer.step()"
   ]
  },
  {
   "cell_type": "code",
   "execution_count": 30,
   "id": "006d1470-9e82-4237-953a-50f6f8bab7b2",
   "metadata": {},
   "outputs": [],
   "source": [
    "y = model(x_test)"
   ]
  },
  {
   "cell_type": "code",
   "execution_count": 31,
   "id": "5e4f082a-2e61-4b5c-ba6a-1e48c4e0046f",
   "metadata": {},
   "outputs": [
    {
     "ename": "NameError",
     "evalue": "name 'i' is not defined",
     "output_type": "error",
     "traceback": [
      "\u001b[0;31m---------------------------------------------------------------------------\u001b[0m",
      "\u001b[0;31mNameError\u001b[0m                                 Traceback (most recent call last)",
      "Cell \u001b[0;32mIn[31], line 7\u001b[0m\n\u001b[1;32m      5\u001b[0m plt\u001b[38;5;241m.\u001b[39myticks(np\u001b[38;5;241m.\u001b[39mlinspace(\u001b[38;5;241m0\u001b[39m,\u001b[38;5;241m100\u001b[39m,\u001b[38;5;241m5\u001b[39m)\u001b[38;5;241m.\u001b[39mastype(\u001b[38;5;28mint\u001b[39m), np\u001b[38;5;241m.\u001b[39mlinspace(\u001b[38;5;241m-\u001b[39m\u001b[38;5;241m1\u001b[39m,\u001b[38;5;241m1\u001b[39m,\u001b[38;5;241m5\u001b[39m))\n\u001b[1;32m      6\u001b[0m plt\u001b[38;5;241m.\u001b[39mxlabel(\u001b[38;5;124m\"\u001b[39m\u001b[38;5;124mt\u001b[39m\u001b[38;5;124m\"\u001b[39m); plt\u001b[38;5;241m.\u001b[39mylabel(\u001b[38;5;124m\"\u001b[39m\u001b[38;5;124mx\u001b[39m\u001b[38;5;124m\"\u001b[39m)\n\u001b[0;32m----> 7\u001b[0m plt\u001b[38;5;241m.\u001b[39mtitle(\u001b[38;5;124m\"\u001b[39m\u001b[38;5;124mTraining step: \u001b[39m\u001b[38;5;132;01m%i\u001b[39;00m\u001b[38;5;124m\"\u001b[39m\u001b[38;5;241m%\u001b[39m(\u001b[43mi\u001b[49m\u001b[38;5;241m+\u001b[39m\u001b[38;5;241m1\u001b[39m))\n\u001b[1;32m      8\u001b[0m plt\u001b[38;5;241m.\u001b[39mshow()\n",
      "\u001b[0;31mNameError\u001b[0m: name 'i' is not defined"
     ]
    },
    {
     "data": {
      "image/png": "[encoded data removed]",
      "text/plain": [
       "<Figure size 640x480 with 1 Axes>"
      ]
     },
     "metadata": {},
     "output_type": "display_data"
    }
   ],
   "source": [
    "# plot the result as training progresses\n",
    "plt.figure()\n",
    "plt.imshow(y.reshape(100,100).detach(), vmin=-1, vmax=1)\n",
    "plt.xticks(np.linspace(0,100,5).astype(int), np.linspace(0,1,5))\n",
    "plt.yticks(np.linspace(0,100,5).astype(int), np.linspace(-1,1,5))\n",
    "plt.xlabel(\"t\"); plt.ylabel(\"x\")\n",
    "plt.title(\"Training step: %i\"%(i+1))\n",
    "plt.show()\n",
    "\t"
   ]
  },
  {
   "cell_type": "code",
   "execution_count": null,
   "id": "24294bda-96c4-4b49-bead-98327937f9d0",
   "metadata": {},
   "outputs": [],
   "source": [
    "# Creating 3D figure:\n",
    "fig = plt.figure(figsize =(14, 9)) \n",
    "ax = plt.axes(projection ='3d') \n",
    "\n",
    "# Creating color map \n",
    "my_cmap = plt.get_cmap('hot') \n",
    "\n",
    "# Creating plot \n",
    "surf = ax.plot_surface(x_test[0].detach().numpy(), x_test[1].detach().numpy(), y.detach().numpy(), cmap = my_cmap, edgecolor ='none') \n",
    "\n",
    "fig.colorbar(surf, ax = ax, shrink = 0.5, aspect = 5) \n",
    "\n",
    "ax.set_title('Surface plot based on Dataset') \n",
    "plt.xlabel(\"x\")\n",
    "plt.ylabel(\"t\")\n",
    "plt.ylabel(\"u\")\n",
    "\n",
    "# show plot \n",
    "plt.show() \n",
    "\n",
    "\n"
   ]
  },
  {
   "cell_type": "code",
   "execution_count": null,
   "id": "03499e65-1eb8-4589-bc84-8eff8a8b3f3e",
   "metadata": {},
   "outputs": [],
   "source": [
    "#for i in range(10000):\n",
    "#    optimizer.zero_grad()\n",
    "#    \n",
    "#    # compute the \"data loss\"\n",
    "#    y1, y2, y3 = model(x1), model(x2), model(x3)\n",
    "#    loss1 = torch.mean((y1-u1)**2) + torch.mean((y2-u2)**2) + torch.mean((y3-u3)**2)\n",
    "#    \n",
    "#    # compute the \"physics loss\"\n",
    "#    yp = model(x_physics)\n",
    "#    dx  = torch.autograd.grad(yp, x_physics, torch.ones_like(yp), create_graph=True)[0]# computes dy/dx\n",
    "#    dx1, dx2 = dx[:,0:1], dx[:,1:2]\n",
    "#    dx1dx = torch.autograd.grad(dx1, x_physics, torch.ones_like(dx1), create_graph=True)[0]# computes d^2y/dx^2\n",
    "#    dx1dx1 = dx1dx[:,0:1]\n",
    "#    physics = (dx2[:,0] + yp[:,0] * dx1[:,0]) - (nu * dx1dx1[:,0])# computes the residual of the Burgers equation\n",
    "#    loss2 = (0.1)*torch.mean(physics**2)\n",
    "#    \n",
    "#    # backpropagate joint loss\n",
    "#    loss = loss1 + loss2# add two loss terms together\n",
    "#    loss.backward()\n",
    "#    optimizer.step()\n",
    "#    \n",
    "#    \n",
    "#    # plot the result as training progresses\n",
    "#    if (i+1) % 1000 == 0: \n",
    "#        y = model(x_test)\n",
    "#        plt.figure()\n",
    "#        plt.imshow(y.reshape(100,100).detach(), vmin=-1, vmax=1)\n",
    "#        plt.xticks(np.linspace(0,100,5).astype(int), np.linspace(0,1,5))\n",
    "#        plt.yticks(np.linspace(0,100,5).astype(int), np.linspace(-1,1,5))\n",
    "#        plt.xlabel(\"t\"); plt.ylabel(\"x\")\n",
    "#        plt.title(\"Training step: %i\"%(i+1))\n",
    "#        plt.show()\n",
    "#"
   ]
  },
  {
   "cell_type": "code",
   "execution_count": null,
   "id": "1c62c142-9fcd-4134-8ebd-558c69ce99ce",
   "metadata": {},
   "outputs": [],
   "source": []
  }
 ],
 "metadata": {
  "kernelspec": {
   "display_name": "Python 3 (ipykernel)",
   "language": "python",
   "name": "python3"
  },
  "language_info": {
   "codemirror_mode": {
    "name": "ipython",
    "version": 3
   },
   "file_extension": ".py",
   "mimetype": "text/x-python",
   "name": "python",
   "nbconvert_exporter": "python",
   "pygments_lexer": "ipython3",
   "version": "3.10.12"
  }
 },
 "nbformat": 4,
 "nbformat_minor": 5
}
