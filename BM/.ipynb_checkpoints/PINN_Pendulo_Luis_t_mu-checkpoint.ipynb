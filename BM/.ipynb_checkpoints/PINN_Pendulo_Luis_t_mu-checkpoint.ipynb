{
 "cells": [
  {
   "cell_type": "markdown",
   "id": "745557e6-0093-4b0c-9086-30e41c6cf26f",
   "metadata": {},
   "source": [
    "PINN_PENDULO_LUIS_T_MU.ipynb (2023.09.30)"
   ]
  },
  {
   "cell_type": "code",
   "execution_count": 1,
   "id": "40c22569-040e-41ee-9ea1-3a937c7b7edb",
   "metadata": {},
   "outputs": [],
   "source": [
    "### Import all what you need:\n",
    "import torch\n",
    "import torch.nn as nn\n",
    "from torchsummary import summary # https://pypi.org/project/torch-summary/\n",
    "import torchinfo \n",
    "import numpy as np\n",
    "import matplotlib.pyplot as plt"
   ]
  },
  {
   "cell_type": "code",
   "execution_count": 2,
   "id": "e2085019-11d0-4e4d-b8b1-a4a87e045612",
   "metadata": {},
   "outputs": [
    {
     "data": {
      "text/plain": [
       "<torch._C.Generator at 0x7effec27c7f0>"
      ]
     },
     "execution_count": 2,
     "metadata": {},
     "output_type": "execute_result"
    }
   ],
   "source": [
    "torch.manual_seed(123)"
   ]
  },
  {
   "cell_type": "code",
   "execution_count": 3,
   "id": "9b087543-66e7-4964-a8f0-0c36f894a53d",
   "metadata": {},
   "outputs": [
    {
     "name": "stdout",
     "output_type": "stream",
     "text": [
      "Using cuda device\n"
     ]
    }
   ],
   "source": [
    "# Save in a variable the device cuda(Linux and Windows), mps(Apple) or cpu, you will use for training:\n",
    "device = (\n",
    "    \"cuda\"\n",
    "    if torch.cuda.is_available()\n",
    "    else \"mps\"\n",
    "    if torch.backends.mps.is_available()\n",
    "    else \"cpu\"\n",
    ")\n",
    "print(f\"Using {device} device\")"
   ]
  },
  {
   "cell_type": "code",
   "execution_count": 4,
   "id": "c05773e1-42fd-43e0-a76f-cef595eeda96",
   "metadata": {},
   "outputs": [
    {
     "data": {
      "text/plain": [
       "0"
      ]
     },
     "execution_count": 4,
     "metadata": {},
     "output_type": "execute_result"
    }
   ],
   "source": [
    "torch.cuda.current_device()"
   ]
  },
  {
   "cell_type": "markdown",
   "id": "a2a23905-0efb-486b-a59c-54f800cf0c66",
   "metadata": {},
   "source": [
    "### Generate initial training points:\n"
   ]
  },
  {
   "cell_type": "code",
   "execution_count": 5,
   "id": "f2c7e3a6-70e5-4a5e-97e1-948db9811948",
   "metadata": {},
   "outputs": [],
   "source": [
    "#### Initial condition 1: t and mu training points generation \n",
    "point_resolution = 40"
   ]
  },
  {
   "cell_type": "code",
   "execution_count": 6,
   "id": "76db9e31-10cc-4740-94ea-106a8490b485",
   "metadata": {},
   "outputs": [],
   "source": [
    "mu_range = (1,10)"
   ]
  },
  {
   "cell_type": "code",
   "execution_count": 7,
   "id": "7193aa2f-b6fa-4c2c-9e61-a6fb946d703d",
   "metadata": {},
   "outputs": [],
   "source": [
    "test = (*mu_range, point_resolution)"
   ]
  },
  {
   "cell_type": "code",
   "execution_count": 8,
   "id": "8a55e2f9-2cec-440e-9a56-40b94684d95b",
   "metadata": {},
   "outputs": [],
   "source": [
    "#torch.linspace(*test)"
   ]
  },
  {
   "cell_type": "code",
   "execution_count": 9,
   "id": "1b59d538-c9bf-4c3d-8120-6f37d3984851",
   "metadata": {},
   "outputs": [],
   "source": [
    "ic1_t_mu = torch.stack([torch.zeros(point_resolution).requires_grad_(True).to(device), torch.linspace(1,10, point_resolution).requires_grad_(True).to(device)],-1)\n",
    "#ic1_t_mu"
   ]
  },
  {
   "cell_type": "code",
   "execution_count": 10,
   "id": "1bffbbf4-1b6b-45b2-8f32-a323e9e9235e",
   "metadata": {},
   "outputs": [
    {
     "name": "stdout",
     "output_type": "stream",
     "text": [
      "torch.Size([40, 2]) torch.Size([40, 1])\n"
     ]
    }
   ],
   "source": [
    "ic1_scope = torch.ones_like(ic1_t_mu[:,0:1]).requires_grad_(True).to(device)\n",
    "print(ic1_t_mu.shape, ic1_scope.shape)"
   ]
  },
  {
   "cell_type": "code",
   "execution_count": 11,
   "id": "8a449294-135f-4829-a3f8-b385e3f2d6d8",
   "metadata": {},
   "outputs": [],
   "source": [
    "#ic1_scope"
   ]
  },
  {
   "cell_type": "markdown",
   "id": "14a3556d-a8e5-4869-96c5-1ad657294d10",
   "metadata": {},
   "source": [
    "#### Initial condition 2: t and mu training points generation "
   ]
  },
  {
   "cell_type": "code",
   "execution_count": 12,
   "id": "e948f10f-422c-4c8c-b583-ccf88d582af8",
   "metadata": {},
   "outputs": [],
   "source": [
    "ic2_t_mu = torch.stack([torch.zeros(point_resolution).requires_grad_(True).to(device), torch.linspace(1,10, point_resolution).requires_grad_(True).to(device)], -1)\n",
    "ic2_scope = torch.zeros_like(ic2_t_mu[:,0:1]).requires_grad_(True).to(device)\n",
    "#ic2_t_mu"
   ]
  },
  {
   "cell_type": "code",
   "execution_count": 13,
   "id": "bfe4683f-aebc-44a2-8e37-bb3197390e27",
   "metadata": {},
   "outputs": [],
   "source": [
    "#ic2_scope"
   ]
  },
  {
   "cell_type": "code",
   "execution_count": 14,
   "id": "2db496d1-a104-4b16-9b91-a4b1aeef5b2b",
   "metadata": {},
   "outputs": [
    {
     "data": {
      "text/plain": [
       "[tensor([0.0100, 0.0354, 0.0608, 0.0862, 0.1115, 0.1369, 0.1623, 0.1877, 0.2131,\n",
       "         0.2385, 0.2638, 0.2892, 0.3146, 0.3400, 0.3654, 0.3908, 0.4162, 0.4415,\n",
       "         0.4669, 0.4923, 0.5177, 0.5431, 0.5685, 0.5938, 0.6192, 0.6446, 0.6700,\n",
       "         0.6954, 0.7208, 0.7462, 0.7715, 0.7969, 0.8223, 0.8477, 0.8731, 0.8985,\n",
       "         0.9238, 0.9492, 0.9746, 1.0000], device='cuda:0',\n",
       "        grad_fn=<ToCopyBackward0>),\n",
       " tensor([ 1.0000,  1.2308,  1.4615,  1.6923,  1.9231,  2.1538,  2.3846,  2.6154,\n",
       "          2.8462,  3.0769,  3.3077,  3.5385,  3.7692,  4.0000,  4.2308,  4.4615,\n",
       "          4.6923,  4.9231,  5.1538,  5.3846,  5.6154,  5.8462,  6.0769,  6.3077,\n",
       "          6.5385,  6.7692,  7.0000,  7.2308,  7.4615,  7.6923,  7.9231,  8.1538,\n",
       "          8.3846,  8.6154,  8.8462,  9.0769,  9.3077,  9.5385,  9.7692, 10.0000],\n",
       "        device='cuda:0', grad_fn=<ToCopyBackward0>)]"
      ]
     },
     "execution_count": 14,
     "metadata": {},
     "output_type": "execute_result"
    }
   ],
   "source": [
    "### Generate domain physic loss sample points:\n",
    "physic_in_t_mu = [torch.linspace(1e-2,1, point_resolution).requires_grad_(True).to(device), torch.linspace(1,10, point_resolution).requires_grad_(True).to(device)] # Mejora: se puede utilizar torch.rand\n",
    "physic_in_t_mu"
   ]
  },
  {
   "cell_type": "code",
   "execution_count": 15,
   "id": "cdbe0c9a-733f-43f0-b7ad-ac1bd33443f9",
   "metadata": {},
   "outputs": [
    {
     "data": {
      "text/plain": [
       "tensor([[1.0000e-02, 1.0000e+00],\n",
       "        [1.0000e-02, 1.2308e+00],\n",
       "        [1.0000e-02, 1.4615e+00],\n",
       "        ...,\n",
       "        [1.0000e+00, 9.5385e+00],\n",
       "        [1.0000e+00, 9.7692e+00],\n",
       "        [1.0000e+00, 1.0000e+01]], device='cuda:0', grad_fn=<ViewBackward0>)"
      ]
     },
     "execution_count": 15,
     "metadata": {},
     "output_type": "execute_result"
    }
   ],
   "source": [
    "physic_domain_t_mu = torch.stack(torch.meshgrid(*physic_in_t_mu, indexing='ij'), -1).view(-1, 2).requires_grad_(True).to(device)\n",
    "physic_domain_t_mu.size()\n",
    "physic_domain_t_mu"
   ]
  },
  {
   "cell_type": "markdown",
   "id": "a58dd45d-654d-4134-88aa-aa2d9a2b035e",
   "metadata": {},
   "source": [
    "### Generate testing points:"
   ]
  },
  {
   "cell_type": "code",
   "execution_count": 16,
   "id": "331543da-62ec-4679-8c97-a42bb6918073",
   "metadata": {},
   "outputs": [],
   "source": [
    "point_resolution_test = 100"
   ]
  },
  {
   "cell_type": "code",
   "execution_count": 17,
   "id": "3f67b655-9aad-46dd-8d6e-6d296cd9ba90",
   "metadata": {},
   "outputs": [
    {
     "data": {
      "text/plain": [
       "torch.Size([10000, 2])"
      ]
     },
     "execution_count": 17,
     "metadata": {},
     "output_type": "execute_result"
    }
   ],
   "source": [
    "# get testing locations\n",
    "test_in_t_mu = [torch.linspace(0,1,point_resolution_test), torch.linspace(1,10,point_resolution_test) ]\n",
    "test_domain_t_mu = torch.stack(torch.meshgrid(*test_in_t_mu, indexing='ij'), -1).view(-1, 2)\n",
    "test_domain_t_mu.size()"
   ]
  },
  {
   "cell_type": "code",
   "execution_count": 18,
   "id": "2826af80-92e8-45f0-925a-c5042279bd00",
   "metadata": {},
   "outputs": [],
   "source": [
    "### Definition of the Fully Connected Neural Network Class:\n",
    "# define NN\n",
    "class FCN(nn.Module):\n",
    "    \"Defines a fully-connected network\"\n",
    "    \n",
    "    def __init__(self, N_INPUT, N_OUTPUT, N_HIDDEN, N_LAYERS):\n",
    "        super().__init__()\n",
    "        activation = nn.Tanh\n",
    "        self.fcs = nn.Sequential(*[\n",
    "                        nn.Linear(N_INPUT, N_HIDDEN),\n",
    "                        activation()])\n",
    "        self.fch = nn.Sequential(*[\n",
    "                        nn.Sequential(*[\n",
    "                            nn.Linear(N_HIDDEN, N_HIDDEN),\n",
    "                            activation()]) for _ in range(N_LAYERS-1)])\n",
    "        self.fce = nn.Linear(N_HIDDEN, N_OUTPUT)\n",
    "        \n",
    "    def forward(self, x):\n",
    "        x = self.fcs(x)\n",
    "        x = self.fch(x)\n",
    "        x = self.fce(x)\n",
    "        return x"
   ]
  },
  {
   "cell_type": "code",
   "execution_count": 19,
   "id": "b224cb70-c88c-4f14-83cb-9b988bd7142c",
   "metadata": {},
   "outputs": [],
   "source": [
    "model = FCN(2,1,64,4)\n",
    "#model.parameters"
   ]
  },
  {
   "cell_type": "code",
   "execution_count": 20,
   "id": "bf1e212f-c0bc-4570-a213-16203693ccd1",
   "metadata": {},
   "outputs": [],
   "source": [
    "learning_rate = 1e-4"
   ]
  },
  {
   "cell_type": "code",
   "execution_count": 21,
   "id": "9012dbc9-3c41-47ba-abbd-8a087290ba6e",
   "metadata": {},
   "outputs": [],
   "source": [
    "optimizer = torch.optim.Adam(model.parameters(), lr= learning_rate)\n",
    "#optimizer"
   ]
  },
  {
   "cell_type": "markdown",
   "id": "9108ca98-72f8-4471-8385-a0ca3053ca5c",
   "metadata": {},
   "source": [
    "## Training (one epoch):"
   ]
  },
  {
   "cell_type": "code",
   "execution_count": 22,
   "id": "f3c4a000-4c95-48f6-9a25-11bdb22bedaa",
   "metadata": {},
   "outputs": [],
   "source": [
    "optimizer.zero_grad()"
   ]
  },
  {
   "cell_type": "markdown",
   "id": "62331492-2c88-419f-8803-41c672ce5aa5",
   "metadata": {},
   "source": [
    "### compute the \"data loss\":"
   ]
  },
  {
   "cell_type": "markdown",
   "id": "18615cd3-765d-4fea-aa46-71ce9baf43af",
   "metadata": {},
   "source": [
    "Loss term from the initial condition 1 (u):"
   ]
  },
  {
   "cell_type": "code",
   "execution_count": 23,
   "id": "71dd54ba-427d-4890-a242-819afcb15ea6",
   "metadata": {},
   "outputs": [
    {
     "ename": "RuntimeError",
     "evalue": "Expected all tensors to be on the same device, but found at least two devices, cpu and cuda:0! (when checking argument for argument mat1 in method wrapper_CUDA_addmm)",
     "output_type": "error",
     "traceback": [
      "\u001b[0;31m---------------------------------------------------------------------------\u001b[0m",
      "\u001b[0;31mRuntimeError\u001b[0m                              Traceback (most recent call last)",
      "Cell \u001b[0;32mIn[23], line 1\u001b[0m\n\u001b[0;32m----> 1\u001b[0m ic1_predicted\u001b[38;5;241m=\u001b[39m \u001b[43mmodel\u001b[49m\u001b[43m(\u001b[49m\u001b[43mic1_t_mu\u001b[49m\u001b[43m)\u001b[49m\n\u001b[1;32m      2\u001b[0m \u001b[38;5;66;03m#ic1_predicted\u001b[39;00m\n",
      "File \u001b[0;32m/usr/local/lib/python3.10/dist-packages/torch/nn/modules/module.py:1501\u001b[0m, in \u001b[0;36mModule._call_impl\u001b[0;34m(self, *args, **kwargs)\u001b[0m\n\u001b[1;32m   1496\u001b[0m \u001b[38;5;66;03m# If we don't have any hooks, we want to skip the rest of the logic in\u001b[39;00m\n\u001b[1;32m   1497\u001b[0m \u001b[38;5;66;03m# this function, and just call forward.\u001b[39;00m\n\u001b[1;32m   1498\u001b[0m \u001b[38;5;28;01mif\u001b[39;00m \u001b[38;5;129;01mnot\u001b[39;00m (\u001b[38;5;28mself\u001b[39m\u001b[38;5;241m.\u001b[39m_backward_hooks \u001b[38;5;129;01mor\u001b[39;00m \u001b[38;5;28mself\u001b[39m\u001b[38;5;241m.\u001b[39m_backward_pre_hooks \u001b[38;5;129;01mor\u001b[39;00m \u001b[38;5;28mself\u001b[39m\u001b[38;5;241m.\u001b[39m_forward_hooks \u001b[38;5;129;01mor\u001b[39;00m \u001b[38;5;28mself\u001b[39m\u001b[38;5;241m.\u001b[39m_forward_pre_hooks\n\u001b[1;32m   1499\u001b[0m         \u001b[38;5;129;01mor\u001b[39;00m _global_backward_pre_hooks \u001b[38;5;129;01mor\u001b[39;00m _global_backward_hooks\n\u001b[1;32m   1500\u001b[0m         \u001b[38;5;129;01mor\u001b[39;00m _global_forward_hooks \u001b[38;5;129;01mor\u001b[39;00m _global_forward_pre_hooks):\n\u001b[0;32m-> 1501\u001b[0m     \u001b[38;5;28;01mreturn\u001b[39;00m \u001b[43mforward_call\u001b[49m\u001b[43m(\u001b[49m\u001b[38;5;241;43m*\u001b[39;49m\u001b[43margs\u001b[49m\u001b[43m,\u001b[49m\u001b[43m \u001b[49m\u001b[38;5;241;43m*\u001b[39;49m\u001b[38;5;241;43m*\u001b[39;49m\u001b[43mkwargs\u001b[49m\u001b[43m)\u001b[49m\n\u001b[1;32m   1502\u001b[0m \u001b[38;5;66;03m# Do not call functions when jit is used\u001b[39;00m\n\u001b[1;32m   1503\u001b[0m full_backward_hooks, non_full_backward_hooks \u001b[38;5;241m=\u001b[39m [], []\n",
      "Cell \u001b[0;32mIn[18], line 19\u001b[0m, in \u001b[0;36mFCN.forward\u001b[0;34m(self, x)\u001b[0m\n\u001b[1;32m     18\u001b[0m \u001b[38;5;28;01mdef\u001b[39;00m \u001b[38;5;21mforward\u001b[39m(\u001b[38;5;28mself\u001b[39m, x):\n\u001b[0;32m---> 19\u001b[0m     x \u001b[38;5;241m=\u001b[39m \u001b[38;5;28;43mself\u001b[39;49m\u001b[38;5;241;43m.\u001b[39;49m\u001b[43mfcs\u001b[49m\u001b[43m(\u001b[49m\u001b[43mx\u001b[49m\u001b[43m)\u001b[49m\n\u001b[1;32m     20\u001b[0m     x \u001b[38;5;241m=\u001b[39m \u001b[38;5;28mself\u001b[39m\u001b[38;5;241m.\u001b[39mfch(x)\n\u001b[1;32m     21\u001b[0m     x \u001b[38;5;241m=\u001b[39m \u001b[38;5;28mself\u001b[39m\u001b[38;5;241m.\u001b[39mfce(x)\n",
      "File \u001b[0;32m/usr/local/lib/python3.10/dist-packages/torch/nn/modules/module.py:1501\u001b[0m, in \u001b[0;36mModule._call_impl\u001b[0;34m(self, *args, **kwargs)\u001b[0m\n\u001b[1;32m   1496\u001b[0m \u001b[38;5;66;03m# If we don't have any hooks, we want to skip the rest of the logic in\u001b[39;00m\n\u001b[1;32m   1497\u001b[0m \u001b[38;5;66;03m# this function, and just call forward.\u001b[39;00m\n\u001b[1;32m   1498\u001b[0m \u001b[38;5;28;01mif\u001b[39;00m \u001b[38;5;129;01mnot\u001b[39;00m (\u001b[38;5;28mself\u001b[39m\u001b[38;5;241m.\u001b[39m_backward_hooks \u001b[38;5;129;01mor\u001b[39;00m \u001b[38;5;28mself\u001b[39m\u001b[38;5;241m.\u001b[39m_backward_pre_hooks \u001b[38;5;129;01mor\u001b[39;00m \u001b[38;5;28mself\u001b[39m\u001b[38;5;241m.\u001b[39m_forward_hooks \u001b[38;5;129;01mor\u001b[39;00m \u001b[38;5;28mself\u001b[39m\u001b[38;5;241m.\u001b[39m_forward_pre_hooks\n\u001b[1;32m   1499\u001b[0m         \u001b[38;5;129;01mor\u001b[39;00m _global_backward_pre_hooks \u001b[38;5;129;01mor\u001b[39;00m _global_backward_hooks\n\u001b[1;32m   1500\u001b[0m         \u001b[38;5;129;01mor\u001b[39;00m _global_forward_hooks \u001b[38;5;129;01mor\u001b[39;00m _global_forward_pre_hooks):\n\u001b[0;32m-> 1501\u001b[0m     \u001b[38;5;28;01mreturn\u001b[39;00m \u001b[43mforward_call\u001b[49m\u001b[43m(\u001b[49m\u001b[38;5;241;43m*\u001b[39;49m\u001b[43margs\u001b[49m\u001b[43m,\u001b[49m\u001b[43m \u001b[49m\u001b[38;5;241;43m*\u001b[39;49m\u001b[38;5;241;43m*\u001b[39;49m\u001b[43mkwargs\u001b[49m\u001b[43m)\u001b[49m\n\u001b[1;32m   1502\u001b[0m \u001b[38;5;66;03m# Do not call functions when jit is used\u001b[39;00m\n\u001b[1;32m   1503\u001b[0m full_backward_hooks, non_full_backward_hooks \u001b[38;5;241m=\u001b[39m [], []\n",
      "File \u001b[0;32m/usr/local/lib/python3.10/dist-packages/torch/nn/modules/container.py:217\u001b[0m, in \u001b[0;36mSequential.forward\u001b[0;34m(self, input)\u001b[0m\n\u001b[1;32m    215\u001b[0m \u001b[38;5;28;01mdef\u001b[39;00m \u001b[38;5;21mforward\u001b[39m(\u001b[38;5;28mself\u001b[39m, \u001b[38;5;28minput\u001b[39m):\n\u001b[1;32m    216\u001b[0m     \u001b[38;5;28;01mfor\u001b[39;00m module \u001b[38;5;129;01min\u001b[39;00m \u001b[38;5;28mself\u001b[39m:\n\u001b[0;32m--> 217\u001b[0m         \u001b[38;5;28minput\u001b[39m \u001b[38;5;241m=\u001b[39m \u001b[43mmodule\u001b[49m\u001b[43m(\u001b[49m\u001b[38;5;28;43minput\u001b[39;49m\u001b[43m)\u001b[49m\n\u001b[1;32m    218\u001b[0m     \u001b[38;5;28;01mreturn\u001b[39;00m \u001b[38;5;28minput\u001b[39m\n",
      "File \u001b[0;32m/usr/local/lib/python3.10/dist-packages/torch/nn/modules/module.py:1501\u001b[0m, in \u001b[0;36mModule._call_impl\u001b[0;34m(self, *args, **kwargs)\u001b[0m\n\u001b[1;32m   1496\u001b[0m \u001b[38;5;66;03m# If we don't have any hooks, we want to skip the rest of the logic in\u001b[39;00m\n\u001b[1;32m   1497\u001b[0m \u001b[38;5;66;03m# this function, and just call forward.\u001b[39;00m\n\u001b[1;32m   1498\u001b[0m \u001b[38;5;28;01mif\u001b[39;00m \u001b[38;5;129;01mnot\u001b[39;00m (\u001b[38;5;28mself\u001b[39m\u001b[38;5;241m.\u001b[39m_backward_hooks \u001b[38;5;129;01mor\u001b[39;00m \u001b[38;5;28mself\u001b[39m\u001b[38;5;241m.\u001b[39m_backward_pre_hooks \u001b[38;5;129;01mor\u001b[39;00m \u001b[38;5;28mself\u001b[39m\u001b[38;5;241m.\u001b[39m_forward_hooks \u001b[38;5;129;01mor\u001b[39;00m \u001b[38;5;28mself\u001b[39m\u001b[38;5;241m.\u001b[39m_forward_pre_hooks\n\u001b[1;32m   1499\u001b[0m         \u001b[38;5;129;01mor\u001b[39;00m _global_backward_pre_hooks \u001b[38;5;129;01mor\u001b[39;00m _global_backward_hooks\n\u001b[1;32m   1500\u001b[0m         \u001b[38;5;129;01mor\u001b[39;00m _global_forward_hooks \u001b[38;5;129;01mor\u001b[39;00m _global_forward_pre_hooks):\n\u001b[0;32m-> 1501\u001b[0m     \u001b[38;5;28;01mreturn\u001b[39;00m \u001b[43mforward_call\u001b[49m\u001b[43m(\u001b[49m\u001b[38;5;241;43m*\u001b[39;49m\u001b[43margs\u001b[49m\u001b[43m,\u001b[49m\u001b[43m \u001b[49m\u001b[38;5;241;43m*\u001b[39;49m\u001b[38;5;241;43m*\u001b[39;49m\u001b[43mkwargs\u001b[49m\u001b[43m)\u001b[49m\n\u001b[1;32m   1502\u001b[0m \u001b[38;5;66;03m# Do not call functions when jit is used\u001b[39;00m\n\u001b[1;32m   1503\u001b[0m full_backward_hooks, non_full_backward_hooks \u001b[38;5;241m=\u001b[39m [], []\n",
      "File \u001b[0;32m/usr/local/lib/python3.10/dist-packages/torch/nn/modules/linear.py:114\u001b[0m, in \u001b[0;36mLinear.forward\u001b[0;34m(self, input)\u001b[0m\n\u001b[1;32m    113\u001b[0m \u001b[38;5;28;01mdef\u001b[39;00m \u001b[38;5;21mforward\u001b[39m(\u001b[38;5;28mself\u001b[39m, \u001b[38;5;28minput\u001b[39m: Tensor) \u001b[38;5;241m-\u001b[39m\u001b[38;5;241m>\u001b[39m Tensor:\n\u001b[0;32m--> 114\u001b[0m     \u001b[38;5;28;01mreturn\u001b[39;00m \u001b[43mF\u001b[49m\u001b[38;5;241;43m.\u001b[39;49m\u001b[43mlinear\u001b[49m\u001b[43m(\u001b[49m\u001b[38;5;28;43minput\u001b[39;49m\u001b[43m,\u001b[49m\u001b[43m \u001b[49m\u001b[38;5;28;43mself\u001b[39;49m\u001b[38;5;241;43m.\u001b[39;49m\u001b[43mweight\u001b[49m\u001b[43m,\u001b[49m\u001b[43m \u001b[49m\u001b[38;5;28;43mself\u001b[39;49m\u001b[38;5;241;43m.\u001b[39;49m\u001b[43mbias\u001b[49m\u001b[43m)\u001b[49m\n",
      "\u001b[0;31mRuntimeError\u001b[0m: Expected all tensors to be on the same device, but found at least two devices, cpu and cuda:0! (when checking argument for argument mat1 in method wrapper_CUDA_addmm)"
     ]
    }
   ],
   "source": [
    "ic1_predicted= model(ic1_t_mu)\n",
    "#ic1_predicted"
   ]
  },
  {
   "cell_type": "code",
   "execution_count": 29,
   "id": "a401054b-a502-4f23-8b89-7834aca54043",
   "metadata": {},
   "outputs": [
    {
     "data": {
      "text/plain": [
       "tensor(0.7632, grad_fn=<MeanBackward0>)"
      ]
     },
     "execution_count": 29,
     "metadata": {},
     "output_type": "execute_result"
    }
   ],
   "source": [
    "loss_ic1 = torch.mean((ic1_predicted - ic1_scope)**2)\n",
    "loss_ic1"
   ]
  },
  {
   "cell_type": "markdown",
   "id": "6324d188-27d0-4133-9346-3aab251bc2ad",
   "metadata": {},
   "source": [
    "Loss term from the initial condition 2 (du/dt):"
   ]
  },
  {
   "cell_type": "code",
   "execution_count": 28,
   "id": "e61a7ef7-98f6-4260-bf2a-bf84256726ed",
   "metadata": {},
   "outputs": [
    {
     "ename": "NameError",
     "evalue": "name 'ic1_predicted' is not defined",
     "output_type": "error",
     "traceback": [
      "\u001b[0;31m---------------------------------------------------------------------------\u001b[0m",
      "\u001b[0;31mNameError\u001b[0m                                 Traceback (most recent call last)",
      "Cell \u001b[0;32mIn[28], line 1\u001b[0m\n\u001b[0;32m----> 1\u001b[0m du_dtdmu_initial \u001b[38;5;241m=\u001b[39m torch\u001b[38;5;241m.\u001b[39mautograd\u001b[38;5;241m.\u001b[39mgrad(outputs \u001b[38;5;241m=\u001b[39m \u001b[43mic1_predicted\u001b[49m, inputs \u001b[38;5;241m=\u001b[39m ic1_t_mu, grad_outputs\u001b[38;5;241m=\u001b[39m torch\u001b[38;5;241m.\u001b[39mones_like(ic1_predicted), create_graph\u001b[38;5;241m=\u001b[39m \u001b[38;5;28;01mTrue\u001b[39;00m)[\u001b[38;5;241m0\u001b[39m]\n\u001b[1;32m      2\u001b[0m du_dt, du_dmu \u001b[38;5;241m=\u001b[39m du_dtdmu_initial[:, \u001b[38;5;241m0\u001b[39m], du_dtdmu_initial[:,\u001b[38;5;241m-\u001b[39m\u001b[38;5;241m1\u001b[39m]\n",
      "\u001b[0;31mNameError\u001b[0m: name 'ic1_predicted' is not defined"
     ]
    }
   ],
   "source": [
    "du_dtdmu_initial = torch.autograd.grad(outputs = ic1_predicted, inputs = ic1_t_mu, grad_outputs= torch.ones_like(ic1_predicted), create_graph= True)[0]\n",
    "du_dt, du_dmu = du_dtdmu_initial[:, 0], du_dtdmu_initial[:,-1]\n"
   ]
  },
  {
   "cell_type": "code",
   "execution_count": 31,
   "id": "d35f6089-6303-44cc-974a-d726389819b9",
   "metadata": {},
   "outputs": [
    {
     "ename": "NameError",
     "evalue": "name 'du_dt' is not defined",
     "output_type": "error",
     "traceback": [
      "\u001b[0;31m---------------------------------------------------------------------------\u001b[0m",
      "\u001b[0;31mNameError\u001b[0m                                 Traceback (most recent call last)",
      "Cell \u001b[0;32mIn[31], line 1\u001b[0m\n\u001b[0;32m----> 1\u001b[0m \u001b[43mdu_dt\u001b[49m\n",
      "\u001b[0;31mNameError\u001b[0m: name 'du_dt' is not defined"
     ]
    }
   ],
   "source": [
    "du_dt"
   ]
  },
  {
   "cell_type": "code",
   "execution_count": null,
   "id": "e3c7a10d-72b2-46b4-aaa4-c14012b9d3a6",
   "metadata": {},
   "outputs": [],
   "source": [
    "#ic2_y = model(ic2_t_mu)\n",
    "#loss_ic_dudt = torch.mean((ic2_y-ic2_u)**2)"
   ]
  },
  {
   "cell_type": "markdown",
   "id": "9890686d-5402-4a41-bc5b-796655209910",
   "metadata": {},
   "source": [
    "### compute the \"physics loss\":"
   ]
  },
  {
   "cell_type": "code",
   "execution_count": null,
   "id": "4eae3680-fd81-46bb-9a4a-d151068fcd06",
   "metadata": {},
   "outputs": [],
   "source": [
    "#y_physic_domain = model(physic_domain_t_mu)\n",
    "#physic_domain_u = torch.mean((y_physic_domain-physic_domain_t_mu)**2)"
   ]
  },
  {
   "cell_type": "code",
   "execution_count": null,
   "id": "16d6e4bf-ef1a-4039-b087-22af08ea24b4",
   "metadata": {},
   "outputs": [],
   "source": [
    "\n",
    "\n",
    "\n",
    "\n"
   ]
  }
 ],
 "metadata": {
  "kernelspec": {
   "display_name": "Python 3 (ipykernel)",
   "language": "python",
   "name": "python3"
  },
  "language_info": {
   "codemirror_mode": {
    "name": "ipython",
    "version": 3
   },
   "file_extension": ".py",
   "mimetype": "text/x-python",
   "name": "python",
   "nbconvert_exporter": "python",
   "pygments_lexer": "ipython3",
   "version": "3.10.12"
  }
 },
 "nbformat": 4,
 "nbformat_minor": 5
}
