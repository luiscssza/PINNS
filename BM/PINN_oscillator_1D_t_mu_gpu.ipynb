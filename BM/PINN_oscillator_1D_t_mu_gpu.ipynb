{
 "cells": [
  {
   "cell_type": "markdown",
   "id": "179b50e8-cd48-4bda-9d5e-a1fe9e37ec7e",
   "metadata": {},
   "source": [
    "PINN_oscillator_1D_gpu_t_mu"
   ]
  },
  {
   "cell_type": "markdown",
   "id": "23b32a00-32eb-4da8-9568-c8f36bb20b7b",
   "metadata": {},
   "source": [
    "# Physics-informed neural networks (PINNs): an introductory crash-course\n",
    "\n",
    "By Ben Moseley, 2022\n",
    "\n",
    "This workshop builds upon my blog post on PINNs: https://benmoseley.blog/my-research/so-what-is-a-physics-informed-neural-network/. \n",
    "\n",
    "Read the seminal PINN papers [here](https://ieeexplore.ieee.org/document/712178) and [here](https://www.sciencedirect.com/science/article/pii/S0021999118307125).\n",
    "\n",
    "\n",
    "## Workshop goals\n",
    "\n",
    "By the end of this workshop, you should be able to:\n",
    "- code a PINN from scratch in PyTorch\n",
    "- understand the different types of scientific tasks PINNs can be used for\n",
    "- understand in more detail how PINNs are trained and how to improve their convergence\n",
    "\n",
    "\n",
    "## Task overview\n",
    "\n",
    "We will be coding a PINN from scratch in PyTorch and using it solve simulation and inversion tasks related to the damped harmonic oscillator.\n"
   ]
  },
  {
   "cell_type": "markdown",
   "id": "129d88ca-2050-4f98-8c66-338dd5aa25ad",
   "metadata": {},
   "source": [
    "## Problem overview\n",
    "\n",
    "We are going to use a PINN to solve problems related to the **damped harmonic oscillator**:\n",
    "\n",
    "<img src=\"oscillator.gif\" width=\"500\">\n",
    "\n",
    "We are interested in modelling the displacement of the mass on a spring (green box) over time.\n",
    "\n",
    "This is a canonical physics problem, where the displacement, $u(t)$, of the oscillator as a function of time can be described by the following differential equation:\n",
    "\n",
    "$$\n",
    "m \\dfrac{d^2 u}{d t^2} + \\mu \\dfrac{d u}{d t} + ku = 0~,\n",
    "$$\n",
    "\n",
    "where $m$ is the mass of the oscillator, $\\mu$ is the coefficient of friction and $k$ is the spring constant.\n",
    "\n",
    "We will focus on solving the problem in the **under-damped state**, i.e. where the oscillation is slowly damped by friction (as displayed in the animation above). \n",
    "\n",
    "Mathematically, this occurs when:\n",
    "\n",
    "$$\n",
    "\\delta < \\omega_0~,~~~~~\\mathrm{where}~~\\delta = \\dfrac{\\mu}{2m}~,~\\omega_0 = \\sqrt{\\dfrac{k}{m}}~.\n",
    "$$\n",
    "\n",
    "Furthermore, we consider the following initial conditions of the system:\n",
    "\n",
    "$$\n",
    "u(t=0) = 1~~,~~\\dfrac{d u}{d t}(t=0) = 0~.\n",
    "$$\n",
    "\n",
    "For this particular case, the exact solution is known and given by:\n",
    "\n",
    "$$\n",
    "u(t) = e^{-\\delta t}(2 A \\cos(\\phi + \\omega t))~,~~~~~\\mathrm{with}~~\\omega=\\sqrt{\\omega_0^2 - \\delta^2}~.\n",
    "$$\n",
    "\n",
    "\n",
    "\n",
    "For a more detailed mathematical description of the harmonic oscillator, check out this blog post: https://beltoforion.de/en/harmonic_oscillator/."
   ]
  },
  {
   "cell_type": "markdown",
   "id": "c7e06139-aa1b-45e3-941c-4807c0a05c5e",
   "metadata": {},
   "source": [
    "# Workflow overview\n",
    "\n",
    "There are **two scientific tasks** related to the harmonic oscillator we will use a PINN for:\n",
    "\n",
    ">First, we will **simulate** the system using a PINN, given its initial conditions."
   ]
  },
  {
   "cell_type": "markdown",
   "id": "8b2a86b5-566d-4c8f-9395-0cfa8d1531cf",
   "metadata": {},
   "source": [
    "## Task 1: train a PINN to simulate the system using a GPU\n",
    "\n",
    "#### Task\n",
    "\n",
    "The first task is to use a PINN to **simulate** the system.\n",
    "\n",
    "Specifically, our inputs and outputs are:\n",
    "\n",
    "- Inputs: underlying differential equation and the initial conditions of the system\n",
    "- Outputs: estimate of the solution, $u(t)$\n",
    "\n",
    "#### Approach\n",
    "\n",
    "The PINN is trained to directly approximate the solution to the differential equation, i.e.\n",
    "\n",
    "$$\n",
    "u_{\\mathrm{PINN}}(t;\\theta) \\approx u(t)~,\n",
    "$$\n",
    "\n",
    "where $\\theta$ are the free parameters of the PINN.\n",
    "\n",
    "#### Loss function\n",
    "\n",
    "To simulate the system, the PINN is trained with the following loss function:\n",
    "\n",
    "$$\n",
    "\\mathcal{L}(\\theta)= (u_{\\mathrm{PINN}}(t=0;\\theta) - 1)^2 + \\lambda_1 \\left(\\frac{d\\,u_{\\mathrm{PINN}}}{dt}(t=0;\\theta) - 0\\right)^2 + \\frac{\\lambda_2}{N} \\sum^{N}_{i} \\left( \\left[ m\\frac{d^2}{dt^2} + \\mu \\frac{d}{dt} + k \\right] u_{\\mathrm{PINN}}(t_{i};\\theta)  \\right)^2\n",
    "$$\n",
    "\n",
    "For this task, we use $\\delta=2$, $\\omega_0=20$, and try to learn the solution over the domain $t\\in [0,1]$.\n",
    "\n",
    "#### Notes\n",
    "\n",
    "The first two terms in the loss function represent the **boundary loss**, and tries to ensure that the solution learned by the PINN matches the initial conditions of the system, namely, $u(t=0)=1$ and $u'(t=0)=0$.\n",
    "\n",
    "The second term in the loss function is called the **physics loss**, and and tries to ensure that the PINN solution obeys the underlying differential equation at a set of training points $\\{t_i\\}$ sampled over the entire domain.\n",
    "\n",
    "The hyperparameters, $\\lambda_1$ and $\\lambda_2$, are used to balence the terms in the loss function, to ensure stability during training.\n",
    "\n",
    "Autodifferentiation (`torch.autograd`) is used to calculate the gradients of the PINN with respect to its input required to evaluate the loss function. This is very powerful! \n",
    "\n",
    "For more details on `torch.autograd`, check out [this](https://pytorch.org/tutorials/beginner/blitz/autograd_tutorial.html#a-gentle-introduction-to-torch-autograd) tutorial."
   ]
  },
  {
   "cell_type": "markdown",
   "id": "72ad0024-2337-49a7-83d1-7feb564a8dde",
   "metadata": {},
   "source": [
    "Here you can see an overview of the 2 dimensional space (t, mu):\n",
    "\n",
    "<img src=\"excalidraw1.JPG\" width=\"750\">"
   ]
  },
  {
   "cell_type": "markdown",
   "id": "89ff6768-3295-4ed4-941b-2ac763415680",
   "metadata": {},
   "source": [
    "# PINNS using 1 GPU"
   ]
  },
  {
   "cell_type": "code",
   "execution_count": 1,
   "id": "cf96e24b-5a53-4c72-867b-7ea09aa480cf",
   "metadata": {
    "execution": {
     "iopub.execute_input": "2024-02-07T11:13:30.288013Z",
     "iopub.status.busy": "2024-02-07T11:13:30.287754Z",
     "iopub.status.idle": "2024-02-07T11:13:31.851552Z",
     "shell.execute_reply": "2024-02-07T11:13:31.850369Z",
     "shell.execute_reply.started": "2024-02-07T11:13:30.287995Z"
    }
   },
   "outputs": [],
   "source": [
    "### Import all what you need:\n",
    "import torch\n",
    "import torch.nn as nn\n",
    "from torchsummary import summary # https://pypi.org/project/torch-summary/\n",
    "import torchinfo \n",
    "\n",
    "import numpy as np\n",
    "\n",
    "import matplotlib.pyplot as plt\n",
    "\n",
    "import time"
   ]
  },
  {
   "cell_type": "code",
   "execution_count": 2,
   "id": "e2085019-11d0-4e4d-b8b1-a4a87e045612",
   "metadata": {
    "execution": {
     "iopub.execute_input": "2024-02-07T11:13:32.801525Z",
     "iopub.status.busy": "2024-02-07T11:13:32.800938Z",
     "iopub.status.idle": "2024-02-07T11:13:32.816236Z",
     "shell.execute_reply": "2024-02-07T11:13:32.814940Z",
     "shell.execute_reply.started": "2024-02-07T11:13:32.801487Z"
    }
   },
   "outputs": [
    {
     "data": {
      "text/plain": [
       "<torch._C.Generator at 0x7f821313c930>"
      ]
     },
     "execution_count": 2,
     "metadata": {},
     "output_type": "execute_result"
    }
   ],
   "source": [
    "# Pseudorandom number generator:\n",
    "torch.manual_seed(123)"
   ]
  },
  {
   "cell_type": "markdown",
   "id": "d8b3e410-9719-428d-aa56-92b562778249",
   "metadata": {},
   "source": [
    "## Preparations for using the GPU"
   ]
  },
  {
   "cell_type": "markdown",
   "id": "a334b1cb-5a1e-444a-8e88-83dbc20709da",
   "metadata": {},
   "source": [
    "If a GPU is avaible, you could do the training using it. For that, you should send to the GPU all tensors are needed for the training. "
   ]
  },
  {
   "cell_type": "code",
   "execution_count": 3,
   "id": "38a1c2a4-1d39-421e-93bd-95c88cde1221",
   "metadata": {
    "execution": {
     "iopub.execute_input": "2024-02-07T11:13:36.692544Z",
     "iopub.status.busy": "2024-02-07T11:13:36.692039Z",
     "iopub.status.idle": "2024-02-07T11:13:36.743752Z",
     "shell.execute_reply": "2024-02-07T11:13:36.742386Z",
     "shell.execute_reply.started": "2024-02-07T11:13:36.692506Z"
    }
   },
   "outputs": [
    {
     "data": {
      "text/plain": [
       "'NVIDIA RTX A5000'"
      ]
     },
     "execution_count": 3,
     "metadata": {},
     "output_type": "execute_result"
    }
   ],
   "source": [
    "# To get only the name of the device:\n",
    "torch.cuda.get_device_name(0)"
   ]
  },
  {
   "cell_type": "code",
   "execution_count": 4,
   "id": "3ca1e537-bdbc-4a5c-bf94-620e6290989d",
   "metadata": {
    "execution": {
     "iopub.execute_input": "2024-02-07T11:13:38.754616Z",
     "iopub.status.busy": "2024-02-07T11:13:38.754154Z",
     "iopub.status.idle": "2024-02-07T11:13:39.161054Z",
     "shell.execute_reply": "2024-02-07T11:13:39.159247Z",
     "shell.execute_reply.started": "2024-02-07T11:13:38.754580Z"
    }
   },
   "outputs": [
    {
     "name": "stdout",
     "output_type": "stream",
     "text": [
      "Wed Feb  7 11:13:38 2024       \n",
      "+---------------------------------------------------------------------------------------+\n",
      "| NVIDIA-SMI 530.30.02              Driver Version: 530.30.02    CUDA Version: 12.1     |\n",
      "|-----------------------------------------+----------------------+----------------------+\n",
      "| GPU  Name                  Persistence-M| Bus-Id        Disp.A | Volatile Uncorr. ECC |\n",
      "| Fan  Temp  Perf            Pwr:Usage/Cap|         Memory-Usage | GPU-Util  Compute M. |\n",
      "|                                         |                      |               MIG M. |\n",
      "|=========================================+======================+======================|\n",
      "|   0  NVIDIA RTX A5000                On | 00000000:06:00.0 Off |                  Off |\n",
      "| 30%   26C    P8               22W / 230W|      8MiB / 24564MiB |      0%      Default |\n",
      "|                                         |                      |                  N/A |\n",
      "+-----------------------------------------+----------------------+----------------------+\n",
      "                                                                                         \n",
      "+---------------------------------------------------------------------------------------+\n",
      "| Processes:                                                                            |\n",
      "|  GPU   GI   CI        PID   Type   Process name                            GPU Memory |\n",
      "|        ID   ID                                                             Usage      |\n",
      "|=======================================================================================|\n",
      "+---------------------------------------------------------------------------------------+\n"
     ]
    }
   ],
   "source": [
    "# Or for more information:\n",
    "! nvidia-smi"
   ]
  },
  {
   "cell_type": "code",
   "execution_count": 5,
   "id": "f699a781-2c68-43c2-8990-a60764e4f8a7",
   "metadata": {
    "execution": {
     "iopub.execute_input": "2024-02-07T11:13:45.755278Z",
     "iopub.status.busy": "2024-02-07T11:13:45.754720Z",
     "iopub.status.idle": "2024-02-07T11:13:45.764732Z",
     "shell.execute_reply": "2024-02-07T11:13:45.763333Z",
     "shell.execute_reply.started": "2024-02-07T11:13:45.755225Z"
    }
   },
   "outputs": [
    {
     "data": {
      "text/plain": [
       "1"
      ]
     },
     "execution_count": 5,
     "metadata": {},
     "output_type": "execute_result"
    }
   ],
   "source": [
    "# To get the number of GPUs available:\n",
    "torch.cuda.device_count()"
   ]
  },
  {
   "cell_type": "code",
   "execution_count": 6,
   "id": "17021e0a-704d-4193-813f-40d43a965f2c",
   "metadata": {
    "execution": {
     "iopub.execute_input": "2024-02-07T11:13:49.595326Z",
     "iopub.status.busy": "2024-02-07T11:13:49.594830Z",
     "iopub.status.idle": "2024-02-07T11:13:49.602857Z",
     "shell.execute_reply": "2024-02-07T11:13:49.601348Z",
     "shell.execute_reply.started": "2024-02-07T11:13:49.595290Z"
    }
   },
   "outputs": [
    {
     "name": "stdout",
     "output_type": "stream",
     "text": [
      "Using cuda device\n"
     ]
    }
   ],
   "source": [
    "# Save in a variable the device cuda(Linux and Windows), mps(Apple) or cpu, you will use for training:\n",
    "device = (\n",
    "    \"cuda\"\n",
    "    if torch.cuda.is_available()\n",
    "    else \"mps\"\n",
    "    if torch.backends.mps.is_available()\n",
    "    else \"cpu\"\n",
    ")\n",
    "print(f\"Using {device} device\")"
   ]
  },
  {
   "cell_type": "code",
   "execution_count": 7,
   "id": "88833635-6087-4ad3-b017-7e53510b5434",
   "metadata": {
    "execution": {
     "iopub.execute_input": "2024-02-07T11:13:50.190006Z",
     "iopub.status.busy": "2024-02-07T11:13:50.189491Z",
     "iopub.status.idle": "2024-02-07T11:13:50.198990Z",
     "shell.execute_reply": "2024-02-07T11:13:50.197400Z",
     "shell.execute_reply.started": "2024-02-07T11:13:50.189970Z"
    }
   },
   "outputs": [
    {
     "data": {
      "text/plain": [
       "device(type='cuda', index=0)"
      ]
     },
     "execution_count": 7,
     "metadata": {},
     "output_type": "execute_result"
    }
   ],
   "source": [
    "# or in a short way:\n",
    "device_short_way = torch.device(\"cuda:0\" if torch.cuda.is_available() else \"cpu\")\n",
    "device_short_way"
   ]
  },
  {
   "cell_type": "markdown",
   "id": "12bfc6bc-03cc-4500-a2a5-dc0d51c5fa82",
   "metadata": {},
   "source": [
    "You can know the current selected GPU using:"
   ]
  },
  {
   "cell_type": "code",
   "execution_count": 8,
   "id": "e841a2da-88a9-45ae-b81e-ca0f580a047c",
   "metadata": {
    "execution": {
     "iopub.execute_input": "2024-02-07T11:13:53.507642Z",
     "iopub.status.busy": "2024-02-07T11:13:53.507221Z",
     "iopub.status.idle": "2024-02-07T11:13:53.515851Z",
     "shell.execute_reply": "2024-02-07T11:13:53.514594Z",
     "shell.execute_reply.started": "2024-02-07T11:13:53.507605Z"
    }
   },
   "outputs": [
    {
     "data": {
      "text/plain": [
       "0"
      ]
     },
     "execution_count": 8,
     "metadata": {},
     "output_type": "execute_result"
    }
   ],
   "source": [
    "torch.cuda.current_device()"
   ]
  },
  {
   "cell_type": "markdown",
   "id": "56f0218d-1b57-4d8a-8099-6eb337d81eff",
   "metadata": {
    "execution": {
     "iopub.execute_input": "2023-10-18T13:28:44.598564Z",
     "iopub.status.busy": "2023-10-18T13:28:44.598111Z",
     "iopub.status.idle": "2023-10-18T13:28:44.605943Z",
     "shell.execute_reply": "2023-10-18T13:28:44.604525Z",
     "shell.execute_reply.started": "2023-10-18T13:28:44.598523Z"
    }
   },
   "source": [
    "In case that you want to know the device a specific tensor is located:"
   ]
  },
  {
   "cell_type": "code",
   "execution_count": 9,
   "id": "b2316034-a64f-4815-8248-63494499d71d",
   "metadata": {
    "execution": {
     "iopub.execute_input": "2024-02-07T11:13:56.826072Z",
     "iopub.status.busy": "2024-02-07T11:13:56.825651Z",
     "iopub.status.idle": "2024-02-07T11:13:56.831354Z",
     "shell.execute_reply": "2024-02-07T11:13:56.830056Z",
     "shell.execute_reply.started": "2024-02-07T11:13:56.826037Z"
    }
   },
   "outputs": [],
   "source": [
    "#print(f\"Device tensor is stored on: {t_boundary.device}\") "
   ]
  },
  {
   "cell_type": "markdown",
   "id": "5a78ed11-63ec-4df1-aebd-090ae615cbe2",
   "metadata": {},
   "source": [
    "## Step 1: Definition and initialization"
   ]
  },
  {
   "cell_type": "code",
   "execution_count": 10,
   "id": "ef7127ee-751a-4649-8aaf-b866d001f17e",
   "metadata": {
    "execution": {
     "iopub.execute_input": "2024-02-07T11:13:57.896447Z",
     "iopub.status.busy": "2024-02-07T11:13:57.895981Z",
     "iopub.status.idle": "2024-02-07T11:13:57.902986Z",
     "shell.execute_reply": "2024-02-07T11:13:57.901556Z",
     "shell.execute_reply.started": "2024-02-07T11:13:57.896408Z"
    }
   },
   "outputs": [],
   "source": [
    "#Definition of the physical constants and hyperparameters:\n",
    "mass = 1\n",
    "d, w0 = 2, 20\n",
    "mu, k = 2*d, w0**2            # Este mu NO se utiliza!!!!!\n",
    "learning_rate_gpu =  1e-3         # learning rate\n",
    "lambda1_gpu, lambda2_gpu = 1e-3, 1e-4 # loss term hyperparameters\n",
    "epochs_gpu = 2001"
   ]
  },
  {
   "cell_type": "markdown",
   "id": "4f7ea15f-2b87-4fc7-9986-91407f52b886",
   "metadata": {},
   "source": [
    "### Initial, training and test points generation:"
   ]
  },
  {
   "cell_type": "markdown",
   "id": "a2a23905-0efb-486b-a59c-54f800cf0c66",
   "metadata": {},
   "source": [
    "#### Initial condition 1: generation of initial points:\n",
    "$$ u(t=0, \\mu) = 1\n",
    "$$\n"
   ]
  },
  {
   "cell_type": "code",
   "execution_count": 11,
   "id": "bf1f3a1f-4075-420b-8b10-029b49591f4a",
   "metadata": {
    "execution": {
     "iopub.execute_input": "2024-02-07T11:14:06.930397Z",
     "iopub.status.busy": "2024-02-07T11:14:06.929980Z",
     "iopub.status.idle": "2024-02-07T11:14:06.936097Z",
     "shell.execute_reply": "2024-02-07T11:14:06.934900Z",
     "shell.execute_reply.started": "2024-02-07T11:14:06.930362Z"
    }
   },
   "outputs": [],
   "source": [
    "point_resolution_gpu = 40"
   ]
  },
  {
   "cell_type": "code",
   "execution_count": 15,
   "id": "8b3bdf90-31cc-4300-9081-77d5c4da9898",
   "metadata": {
    "execution": {
     "iopub.execute_input": "2024-02-07T11:15:47.112461Z",
     "iopub.status.busy": "2024-02-07T11:15:47.112006Z",
     "iopub.status.idle": "2024-02-07T11:15:47.134472Z",
     "shell.execute_reply": "2024-02-07T11:15:47.132744Z",
     "shell.execute_reply.started": "2024-02-07T11:15:47.112425Z"
    }
   },
   "outputs": [
    {
     "name": "stdout",
     "output_type": "stream",
     "text": [
      "****************************************************************************************************\n",
      "****************************************************************************************************\n",
      "Device tensor ic1_t_mu_gpu is stored on: cuda:0\n",
      "Device tensor ic1_scope_gpu is stored on: cuda:0\n",
      "Initial condition 1: \n",
      " \t [t, mu]: \n",
      "tensor([[ 0.0000,  1.0000],\n",
      "        [ 0.0000,  1.2308],\n",
      "        [ 0.0000,  1.4615],\n",
      "        [ 0.0000,  1.6923],\n",
      "        [ 0.0000,  1.9231],\n",
      "        [ 0.0000,  2.1538],\n",
      "        [ 0.0000,  2.3846],\n",
      "        [ 0.0000,  2.6154],\n",
      "        [ 0.0000,  2.8462],\n",
      "        [ 0.0000,  3.0769],\n",
      "        [ 0.0000,  3.3077],\n",
      "        [ 0.0000,  3.5385],\n",
      "        [ 0.0000,  3.7692],\n",
      "        [ 0.0000,  4.0000],\n",
      "        [ 0.0000,  4.2308],\n",
      "        [ 0.0000,  4.4615],\n",
      "        [ 0.0000,  4.6923],\n",
      "        [ 0.0000,  4.9231],\n",
      "        [ 0.0000,  5.1538],\n",
      "        [ 0.0000,  5.3846],\n",
      "        [ 0.0000,  5.6154],\n",
      "        [ 0.0000,  5.8462],\n",
      "        [ 0.0000,  6.0769],\n",
      "        [ 0.0000,  6.3077],\n",
      "        [ 0.0000,  6.5385],\n",
      "        [ 0.0000,  6.7692],\n",
      "        [ 0.0000,  7.0000],\n",
      "        [ 0.0000,  7.2308],\n",
      "        [ 0.0000,  7.4615],\n",
      "        [ 0.0000,  7.6923],\n",
      "        [ 0.0000,  7.9231],\n",
      "        [ 0.0000,  8.1538],\n",
      "        [ 0.0000,  8.3846],\n",
      "        [ 0.0000,  8.6154],\n",
      "        [ 0.0000,  8.8462],\n",
      "        [ 0.0000,  9.0769],\n",
      "        [ 0.0000,  9.3077],\n",
      "        [ 0.0000,  9.5385],\n",
      "        [ 0.0000,  9.7692],\n",
      "        [ 0.0000, 10.0000]], device='cuda:0', grad_fn=<StackBackward0>)\n",
      "\n",
      " Initial condition 1: \n",
      " \t u(t=0, mu) = 1: \n",
      " tensor([[1.],\n",
      "        [1.],\n",
      "        [1.],\n",
      "        [1.],\n",
      "        [1.],\n",
      "        [1.],\n",
      "        [1.],\n",
      "        [1.],\n",
      "        [1.],\n",
      "        [1.],\n",
      "        [1.],\n",
      "        [1.],\n",
      "        [1.],\n",
      "        [1.],\n",
      "        [1.],\n",
      "        [1.],\n",
      "        [1.],\n",
      "        [1.],\n",
      "        [1.],\n",
      "        [1.],\n",
      "        [1.],\n",
      "        [1.],\n",
      "        [1.],\n",
      "        [1.],\n",
      "        [1.],\n",
      "        [1.],\n",
      "        [1.],\n",
      "        [1.],\n",
      "        [1.],\n",
      "        [1.],\n",
      "        [1.],\n",
      "        [1.],\n",
      "        [1.],\n",
      "        [1.],\n",
      "        [1.],\n",
      "        [1.],\n",
      "        [1.],\n",
      "        [1.],\n",
      "        [1.],\n",
      "        [1.]], device='cuda:0', requires_grad=True)\n",
      "\n",
      " Shapes of [t, mu] and u(t=0, mu) = 1: \n",
      "\ttorch.Size([40, 2]), torch.Size([40, 1])\n",
      "****************************************************************************************************\n",
      "****************************************************************************************************\n"
     ]
    }
   ],
   "source": [
    "# Initial condition 1:\n",
    "ic1_t_mu_gpu = torch.stack([torch.zeros(point_resolution_gpu).requires_grad_(True).to(device), torch.linspace(1,10, point_resolution_gpu).requires_grad_(True).to(device)],-1)\n",
    "ic1_scope_gpu = torch.ones_like(ic1_t_mu_gpu[:,0:1]).requires_grad_(True).to(device)\n",
    "print(\"*\" * 100 + \"\\n\" + \"*\" * 100)\n",
    "print(f\"Device tensor ic1_t_mu_gpu is stored on: {ic1_t_mu_gpu.device}\") \n",
    "print(f\"Device tensor ic1_scope_gpu is stored on: {ic1_scope_gpu.device}\") \n",
    "print(f\"Initial condition 1: \\n \\t [t, mu]: \\n{ic1_t_mu_gpu}\")\n",
    "print(f\"\\n Initial condition 1: \\n \\t u(t=0, mu) = 1: \\n {ic1_scope_gpu}\")\n",
    "print(f\"\\n Shapes of [t, mu] and u(t=0, mu) = 1: \\n\\t{ic1_t_mu_gpu.shape}, {ic1_scope_gpu.shape}\")\n",
    "print(\"*\" * 100 + \"\\n\" + \"*\" * 100)"
   ]
  },
  {
   "cell_type": "markdown",
   "id": "4f31c975-faf8-4c87-a602-3a5601e0d284",
   "metadata": {},
   "source": [
    "#### Initial condition 2: t and mu training points generation:\n",
    "$$\n",
    "\\dfrac{d u}{d t}(t=0, \\mu) = 0~\n",
    "$$"
   ]
  },
  {
   "cell_type": "code",
   "execution_count": 16,
   "id": "eb20bf74-00c5-4941-8eff-36dfe6a3b678",
   "metadata": {
    "execution": {
     "iopub.execute_input": "2024-02-07T11:16:09.072927Z",
     "iopub.status.busy": "2024-02-07T11:16:09.072426Z",
     "iopub.status.idle": "2024-02-07T11:16:09.105451Z",
     "shell.execute_reply": "2024-02-07T11:16:09.104106Z",
     "shell.execute_reply.started": "2024-02-07T11:16:09.072890Z"
    }
   },
   "outputs": [
    {
     "name": "stdout",
     "output_type": "stream",
     "text": [
      "****************************************************************************************************\n",
      "****************************************************************************************************\n",
      "Device tensor ic2_t_mu_gpu is stored on: cuda:0\n",
      "Device tensor ic2_scope_gpu is stored on: cuda:0\n",
      "Initial condition 2: \n",
      " \t [t, mu]: \n",
      "tensor([[ 0.0000,  1.0000],\n",
      "        [ 0.0000,  1.2308],\n",
      "        [ 0.0000,  1.4615],\n",
      "        [ 0.0000,  1.6923],\n",
      "        [ 0.0000,  1.9231],\n",
      "        [ 0.0000,  2.1538],\n",
      "        [ 0.0000,  2.3846],\n",
      "        [ 0.0000,  2.6154],\n",
      "        [ 0.0000,  2.8462],\n",
      "        [ 0.0000,  3.0769],\n",
      "        [ 0.0000,  3.3077],\n",
      "        [ 0.0000,  3.5385],\n",
      "        [ 0.0000,  3.7692],\n",
      "        [ 0.0000,  4.0000],\n",
      "        [ 0.0000,  4.2308],\n",
      "        [ 0.0000,  4.4615],\n",
      "        [ 0.0000,  4.6923],\n",
      "        [ 0.0000,  4.9231],\n",
      "        [ 0.0000,  5.1538],\n",
      "        [ 0.0000,  5.3846],\n",
      "        [ 0.0000,  5.6154],\n",
      "        [ 0.0000,  5.8462],\n",
      "        [ 0.0000,  6.0769],\n",
      "        [ 0.0000,  6.3077],\n",
      "        [ 0.0000,  6.5385],\n",
      "        [ 0.0000,  6.7692],\n",
      "        [ 0.0000,  7.0000],\n",
      "        [ 0.0000,  7.2308],\n",
      "        [ 0.0000,  7.4615],\n",
      "        [ 0.0000,  7.6923],\n",
      "        [ 0.0000,  7.9231],\n",
      "        [ 0.0000,  8.1538],\n",
      "        [ 0.0000,  8.3846],\n",
      "        [ 0.0000,  8.6154],\n",
      "        [ 0.0000,  8.8462],\n",
      "        [ 0.0000,  9.0769],\n",
      "        [ 0.0000,  9.3077],\n",
      "        [ 0.0000,  9.5385],\n",
      "        [ 0.0000,  9.7692],\n",
      "        [ 0.0000, 10.0000]], device='cuda:0', grad_fn=<StackBackward0>)\n",
      "\n",
      " Initial condition 2: \n",
      " \t du/dt(t=0, mu) = 0: \n",
      " tensor([[0.],\n",
      "        [0.],\n",
      "        [0.],\n",
      "        [0.],\n",
      "        [0.],\n",
      "        [0.],\n",
      "        [0.],\n",
      "        [0.],\n",
      "        [0.],\n",
      "        [0.],\n",
      "        [0.],\n",
      "        [0.],\n",
      "        [0.],\n",
      "        [0.],\n",
      "        [0.],\n",
      "        [0.],\n",
      "        [0.],\n",
      "        [0.],\n",
      "        [0.],\n",
      "        [0.],\n",
      "        [0.],\n",
      "        [0.],\n",
      "        [0.],\n",
      "        [0.],\n",
      "        [0.],\n",
      "        [0.],\n",
      "        [0.],\n",
      "        [0.],\n",
      "        [0.],\n",
      "        [0.],\n",
      "        [0.],\n",
      "        [0.],\n",
      "        [0.],\n",
      "        [0.],\n",
      "        [0.],\n",
      "        [0.],\n",
      "        [0.],\n",
      "        [0.],\n",
      "        [0.],\n",
      "        [0.]], device='cuda:0', requires_grad=True)\n",
      "\n",
      " Shapes of [t, mu] and du/dt(t=0, mu) = 0: \n",
      "\ttorch.Size([40, 2]), torch.Size([40, 1])\n",
      "****************************************************************************************************\n",
      "****************************************************************************************************\n"
     ]
    }
   ],
   "source": [
    "# Initial condition 2:\n",
    "ic2_t_mu_gpu = torch.stack([torch.zeros(point_resolution_gpu).requires_grad_(True).to(device), torch.linspace(1,10, point_resolution_gpu).requires_grad_(True).to(device)], -1)\n",
    "ic2_scope_gpu = torch.zeros_like(ic2_t_mu_gpu[:,0:1]).requires_grad_(True).to(device)\n",
    "print(\"*\" * 100 + \"\\n\" + \"*\" * 100)\n",
    "print(f\"Device tensor ic2_t_mu_gpu is stored on: {ic2_t_mu_gpu.device}\") \n",
    "print(f\"Device tensor ic2_scope_gpu is stored on: {ic2_scope_gpu.device}\") \n",
    "print(f\"Initial condition 2: \\n \\t [t, mu]: \\n{ic2_t_mu_gpu}\")\n",
    "print(f\"\\n Initial condition 2: \\n \\t du/dt(t=0, mu) = 0: \\n {ic2_scope_gpu}\")\n",
    "print(f\"\\n Shapes of [t, mu] and du/dt(t=0, mu) = 0: \\n\\t{ic2_t_mu_gpu.shape}, {ic2_scope_gpu.shape}\")\n",
    "print(\"*\" * 100 + \"\\n\" + \"*\" * 100)"
   ]
  },
  {
   "cell_type": "markdown",
   "id": "40d6f977-c99e-4ac1-a184-8382a5724070",
   "metadata": {},
   "source": [
    "#### Generation of physical domain training points: "
   ]
  },
  {
   "cell_type": "code",
   "execution_count": 36,
   "id": "30ac2da0-8903-455f-b853-0296babbf2d0",
   "metadata": {
    "execution": {
     "iopub.execute_input": "2024-02-07T20:39:21.058580Z",
     "iopub.status.busy": "2024-02-07T20:39:21.058110Z",
     "iopub.status.idle": "2024-02-07T20:39:21.089503Z",
     "shell.execute_reply": "2024-02-07T20:39:21.088190Z",
     "shell.execute_reply.started": "2024-02-07T20:39:21.058544Z"
    }
   },
   "outputs": [
    {
     "name": "stdout",
     "output_type": "stream",
     "text": [
      "****************************************************************************************************\n",
      "****************************************************************************************************\n",
      "physic_in_t_mu_gpu is a LIST of tensors and is NOT used directly\n",
      "Device tensor physic_domain_t_mu_gpu is stored on: cuda:0\n",
      " Point seed list for mesh grid domain points: \n",
      " \t tensor([[1.0000e-02, 1.0000e+00],\n",
      "        [1.0000e-02, 1.2308e+00],\n",
      "        [1.0000e-02, 1.4615e+00],\n",
      "        ...,\n",
      "        [1.0000e+00, 9.5385e+00],\n",
      "        [1.0000e+00, 9.7692e+00],\n",
      "        [1.0000e+00, 1.0000e+01]], device='cuda:0', grad_fn=<ViewBackward0>)\n",
      "Domain training points: \n",
      " \t: tensor([[1.0000e-02, 1.0000e+00],\n",
      "        [1.0000e-02, 1.2308e+00],\n",
      "        [1.0000e-02, 1.4615e+00],\n",
      "        ...,\n",
      "        [1.0000e+00, 9.5385e+00],\n",
      "        [1.0000e+00, 9.7692e+00],\n",
      "        [1.0000e+00, 1.0000e+01]], device='cuda:0', grad_fn=<ViewBackward0>)\n",
      "Size of Domain training points: \n",
      " \t torch.Size([1600, 2])\n",
      "****************************************************************************************************\n",
      "****************************************************************************************************\n"
     ]
    }
   ],
   "source": [
    "# Physical domain:\n",
    "physic_in_t_mu_gpu = [torch.linspace(1e-2,1, point_resolution_gpu).requires_grad_(True).to(device), torch.linspace(1,10, point_resolution_gpu).requires_grad_(True).to(device)] # Mejora: se puede utilizar torch.rand\n",
    "physic_domain_t_mu_gpu = torch.stack(torch.meshgrid(*physic_in_t_mu_gpu, indexing='ij'), -1).view(-1, 2).requires_grad_(True).to(device)\n",
    "print(\"*\" * 100 + \"\\n\" + \"*\" * 100)\n",
    "print(f\"physic_in_t_mu_gpu is a LIST of tensors and is NOT used directly\") \n",
    "print(f\"Device tensor physic_domain_t_mu_gpu is stored on: {physic_domain_t_mu_gpu.device}\") \n",
    "print(f\" Point seed list for mesh grid domain points: \\n \\t {physic_domain_t_mu_gpu}\")\n",
    "print(f\"Domain training points: \\n \\t: {physic_domain_t_mu_gpu}\")\n",
    "print(f\"Size of Domain training points: \\n \\t {physic_domain_t_mu_gpu.size()}\")\n",
    "print(\"*\" * 100 + \"\\n\" + \"*\" * 100)\n"
   ]
  },
  {
   "cell_type": "markdown",
   "id": "3588a690-c0a7-438e-b367-000c2fe88650",
   "metadata": {},
   "source": [
    "#### Generation of testing points:"
   ]
  },
  {
   "cell_type": "code",
   "execution_count": 33,
   "id": "e74a2107-2a5d-4cbc-b127-4aa924b29003",
   "metadata": {
    "execution": {
     "iopub.execute_input": "2024-02-07T11:32:13.329346Z",
     "iopub.status.busy": "2024-02-07T11:32:13.328842Z",
     "iopub.status.idle": "2024-02-07T11:32:13.344928Z",
     "shell.execute_reply": "2024-02-07T11:32:13.343528Z",
     "shell.execute_reply.started": "2024-02-07T11:32:13.329307Z"
    }
   },
   "outputs": [
    {
     "name": "stdout",
     "output_type": "stream",
     "text": [
      "****************************************************************************************************\n",
      "****************************************************************************************************\n",
      "Device tensor physic_domain_t_mu is stored on: cpu. This tensor must be in the cpu!!\n",
      "Point seed list for mesh grid test points: \n",
      " \t \n",
      " \t [tensor([0.0000, 0.0101, 0.0202, 0.0303, 0.0404, 0.0505, 0.0606, 0.0707, 0.0808,\n",
      "        0.0909, 0.1010, 0.1111, 0.1212, 0.1313, 0.1414, 0.1515, 0.1616, 0.1717,\n",
      "        0.1818, 0.1919, 0.2020, 0.2121, 0.2222, 0.2323, 0.2424, 0.2525, 0.2626,\n",
      "        0.2727, 0.2828, 0.2929, 0.3030, 0.3131, 0.3232, 0.3333, 0.3434, 0.3535,\n",
      "        0.3636, 0.3737, 0.3838, 0.3939, 0.4040, 0.4141, 0.4242, 0.4343, 0.4444,\n",
      "        0.4545, 0.4646, 0.4747, 0.4848, 0.4949, 0.5051, 0.5152, 0.5253, 0.5354,\n",
      "        0.5455, 0.5556, 0.5657, 0.5758, 0.5859, 0.5960, 0.6061, 0.6162, 0.6263,\n",
      "        0.6364, 0.6465, 0.6566, 0.6667, 0.6768, 0.6869, 0.6970, 0.7071, 0.7172,\n",
      "        0.7273, 0.7374, 0.7475, 0.7576, 0.7677, 0.7778, 0.7879, 0.7980, 0.8081,\n",
      "        0.8182, 0.8283, 0.8384, 0.8485, 0.8586, 0.8687, 0.8788, 0.8889, 0.8990,\n",
      "        0.9091, 0.9192, 0.9293, 0.9394, 0.9495, 0.9596, 0.9697, 0.9798, 0.9899,\n",
      "        1.0000]), tensor([ 1.0000,  1.0909,  1.1818,  1.2727,  1.3636,  1.4545,  1.5455,  1.6364,\n",
      "         1.7273,  1.8182,  1.9091,  2.0000,  2.0909,  2.1818,  2.2727,  2.3636,\n",
      "         2.4545,  2.5455,  2.6364,  2.7273,  2.8182,  2.9091,  3.0000,  3.0909,\n",
      "         3.1818,  3.2727,  3.3636,  3.4545,  3.5455,  3.6364,  3.7273,  3.8182,\n",
      "         3.9091,  4.0000,  4.0909,  4.1818,  4.2727,  4.3636,  4.4545,  4.5455,\n",
      "         4.6364,  4.7273,  4.8182,  4.9091,  5.0000,  5.0909,  5.1818,  5.2727,\n",
      "         5.3636,  5.4545,  5.5455,  5.6364,  5.7273,  5.8182,  5.9091,  6.0000,\n",
      "         6.0909,  6.1818,  6.2727,  6.3636,  6.4545,  6.5455,  6.6364,  6.7273,\n",
      "         6.8182,  6.9091,  7.0000,  7.0909,  7.1818,  7.2727,  7.3636,  7.4545,\n",
      "         7.5455,  7.6364,  7.7273,  7.8182,  7.9091,  8.0000,  8.0909,  8.1818,\n",
      "         8.2727,  8.3636,  8.4545,  8.5455,  8.6364,  8.7273,  8.8182,  8.9091,\n",
      "         9.0000,  9.0909,  9.1818,  9.2727,  9.3636,  9.4545,  9.5455,  9.6364,\n",
      "         9.7273,  9.8182,  9.9091, 10.0000])]\n",
      " Test points \n",
      " \t [t, mu]: \n",
      " \t tensor([[ 0.0000,  1.0000],\n",
      "        [ 0.0000,  1.0909],\n",
      "        [ 0.0000,  1.1818],\n",
      "        ...,\n",
      "        [ 1.0000,  9.8182],\n",
      "        [ 1.0000,  9.9091],\n",
      "        [ 1.0000, 10.0000]])\n",
      "Size of the test domain points: \n",
      " \t torch.Size([10000, 2])\n",
      "****************************************************************************************************\n",
      "****************************************************************************************************\n"
     ]
    }
   ],
   "source": [
    "#### Generation of t and mu test points within the domain:\n",
    "point_resolution_test = 100\n",
    "\n",
    "# Testing points:\n",
    "test_in_t_mu = [torch.linspace(0,1,point_resolution_test), torch.linspace(1,10,point_resolution_test) ]\n",
    "test_domain_t_mu = torch.stack(torch.meshgrid(*test_in_t_mu, indexing='ij'), -1).view(-1, 2)\n",
    "print(\"*\" * 100 + \"\\n\" + \"*\" * 100)\n",
    "print(f\"Device tensor test_domain_t_mu is stored on: {test_domain_t_mu.device}. The test tensor is not needed to be must be in the cpu!!\")\n",
    "print(f\"Point seed list for mesh grid test points: \\n \\t \\n \\t {test_in_t_mu}\")\n",
    "print(f\" Test points \\n \\t [t, mu]: \\n \\t {test_domain_t_mu}\")\n",
    "print(f\"Size of the test domain points: \\n \\t {test_domain_t_mu.size()}\")\n",
    "print(\"*\" * 100 + \"\\n\" + \"*\" * 100)"
   ]
  },
  {
   "cell_type": "markdown",
   "id": "9a4579ea-8847-43cb-afe5-a41152dd72cf",
   "metadata": {},
   "source": [
    "#### Exact solution:"
   ]
  },
  {
   "cell_type": "code",
   "execution_count": 22,
   "id": "658a382c-d063-4dd9-b0f4-58023fae44c4",
   "metadata": {
    "execution": {
     "iopub.execute_input": "2024-02-07T11:24:40.163031Z",
     "iopub.status.busy": "2024-02-07T11:24:40.162569Z",
     "iopub.status.idle": "2024-02-07T11:24:40.171605Z",
     "shell.execute_reply": "2024-02-07T11:24:40.170146Z",
     "shell.execute_reply.started": "2024-02-07T11:24:40.162994Z"
    }
   },
   "outputs": [],
   "source": [
    "def exact_solution(d, w0, t):\n",
    "    \"Defines the analytical solution to the under-damped harmonic oscillator problem above.\"\n",
    "    assert d < w0             \n",
    "    w = np.sqrt(w0**2-d**2)\n",
    "    phi = np.arctan(-d/w)\n",
    "    A = 1/(2*np.cos(phi))\n",
    "    cos = torch.cos(phi+w*t)\n",
    "    exp = torch.exp(-d*t)\n",
    "    u = exp*2*A*cos\n",
    "    return u"
   ]
  },
  {
   "cell_type": "code",
   "execution_count": 26,
   "id": "8c669a8b-008c-440f-867e-1e32279374c8",
   "metadata": {
    "execution": {
     "iopub.execute_input": "2024-02-07T11:26:05.200189Z",
     "iopub.status.busy": "2024-02-07T11:26:05.199711Z",
     "iopub.status.idle": "2024-02-07T11:26:05.210721Z",
     "shell.execute_reply": "2024-02-07T11:26:05.209332Z",
     "shell.execute_reply.started": "2024-02-07T11:26:05.200152Z"
    }
   },
   "outputs": [
    {
     "data": {
      "text/plain": [
       "device(type='cpu')"
      ]
     },
     "execution_count": 26,
     "metadata": {},
     "output_type": "execute_result"
    }
   ],
   "source": [
    "# Example to check if it works (calculation of the exact solution):\n",
    "test_mu_gpu = 5\n",
    "u_exact_gpu = exact_solution(test_mu_gpu/(2*mass), w0, test_in_t_mu_gpu[0])\n",
    "#u_exact_gpu.view(-1,1)\n",
    "#u_exact_gpu.size()\n",
    "#u_exact_gpu.numel()\n",
    "#u_exact_gpu.dim()\n",
    "#u_exact_gpu\n",
    "u_exact_gpu.device"
   ]
  },
  {
   "cell_type": "code",
   "execution_count": 18,
   "id": "c0c64a13-d84b-4eb6-a892-44ae9f0d1c78",
   "metadata": {
    "execution": {
     "iopub.execute_input": "2024-01-18T14:50:27.593492Z",
     "iopub.status.busy": "2024-01-18T14:50:27.593324Z",
     "iopub.status.idle": "2024-01-18T14:50:27.811003Z",
     "shell.execute_reply": "2024-01-18T14:50:27.810151Z",
     "shell.execute_reply.started": "2024-01-18T14:50:27.593478Z"
    }
   },
   "outputs": [
    {
     "data": {
      "image/png": "[encoded data removed]",
      "text/plain": [
       "<Figure size 1000x250 with 1 Axes>"
      ]
     },
     "metadata": {},
     "output_type": "display_data"
    }
   ],
   "source": [
    "# Plotting the exact solution:\n",
    "plt.figure(figsize=(10,2.5))\n",
    "plt.plot(\n",
    "        test_in_t_mu_gpu[0], \n",
    "        u_exact_gpu, \n",
    "        label=\"Exact solution\", \n",
    "        color=\"tab:grey\", \n",
    "        alpha=0.6)\n",
    "plt.scatter(\n",
    "        test_in_t_mu_gpu[0], \n",
    "        torch.zeros_like(test_in_t_mu_gpu[0]), \n",
    "        s=20, \n",
    "        lw=0, \n",
    "        color=\"tab:green\",\n",
    "        alpha=0.6,\n",
    "        label= \"Seed points (testing)\")\n",
    "plt.scatter(\n",
    "        physic_in_t_mu_gpu[0].cpu().detach(), \n",
    "        torch.zeros_like(physic_in_t_mu_gpu[0]).cpu(), \n",
    "        s=20, \n",
    "        lw=0, \n",
    "        color=\"tab:red\",\n",
    "        alpha=0.6,\n",
    "        label= \"Training points\")\n",
    "\n",
    "plt.title(f\"Exact solution using GPU \\n u(t=(0,1), $\\mu$ = {test_mu_gpu}) using {point_resolution_test_gpu} seed points\")\n",
    "plt.legend()\n",
    "plt.show()"
   ]
  },
  {
   "cell_type": "markdown",
   "id": "672d9331-3fee-41e7-a544-2180605c43b3",
   "metadata": {},
   "source": [
    "## Step 2: Create Fully Connected Neural Network Class (FCNN):"
   ]
  },
  {
   "cell_type": "code",
   "execution_count": 19,
   "id": "fb413bba-8508-46f8-9580-247ca561f536",
   "metadata": {
    "execution": {
     "iopub.execute_input": "2024-01-18T14:50:27.812091Z",
     "iopub.status.busy": "2024-01-18T14:50:27.811914Z",
     "iopub.status.idle": "2024-01-18T14:50:27.823624Z",
     "shell.execute_reply": "2024-01-18T14:50:27.822765Z",
     "shell.execute_reply.started": "2024-01-18T14:50:27.812074Z"
    }
   },
   "outputs": [],
   "source": [
    "### Definition of the Fully Connected Neural Network Class:\n",
    "# Ben Moseley:\n",
    "class FCN(nn.Module):\n",
    "    \"Defines a fully-connected network\"\n",
    "    \n",
    "    def __init__(self, N_INPUT, N_OUTPUT, N_HIDDEN, N_LAYERS):\n",
    "        super().__init__()\n",
    "        activation = nn.Tanh\n",
    "        self.fcs = nn.Sequential(*[\n",
    "                        nn.Linear(N_INPUT, N_HIDDEN),\n",
    "                        activation()])\n",
    "        self.fch = nn.Sequential(*[\n",
    "                        nn.Sequential(*[\n",
    "                            nn.Linear(N_HIDDEN, N_HIDDEN),\n",
    "                            activation()]) for _ in range(N_LAYERS-1)])\n",
    "        self.fce = nn.Linear(N_HIDDEN, N_OUTPUT)\n",
    "        \n",
    "    def forward(self, x):\n",
    "        x = self.fcs(x)\n",
    "        x = self.fch(x)\n",
    "        x = self.fce(x)\n",
    "        return x\n",
    "\n",
    "### Definition of the Fully Connected Neural Network Class\n",
    "# Ben Moseley and added ACTIVATION FUNCTION and INITIALIZATION\n",
    "\n",
    "class FCN_init(nn.Module):\n",
    "    \"Defines a fully-connected network\"\n",
    "    \n",
    "    def __init__(self, N_INPUT, N_OUTPUT, N_HIDDEN, N_LAYERS, activation = \"Tanh\"):#, initialization = \"Xavier\"):\n",
    "        super().__init__()\n",
    "        activation_functions = nn.ModuleDict([\n",
    "                                            [\"Tanh\", nn.Tanh()],\n",
    "                                            [\"ReLU\", nn.ReLU()],\n",
    "                                            [\"LeakyReLU\", nn.LeakyReLU()],\n",
    "                                            [\"Sigmoid\", nn.Sigmoid()],\n",
    "                                            [\"Softmax\", nn.Softmax()],\n",
    "                                            ])\n",
    "      # initialization_type = nn.ModuleDict([\n",
    "      #     [\"Xavier\", nn.init.xavier_normal_],\n",
    "      #     ])\n",
    "        #activation = nn.Tanh\n",
    "        self.fcs = nn.Sequential(*[\n",
    "                        nn.Linear(N_INPUT, N_HIDDEN),\n",
    "                        activation_functions[activation]])\n",
    "        self.fch = nn.Sequential(*[\n",
    "                        nn.Sequential(*[\n",
    "                            nn.Linear(N_HIDDEN, N_HIDDEN),\n",
    "                            activation_functions[activation]]) for _ in range(N_LAYERS-1)])\n",
    "        self.fce = nn.Linear(N_HIDDEN, N_OUTPUT)\n",
    "        self.weights_and_bias_initialization()\n",
    "        #self.initialization = initialization\n",
    "        \n",
    "    def forward(self, x):\n",
    "        x = self.fcs(x)\n",
    "        x = self.fch(x)\n",
    "        x = self.fce(x)\n",
    "        return x\n",
    "\n",
    "    def weights_and_bias_initialization(self):\n",
    "        for module_with_layers in self.modules():\n",
    "            if isinstance(module_with_layers, nn.Linear):\n",
    "                #initialization_type(module_with_layers.weight)\n",
    "                #nn.init.xavier_uniform_(module_with_layers.weight)\n",
    "                #nn.init.constant_(module_with_layers.bias, 0)\n",
    "                nn.init.kaiming_uniform_(module_with_layers.weight)\n",
    "                nn.init.constant_(module_with_layers.bias, 0)\n",
    "\n",
    "class FCN_1(nn.Module):   # inherent from nn.Module\n",
    "    \"Defines a standard fully-connected network in PyTorch\"\n",
    "    # Initialization of the neural network layers in __init__:\n",
    "    def __init__(self, input_dim, hidden_dim, output_dim):\n",
    "        super().__init__()                                      \n",
    "        \n",
    "        # INPUT Linear function: 1x1 --> 32x1: [A](32x1)*[X](1x1) + [b](32x1)\n",
    "        self.fc_in = nn.Linear(input_dim, hidden_dim)\n",
    "        \n",
    "        # INPUT Non-linearity (activation function): 32x1-->32x1\n",
    "        self.tangh = nn.Tanh()\n",
    "        \n",
    "        # OUTPUT Linear function: 32x1 --> 1x1: [A](32x1)*[X](1x1) + [b](32x1)\n",
    "        self.fc_out = nn.Linear(hidden_dim, output_dim)\n",
    "\n",
    "    \n",
    "    def forward(self, input):\n",
    "        # INPUT Linear function:\n",
    "        hidden = self.fc_in(input)\n",
    "\n",
    "        # HIDDEN Non-linearity\n",
    "        hidden = self.tangh(hidden)\n",
    "\n",
    "        # OUTPUT Linear function\n",
    "        output = self.fc_out(hidden)\n",
    "        \n",
    "        return output"
   ]
  },
  {
   "cell_type": "markdown",
   "id": "24a0a388-e3cb-41f4-807e-44fd7868a736",
   "metadata": {},
   "source": [
    "## STEP 3: Instantiate the Model Class"
   ]
  },
  {
   "cell_type": "code",
   "execution_count": 20,
   "id": "4c4b79ff-0f9f-464e-b994-f22854de52b1",
   "metadata": {
    "execution": {
     "iopub.execute_input": "2024-01-18T14:50:27.824584Z",
     "iopub.status.busy": "2024-01-18T14:50:27.824415Z",
     "iopub.status.idle": "2024-01-18T14:50:27.853616Z",
     "shell.execute_reply": "2024-01-18T14:50:27.852775Z",
     "shell.execute_reply.started": "2024-01-18T14:50:27.824569Z"
    }
   },
   "outputs": [
    {
     "name": "stdout",
     "output_type": "stream",
     "text": [
      "<bound method Module.parameters of FCN_init(\n",
      "  (fcs): Sequential(\n",
      "    (0): Linear(in_features=2, out_features=64, bias=True)\n",
      "    (1): Tanh()\n",
      "  )\n",
      "  (fch): Sequential(\n",
      "    (0): Sequential(\n",
      "      (0): Linear(in_features=64, out_features=64, bias=True)\n",
      "      (1): Tanh()\n",
      "    )\n",
      "    (1): Sequential(\n",
      "      (0): Linear(in_features=64, out_features=64, bias=True)\n",
      "      (1): Tanh()\n",
      "    )\n",
      "    (2): Sequential(\n",
      "      (0): Linear(in_features=64, out_features=64, bias=True)\n",
      "      (1): Tanh()\n",
      "    )\n",
      "  )\n",
      "  (fce): Linear(in_features=64, out_features=1, bias=True)\n",
      ")>\n",
      "OrderedDict([('fcs.0.weight', tensor([[-0.1240, -0.8420],\n",
      "        [-0.8013,  0.2499],\n",
      "        [ 0.5668,  0.1183],\n",
      "        [ 1.4565,  0.8543],\n",
      "        [-0.1069,  1.5545],\n",
      "        [ 1.2224, -0.1621],\n",
      "        [-0.5100, -0.6432],\n",
      "        [-0.5343, -0.2352],\n",
      "        [ 0.2555,  1.4625],\n",
      "        [-0.9798, -1.4567],\n",
      "        [-1.7251, -0.9887],\n",
      "        [-0.1131, -0.9530],\n",
      "        [-1.5537,  0.6031],\n",
      "        [-0.3944, -1.3614],\n",
      "        [-1.3994, -0.4170],\n",
      "        [ 0.8367, -1.5507],\n",
      "        [ 0.4996,  0.1069],\n",
      "        [-0.5306, -0.4034],\n",
      "        [-1.1769,  0.3247],\n",
      "        [ 1.5704,  0.4151],\n",
      "        [-1.6220,  0.7065],\n",
      "        [-0.0992,  0.4138],\n",
      "        [ 0.0119,  0.3774],\n",
      "        [-1.2751, -1.2069],\n",
      "        [-1.7239,  1.0299],\n",
      "        [-0.7503, -0.2632],\n",
      "        [ 0.7563,  0.6255],\n",
      "        [ 1.2758,  0.6695],\n",
      "        [-0.7880, -0.2640],\n",
      "        [ 0.9315, -0.6561],\n",
      "        [ 1.6981, -0.9214],\n",
      "        [ 0.5649, -0.9007],\n",
      "        [-1.3574,  0.2175],\n",
      "        [-0.6782,  0.8263],\n",
      "        [-0.4333,  1.6511],\n",
      "        [ 0.4090,  1.6924],\n",
      "        [-0.4223, -1.1664],\n",
      "        [-0.4121, -0.7891],\n",
      "        [ 1.0465, -0.9069],\n",
      "        [-1.1989, -1.1008],\n",
      "        [ 1.3675, -1.2170],\n",
      "        [ 0.2511,  1.1359],\n",
      "        [-1.1178, -0.2486],\n",
      "        [-0.8586,  1.6155],\n",
      "        [-0.5660,  0.3916],\n",
      "        [ 0.3188, -1.6105],\n",
      "        [ 0.7755, -0.8266],\n",
      "        [ 1.4553,  1.2723],\n",
      "        [ 0.5739, -0.3929],\n",
      "        [-0.9793,  1.4372],\n",
      "        [ 0.2930,  1.6993],\n",
      "        [-0.2398, -1.3164],\n",
      "        [ 1.5829,  0.8037],\n",
      "        [ 1.5415, -1.3355],\n",
      "        [ 0.3650, -1.3488],\n",
      "        [ 0.6064,  1.4070],\n",
      "        [ 0.6736, -0.5411],\n",
      "        [-1.3461,  0.4627],\n",
      "        [ 1.0107, -0.5066],\n",
      "        [-1.4025,  0.7048],\n",
      "        [ 0.7357, -0.5270],\n",
      "        [-1.6189, -1.6643],\n",
      "        [ 1.6858,  0.1041],\n",
      "        [ 1.1301,  0.6048]], device='cuda:0')), ('fcs.0.bias', tensor([0., 0., 0., 0., 0., 0., 0., 0., 0., 0., 0., 0., 0., 0., 0., 0., 0., 0., 0., 0., 0., 0., 0., 0.,\n",
      "        0., 0., 0., 0., 0., 0., 0., 0., 0., 0., 0., 0., 0., 0., 0., 0., 0., 0., 0., 0., 0., 0., 0., 0.,\n",
      "        0., 0., 0., 0., 0., 0., 0., 0., 0., 0., 0., 0., 0., 0., 0., 0.],\n",
      "       device='cuda:0')), ('fch.0.0.weight', tensor([[-0.0517, -0.1901, -0.2906,  ..., -0.0266,  0.1415,  0.2737],\n",
      "        [-0.0656, -0.1912, -0.0769,  ..., -0.2895, -0.1187, -0.0883],\n",
      "        [-0.2491, -0.2982, -0.2871,  ...,  0.1221, -0.1732, -0.2993],\n",
      "        ...,\n",
      "        [-0.0937, -0.0723, -0.0969,  ..., -0.0194,  0.0368,  0.2292],\n",
      "        [ 0.2431,  0.2643,  0.0434,  ...,  0.2373, -0.2451,  0.0513],\n",
      "        [-0.1208,  0.2083,  0.1942,  ...,  0.2793,  0.0380, -0.2460]],\n",
      "       device='cuda:0')), ('fch.0.0.bias', tensor([0., 0., 0., 0., 0., 0., 0., 0., 0., 0., 0., 0., 0., 0., 0., 0., 0., 0., 0., 0., 0., 0., 0., 0.,\n",
      "        0., 0., 0., 0., 0., 0., 0., 0., 0., 0., 0., 0., 0., 0., 0., 0., 0., 0., 0., 0., 0., 0., 0., 0.,\n",
      "        0., 0., 0., 0., 0., 0., 0., 0., 0., 0., 0., 0., 0., 0., 0., 0.],\n",
      "       device='cuda:0')), ('fch.1.0.weight', tensor([[-0.2935, -0.1043,  0.1415,  ..., -0.1548,  0.0920,  0.2113],\n",
      "        [-0.0097,  0.2220,  0.0793,  ...,  0.1949, -0.0301,  0.1289],\n",
      "        [-0.0690, -0.2901, -0.1459,  ..., -0.0527, -0.1722,  0.1653],\n",
      "        ...,\n",
      "        [ 0.1383,  0.0670, -0.1695,  ...,  0.3041, -0.0012,  0.0239],\n",
      "        [ 0.2436, -0.1637, -0.2414,  ..., -0.0854,  0.0479, -0.1161],\n",
      "        [-0.2737,  0.0855,  0.1948,  ...,  0.1623,  0.2781,  0.2393]],\n",
      "       device='cuda:0')), ('fch.1.0.bias', tensor([0., 0., 0., 0., 0., 0., 0., 0., 0., 0., 0., 0., 0., 0., 0., 0., 0., 0., 0., 0., 0., 0., 0., 0.,\n",
      "        0., 0., 0., 0., 0., 0., 0., 0., 0., 0., 0., 0., 0., 0., 0., 0., 0., 0., 0., 0., 0., 0., 0., 0.,\n",
      "        0., 0., 0., 0., 0., 0., 0., 0., 0., 0., 0., 0., 0., 0., 0., 0.],\n",
      "       device='cuda:0')), ('fch.2.0.weight', tensor([[-0.1756,  0.2830, -0.1006,  ..., -0.1724, -0.0590, -0.0620],\n",
      "        [-0.1798, -0.0893, -0.2405,  ..., -0.1267, -0.2082, -0.2492],\n",
      "        [ 0.2848,  0.1013,  0.0194,  ..., -0.0715, -0.1592, -0.3020],\n",
      "        ...,\n",
      "        [ 0.2833, -0.0836,  0.1936,  ...,  0.1841, -0.0841,  0.1298],\n",
      "        [-0.1585, -0.1184, -0.2229,  ...,  0.2421, -0.0047, -0.1934],\n",
      "        [-0.1134,  0.0132,  0.2046,  ..., -0.0470,  0.0792,  0.1111]],\n",
      "       device='cuda:0')), ('fch.2.0.bias', tensor([0., 0., 0., 0., 0., 0., 0., 0., 0., 0., 0., 0., 0., 0., 0., 0., 0., 0., 0., 0., 0., 0., 0., 0.,\n",
      "        0., 0., 0., 0., 0., 0., 0., 0., 0., 0., 0., 0., 0., 0., 0., 0., 0., 0., 0., 0., 0., 0., 0., 0.,\n",
      "        0., 0., 0., 0., 0., 0., 0., 0., 0., 0., 0., 0., 0., 0., 0., 0.],\n",
      "       device='cuda:0')), ('fce.weight', tensor([[-0.0520,  0.3022, -0.0504,  0.0062, -0.1035,  0.1818,  0.2347, -0.1915,\n",
      "         -0.1546,  0.1371, -0.2125,  0.1709,  0.0204,  0.0840,  0.3025,  0.2589,\n",
      "         -0.0626, -0.1150, -0.0067,  0.0385, -0.2186,  0.0818,  0.1999,  0.0959,\n",
      "         -0.2203, -0.0348,  0.0400, -0.0426,  0.1842,  0.0414, -0.2837,  0.1052,\n",
      "         -0.1007, -0.2726,  0.2335, -0.1014, -0.2372,  0.2025,  0.2991, -0.0745,\n",
      "          0.2455,  0.1047, -0.1286,  0.0743,  0.0114, -0.0691,  0.0678, -0.0472,\n",
      "         -0.2933, -0.0572,  0.1110, -0.2695,  0.2702, -0.2385,  0.0262, -0.1494,\n",
      "          0.2022,  0.3010,  0.0867, -0.0548, -0.0677,  0.1311, -0.0200,  0.1100]],\n",
      "       device='cuda:0')), ('fce.bias', tensor([0.], device='cuda:0'))])\n"
     ]
    }
   ],
   "source": [
    "activation_func = \"Tanh\"\n",
    "model_init_gpu = FCN_init(2,1,64,4, activation= activation_func)\n",
    "model_init_gpu.to(device)\n",
    "print(model_init_gpu.parameters)\n",
    "print(model_init_gpu.state_dict())"
   ]
  },
  {
   "cell_type": "markdown",
   "id": "33a00947-caa9-4728-9d77-d24ac62408c0",
   "metadata": {},
   "source": [
    "### Checking the model using test points and a constant mu value at the initialization:"
   ]
  },
  {
   "cell_type": "code",
   "execution_count": 21,
   "id": "362fe69c-0ba6-4bb1-8753-21e7ef185fbf",
   "metadata": {
    "execution": {
     "iopub.execute_input": "2024-01-18T14:50:27.854621Z",
     "iopub.status.busy": "2024-01-18T14:50:27.854453Z",
     "iopub.status.idle": "2024-01-18T14:50:27.889895Z",
     "shell.execute_reply": "2024-01-18T14:50:27.888955Z",
     "shell.execute_reply.started": "2024-01-18T14:50:27.854606Z"
    }
   },
   "outputs": [
    {
     "data": {
      "text/plain": [
       "tensor([[-1.0174],\n",
       "        [-1.0157],\n",
       "        [-1.0140],\n",
       "        [-1.0123],\n",
       "        [-1.0106],\n",
       "        [-1.0090],\n",
       "        [-1.0074],\n",
       "        [-1.0059],\n",
       "        [-1.0043],\n",
       "        [-1.0028],\n",
       "        [-1.0013],\n",
       "        [-0.9999],\n",
       "        [-0.9985],\n",
       "        [-0.9971],\n",
       "        [-0.9958],\n",
       "        [-0.9945],\n",
       "        [-0.9932],\n",
       "        [-0.9919],\n",
       "        [-0.9907],\n",
       "        [-0.9895],\n",
       "        [-0.9884],\n",
       "        [-0.9872],\n",
       "        [-0.9861],\n",
       "        [-0.9851],\n",
       "        [-0.9840],\n",
       "        [-0.9830],\n",
       "        [-0.9821],\n",
       "        [-0.9811],\n",
       "        [-0.9802],\n",
       "        [-0.9793],\n",
       "        [-0.9785],\n",
       "        [-0.9776],\n",
       "        [-0.9768],\n",
       "        [-0.9761],\n",
       "        [-0.9753],\n",
       "        [-0.9746],\n",
       "        [-0.9739],\n",
       "        [-0.9733],\n",
       "        [-0.9726],\n",
       "        [-0.9720],\n",
       "        [-0.9714],\n",
       "        [-0.9708],\n",
       "        [-0.9703],\n",
       "        [-0.9698],\n",
       "        [-0.9693],\n",
       "        [-0.9688],\n",
       "        [-0.9683],\n",
       "        [-0.9679],\n",
       "        [-0.9675],\n",
       "        [-0.9671],\n",
       "        [-0.9667],\n",
       "        [-0.9663],\n",
       "        [-0.9660],\n",
       "        [-0.9656],\n",
       "        [-0.9653],\n",
       "        [-0.9650],\n",
       "        [-0.9648],\n",
       "        [-0.9645],\n",
       "        [-0.9643],\n",
       "        [-0.9640],\n",
       "        [-0.9638],\n",
       "        [-0.9636],\n",
       "        [-0.9634],\n",
       "        [-0.9632],\n",
       "        [-0.9631],\n",
       "        [-0.9629],\n",
       "        [-0.9628],\n",
       "        [-0.9626],\n",
       "        [-0.9625],\n",
       "        [-0.9624],\n",
       "        [-0.9623],\n",
       "        [-0.9622],\n",
       "        [-0.9621],\n",
       "        [-0.9620],\n",
       "        [-0.9620],\n",
       "        [-0.9619],\n",
       "        [-0.9618],\n",
       "        [-0.9618],\n",
       "        [-0.9617],\n",
       "        [-0.9617],\n",
       "        [-0.9617],\n",
       "        [-0.9616],\n",
       "        [-0.9616],\n",
       "        [-0.9616],\n",
       "        [-0.9615],\n",
       "        [-0.9615],\n",
       "        [-0.9615],\n",
       "        [-0.9615],\n",
       "        [-0.9615],\n",
       "        [-0.9615],\n",
       "        [-0.9615],\n",
       "        [-0.9614],\n",
       "        [-0.9614],\n",
       "        [-0.9614],\n",
       "        [-0.9614],\n",
       "        [-0.9614],\n",
       "        [-0.9614],\n",
       "        [-0.9613],\n",
       "        [-0.9613],\n",
       "        [-0.9613]], device='cuda:0', grad_fn=<AddmmBackward0>)"
      ]
     },
     "execution_count": 21,
     "metadata": {},
     "output_type": "execute_result"
    }
   ],
   "source": [
    "test_mu_gpu = 5\n",
    "test_in_t_constant_mu_gpu = torch.stack([torch.linspace(0,1,point_resolution_test_gpu), test_mu_gpu*torch.ones(point_resolution_test_gpu)], -1).view(-1,2).to(device)\n",
    "test_predicted_init_gpu = model_init_gpu(test_in_t_constant_mu_gpu)\n",
    "test_predicted_init_gpu\n",
    "#test_predicted_init_gpu.size()"
   ]
  },
  {
   "cell_type": "code",
   "execution_count": 22,
   "id": "0fb65af2-dba8-499a-8d36-53388c28dd64",
   "metadata": {
    "execution": {
     "iopub.execute_input": "2024-01-18T14:50:27.893159Z",
     "iopub.status.busy": "2024-01-18T14:50:27.892975Z",
     "iopub.status.idle": "2024-01-18T14:50:27.903463Z",
     "shell.execute_reply": "2024-01-18T14:50:27.902791Z",
     "shell.execute_reply.started": "2024-01-18T14:50:27.893141Z"
    }
   },
   "outputs": [
    {
     "data": {
      "text/plain": [
       "tensor([[0.0000, 5.0000],\n",
       "        [0.0101, 5.0000],\n",
       "        [0.0202, 5.0000],\n",
       "        [0.0303, 5.0000],\n",
       "        [0.0404, 5.0000],\n",
       "        [0.0505, 5.0000],\n",
       "        [0.0606, 5.0000],\n",
       "        [0.0707, 5.0000],\n",
       "        [0.0808, 5.0000],\n",
       "        [0.0909, 5.0000],\n",
       "        [0.1010, 5.0000],\n",
       "        [0.1111, 5.0000],\n",
       "        [0.1212, 5.0000],\n",
       "        [0.1313, 5.0000],\n",
       "        [0.1414, 5.0000],\n",
       "        [0.1515, 5.0000],\n",
       "        [0.1616, 5.0000],\n",
       "        [0.1717, 5.0000],\n",
       "        [0.1818, 5.0000],\n",
       "        [0.1919, 5.0000],\n",
       "        [0.2020, 5.0000],\n",
       "        [0.2121, 5.0000],\n",
       "        [0.2222, 5.0000],\n",
       "        [0.2323, 5.0000],\n",
       "        [0.2424, 5.0000],\n",
       "        [0.2525, 5.0000],\n",
       "        [0.2626, 5.0000],\n",
       "        [0.2727, 5.0000],\n",
       "        [0.2828, 5.0000],\n",
       "        [0.2929, 5.0000],\n",
       "        [0.3030, 5.0000],\n",
       "        [0.3131, 5.0000],\n",
       "        [0.3232, 5.0000],\n",
       "        [0.3333, 5.0000],\n",
       "        [0.3434, 5.0000],\n",
       "        [0.3535, 5.0000],\n",
       "        [0.3636, 5.0000],\n",
       "        [0.3737, 5.0000],\n",
       "        [0.3838, 5.0000],\n",
       "        [0.3939, 5.0000],\n",
       "        [0.4040, 5.0000],\n",
       "        [0.4141, 5.0000],\n",
       "        [0.4242, 5.0000],\n",
       "        [0.4343, 5.0000],\n",
       "        [0.4444, 5.0000],\n",
       "        [0.4545, 5.0000],\n",
       "        [0.4646, 5.0000],\n",
       "        [0.4747, 5.0000],\n",
       "        [0.4848, 5.0000],\n",
       "        [0.4949, 5.0000],\n",
       "        [0.5051, 5.0000],\n",
       "        [0.5152, 5.0000],\n",
       "        [0.5253, 5.0000],\n",
       "        [0.5354, 5.0000],\n",
       "        [0.5455, 5.0000],\n",
       "        [0.5556, 5.0000],\n",
       "        [0.5657, 5.0000],\n",
       "        [0.5758, 5.0000],\n",
       "        [0.5859, 5.0000],\n",
       "        [0.5960, 5.0000],\n",
       "        [0.6061, 5.0000],\n",
       "        [0.6162, 5.0000],\n",
       "        [0.6263, 5.0000],\n",
       "        [0.6364, 5.0000],\n",
       "        [0.6465, 5.0000],\n",
       "        [0.6566, 5.0000],\n",
       "        [0.6667, 5.0000],\n",
       "        [0.6768, 5.0000],\n",
       "        [0.6869, 5.0000],\n",
       "        [0.6970, 5.0000],\n",
       "        [0.7071, 5.0000],\n",
       "        [0.7172, 5.0000],\n",
       "        [0.7273, 5.0000],\n",
       "        [0.7374, 5.0000],\n",
       "        [0.7475, 5.0000],\n",
       "        [0.7576, 5.0000],\n",
       "        [0.7677, 5.0000],\n",
       "        [0.7778, 5.0000],\n",
       "        [0.7879, 5.0000],\n",
       "        [0.7980, 5.0000],\n",
       "        [0.8081, 5.0000],\n",
       "        [0.8182, 5.0000],\n",
       "        [0.8283, 5.0000],\n",
       "        [0.8384, 5.0000],\n",
       "        [0.8485, 5.0000],\n",
       "        [0.8586, 5.0000],\n",
       "        [0.8687, 5.0000],\n",
       "        [0.8788, 5.0000],\n",
       "        [0.8889, 5.0000],\n",
       "        [0.8990, 5.0000],\n",
       "        [0.9091, 5.0000],\n",
       "        [0.9192, 5.0000],\n",
       "        [0.9293, 5.0000],\n",
       "        [0.9394, 5.0000],\n",
       "        [0.9495, 5.0000],\n",
       "        [0.9596, 5.0000],\n",
       "        [0.9697, 5.0000],\n",
       "        [0.9798, 5.0000],\n",
       "        [0.9899, 5.0000],\n",
       "        [1.0000, 5.0000]], device='cuda:0')"
      ]
     },
     "execution_count": 22,
     "metadata": {},
     "output_type": "execute_result"
    }
   ],
   "source": [
    "test_in_t_constant_mu_gpu"
   ]
  },
  {
   "cell_type": "code",
   "execution_count": 23,
   "id": "f5b4edd1-e4bb-43b9-9a66-d4c9453183a2",
   "metadata": {
    "execution": {
     "iopub.execute_input": "2024-01-18T14:50:27.904380Z",
     "iopub.status.busy": "2024-01-18T14:50:27.904208Z",
     "iopub.status.idle": "2024-01-18T14:50:28.094802Z",
     "shell.execute_reply": "2024-01-18T14:50:28.093772Z",
     "shell.execute_reply.started": "2024-01-18T14:50:27.904365Z"
    }
   },
   "outputs": [
    {
     "data": {
      "image/png": "[encoded data removed]",
      "text/plain": [
       "<Figure size 1000x250 with 1 Axes>"
      ]
     },
     "metadata": {},
     "output_type": "display_data"
    }
   ],
   "source": [
    "# Plotting the exact solution:\n",
    "plt.figure(figsize=(10,2.5))\n",
    "plt.plot(\n",
    "        test_in_t_mu_gpu[0], \n",
    "        u_exact_gpu, \n",
    "        label=\"Exact solution\", \n",
    "        color=\"tab:grey\", \n",
    "        alpha=0.6)\n",
    "plt.plot(\n",
    "        test_in_t_mu_gpu[0], \n",
    "        test_predicted_init_gpu[:,0].cpu().detach(), \n",
    "        label=\"PINN solution (initial)\", \n",
    "        color=\"tab:green\"\n",
    ")\n",
    "plt.scatter(\n",
    "        test_in_t_mu_gpu[0], \n",
    "        torch.zeros_like(test_in_t_mu_gpu[0]), \n",
    "        s=20, \n",
    "        lw=0, \n",
    "        color=\"tab:green\",\n",
    "        alpha=0.6,\n",
    "        label= \"Seed points (testing)\")\n",
    "plt.scatter(\n",
    "        physic_in_t_mu_gpu[0].cpu().detach(), \n",
    "        torch.zeros_like(physic_in_t_mu_gpu[0]).cpu(), \n",
    "        s=20, \n",
    "        lw=0, \n",
    "        color=\"tab:red\",\n",
    "        alpha=0.6,\n",
    "        label= \"Training points\")\n",
    "plt.title(f\"Exact and predicted solution using GPU \\n u(t=(0,1), $\\mu$ = {test_mu_gpu}), model: {model_init_gpu.__class__.__name__}, activation function: Tanh, epoch = 1\")\n",
    "plt.legend()\n",
    "plt.show()"
   ]
  },
  {
   "cell_type": "markdown",
   "id": "e6002eb4-8d5a-4a31-a95c-6b18a378fe2f",
   "metadata": {},
   "source": [
    "## STEP 4: Selection of the Optimizer"
   ]
  },
  {
   "cell_type": "code",
   "execution_count": 24,
   "id": "574cf6ee-4706-4f3e-ba57-1473c1acc3ac",
   "metadata": {
    "execution": {
     "iopub.execute_input": "2024-01-18T14:50:28.095929Z",
     "iopub.status.busy": "2024-01-18T14:50:28.095742Z",
     "iopub.status.idle": "2024-01-18T14:50:28.102079Z",
     "shell.execute_reply": "2024-01-18T14:50:28.101206Z",
     "shell.execute_reply.started": "2024-01-18T14:50:28.095911Z"
    }
   },
   "outputs": [
    {
     "data": {
      "text/plain": [
       "Adam (\n",
       "Parameter Group 0\n",
       "    amsgrad: False\n",
       "    betas: (0.9, 0.999)\n",
       "    capturable: False\n",
       "    differentiable: False\n",
       "    eps: 1e-08\n",
       "    foreach: None\n",
       "    fused: None\n",
       "    lr: 0.001\n",
       "    maximize: False\n",
       "    weight_decay: 0\n",
       ")"
      ]
     },
     "execution_count": 24,
     "metadata": {},
     "output_type": "execute_result"
    }
   ],
   "source": [
    "optimiser_gpu = torch.optim.Adam(model_init_gpu.parameters(), lr= learning_rate_gpu)\n",
    "optimiser_gpu"
   ]
  },
  {
   "cell_type": "markdown",
   "id": "e651334d-5c64-466b-82df-921def6deab0",
   "metadata": {},
   "source": [
    "## STEP 5: Training the PINN:"
   ]
  },
  {
   "cell_type": "code",
   "execution_count": 25,
   "id": "ce21ec70-ec2c-4b4b-be87-78230a10b858",
   "metadata": {
    "execution": {
     "iopub.execute_input": "2024-01-18T14:50:28.103504Z",
     "iopub.status.busy": "2024-01-18T14:50:28.103325Z",
     "iopub.status.idle": "2024-01-18T14:50:28.115755Z",
     "shell.execute_reply": "2024-01-18T14:50:28.114900Z",
     "shell.execute_reply.started": "2024-01-18T14:50:28.103489Z"
    }
   },
   "outputs": [],
   "source": [
    "epochs_gpu = 2001\n",
    "start_gpu = time.time()\n",
    "# Creation of the variables loss1_history, loss2_history and loss3_history for printing the evolution of the contribution of every loss term:\n",
    "loss_ic1_history_gpu = []\n",
    "loss_ic2_history_gpu = []\n",
    "loss_differential_equation_history_gpu = []"
   ]
  },
  {
   "cell_type": "code",
   "execution_count": 26,
   "id": "c0dc585f-96aa-4223-8633-24cff4eaa3d5",
   "metadata": {
    "execution": {
     "iopub.execute_input": "2024-01-18T14:50:28.116441Z",
     "iopub.status.busy": "2024-01-18T14:50:28.116279Z",
     "iopub.status.idle": "2024-01-18T14:50:28.125619Z",
     "shell.execute_reply": "2024-01-18T14:50:28.124873Z",
     "shell.execute_reply.started": "2024-01-18T14:50:28.116427Z"
    }
   },
   "outputs": [
    {
     "data": {
      "text/plain": [
       "'FCN_init'"
      ]
     },
     "execution_count": 26,
     "metadata": {},
     "output_type": "execute_result"
    }
   ],
   "source": [
    "model_init_gpu.__class__.__name__"
   ]
  },
  {
   "cell_type": "code",
   "execution_count": 27,
   "id": "80366b20-a642-48bf-9ac1-c4752c39cf72",
   "metadata": {
    "execution": {
     "iopub.execute_input": "2024-01-18T14:50:28.126693Z",
     "iopub.status.busy": "2024-01-18T14:50:28.126524Z",
     "iopub.status.idle": "2024-01-18T14:50:53.503855Z",
     "shell.execute_reply": "2024-01-18T14:50:53.502874Z",
     "shell.execute_reply.started": "2024-01-18T14:50:28.126679Z"
    }
   },
   "outputs": [
    {
     "name": "stdout",
     "output_type": "stream",
     "text": [
      "Decomposition of the loss terms: \n",
      " loss(18.29402732849121) = loss1(3.9504380226135254) + 0.001 * loss2(0.019190413877367973) + 0.0001 * loss3(143435.703125)\n"
     ]
    },
    {
     "data": {
      "image/png": "[encoded data removed]",
      "text/plain": [
       "<Figure size 1000x250 with 1 Axes>"
      ]
     },
     "metadata": {},
     "output_type": "display_data"
    },
    {
     "name": "stdout",
     "output_type": "stream",
     "text": [
      "Saved the checkpoint corresponding to epoch: 0\n",
      "Decomposition of the loss terms: \n",
      " loss(0.06550288200378418) = loss1(0.007886083796620369) + 0.001 * loss2(0.19490371644496918) + 0.0001 * loss3(574.218994140625)\n"
     ]
    },
    {
     "data": {
      "image/png": "[encoded data removed]",
      "text/plain": [
       "<Figure size 1000x250 with 1 Axes>"
      ]
     },
     "metadata": {},
     "output_type": "display_data"
    },
    {
     "name": "stdout",
     "output_type": "stream",
     "text": [
      "Saved the checkpoint corresponding to epoch: 1000\n",
      "Decomposition of the loss terms: \n",
      " loss(0.023312203586101532) = loss1(0.0012995742727071047) + 0.001 * loss2(0.01613481156527996) + 0.0001 * loss3(219.96495056152344)\n"
     ]
    },
    {
     "data": {
      "image/png": "[encoded data removed]",
      "text/plain": [
       "<Figure size 1000x250 with 1 Axes>"
      ]
     },
     "metadata": {},
     "output_type": "display_data"
    },
    {
     "name": "stdout",
     "output_type": "stream",
     "text": [
      "Saved the checkpoint corresponding to epoch: 2000\n",
      "Training elapsed time (s): 25.386852979660034\n"
     ]
    }
   ],
   "source": [
    "for i in range(epochs_gpu):\n",
    "    optimiser_gpu.zero_grad()\n",
    "\n",
    "    # compute initial condition 1 loss:\n",
    "    ic1_predicted_gpu= model_init_gpu(ic1_t_mu_gpu)\n",
    "    loss_ic1_gpu = torch.mean((ic1_predicted_gpu - ic1_scope_gpu)**2)\n",
    "    loss_ic1_history_gpu.append(loss_ic1_gpu.item())\n",
    "\n",
    "\n",
    "    # compute initial condition 2 loss:\n",
    "    du_dtdmu_initial_gpu = torch.autograd.grad(outputs = ic1_predicted_gpu, inputs = ic1_t_mu_gpu, grad_outputs= torch.ones_like(ic1_predicted_gpu), create_graph= True)[0]\n",
    "    ic2_du_dt_gpu, ic2_du_dmu_gpu = du_dtdmu_initial_gpu[:, 0:1], du_dtdmu_initial_gpu[:,1:2]\n",
    "    loss_ic2_gpu = torch.mean((ic2_du_dt_gpu- ic2_scope_gpu)**2)\n",
    "    loss_ic2_history_gpu.append(loss_ic2_gpu.item())\n",
    "\n",
    "    # compute physic loss:\n",
    "    physic_domain_predicted_gpu = model_init_gpu(physic_domain_t_mu_gpu)\n",
    "    physic_domain_du_dtdmu_gpu = torch.autograd.grad(outputs = physic_domain_predicted_gpu, inputs = physic_domain_t_mu_gpu, grad_outputs= torch.ones_like(physic_domain_predicted_gpu), create_graph= True)[0]\n",
    "    physic_domain_d2u_d2t_d2mu_gpu = torch.autograd.grad(outputs = physic_domain_du_dtdmu_gpu[:,0:1], inputs = physic_domain_t_mu_gpu, grad_outputs= torch.ones_like(physic_domain_du_dtdmu_gpu[:,0:1]), create_graph= True)[0]\n",
    "    loss_differential_equation_gpu = torch.mean( (physic_domain_d2u_d2t_d2mu_gpu[:,0:1] + physic_domain_t_mu_gpu[:,1:2] * physic_domain_du_dtdmu_gpu[:,0:1] + k * physic_domain_predicted_gpu )**2)\n",
    "    loss_differential_equation_history_gpu.append(loss_differential_equation_gpu.item())\n",
    "    \n",
    "    loss_gpu = loss_ic1_gpu + lambda1_gpu * loss_ic2_gpu + lambda2_gpu * loss_differential_equation_gpu\n",
    "    \n",
    "    loss_gpu.backward()\n",
    "    optimiser_gpu.step()\n",
    "    \n",
    "    \n",
    "    if i%1000 == 0:\n",
    "        print(f'Decomposition of the loss terms: \\n loss({loss_gpu}) = loss1({loss_ic1_gpu}) + {lambda1_gpu} * loss2({loss_ic2_gpu}) + {lambda2_gpu} * loss3({loss_differential_equation_gpu})')\n",
    "        \n",
    "        test_predicted_gpu = model_init_gpu(test_in_t_constant_mu_gpu)\n",
    "        \n",
    "        plt.figure(figsize=(10,2.5))\n",
    "        plt.plot(\n",
    "                test_in_t_mu_gpu[0].cpu(), \n",
    "                u_exact_gpu.cpu(), \n",
    "                label=\"Exact solution\", \n",
    "                color=\"tab:grey\", \n",
    "                alpha=0.6\n",
    "        )\n",
    "        plt.plot(\n",
    "                test_in_t_mu_gpu[0].cpu(), \n",
    "                test_predicted_gpu[:,0].cpu().detach(), \n",
    "                label=\"PINN solution\", \n",
    "                color=\"tab:green\"\n",
    "        )\n",
    "        plt.scatter(\n",
    "                    physic_in_t_mu_gpu[0].cpu().detach(), \n",
    "                    torch.zeros_like(physic_in_t_mu_gpu[0]).cpu().detach(), \n",
    "                    s=20, \n",
    "                    lw=0, \n",
    "                    color=\"tab:red\",\n",
    "                    alpha=0.6,\n",
    "                    label= \"Training points\"\n",
    "        )\n",
    "        plt.scatter(\n",
    "                    test_in_t_mu_gpu[0].cpu().detach(), \n",
    "                    torch.zeros_like(test_in_t_mu_gpu[0]).cpu().detach(), \n",
    "                    s=20, \n",
    "                    lw=0, \n",
    "                    color=\"tab:green\",\n",
    "                    alpha=0.6,\n",
    "                    label= \"Seed points(testing)\"\n",
    "        )\n",
    "        plt.title(f\"Exact and predicted solution \\n u(t=(0,1), $\\mu$ = {test_mu_gpu}), model: {model_init_gpu.__class__.__name__}, activation function: Tanh, epoch = {i} \\n (learning rate: {learning_rate_gpu}, lambda1: {lambda1_gpu}, lambda2: {lambda2_gpu})\")\n",
    "        plt.grid()\n",
    "        plt.legend()\n",
    "        plt.show()\n",
    "        torch.save({\n",
    "                    \"epoch\": i,\n",
    "                    \"model_state_dict\": model_init_gpu.state_dict(),\n",
    "                    \"optimiser_state_dict\": optimiser_gpu.state_dict(),\n",
    "                    \"loss\": loss_gpu,\n",
    "                   },                    \n",
    "                    f\"{learning_rate_gpu}_{i}_gpu.pth\")\n",
    "        print(f\"Saved the checkpoint corresponding to epoch: {i}\")\n",
    "end_gpu = time.time()\n",
    "execution_time = (end_gpu - start_gpu)\n",
    "print(f\"Training elapsed time (s): {execution_time}\")"
   ]
  },
  {
   "cell_type": "markdown",
   "id": "19d4b472-0b2f-426a-91ce-c0f8d43a5616",
   "metadata": {},
   "source": [
    "# BACKUP"
   ]
  },
  {
   "cell_type": "markdown",
   "id": "5c69dad2-136b-4094-96ee-b18877543c5b",
   "metadata": {},
   "source": [
    "PINN_oscillator_1D_gpu_t_mu"
   ]
  },
  {
   "cell_type": "markdown",
   "id": "10804f33-3a26-4d2c-9afd-e42d3448481d",
   "metadata": {},
   "source": [
    "# Physics-informed neural networks (PINNs): an introductory crash-course\n",
    "\n",
    "By Ben Moseley, 2022\n",
    "\n",
    "This workshop builds upon my blog post on PINNs: https://benmoseley.blog/my-research/so-what-is-a-physics-informed-neural-network/. \n",
    "\n",
    "Read the seminal PINN papers [here](https://ieeexplore.ieee.org/document/712178) and [here](https://www.sciencedirect.com/science/article/pii/S0021999118307125).\n",
    "\n",
    "\n",
    "## Workshop goals\n",
    "\n",
    "By the end of this workshop, you should be able to:\n",
    "- code a PINN from scratch in PyTorch\n",
    "- understand the different types of scientific tasks PINNs can be used for\n",
    "- understand in more detail how PINNs are trained and how to improve their convergence\n",
    "\n",
    "\n",
    "## Task overview\n",
    "\n",
    "We will be coding a PINN from scratch in PyTorch and using it solve simulation and inversion tasks related to the damped harmonic oscillator.\n"
   ]
  },
  {
   "cell_type": "markdown",
   "id": "2f4f5956-9399-4e90-b53c-c41cbb7e685f",
   "metadata": {},
   "source": [
    "## Problem overview\n",
    "\n",
    "We are going to use a PINN to solve problems related to the **damped harmonic oscillator**:\n",
    "\n",
    "<img src=\"oscillator.gif\" width=\"500\">\n",
    "\n",
    "We are interested in modelling the displacement of the mass on a spring (green box) over time.\n",
    "\n",
    "This is a canonical physics problem, where the displacement, $u(t)$, of the oscillator as a function of time can be described by the following differential equation:\n",
    "\n",
    "$$\n",
    "m \\dfrac{d^2 u}{d t^2} + \\mu \\dfrac{d u}{d t} + ku = 0~,\n",
    "$$\n",
    "\n",
    "where $m$ is the mass of the oscillator, $\\mu$ is the coefficient of friction and $k$ is the spring constant.\n",
    "\n",
    "We will focus on solving the problem in the **under-damped state**, i.e. where the oscillation is slowly damped by friction (as displayed in the animation above). \n",
    "\n",
    "Mathematically, this occurs when:\n",
    "\n",
    "$$\n",
    "\\delta < \\omega_0~,~~~~~\\mathrm{where}~~\\delta = \\dfrac{\\mu}{2m}~,~\\omega_0 = \\sqrt{\\dfrac{k}{m}}~.\n",
    "$$\n",
    "\n",
    "Furthermore, we consider the following initial conditions of the system:\n",
    "\n",
    "$$\n",
    "u(t=0) = 1~~,~~\\dfrac{d u}{d t}(t=0) = 0~.\n",
    "$$\n",
    "\n",
    "For this particular case, the exact solution is known and given by:\n",
    "\n",
    "$$\n",
    "u(t) = e^{-\\delta t}(2 A \\cos(\\phi + \\omega t))~,~~~~~\\mathrm{with}~~\\omega=\\sqrt{\\omega_0^2 - \\delta^2}~.\n",
    "$$\n",
    "\n",
    "\n",
    "\n",
    "For a more detailed mathematical description of the harmonic oscillator, check out this blog post: https://beltoforion.de/en/harmonic_oscillator/."
   ]
  },
  {
   "cell_type": "markdown",
   "id": "34d1d5f8-baba-44ec-9038-dd58bc6c2532",
   "metadata": {},
   "source": [
    "# Workflow overview\n",
    "\n",
    "There are **two scientific tasks** related to the harmonic oscillator we will use a PINN for:\n",
    "\n",
    ">First, we will **simulate** the system using a PINN, given its initial conditions."
   ]
  },
  {
   "cell_type": "markdown",
   "id": "1c671f7d-ece1-4918-9cba-8291d0984864",
   "metadata": {},
   "source": [
    "## Task 1: train a PINN to simulate the system using a GPU\n",
    "\n",
    "#### Task\n",
    "\n",
    "The first task is to use a PINN to **simulate** the system.\n",
    "\n",
    "Specifically, our inputs and outputs are:\n",
    "\n",
    "- Inputs: underlying differential equation and the initial conditions of the system\n",
    "- Outputs: estimate of the solution, $u(t)$\n",
    "\n",
    "#### Approach\n",
    "\n",
    "The PINN is trained to directly approximate the solution to the differential equation, i.e.\n",
    "\n",
    "$$\n",
    "u_{\\mathrm{PINN}}(t;\\theta) \\approx u(t)~,\n",
    "$$\n",
    "\n",
    "where $\\theta$ are the free parameters of the PINN.\n",
    "\n",
    "#### Loss function\n",
    "\n",
    "To simulate the system, the PINN is trained with the following loss function:\n",
    "\n",
    "$$\n",
    "\\mathcal{L}(\\theta)= (u_{\\mathrm{PINN}}(t=0;\\theta) - 1)^2 + \\lambda_1 \\left(\\frac{d\\,u_{\\mathrm{PINN}}}{dt}(t=0;\\theta) - 0\\right)^2 + \\frac{\\lambda_2}{N} \\sum^{N}_{i} \\left( \\left[ m\\frac{d^2}{dt^2} + \\mu \\frac{d}{dt} + k \\right] u_{\\mathrm{PINN}}(t_{i};\\theta)  \\right)^2\n",
    "$$\n",
    "\n",
    "For this task, we use $\\delta=2$, $\\omega_0=20$, and try to learn the solution over the domain $t\\in [0,1]$.\n",
    "\n",
    "#### Notes\n",
    "\n",
    "The first two terms in the loss function represent the **boundary loss**, and tries to ensure that the solution learned by the PINN matches the initial conditions of the system, namely, $u(t=0)=1$ and $u'(t=0)=0$.\n",
    "\n",
    "The second term in the loss function is called the **physics loss**, and and tries to ensure that the PINN solution obeys the underlying differential equation at a set of training points $\\{t_i\\}$ sampled over the entire domain.\n",
    "\n",
    "The hyperparameters, $\\lambda_1$ and $\\lambda_2$, are used to balence the terms in the loss function, to ensure stability during training.\n",
    "\n",
    "Autodifferentiation (`torch.autograd`) is used to calculate the gradients of the PINN with respect to its input required to evaluate the loss function. This is very powerful! \n",
    "\n",
    "For more details on `torch.autograd`, check out [this](https://pytorch.org/tutorials/beginner/blitz/autograd_tutorial.html#a-gentle-introduction-to-torch-autograd) tutorial."
   ]
  },
  {
   "cell_type": "markdown",
   "id": "79509c7d-e9f0-4265-81a5-7294b1947764",
   "metadata": {},
   "source": [
    "Here you can see an overview of the 2 dimensional space (t, mu):\n",
    "\n",
    "<img src=\"excalidraw1.JPG\" width=\"750\">"
   ]
  },
  {
   "cell_type": "markdown",
   "id": "07d999ed-73f0-41ce-972b-f9764406d4ad",
   "metadata": {},
   "source": [
    "# PINNS using 1 GPU"
   ]
  },
  {
   "cell_type": "code",
   "execution_count": 1,
   "id": "cfc04fcb-a3d1-4568-86b2-e57892036241",
   "metadata": {
    "execution": {
     "iopub.execute_input": "2024-02-07T11:13:30.288013Z",
     "iopub.status.busy": "2024-02-07T11:13:30.287754Z",
     "iopub.status.idle": "2024-02-07T11:13:31.851552Z",
     "shell.execute_reply": "2024-02-07T11:13:31.850369Z",
     "shell.execute_reply.started": "2024-02-07T11:13:30.287995Z"
    }
   },
   "outputs": [],
   "source": [
    "### Import all what you need:\n",
    "import torch\n",
    "import torch.nn as nn\n",
    "from torchsummary import summary # https://pypi.org/project/torch-summary/\n",
    "import torchinfo \n",
    "\n",
    "import numpy as np\n",
    "\n",
    "import matplotlib.pyplot as plt\n",
    "\n",
    "import time"
   ]
  },
  {
   "cell_type": "code",
   "execution_count": 2,
   "id": "b98a4ff5-2148-4f4f-a248-648977edd63a",
   "metadata": {
    "execution": {
     "iopub.execute_input": "2024-02-07T11:13:32.801525Z",
     "iopub.status.busy": "2024-02-07T11:13:32.800938Z",
     "iopub.status.idle": "2024-02-07T11:13:32.816236Z",
     "shell.execute_reply": "2024-02-07T11:13:32.814940Z",
     "shell.execute_reply.started": "2024-02-07T11:13:32.801487Z"
    }
   },
   "outputs": [
    {
     "data": {
      "text/plain": [
       "<torch._C.Generator at 0x7f821313c930>"
      ]
     },
     "execution_count": 2,
     "metadata": {},
     "output_type": "execute_result"
    }
   ],
   "source": [
    "# Pseudorandom number generator:\n",
    "torch.manual_seed(123)"
   ]
  },
  {
   "cell_type": "markdown",
   "id": "e188008c-7346-4a14-bc72-a7d1d75c5097",
   "metadata": {},
   "source": [
    "## Preparations for using the GPU"
   ]
  },
  {
   "cell_type": "markdown",
   "id": "250489f7-3562-4aad-af5f-a5d9b0317134",
   "metadata": {},
   "source": [
    "If a GPU is avaible, you could do the training using it. For that, you should send to the GPU all tensors are needed for the training. "
   ]
  },
  {
   "cell_type": "code",
   "execution_count": 3,
   "id": "3c170364-618c-4e95-b4fd-289c28b09720",
   "metadata": {
    "execution": {
     "iopub.execute_input": "2024-02-07T11:13:36.692544Z",
     "iopub.status.busy": "2024-02-07T11:13:36.692039Z",
     "iopub.status.idle": "2024-02-07T11:13:36.743752Z",
     "shell.execute_reply": "2024-02-07T11:13:36.742386Z",
     "shell.execute_reply.started": "2024-02-07T11:13:36.692506Z"
    }
   },
   "outputs": [
    {
     "data": {
      "text/plain": [
       "'NVIDIA RTX A5000'"
      ]
     },
     "execution_count": 3,
     "metadata": {},
     "output_type": "execute_result"
    }
   ],
   "source": [
    "# To get only the name of the device:\n",
    "torch.cuda.get_device_name(0)"
   ]
  },
  {
   "cell_type": "code",
   "execution_count": 4,
   "id": "d89932c1-5f3d-46e7-9708-0c16bca6b434",
   "metadata": {
    "execution": {
     "iopub.execute_input": "2024-02-07T11:13:38.754616Z",
     "iopub.status.busy": "2024-02-07T11:13:38.754154Z",
     "iopub.status.idle": "2024-02-07T11:13:39.161054Z",
     "shell.execute_reply": "2024-02-07T11:13:39.159247Z",
     "shell.execute_reply.started": "2024-02-07T11:13:38.754580Z"
    }
   },
   "outputs": [
    {
     "name": "stdout",
     "output_type": "stream",
     "text": [
      "Wed Feb  7 11:13:38 2024       \n",
      "+---------------------------------------------------------------------------------------+\n",
      "| NVIDIA-SMI 530.30.02              Driver Version: 530.30.02    CUDA Version: 12.1     |\n",
      "|-----------------------------------------+----------------------+----------------------+\n",
      "| GPU  Name                  Persistence-M| Bus-Id        Disp.A | Volatile Uncorr. ECC |\n",
      "| Fan  Temp  Perf            Pwr:Usage/Cap|         Memory-Usage | GPU-Util  Compute M. |\n",
      "|                                         |                      |               MIG M. |\n",
      "|=========================================+======================+======================|\n",
      "|   0  NVIDIA RTX A5000                On | 00000000:06:00.0 Off |                  Off |\n",
      "| 30%   26C    P8               22W / 230W|      8MiB / 24564MiB |      0%      Default |\n",
      "|                                         |                      |                  N/A |\n",
      "+-----------------------------------------+----------------------+----------------------+\n",
      "                                                                                         \n",
      "+---------------------------------------------------------------------------------------+\n",
      "| Processes:                                                                            |\n",
      "|  GPU   GI   CI        PID   Type   Process name                            GPU Memory |\n",
      "|        ID   ID                                                             Usage      |\n",
      "|=======================================================================================|\n",
      "+---------------------------------------------------------------------------------------+\n"
     ]
    }
   ],
   "source": [
    "# Or for more information:\n",
    "! nvidia-smi"
   ]
  },
  {
   "cell_type": "code",
   "execution_count": 5,
   "id": "196193f2-f988-47dc-806a-c1c9cdab80c0",
   "metadata": {
    "execution": {
     "iopub.execute_input": "2024-02-07T11:13:45.755278Z",
     "iopub.status.busy": "2024-02-07T11:13:45.754720Z",
     "iopub.status.idle": "2024-02-07T11:13:45.764732Z",
     "shell.execute_reply": "2024-02-07T11:13:45.763333Z",
     "shell.execute_reply.started": "2024-02-07T11:13:45.755225Z"
    }
   },
   "outputs": [
    {
     "data": {
      "text/plain": [
       "1"
      ]
     },
     "execution_count": 5,
     "metadata": {},
     "output_type": "execute_result"
    }
   ],
   "source": [
    "# To get the number of GPUs available:\n",
    "torch.cuda.device_count()"
   ]
  },
  {
   "cell_type": "code",
   "execution_count": 6,
   "id": "6f1ac8de-729c-409c-ac81-c622c0a4975b",
   "metadata": {
    "execution": {
     "iopub.execute_input": "2024-02-07T11:13:49.595326Z",
     "iopub.status.busy": "2024-02-07T11:13:49.594830Z",
     "iopub.status.idle": "2024-02-07T11:13:49.602857Z",
     "shell.execute_reply": "2024-02-07T11:13:49.601348Z",
     "shell.execute_reply.started": "2024-02-07T11:13:49.595290Z"
    }
   },
   "outputs": [
    {
     "name": "stdout",
     "output_type": "stream",
     "text": [
      "Using cuda device\n"
     ]
    }
   ],
   "source": [
    "# Save in a variable the device cuda(Linux and Windows), mps(Apple) or cpu, you will use for training:\n",
    "device = (\n",
    "    \"cuda\"\n",
    "    if torch.cuda.is_available()\n",
    "    else \"mps\"\n",
    "    if torch.backends.mps.is_available()\n",
    "    else \"cpu\"\n",
    ")\n",
    "print(f\"Using {device} device\")"
   ]
  },
  {
   "cell_type": "code",
   "execution_count": 7,
   "id": "fa2ce2e2-7074-45ca-ac7d-425efa7a4ab7",
   "metadata": {
    "execution": {
     "iopub.execute_input": "2024-02-07T11:13:50.190006Z",
     "iopub.status.busy": "2024-02-07T11:13:50.189491Z",
     "iopub.status.idle": "2024-02-07T11:13:50.198990Z",
     "shell.execute_reply": "2024-02-07T11:13:50.197400Z",
     "shell.execute_reply.started": "2024-02-07T11:13:50.189970Z"
    }
   },
   "outputs": [
    {
     "data": {
      "text/plain": [
       "device(type='cuda', index=0)"
      ]
     },
     "execution_count": 7,
     "metadata": {},
     "output_type": "execute_result"
    }
   ],
   "source": [
    "# or in a short way:\n",
    "device_short_way = torch.device(\"cuda:0\" if torch.cuda.is_available() else \"cpu\")\n",
    "device_short_way"
   ]
  },
  {
   "cell_type": "markdown",
   "id": "40f74a55-2d5c-4e72-82f2-dadad5720d7d",
   "metadata": {},
   "source": [
    "You can know the current selected GPU using:"
   ]
  },
  {
   "cell_type": "code",
   "execution_count": 8,
   "id": "e409ba5f-0e46-4b5f-a64c-16f9f031e25a",
   "metadata": {
    "execution": {
     "iopub.execute_input": "2024-02-07T11:13:53.507642Z",
     "iopub.status.busy": "2024-02-07T11:13:53.507221Z",
     "iopub.status.idle": "2024-02-07T11:13:53.515851Z",
     "shell.execute_reply": "2024-02-07T11:13:53.514594Z",
     "shell.execute_reply.started": "2024-02-07T11:13:53.507605Z"
    }
   },
   "outputs": [
    {
     "data": {
      "text/plain": [
       "0"
      ]
     },
     "execution_count": 8,
     "metadata": {},
     "output_type": "execute_result"
    }
   ],
   "source": [
    "torch.cuda.current_device()"
   ]
  },
  {
   "cell_type": "markdown",
   "id": "1ba43d09-6ffa-4f95-b5b6-bda37ad83b65",
   "metadata": {
    "execution": {
     "iopub.execute_input": "2023-10-18T13:28:44.598564Z",
     "iopub.status.busy": "2023-10-18T13:28:44.598111Z",
     "iopub.status.idle": "2023-10-18T13:28:44.605943Z",
     "shell.execute_reply": "2023-10-18T13:28:44.604525Z",
     "shell.execute_reply.started": "2023-10-18T13:28:44.598523Z"
    }
   },
   "source": [
    "In case that you want to know the device a specific tensor is located:"
   ]
  },
  {
   "cell_type": "code",
   "execution_count": 9,
   "id": "18f6e409-1cbe-46c7-b3e3-caa0bfed65d5",
   "metadata": {
    "execution": {
     "iopub.execute_input": "2024-02-07T11:13:56.826072Z",
     "iopub.status.busy": "2024-02-07T11:13:56.825651Z",
     "iopub.status.idle": "2024-02-07T11:13:56.831354Z",
     "shell.execute_reply": "2024-02-07T11:13:56.830056Z",
     "shell.execute_reply.started": "2024-02-07T11:13:56.826037Z"
    }
   },
   "outputs": [],
   "source": [
    "#print(f\"Device tensor is stored on: {t_boundary.device}\") "
   ]
  },
  {
   "cell_type": "markdown",
   "id": "fd8c4e8c-c004-497b-91df-775eeead1390",
   "metadata": {},
   "source": [
    "## Step 1: Definition and initialization"
   ]
  },
  {
   "cell_type": "code",
   "execution_count": 10,
   "id": "187b5fcd-c94b-4f05-8b7c-b3b0109b5a11",
   "metadata": {
    "execution": {
     "iopub.execute_input": "2024-02-07T11:13:57.896447Z",
     "iopub.status.busy": "2024-02-07T11:13:57.895981Z",
     "iopub.status.idle": "2024-02-07T11:13:57.902986Z",
     "shell.execute_reply": "2024-02-07T11:13:57.901556Z",
     "shell.execute_reply.started": "2024-02-07T11:13:57.896408Z"
    }
   },
   "outputs": [],
   "source": [
    "#Definition of the physical constants and hyperparameters:\n",
    "mass = 1\n",
    "d, w0 = 2, 20\n",
    "mu, k = 2*d, w0**2            # Este mu NO se utiliza!!!!!\n",
    "learning_rate_gpu =  1e-3         # learning rate\n",
    "lambda1_gpu, lambda2_gpu = 1e-3, 1e-4 # loss term hyperparameters\n",
    "epochs_gpu = 2001"
   ]
  },
  {
   "cell_type": "markdown",
   "id": "cd3432a5-5dee-4613-912c-37f3858d462d",
   "metadata": {},
   "source": [
    "### Initial, training and test points generation:"
   ]
  },
  {
   "cell_type": "markdown",
   "id": "248ec167-89b4-4ac8-b110-30d697885338",
   "metadata": {},
   "source": [
    "#### Initial condition 1: generation of initial points:\n",
    "$$ u(t=0, \\mu) = 1\n",
    "$$\n"
   ]
  },
  {
   "cell_type": "code",
   "execution_count": 11,
   "id": "9483a3b2-fbde-40a5-a61b-21467ef4de62",
   "metadata": {
    "execution": {
     "iopub.execute_input": "2024-02-07T11:14:06.930397Z",
     "iopub.status.busy": "2024-02-07T11:14:06.929980Z",
     "iopub.status.idle": "2024-02-07T11:14:06.936097Z",
     "shell.execute_reply": "2024-02-07T11:14:06.934900Z",
     "shell.execute_reply.started": "2024-02-07T11:14:06.930362Z"
    }
   },
   "outputs": [],
   "source": [
    "point_resolution_gpu = 40"
   ]
  },
  {
   "cell_type": "code",
   "execution_count": 15,
   "id": "e3017ea6-1376-4400-b901-64e321b88f7f",
   "metadata": {
    "execution": {
     "iopub.execute_input": "2024-02-07T11:15:47.112461Z",
     "iopub.status.busy": "2024-02-07T11:15:47.112006Z",
     "iopub.status.idle": "2024-02-07T11:15:47.134472Z",
     "shell.execute_reply": "2024-02-07T11:15:47.132744Z",
     "shell.execute_reply.started": "2024-02-07T11:15:47.112425Z"
    }
   },
   "outputs": [
    {
     "name": "stdout",
     "output_type": "stream",
     "text": [
      "****************************************************************************************************\n",
      "****************************************************************************************************\n",
      "Device tensor ic1_t_mu_gpu is stored on: cuda:0\n",
      "Device tensor ic1_scope_gpu is stored on: cuda:0\n",
      "Initial condition 1: \n",
      " \t [t, mu]: \n",
      "tensor([[ 0.0000,  1.0000],\n",
      "        [ 0.0000,  1.2308],\n",
      "        [ 0.0000,  1.4615],\n",
      "        [ 0.0000,  1.6923],\n",
      "        [ 0.0000,  1.9231],\n",
      "        [ 0.0000,  2.1538],\n",
      "        [ 0.0000,  2.3846],\n",
      "        [ 0.0000,  2.6154],\n",
      "        [ 0.0000,  2.8462],\n",
      "        [ 0.0000,  3.0769],\n",
      "        [ 0.0000,  3.3077],\n",
      "        [ 0.0000,  3.5385],\n",
      "        [ 0.0000,  3.7692],\n",
      "        [ 0.0000,  4.0000],\n",
      "        [ 0.0000,  4.2308],\n",
      "        [ 0.0000,  4.4615],\n",
      "        [ 0.0000,  4.6923],\n",
      "        [ 0.0000,  4.9231],\n",
      "        [ 0.0000,  5.1538],\n",
      "        [ 0.0000,  5.3846],\n",
      "        [ 0.0000,  5.6154],\n",
      "        [ 0.0000,  5.8462],\n",
      "        [ 0.0000,  6.0769],\n",
      "        [ 0.0000,  6.3077],\n",
      "        [ 0.0000,  6.5385],\n",
      "        [ 0.0000,  6.7692],\n",
      "        [ 0.0000,  7.0000],\n",
      "        [ 0.0000,  7.2308],\n",
      "        [ 0.0000,  7.4615],\n",
      "        [ 0.0000,  7.6923],\n",
      "        [ 0.0000,  7.9231],\n",
      "        [ 0.0000,  8.1538],\n",
      "        [ 0.0000,  8.3846],\n",
      "        [ 0.0000,  8.6154],\n",
      "        [ 0.0000,  8.8462],\n",
      "        [ 0.0000,  9.0769],\n",
      "        [ 0.0000,  9.3077],\n",
      "        [ 0.0000,  9.5385],\n",
      "        [ 0.0000,  9.7692],\n",
      "        [ 0.0000, 10.0000]], device='cuda:0', grad_fn=<StackBackward0>)\n",
      "\n",
      " Initial condition 1: \n",
      " \t u(t=0, mu) = 1: \n",
      " tensor([[1.],\n",
      "        [1.],\n",
      "        [1.],\n",
      "        [1.],\n",
      "        [1.],\n",
      "        [1.],\n",
      "        [1.],\n",
      "        [1.],\n",
      "        [1.],\n",
      "        [1.],\n",
      "        [1.],\n",
      "        [1.],\n",
      "        [1.],\n",
      "        [1.],\n",
      "        [1.],\n",
      "        [1.],\n",
      "        [1.],\n",
      "        [1.],\n",
      "        [1.],\n",
      "        [1.],\n",
      "        [1.],\n",
      "        [1.],\n",
      "        [1.],\n",
      "        [1.],\n",
      "        [1.],\n",
      "        [1.],\n",
      "        [1.],\n",
      "        [1.],\n",
      "        [1.],\n",
      "        [1.],\n",
      "        [1.],\n",
      "        [1.],\n",
      "        [1.],\n",
      "        [1.],\n",
      "        [1.],\n",
      "        [1.],\n",
      "        [1.],\n",
      "        [1.],\n",
      "        [1.],\n",
      "        [1.]], device='cuda:0', requires_grad=True)\n",
      "\n",
      " Shapes of [t, mu] and u(t=0, mu) = 1: \n",
      "\ttorch.Size([40, 2]), torch.Size([40, 1])\n",
      "****************************************************************************************************\n",
      "****************************************************************************************************\n"
     ]
    }
   ],
   "source": [
    "# Initial condition 1:\n",
    "ic1_t_mu_gpu = torch.stack([torch.zeros(point_resolution_gpu).requires_grad_(True).to(device), torch.linspace(1,10, point_resolution_gpu).requires_grad_(True).to(device)],-1)\n",
    "ic1_scope_gpu = torch.ones_like(ic1_t_mu_gpu[:,0:1]).requires_grad_(True).to(device)\n",
    "print(\"*\" * 100 + \"\\n\" + \"*\" * 100)\n",
    "print(f\"Device tensor ic1_t_mu_gpu is stored on: {ic1_t_mu_gpu.device}\") \n",
    "print(f\"Device tensor ic1_scope_gpu is stored on: {ic1_scope_gpu.device}\") \n",
    "print(f\"Initial condition 1: \\n \\t [t, mu]: \\n{ic1_t_mu_gpu}\")\n",
    "print(f\"\\n Initial condition 1: \\n \\t u(t=0, mu) = 1: \\n {ic1_scope_gpu}\")\n",
    "print(f\"\\n Shapes of [t, mu] and u(t=0, mu) = 1: \\n\\t{ic1_t_mu_gpu.shape}, {ic1_scope_gpu.shape}\")\n",
    "print(\"*\" * 100 + \"\\n\" + \"*\" * 100)"
   ]
  },
  {
   "cell_type": "markdown",
   "id": "d8a9e47d-fd54-4ad2-8182-a42fc4de6dfa",
   "metadata": {},
   "source": [
    "#### Initial condition 2: t and mu training points generation:\n",
    "$$\n",
    "\\dfrac{d u}{d t}(t=0, \\mu) = 0~\n",
    "$$"
   ]
  },
  {
   "cell_type": "code",
   "execution_count": 16,
   "id": "d7027260-e1a4-4202-885a-9c52acb8218c",
   "metadata": {
    "execution": {
     "iopub.execute_input": "2024-02-07T11:16:09.072927Z",
     "iopub.status.busy": "2024-02-07T11:16:09.072426Z",
     "iopub.status.idle": "2024-02-07T11:16:09.105451Z",
     "shell.execute_reply": "2024-02-07T11:16:09.104106Z",
     "shell.execute_reply.started": "2024-02-07T11:16:09.072890Z"
    }
   },
   "outputs": [
    {
     "name": "stdout",
     "output_type": "stream",
     "text": [
      "****************************************************************************************************\n",
      "****************************************************************************************************\n",
      "Device tensor ic2_t_mu_gpu is stored on: cuda:0\n",
      "Device tensor ic2_scope_gpu is stored on: cuda:0\n",
      "Initial condition 2: \n",
      " \t [t, mu]: \n",
      "tensor([[ 0.0000,  1.0000],\n",
      "        [ 0.0000,  1.2308],\n",
      "        [ 0.0000,  1.4615],\n",
      "        [ 0.0000,  1.6923],\n",
      "        [ 0.0000,  1.9231],\n",
      "        [ 0.0000,  2.1538],\n",
      "        [ 0.0000,  2.3846],\n",
      "        [ 0.0000,  2.6154],\n",
      "        [ 0.0000,  2.8462],\n",
      "        [ 0.0000,  3.0769],\n",
      "        [ 0.0000,  3.3077],\n",
      "        [ 0.0000,  3.5385],\n",
      "        [ 0.0000,  3.7692],\n",
      "        [ 0.0000,  4.0000],\n",
      "        [ 0.0000,  4.2308],\n",
      "        [ 0.0000,  4.4615],\n",
      "        [ 0.0000,  4.6923],\n",
      "        [ 0.0000,  4.9231],\n",
      "        [ 0.0000,  5.1538],\n",
      "        [ 0.0000,  5.3846],\n",
      "        [ 0.0000,  5.6154],\n",
      "        [ 0.0000,  5.8462],\n",
      "        [ 0.0000,  6.0769],\n",
      "        [ 0.0000,  6.3077],\n",
      "        [ 0.0000,  6.5385],\n",
      "        [ 0.0000,  6.7692],\n",
      "        [ 0.0000,  7.0000],\n",
      "        [ 0.0000,  7.2308],\n",
      "        [ 0.0000,  7.4615],\n",
      "        [ 0.0000,  7.6923],\n",
      "        [ 0.0000,  7.9231],\n",
      "        [ 0.0000,  8.1538],\n",
      "        [ 0.0000,  8.3846],\n",
      "        [ 0.0000,  8.6154],\n",
      "        [ 0.0000,  8.8462],\n",
      "        [ 0.0000,  9.0769],\n",
      "        [ 0.0000,  9.3077],\n",
      "        [ 0.0000,  9.5385],\n",
      "        [ 0.0000,  9.7692],\n",
      "        [ 0.0000, 10.0000]], device='cuda:0', grad_fn=<StackBackward0>)\n",
      "\n",
      " Initial condition 2: \n",
      " \t du/dt(t=0, mu) = 0: \n",
      " tensor([[0.],\n",
      "        [0.],\n",
      "        [0.],\n",
      "        [0.],\n",
      "        [0.],\n",
      "        [0.],\n",
      "        [0.],\n",
      "        [0.],\n",
      "        [0.],\n",
      "        [0.],\n",
      "        [0.],\n",
      "        [0.],\n",
      "        [0.],\n",
      "        [0.],\n",
      "        [0.],\n",
      "        [0.],\n",
      "        [0.],\n",
      "        [0.],\n",
      "        [0.],\n",
      "        [0.],\n",
      "        [0.],\n",
      "        [0.],\n",
      "        [0.],\n",
      "        [0.],\n",
      "        [0.],\n",
      "        [0.],\n",
      "        [0.],\n",
      "        [0.],\n",
      "        [0.],\n",
      "        [0.],\n",
      "        [0.],\n",
      "        [0.],\n",
      "        [0.],\n",
      "        [0.],\n",
      "        [0.],\n",
      "        [0.],\n",
      "        [0.],\n",
      "        [0.],\n",
      "        [0.],\n",
      "        [0.]], device='cuda:0', requires_grad=True)\n",
      "\n",
      " Shapes of [t, mu] and du/dt(t=0, mu) = 0: \n",
      "\ttorch.Size([40, 2]), torch.Size([40, 1])\n",
      "****************************************************************************************************\n",
      "****************************************************************************************************\n"
     ]
    }
   ],
   "source": [
    "# Initial condition 2:\n",
    "ic2_t_mu_gpu = torch.stack([torch.zeros(point_resolution_gpu).requires_grad_(True).to(device), torch.linspace(1,10, point_resolution_gpu).requires_grad_(True).to(device)], -1)\n",
    "ic2_scope_gpu = torch.zeros_like(ic2_t_mu_gpu[:,0:1]).requires_grad_(True).to(device)\n",
    "print(\"*\" * 100 + \"\\n\" + \"*\" * 100)\n",
    "print(f\"Device tensor ic2_t_mu_gpu is stored on: {ic2_t_mu_gpu.device}\") \n",
    "print(f\"Device tensor ic2_scope_gpu is stored on: {ic2_scope_gpu.device}\") \n",
    "print(f\"Initial condition 2: \\n \\t [t, mu]: \\n{ic2_t_mu_gpu}\")\n",
    "print(f\"\\n Initial condition 2: \\n \\t du/dt(t=0, mu) = 0: \\n {ic2_scope_gpu}\")\n",
    "print(f\"\\n Shapes of [t, mu] and du/dt(t=0, mu) = 0: \\n\\t{ic2_t_mu_gpu.shape}, {ic2_scope_gpu.shape}\")\n",
    "print(\"*\" * 100 + \"\\n\" + \"*\" * 100)"
   ]
  },
  {
   "cell_type": "markdown",
   "id": "096ef35d-8bef-4e88-bd45-67d307d644f7",
   "metadata": {},
   "source": [
    "#### Generation of physical domain training points: "
   ]
  },
  {
   "cell_type": "code",
   "execution_count": 20,
   "id": "af02cff5-c90b-4357-a4eb-ba33b54dc347",
   "metadata": {
    "execution": {
     "iopub.execute_input": "2024-02-07T11:23:19.480091Z",
     "iopub.status.busy": "2024-02-07T11:23:19.479590Z",
     "iopub.status.idle": "2024-02-07T11:23:19.510392Z",
     "shell.execute_reply": "2024-02-07T11:23:19.508998Z",
     "shell.execute_reply.started": "2024-02-07T11:23:19.480053Z"
    }
   },
   "outputs": [
    {
     "name": "stdout",
     "output_type": "stream",
     "text": [
      "****************************************************************************************************\n",
      "****************************************************************************************************\n",
      "physic_in_t_mu_gpu is a LIST of tensors and is NOT used directly\n",
      "Device tensor physic_domain_t_mu_gpu is stored on: cuda:0\n",
      " Point seed list for mesh grid domain points: \n",
      " \t tensor([[1.0000e-02, 1.0000e+00],\n",
      "        [1.0000e-02, 1.2308e+00],\n",
      "        [1.0000e-02, 1.4615e+00],\n",
      "        ...,\n",
      "        [1.0000e+00, 9.5385e+00],\n",
      "        [1.0000e+00, 9.7692e+00],\n",
      "        [1.0000e+00, 1.0000e+01]], device='cuda:0', grad_fn=<ViewBackward0>)\n",
      "Domain training points: \n",
      " \t: tensor([[1.0000e-02, 1.0000e+00],\n",
      "        [1.0000e-02, 1.2308e+00],\n",
      "        [1.0000e-02, 1.4615e+00],\n",
      "        ...,\n",
      "        [1.0000e+00, 9.5385e+00],\n",
      "        [1.0000e+00, 9.7692e+00],\n",
      "        [1.0000e+00, 1.0000e+01]], device='cuda:0', grad_fn=<ViewBackward0>)\n",
      "Size of Domain training points: \n",
      " \t torch.Size([1600, 2])\n",
      "****************************************************************************************************\n",
      "****************************************************************************************************\n"
     ]
    }
   ],
   "source": [
    "# Physical domain:\n",
    "physic_in_t_mu_gpu = [torch.linspace(1e-2,1, point_resolution_gpu).requires_grad_(True).to(device), torch.linspace(1,10, point_resolution_gpu).requires_grad_(True).to(device)] # Mejora: se puede utilizar torch.rand\n",
    "physic_domain_t_mu_gpu = torch.stack(torch.meshgrid(*physic_in_t_mu_gpu, indexing='ij'), -1).view(-1, 2).requires_grad_(True).to(device)\n",
    "print(\"*\" * 100 + \"\\n\" + \"*\" * 100)\n",
    "print(f\"physic_in_t_mu_gpu is a LIST of tensors and is NOT used directly\") \n",
    "print(f\"Device tensor physic_domain_t_mu_gpu is stored on: {physic_domain_t_mu_gpu.device}\") \n",
    "print(f\" Point seed list for mesh grid domain points: \\n \\t {physic_domain_t_mu_gpu}\")\n",
    "print(f\"Domain training points: \\n \\t: {physic_domain_t_mu_gpu}\")\n",
    "print(f\"Size of Domain training points: \\n \\t {physic_domain_t_mu_gpu.size()}\")\n",
    "print(\"*\" * 100 + \"\\n\" + \"*\" * 100)\n"
   ]
  },
  {
   "cell_type": "markdown",
   "id": "e2bbad73-7403-4db8-b4a8-6ac07bc364d7",
   "metadata": {},
   "source": [
    "#### Generation of testing points:"
   ]
  },
  {
   "cell_type": "code",
   "execution_count": 21,
   "id": "f329f665-f76d-4bbc-9ce9-b924a7602fe8",
   "metadata": {
    "execution": {
     "iopub.execute_input": "2024-02-07T11:23:56.827826Z",
     "iopub.status.busy": "2024-02-07T11:23:56.827378Z",
     "iopub.status.idle": "2024-02-07T11:23:56.843384Z",
     "shell.execute_reply": "2024-02-07T11:23:56.842059Z",
     "shell.execute_reply.started": "2024-02-07T11:23:56.827789Z"
    }
   },
   "outputs": [
    {
     "name": "stdout",
     "output_type": "stream",
     "text": [
      "****************************************************************************************************\n",
      "****************************************************************************************************\n",
      "Device tensor physic_domain_t_mu_gpu is stored on: cpu. This tensor must be in the cpu!!\n",
      "Point seed list for mesh grid test points: \n",
      " \t \n",
      " \t [tensor([0.0000, 0.0101, 0.0202, 0.0303, 0.0404, 0.0505, 0.0606, 0.0707, 0.0808,\n",
      "        0.0909, 0.1010, 0.1111, 0.1212, 0.1313, 0.1414, 0.1515, 0.1616, 0.1717,\n",
      "        0.1818, 0.1919, 0.2020, 0.2121, 0.2222, 0.2323, 0.2424, 0.2525, 0.2626,\n",
      "        0.2727, 0.2828, 0.2929, 0.3030, 0.3131, 0.3232, 0.3333, 0.3434, 0.3535,\n",
      "        0.3636, 0.3737, 0.3838, 0.3939, 0.4040, 0.4141, 0.4242, 0.4343, 0.4444,\n",
      "        0.4545, 0.4646, 0.4747, 0.4848, 0.4949, 0.5051, 0.5152, 0.5253, 0.5354,\n",
      "        0.5455, 0.5556, 0.5657, 0.5758, 0.5859, 0.5960, 0.6061, 0.6162, 0.6263,\n",
      "        0.6364, 0.6465, 0.6566, 0.6667, 0.6768, 0.6869, 0.6970, 0.7071, 0.7172,\n",
      "        0.7273, 0.7374, 0.7475, 0.7576, 0.7677, 0.7778, 0.7879, 0.7980, 0.8081,\n",
      "        0.8182, 0.8283, 0.8384, 0.8485, 0.8586, 0.8687, 0.8788, 0.8889, 0.8990,\n",
      "        0.9091, 0.9192, 0.9293, 0.9394, 0.9495, 0.9596, 0.9697, 0.9798, 0.9899,\n",
      "        1.0000]), tensor([ 1.0000,  1.0909,  1.1818,  1.2727,  1.3636,  1.4545,  1.5455,  1.6364,\n",
      "         1.7273,  1.8182,  1.9091,  2.0000,  2.0909,  2.1818,  2.2727,  2.3636,\n",
      "         2.4545,  2.5455,  2.6364,  2.7273,  2.8182,  2.9091,  3.0000,  3.0909,\n",
      "         3.1818,  3.2727,  3.3636,  3.4545,  3.5455,  3.6364,  3.7273,  3.8182,\n",
      "         3.9091,  4.0000,  4.0909,  4.1818,  4.2727,  4.3636,  4.4545,  4.5455,\n",
      "         4.6364,  4.7273,  4.8182,  4.9091,  5.0000,  5.0909,  5.1818,  5.2727,\n",
      "         5.3636,  5.4545,  5.5455,  5.6364,  5.7273,  5.8182,  5.9091,  6.0000,\n",
      "         6.0909,  6.1818,  6.2727,  6.3636,  6.4545,  6.5455,  6.6364,  6.7273,\n",
      "         6.8182,  6.9091,  7.0000,  7.0909,  7.1818,  7.2727,  7.3636,  7.4545,\n",
      "         7.5455,  7.6364,  7.7273,  7.8182,  7.9091,  8.0000,  8.0909,  8.1818,\n",
      "         8.2727,  8.3636,  8.4545,  8.5455,  8.6364,  8.7273,  8.8182,  8.9091,\n",
      "         9.0000,  9.0909,  9.1818,  9.2727,  9.3636,  9.4545,  9.5455,  9.6364,\n",
      "         9.7273,  9.8182,  9.9091, 10.0000])]\n",
      " Test points \n",
      " \t [t, mu]: \n",
      " \t tensor([[ 0.0000,  1.0000],\n",
      "        [ 0.0000,  1.0909],\n",
      "        [ 0.0000,  1.1818],\n",
      "        ...,\n",
      "        [ 1.0000,  9.8182],\n",
      "        [ 1.0000,  9.9091],\n",
      "        [ 1.0000, 10.0000]])\n",
      "Size of the test domain points: \n",
      " \t torch.Size([10000, 2])\n",
      "****************************************************************************************************\n",
      "****************************************************************************************************\n"
     ]
    }
   ],
   "source": [
    "#### Generation of t and mu test points within the domain:\n",
    "point_resolution_test_gpu = 100\n",
    "\n",
    "# Testing points:\n",
    "test_in_t_mu_gpu = [torch.linspace(0,1,point_resolution_test_gpu), torch.linspace(1,10,point_resolution_test_gpu) ]\n",
    "test_domain_t_mu_gpu = torch.stack(torch.meshgrid(*test_in_t_mu_gpu, indexing='ij'), -1).view(-1, 2)\n",
    "print(\"*\" * 100 + \"\\n\" + \"*\" * 100)\n",
    "print(f\"Device tensor physic_domain_t_mu_gpu is stored on: {test_domain_t_mu_gpu.device}. This tensor must be in the cpu!!\") \n",
    "print(f\"Point seed list for mesh grid test points: \\n \\t \\n \\t {test_in_t_mu_gpu}\")\n",
    "print(f\" Test points \\n \\t [t, mu]: \\n \\t {test_domain_t_mu_gpu}\")\n",
    "print(f\"Size of the test domain points: \\n \\t {test_domain_t_mu_gpu.size()}\")\n",
    "print(\"*\" * 100 + \"\\n\" + \"*\" * 100)"
   ]
  },
  {
   "cell_type": "markdown",
   "id": "43e84b5a-596c-4b80-bd53-6a4eeb4368ec",
   "metadata": {},
   "source": [
    "#### Exact solution:"
   ]
  },
  {
   "cell_type": "code",
   "execution_count": 22,
   "id": "2370344e-96dd-4aae-915a-d9b858ca1f3e",
   "metadata": {
    "execution": {
     "iopub.execute_input": "2024-02-07T11:24:40.163031Z",
     "iopub.status.busy": "2024-02-07T11:24:40.162569Z",
     "iopub.status.idle": "2024-02-07T11:24:40.171605Z",
     "shell.execute_reply": "2024-02-07T11:24:40.170146Z",
     "shell.execute_reply.started": "2024-02-07T11:24:40.162994Z"
    }
   },
   "outputs": [],
   "source": [
    "def exact_solution(d, w0, t):\n",
    "    \"Defines the analytical solution to the under-damped harmonic oscillator problem above.\"\n",
    "    assert d < w0             \n",
    "    w = np.sqrt(w0**2-d**2)\n",
    "    phi = np.arctan(-d/w)\n",
    "    A = 1/(2*np.cos(phi))\n",
    "    cos = torch.cos(phi+w*t)\n",
    "    exp = torch.exp(-d*t)\n",
    "    u = exp*2*A*cos\n",
    "    return u"
   ]
  },
  {
   "cell_type": "code",
   "execution_count": 26,
   "id": "f289de0e-34ec-4bf6-bc3b-ec34ffc1aebd",
   "metadata": {
    "execution": {
     "iopub.execute_input": "2024-02-07T11:26:05.200189Z",
     "iopub.status.busy": "2024-02-07T11:26:05.199711Z",
     "iopub.status.idle": "2024-02-07T11:26:05.210721Z",
     "shell.execute_reply": "2024-02-07T11:26:05.209332Z",
     "shell.execute_reply.started": "2024-02-07T11:26:05.200152Z"
    }
   },
   "outputs": [
    {
     "data": {
      "text/plain": [
       "device(type='cpu')"
      ]
     },
     "execution_count": 26,
     "metadata": {},
     "output_type": "execute_result"
    }
   ],
   "source": [
    "# Example to check if it works (calculation of the exact solution):\n",
    "test_mu_gpu = 5\n",
    "u_exact_gpu = exact_solution(test_mu_gpu/(2*mass), w0, test_in_t_mu_gpu[0])\n",
    "#u_exact_gpu.view(-1,1)\n",
    "#u_exact_gpu.size()\n",
    "#u_exact_gpu.numel()\n",
    "#u_exact_gpu.dim()\n",
    "#u_exact_gpu\n",
    "u_exact_gpu.device"
   ]
  },
  {
   "cell_type": "code",
   "execution_count": 18,
   "id": "cacd8db4-7cbb-407b-accf-b022af2b69e5",
   "metadata": {
    "execution": {
     "iopub.execute_input": "2024-01-18T14:50:27.593492Z",
     "iopub.status.busy": "2024-01-18T14:50:27.593324Z",
     "iopub.status.idle": "2024-01-18T14:50:27.811003Z",
     "shell.execute_reply": "2024-01-18T14:50:27.810151Z",
     "shell.execute_reply.started": "2024-01-18T14:50:27.593478Z"
    }
   },
   "outputs": [
    {
     "data": {
      "image/png": "[encoded data removed]",
      "text/plain": [
       "<Figure size 1000x250 with 1 Axes>"
      ]
     },
     "metadata": {},
     "output_type": "display_data"
    }
   ],
   "source": [
    "# Plotting the exact solution:\n",
    "plt.figure(figsize=(10,2.5))\n",
    "plt.plot(\n",
    "        test_in_t_mu_gpu[0], \n",
    "        u_exact_gpu, \n",
    "        label=\"Exact solution\", \n",
    "        color=\"tab:grey\", \n",
    "        alpha=0.6)\n",
    "plt.scatter(\n",
    "        test_in_t_mu_gpu[0], \n",
    "        torch.zeros_like(test_in_t_mu_gpu[0]), \n",
    "        s=20, \n",
    "        lw=0, \n",
    "        color=\"tab:green\",\n",
    "        alpha=0.6,\n",
    "        label= \"Seed points (testing)\")\n",
    "plt.scatter(\n",
    "        physic_in_t_mu_gpu[0].cpu().detach(), \n",
    "        torch.zeros_like(physic_in_t_mu_gpu[0]).cpu(), \n",
    "        s=20, \n",
    "        lw=0, \n",
    "        color=\"tab:red\",\n",
    "        alpha=0.6,\n",
    "        label= \"Training points\")\n",
    "\n",
    "plt.title(f\"Exact solution using GPU \\n u(t=(0,1), $\\mu$ = {test_mu_gpu}) using {point_resolution_test_gpu} seed points\")\n",
    "plt.legend()\n",
    "plt.show()"
   ]
  },
  {
   "cell_type": "markdown",
   "id": "adeaf79c-1bed-4cd1-b372-e7b26689ab6f",
   "metadata": {},
   "source": [
    "## Step 2: Create Fully Connected Neural Network Class (FCNN):"
   ]
  },
  {
   "cell_type": "code",
   "execution_count": 19,
   "id": "dfe31b2e-f58a-4ca6-8328-c7841baea731",
   "metadata": {
    "execution": {
     "iopub.execute_input": "2024-01-18T14:50:27.812091Z",
     "iopub.status.busy": "2024-01-18T14:50:27.811914Z",
     "iopub.status.idle": "2024-01-18T14:50:27.823624Z",
     "shell.execute_reply": "2024-01-18T14:50:27.822765Z",
     "shell.execute_reply.started": "2024-01-18T14:50:27.812074Z"
    }
   },
   "outputs": [],
   "source": [
    "### Definition of the Fully Connected Neural Network Class:\n",
    "# Ben Moseley:\n",
    "class FCN(nn.Module):\n",
    "    \"Defines a fully-connected network\"\n",
    "    \n",
    "    def __init__(self, N_INPUT, N_OUTPUT, N_HIDDEN, N_LAYERS):\n",
    "        super().__init__()\n",
    "        activation = nn.Tanh\n",
    "        self.fcs = nn.Sequential(*[\n",
    "                        nn.Linear(N_INPUT, N_HIDDEN),\n",
    "                        activation()])\n",
    "        self.fch = nn.Sequential(*[\n",
    "                        nn.Sequential(*[\n",
    "                            nn.Linear(N_HIDDEN, N_HIDDEN),\n",
    "                            activation()]) for _ in range(N_LAYERS-1)])\n",
    "        self.fce = nn.Linear(N_HIDDEN, N_OUTPUT)\n",
    "        \n",
    "    def forward(self, x):\n",
    "        x = self.fcs(x)\n",
    "        x = self.fch(x)\n",
    "        x = self.fce(x)\n",
    "        return x\n",
    "\n",
    "### Definition of the Fully Connected Neural Network Class\n",
    "# Ben Moseley and added ACTIVATION FUNCTION and INITIALIZATION\n",
    "\n",
    "class FCN_init(nn.Module):\n",
    "    \"Defines a fully-connected network\"\n",
    "    \n",
    "    def __init__(self, N_INPUT, N_OUTPUT, N_HIDDEN, N_LAYERS, activation = \"Tanh\"):#, initialization = \"Xavier\"):\n",
    "        super().__init__()\n",
    "        activation_functions = nn.ModuleDict([\n",
    "                                            [\"Tanh\", nn.Tanh()],\n",
    "                                            [\"ReLU\", nn.ReLU()],\n",
    "                                            [\"LeakyReLU\", nn.LeakyReLU()],\n",
    "                                            [\"Sigmoid\", nn.Sigmoid()],\n",
    "                                            [\"Softmax\", nn.Softmax()],\n",
    "                                            ])\n",
    "      # initialization_type = nn.ModuleDict([\n",
    "      #     [\"Xavier\", nn.init.xavier_normal_],\n",
    "      #     ])\n",
    "        #activation = nn.Tanh\n",
    "        self.fcs = nn.Sequential(*[\n",
    "                        nn.Linear(N_INPUT, N_HIDDEN),\n",
    "                        activation_functions[activation]])\n",
    "        self.fch = nn.Sequential(*[\n",
    "                        nn.Sequential(*[\n",
    "                            nn.Linear(N_HIDDEN, N_HIDDEN),\n",
    "                            activation_functions[activation]]) for _ in range(N_LAYERS-1)])\n",
    "        self.fce = nn.Linear(N_HIDDEN, N_OUTPUT)\n",
    "        self.weights_and_bias_initialization()\n",
    "        #self.initialization = initialization\n",
    "        \n",
    "    def forward(self, x):\n",
    "        x = self.fcs(x)\n",
    "        x = self.fch(x)\n",
    "        x = self.fce(x)\n",
    "        return x\n",
    "\n",
    "    def weights_and_bias_initialization(self):\n",
    "        for module_with_layers in self.modules():\n",
    "            if isinstance(module_with_layers, nn.Linear):\n",
    "                #initialization_type(module_with_layers.weight)\n",
    "                #nn.init.xavier_uniform_(module_with_layers.weight)\n",
    "                #nn.init.constant_(module_with_layers.bias, 0)\n",
    "                nn.init.kaiming_uniform_(module_with_layers.weight)\n",
    "                nn.init.constant_(module_with_layers.bias, 0)\n",
    "\n",
    "class FCN_1(nn.Module):   # inherent from nn.Module\n",
    "    \"Defines a standard fully-connected network in PyTorch\"\n",
    "    # Initialization of the neural network layers in __init__:\n",
    "    def __init__(self, input_dim, hidden_dim, output_dim):\n",
    "        super().__init__()                                      \n",
    "        \n",
    "        # INPUT Linear function: 1x1 --> 32x1: [A](32x1)*[X](1x1) + [b](32x1)\n",
    "        self.fc_in = nn.Linear(input_dim, hidden_dim)\n",
    "        \n",
    "        # INPUT Non-linearity (activation function): 32x1-->32x1\n",
    "        self.tangh = nn.Tanh()\n",
    "        \n",
    "        # OUTPUT Linear function: 32x1 --> 1x1: [A](32x1)*[X](1x1) + [b](32x1)\n",
    "        self.fc_out = nn.Linear(hidden_dim, output_dim)\n",
    "\n",
    "    \n",
    "    def forward(self, input):\n",
    "        # INPUT Linear function:\n",
    "        hidden = self.fc_in(input)\n",
    "\n",
    "        # HIDDEN Non-linearity\n",
    "        hidden = self.tangh(hidden)\n",
    "\n",
    "        # OUTPUT Linear function\n",
    "        output = self.fc_out(hidden)\n",
    "        \n",
    "        return output"
   ]
  },
  {
   "cell_type": "markdown",
   "id": "9cf5a097-0d9c-428f-b0f1-e763dc4e1a82",
   "metadata": {},
   "source": [
    "## STEP 3: Instantiate the Model Class"
   ]
  },
  {
   "cell_type": "code",
   "execution_count": 20,
   "id": "7c46c88e-34a9-4b73-9e4f-d136574673ba",
   "metadata": {
    "execution": {
     "iopub.execute_input": "2024-01-18T14:50:27.824584Z",
     "iopub.status.busy": "2024-01-18T14:50:27.824415Z",
     "iopub.status.idle": "2024-01-18T14:50:27.853616Z",
     "shell.execute_reply": "2024-01-18T14:50:27.852775Z",
     "shell.execute_reply.started": "2024-01-18T14:50:27.824569Z"
    }
   },
   "outputs": [
    {
     "name": "stdout",
     "output_type": "stream",
     "text": [
      "<bound method Module.parameters of FCN_init(\n",
      "  (fcs): Sequential(\n",
      "    (0): Linear(in_features=2, out_features=64, bias=True)\n",
      "    (1): Tanh()\n",
      "  )\n",
      "  (fch): Sequential(\n",
      "    (0): Sequential(\n",
      "      (0): Linear(in_features=64, out_features=64, bias=True)\n",
      "      (1): Tanh()\n",
      "    )\n",
      "    (1): Sequential(\n",
      "      (0): Linear(in_features=64, out_features=64, bias=True)\n",
      "      (1): Tanh()\n",
      "    )\n",
      "    (2): Sequential(\n",
      "      (0): Linear(in_features=64, out_features=64, bias=True)\n",
      "      (1): Tanh()\n",
      "    )\n",
      "  )\n",
      "  (fce): Linear(in_features=64, out_features=1, bias=True)\n",
      ")>\n",
      "OrderedDict([('fcs.0.weight', tensor([[-0.1240, -0.8420],\n",
      "        [-0.8013,  0.2499],\n",
      "        [ 0.5668,  0.1183],\n",
      "        [ 1.4565,  0.8543],\n",
      "        [-0.1069,  1.5545],\n",
      "        [ 1.2224, -0.1621],\n",
      "        [-0.5100, -0.6432],\n",
      "        [-0.5343, -0.2352],\n",
      "        [ 0.2555,  1.4625],\n",
      "        [-0.9798, -1.4567],\n",
      "        [-1.7251, -0.9887],\n",
      "        [-0.1131, -0.9530],\n",
      "        [-1.5537,  0.6031],\n",
      "        [-0.3944, -1.3614],\n",
      "        [-1.3994, -0.4170],\n",
      "        [ 0.8367, -1.5507],\n",
      "        [ 0.4996,  0.1069],\n",
      "        [-0.5306, -0.4034],\n",
      "        [-1.1769,  0.3247],\n",
      "        [ 1.5704,  0.4151],\n",
      "        [-1.6220,  0.7065],\n",
      "        [-0.0992,  0.4138],\n",
      "        [ 0.0119,  0.3774],\n",
      "        [-1.2751, -1.2069],\n",
      "        [-1.7239,  1.0299],\n",
      "        [-0.7503, -0.2632],\n",
      "        [ 0.7563,  0.6255],\n",
      "        [ 1.2758,  0.6695],\n",
      "        [-0.7880, -0.2640],\n",
      "        [ 0.9315, -0.6561],\n",
      "        [ 1.6981, -0.9214],\n",
      "        [ 0.5649, -0.9007],\n",
      "        [-1.3574,  0.2175],\n",
      "        [-0.6782,  0.8263],\n",
      "        [-0.4333,  1.6511],\n",
      "        [ 0.4090,  1.6924],\n",
      "        [-0.4223, -1.1664],\n",
      "        [-0.4121, -0.7891],\n",
      "        [ 1.0465, -0.9069],\n",
      "        [-1.1989, -1.1008],\n",
      "        [ 1.3675, -1.2170],\n",
      "        [ 0.2511,  1.1359],\n",
      "        [-1.1178, -0.2486],\n",
      "        [-0.8586,  1.6155],\n",
      "        [-0.5660,  0.3916],\n",
      "        [ 0.3188, -1.6105],\n",
      "        [ 0.7755, -0.8266],\n",
      "        [ 1.4553,  1.2723],\n",
      "        [ 0.5739, -0.3929],\n",
      "        [-0.9793,  1.4372],\n",
      "        [ 0.2930,  1.6993],\n",
      "        [-0.2398, -1.3164],\n",
      "        [ 1.5829,  0.8037],\n",
      "        [ 1.5415, -1.3355],\n",
      "        [ 0.3650, -1.3488],\n",
      "        [ 0.6064,  1.4070],\n",
      "        [ 0.6736, -0.5411],\n",
      "        [-1.3461,  0.4627],\n",
      "        [ 1.0107, -0.5066],\n",
      "        [-1.4025,  0.7048],\n",
      "        [ 0.7357, -0.5270],\n",
      "        [-1.6189, -1.6643],\n",
      "        [ 1.6858,  0.1041],\n",
      "        [ 1.1301,  0.6048]], device='cuda:0')), ('fcs.0.bias', tensor([0., 0., 0., 0., 0., 0., 0., 0., 0., 0., 0., 0., 0., 0., 0., 0., 0., 0., 0., 0., 0., 0., 0., 0.,\n",
      "        0., 0., 0., 0., 0., 0., 0., 0., 0., 0., 0., 0., 0., 0., 0., 0., 0., 0., 0., 0., 0., 0., 0., 0.,\n",
      "        0., 0., 0., 0., 0., 0., 0., 0., 0., 0., 0., 0., 0., 0., 0., 0.],\n",
      "       device='cuda:0')), ('fch.0.0.weight', tensor([[-0.0517, -0.1901, -0.2906,  ..., -0.0266,  0.1415,  0.2737],\n",
      "        [-0.0656, -0.1912, -0.0769,  ..., -0.2895, -0.1187, -0.0883],\n",
      "        [-0.2491, -0.2982, -0.2871,  ...,  0.1221, -0.1732, -0.2993],\n",
      "        ...,\n",
      "        [-0.0937, -0.0723, -0.0969,  ..., -0.0194,  0.0368,  0.2292],\n",
      "        [ 0.2431,  0.2643,  0.0434,  ...,  0.2373, -0.2451,  0.0513],\n",
      "        [-0.1208,  0.2083,  0.1942,  ...,  0.2793,  0.0380, -0.2460]],\n",
      "       device='cuda:0')), ('fch.0.0.bias', tensor([0., 0., 0., 0., 0., 0., 0., 0., 0., 0., 0., 0., 0., 0., 0., 0., 0., 0., 0., 0., 0., 0., 0., 0.,\n",
      "        0., 0., 0., 0., 0., 0., 0., 0., 0., 0., 0., 0., 0., 0., 0., 0., 0., 0., 0., 0., 0., 0., 0., 0.,\n",
      "        0., 0., 0., 0., 0., 0., 0., 0., 0., 0., 0., 0., 0., 0., 0., 0.],\n",
      "       device='cuda:0')), ('fch.1.0.weight', tensor([[-0.2935, -0.1043,  0.1415,  ..., -0.1548,  0.0920,  0.2113],\n",
      "        [-0.0097,  0.2220,  0.0793,  ...,  0.1949, -0.0301,  0.1289],\n",
      "        [-0.0690, -0.2901, -0.1459,  ..., -0.0527, -0.1722,  0.1653],\n",
      "        ...,\n",
      "        [ 0.1383,  0.0670, -0.1695,  ...,  0.3041, -0.0012,  0.0239],\n",
      "        [ 0.2436, -0.1637, -0.2414,  ..., -0.0854,  0.0479, -0.1161],\n",
      "        [-0.2737,  0.0855,  0.1948,  ...,  0.1623,  0.2781,  0.2393]],\n",
      "       device='cuda:0')), ('fch.1.0.bias', tensor([0., 0., 0., 0., 0., 0., 0., 0., 0., 0., 0., 0., 0., 0., 0., 0., 0., 0., 0., 0., 0., 0., 0., 0.,\n",
      "        0., 0., 0., 0., 0., 0., 0., 0., 0., 0., 0., 0., 0., 0., 0., 0., 0., 0., 0., 0., 0., 0., 0., 0.,\n",
      "        0., 0., 0., 0., 0., 0., 0., 0., 0., 0., 0., 0., 0., 0., 0., 0.],\n",
      "       device='cuda:0')), ('fch.2.0.weight', tensor([[-0.1756,  0.2830, -0.1006,  ..., -0.1724, -0.0590, -0.0620],\n",
      "        [-0.1798, -0.0893, -0.2405,  ..., -0.1267, -0.2082, -0.2492],\n",
      "        [ 0.2848,  0.1013,  0.0194,  ..., -0.0715, -0.1592, -0.3020],\n",
      "        ...,\n",
      "        [ 0.2833, -0.0836,  0.1936,  ...,  0.1841, -0.0841,  0.1298],\n",
      "        [-0.1585, -0.1184, -0.2229,  ...,  0.2421, -0.0047, -0.1934],\n",
      "        [-0.1134,  0.0132,  0.2046,  ..., -0.0470,  0.0792,  0.1111]],\n",
      "       device='cuda:0')), ('fch.2.0.bias', tensor([0., 0., 0., 0., 0., 0., 0., 0., 0., 0., 0., 0., 0., 0., 0., 0., 0., 0., 0., 0., 0., 0., 0., 0.,\n",
      "        0., 0., 0., 0., 0., 0., 0., 0., 0., 0., 0., 0., 0., 0., 0., 0., 0., 0., 0., 0., 0., 0., 0., 0.,\n",
      "        0., 0., 0., 0., 0., 0., 0., 0., 0., 0., 0., 0., 0., 0., 0., 0.],\n",
      "       device='cuda:0')), ('fce.weight', tensor([[-0.0520,  0.3022, -0.0504,  0.0062, -0.1035,  0.1818,  0.2347, -0.1915,\n",
      "         -0.1546,  0.1371, -0.2125,  0.1709,  0.0204,  0.0840,  0.3025,  0.2589,\n",
      "         -0.0626, -0.1150, -0.0067,  0.0385, -0.2186,  0.0818,  0.1999,  0.0959,\n",
      "         -0.2203, -0.0348,  0.0400, -0.0426,  0.1842,  0.0414, -0.2837,  0.1052,\n",
      "         -0.1007, -0.2726,  0.2335, -0.1014, -0.2372,  0.2025,  0.2991, -0.0745,\n",
      "          0.2455,  0.1047, -0.1286,  0.0743,  0.0114, -0.0691,  0.0678, -0.0472,\n",
      "         -0.2933, -0.0572,  0.1110, -0.2695,  0.2702, -0.2385,  0.0262, -0.1494,\n",
      "          0.2022,  0.3010,  0.0867, -0.0548, -0.0677,  0.1311, -0.0200,  0.1100]],\n",
      "       device='cuda:0')), ('fce.bias', tensor([0.], device='cuda:0'))])\n"
     ]
    }
   ],
   "source": [
    "activation_func = \"Tanh\"\n",
    "model_init_gpu = FCN_init(2,1,64,4, activation= activation_func)\n",
    "model_init_gpu.to(device)\n",
    "print(model_init_gpu.parameters)\n",
    "print(model_init_gpu.state_dict())"
   ]
  },
  {
   "cell_type": "markdown",
   "id": "0177c01f-519e-4d5e-9de8-5ccd30e38acb",
   "metadata": {},
   "source": [
    "### Checking the model using test points and a constant mu value at the initialization:"
   ]
  },
  {
   "cell_type": "code",
   "execution_count": 21,
   "id": "805cde16-9307-4888-89bf-75b75a627a84",
   "metadata": {
    "execution": {
     "iopub.execute_input": "2024-01-18T14:50:27.854621Z",
     "iopub.status.busy": "2024-01-18T14:50:27.854453Z",
     "iopub.status.idle": "2024-01-18T14:50:27.889895Z",
     "shell.execute_reply": "2024-01-18T14:50:27.888955Z",
     "shell.execute_reply.started": "2024-01-18T14:50:27.854606Z"
    }
   },
   "outputs": [
    {
     "data": {
      "text/plain": [
       "tensor([[-1.0174],\n",
       "        [-1.0157],\n",
       "        [-1.0140],\n",
       "        [-1.0123],\n",
       "        [-1.0106],\n",
       "        [-1.0090],\n",
       "        [-1.0074],\n",
       "        [-1.0059],\n",
       "        [-1.0043],\n",
       "        [-1.0028],\n",
       "        [-1.0013],\n",
       "        [-0.9999],\n",
       "        [-0.9985],\n",
       "        [-0.9971],\n",
       "        [-0.9958],\n",
       "        [-0.9945],\n",
       "        [-0.9932],\n",
       "        [-0.9919],\n",
       "        [-0.9907],\n",
       "        [-0.9895],\n",
       "        [-0.9884],\n",
       "        [-0.9872],\n",
       "        [-0.9861],\n",
       "        [-0.9851],\n",
       "        [-0.9840],\n",
       "        [-0.9830],\n",
       "        [-0.9821],\n",
       "        [-0.9811],\n",
       "        [-0.9802],\n",
       "        [-0.9793],\n",
       "        [-0.9785],\n",
       "        [-0.9776],\n",
       "        [-0.9768],\n",
       "        [-0.9761],\n",
       "        [-0.9753],\n",
       "        [-0.9746],\n",
       "        [-0.9739],\n",
       "        [-0.9733],\n",
       "        [-0.9726],\n",
       "        [-0.9720],\n",
       "        [-0.9714],\n",
       "        [-0.9708],\n",
       "        [-0.9703],\n",
       "        [-0.9698],\n",
       "        [-0.9693],\n",
       "        [-0.9688],\n",
       "        [-0.9683],\n",
       "        [-0.9679],\n",
       "        [-0.9675],\n",
       "        [-0.9671],\n",
       "        [-0.9667],\n",
       "        [-0.9663],\n",
       "        [-0.9660],\n",
       "        [-0.9656],\n",
       "        [-0.9653],\n",
       "        [-0.9650],\n",
       "        [-0.9648],\n",
       "        [-0.9645],\n",
       "        [-0.9643],\n",
       "        [-0.9640],\n",
       "        [-0.9638],\n",
       "        [-0.9636],\n",
       "        [-0.9634],\n",
       "        [-0.9632],\n",
       "        [-0.9631],\n",
       "        [-0.9629],\n",
       "        [-0.9628],\n",
       "        [-0.9626],\n",
       "        [-0.9625],\n",
       "        [-0.9624],\n",
       "        [-0.9623],\n",
       "        [-0.9622],\n",
       "        [-0.9621],\n",
       "        [-0.9620],\n",
       "        [-0.9620],\n",
       "        [-0.9619],\n",
       "        [-0.9618],\n",
       "        [-0.9618],\n",
       "        [-0.9617],\n",
       "        [-0.9617],\n",
       "        [-0.9617],\n",
       "        [-0.9616],\n",
       "        [-0.9616],\n",
       "        [-0.9616],\n",
       "        [-0.9615],\n",
       "        [-0.9615],\n",
       "        [-0.9615],\n",
       "        [-0.9615],\n",
       "        [-0.9615],\n",
       "        [-0.9615],\n",
       "        [-0.9615],\n",
       "        [-0.9614],\n",
       "        [-0.9614],\n",
       "        [-0.9614],\n",
       "        [-0.9614],\n",
       "        [-0.9614],\n",
       "        [-0.9614],\n",
       "        [-0.9613],\n",
       "        [-0.9613],\n",
       "        [-0.9613]], device='cuda:0', grad_fn=<AddmmBackward0>)"
      ]
     },
     "execution_count": 21,
     "metadata": {},
     "output_type": "execute_result"
    }
   ],
   "source": [
    "test_mu_gpu = 5\n",
    "test_in_t_constant_mu_gpu = torch.stack([torch.linspace(0,1,point_resolution_test_gpu), test_mu_gpu*torch.ones(point_resolution_test_gpu)], -1).view(-1,2).to(device)\n",
    "test_predicted_init_gpu = model_init_gpu(test_in_t_constant_mu_gpu)\n",
    "test_predicted_init_gpu\n",
    "#test_predicted_init_gpu.size()"
   ]
  },
  {
   "cell_type": "code",
   "execution_count": 22,
   "id": "baf2f1d2-f9cf-4a53-a1bb-2faa6699d665",
   "metadata": {
    "execution": {
     "iopub.execute_input": "2024-01-18T14:50:27.893159Z",
     "iopub.status.busy": "2024-01-18T14:50:27.892975Z",
     "iopub.status.idle": "2024-01-18T14:50:27.903463Z",
     "shell.execute_reply": "2024-01-18T14:50:27.902791Z",
     "shell.execute_reply.started": "2024-01-18T14:50:27.893141Z"
    }
   },
   "outputs": [
    {
     "data": {
      "text/plain": [
       "tensor([[0.0000, 5.0000],\n",
       "        [0.0101, 5.0000],\n",
       "        [0.0202, 5.0000],\n",
       "        [0.0303, 5.0000],\n",
       "        [0.0404, 5.0000],\n",
       "        [0.0505, 5.0000],\n",
       "        [0.0606, 5.0000],\n",
       "        [0.0707, 5.0000],\n",
       "        [0.0808, 5.0000],\n",
       "        [0.0909, 5.0000],\n",
       "        [0.1010, 5.0000],\n",
       "        [0.1111, 5.0000],\n",
       "        [0.1212, 5.0000],\n",
       "        [0.1313, 5.0000],\n",
       "        [0.1414, 5.0000],\n",
       "        [0.1515, 5.0000],\n",
       "        [0.1616, 5.0000],\n",
       "        [0.1717, 5.0000],\n",
       "        [0.1818, 5.0000],\n",
       "        [0.1919, 5.0000],\n",
       "        [0.2020, 5.0000],\n",
       "        [0.2121, 5.0000],\n",
       "        [0.2222, 5.0000],\n",
       "        [0.2323, 5.0000],\n",
       "        [0.2424, 5.0000],\n",
       "        [0.2525, 5.0000],\n",
       "        [0.2626, 5.0000],\n",
       "        [0.2727, 5.0000],\n",
       "        [0.2828, 5.0000],\n",
       "        [0.2929, 5.0000],\n",
       "        [0.3030, 5.0000],\n",
       "        [0.3131, 5.0000],\n",
       "        [0.3232, 5.0000],\n",
       "        [0.3333, 5.0000],\n",
       "        [0.3434, 5.0000],\n",
       "        [0.3535, 5.0000],\n",
       "        [0.3636, 5.0000],\n",
       "        [0.3737, 5.0000],\n",
       "        [0.3838, 5.0000],\n",
       "        [0.3939, 5.0000],\n",
       "        [0.4040, 5.0000],\n",
       "        [0.4141, 5.0000],\n",
       "        [0.4242, 5.0000],\n",
       "        [0.4343, 5.0000],\n",
       "        [0.4444, 5.0000],\n",
       "        [0.4545, 5.0000],\n",
       "        [0.4646, 5.0000],\n",
       "        [0.4747, 5.0000],\n",
       "        [0.4848, 5.0000],\n",
       "        [0.4949, 5.0000],\n",
       "        [0.5051, 5.0000],\n",
       "        [0.5152, 5.0000],\n",
       "        [0.5253, 5.0000],\n",
       "        [0.5354, 5.0000],\n",
       "        [0.5455, 5.0000],\n",
       "        [0.5556, 5.0000],\n",
       "        [0.5657, 5.0000],\n",
       "        [0.5758, 5.0000],\n",
       "        [0.5859, 5.0000],\n",
       "        [0.5960, 5.0000],\n",
       "        [0.6061, 5.0000],\n",
       "        [0.6162, 5.0000],\n",
       "        [0.6263, 5.0000],\n",
       "        [0.6364, 5.0000],\n",
       "        [0.6465, 5.0000],\n",
       "        [0.6566, 5.0000],\n",
       "        [0.6667, 5.0000],\n",
       "        [0.6768, 5.0000],\n",
       "        [0.6869, 5.0000],\n",
       "        [0.6970, 5.0000],\n",
       "        [0.7071, 5.0000],\n",
       "        [0.7172, 5.0000],\n",
       "        [0.7273, 5.0000],\n",
       "        [0.7374, 5.0000],\n",
       "        [0.7475, 5.0000],\n",
       "        [0.7576, 5.0000],\n",
       "        [0.7677, 5.0000],\n",
       "        [0.7778, 5.0000],\n",
       "        [0.7879, 5.0000],\n",
       "        [0.7980, 5.0000],\n",
       "        [0.8081, 5.0000],\n",
       "        [0.8182, 5.0000],\n",
       "        [0.8283, 5.0000],\n",
       "        [0.8384, 5.0000],\n",
       "        [0.8485, 5.0000],\n",
       "        [0.8586, 5.0000],\n",
       "        [0.8687, 5.0000],\n",
       "        [0.8788, 5.0000],\n",
       "        [0.8889, 5.0000],\n",
       "        [0.8990, 5.0000],\n",
       "        [0.9091, 5.0000],\n",
       "        [0.9192, 5.0000],\n",
       "        [0.9293, 5.0000],\n",
       "        [0.9394, 5.0000],\n",
       "        [0.9495, 5.0000],\n",
       "        [0.9596, 5.0000],\n",
       "        [0.9697, 5.0000],\n",
       "        [0.9798, 5.0000],\n",
       "        [0.9899, 5.0000],\n",
       "        [1.0000, 5.0000]], device='cuda:0')"
      ]
     },
     "execution_count": 22,
     "metadata": {},
     "output_type": "execute_result"
    }
   ],
   "source": [
    "test_in_t_constant_mu_gpu"
   ]
  },
  {
   "cell_type": "code",
   "execution_count": 23,
   "id": "f0ce1702-14bb-4b5c-957e-df3a2ad4a69b",
   "metadata": {
    "execution": {
     "iopub.execute_input": "2024-01-18T14:50:27.904380Z",
     "iopub.status.busy": "2024-01-18T14:50:27.904208Z",
     "iopub.status.idle": "2024-01-18T14:50:28.094802Z",
     "shell.execute_reply": "2024-01-18T14:50:28.093772Z",
     "shell.execute_reply.started": "2024-01-18T14:50:27.904365Z"
    }
   },
   "outputs": [
    {
     "data": {
      "image/png": "[encoded data removed]",
      "text/plain": [
       "<Figure size 1000x250 with 1 Axes>"
      ]
     },
     "metadata": {},
     "output_type": "display_data"
    }
   ],
   "source": [
    "# Plotting the exact solution:\n",
    "plt.figure(figsize=(10,2.5))\n",
    "plt.plot(\n",
    "        test_in_t_mu_gpu[0], \n",
    "        u_exact_gpu, \n",
    "        label=\"Exact solution\", \n",
    "        color=\"tab:grey\", \n",
    "        alpha=0.6)\n",
    "plt.plot(\n",
    "        test_in_t_mu_gpu[0], \n",
    "        test_predicted_init_gpu[:,0].cpu().detach(), \n",
    "        label=\"PINN solution (initial)\", \n",
    "        color=\"tab:green\"\n",
    ")\n",
    "plt.scatter(\n",
    "        test_in_t_mu_gpu[0], \n",
    "        torch.zeros_like(test_in_t_mu_gpu[0]), \n",
    "        s=20, \n",
    "        lw=0, \n",
    "        color=\"tab:green\",\n",
    "        alpha=0.6,\n",
    "        label= \"Seed points (testing)\")\n",
    "plt.scatter(\n",
    "        physic_in_t_mu_gpu[0].cpu().detach(), \n",
    "        torch.zeros_like(physic_in_t_mu_gpu[0]).cpu(), \n",
    "        s=20, \n",
    "        lw=0, \n",
    "        color=\"tab:red\",\n",
    "        alpha=0.6,\n",
    "        label= \"Training points\")\n",
    "plt.title(f\"Exact and predicted solution using GPU \\n u(t=(0,1), $\\mu$ = {test_mu_gpu}), model: {model_init_gpu.__class__.__name__}, activation function: Tanh, epoch = 1\")\n",
    "plt.legend()\n",
    "plt.show()"
   ]
  },
  {
   "cell_type": "markdown",
   "id": "50e8fec5-6e4f-461a-a1d2-164175958743",
   "metadata": {},
   "source": [
    "## STEP 4: Selection of the Optimizer"
   ]
  },
  {
   "cell_type": "code",
   "execution_count": 24,
   "id": "7f0ae5a8-ee60-475a-b967-4332008639f0",
   "metadata": {
    "execution": {
     "iopub.execute_input": "2024-01-18T14:50:28.095929Z",
     "iopub.status.busy": "2024-01-18T14:50:28.095742Z",
     "iopub.status.idle": "2024-01-18T14:50:28.102079Z",
     "shell.execute_reply": "2024-01-18T14:50:28.101206Z",
     "shell.execute_reply.started": "2024-01-18T14:50:28.095911Z"
    }
   },
   "outputs": [
    {
     "data": {
      "text/plain": [
       "Adam (\n",
       "Parameter Group 0\n",
       "    amsgrad: False\n",
       "    betas: (0.9, 0.999)\n",
       "    capturable: False\n",
       "    differentiable: False\n",
       "    eps: 1e-08\n",
       "    foreach: None\n",
       "    fused: None\n",
       "    lr: 0.001\n",
       "    maximize: False\n",
       "    weight_decay: 0\n",
       ")"
      ]
     },
     "execution_count": 24,
     "metadata": {},
     "output_type": "execute_result"
    }
   ],
   "source": [
    "optimiser_gpu = torch.optim.Adam(model_init_gpu.parameters(), lr= learning_rate_gpu)\n",
    "optimiser_gpu"
   ]
  },
  {
   "cell_type": "markdown",
   "id": "2ece0183-5e48-42b3-8c63-46e5eaab19b3",
   "metadata": {},
   "source": [
    "## STEP 5: Training the PINN:"
   ]
  },
  {
   "cell_type": "code",
   "execution_count": 25,
   "id": "c4f43652-a1ee-4df5-8bb9-154d908f507d",
   "metadata": {
    "execution": {
     "iopub.execute_input": "2024-01-18T14:50:28.103504Z",
     "iopub.status.busy": "2024-01-18T14:50:28.103325Z",
     "iopub.status.idle": "2024-01-18T14:50:28.115755Z",
     "shell.execute_reply": "2024-01-18T14:50:28.114900Z",
     "shell.execute_reply.started": "2024-01-18T14:50:28.103489Z"
    }
   },
   "outputs": [],
   "source": [
    "epochs_gpu = 2001\n",
    "start_gpu = time.time()\n",
    "# Creation of the variables loss1_history, loss2_history and loss3_history for printing the evolution of the contribution of every loss term:\n",
    "loss_ic1_history_gpu = []\n",
    "loss_ic2_history_gpu = []\n",
    "loss_differential_equation_history_gpu = []"
   ]
  },
  {
   "cell_type": "code",
   "execution_count": 26,
   "id": "86d30871-af97-4298-8609-f049f17d135e",
   "metadata": {
    "execution": {
     "iopub.execute_input": "2024-01-18T14:50:28.116441Z",
     "iopub.status.busy": "2024-01-18T14:50:28.116279Z",
     "iopub.status.idle": "2024-01-18T14:50:28.125619Z",
     "shell.execute_reply": "2024-01-18T14:50:28.124873Z",
     "shell.execute_reply.started": "2024-01-18T14:50:28.116427Z"
    }
   },
   "outputs": [
    {
     "data": {
      "text/plain": [
       "'FCN_init'"
      ]
     },
     "execution_count": 26,
     "metadata": {},
     "output_type": "execute_result"
    }
   ],
   "source": [
    "model_init_gpu.__class__.__name__"
   ]
  },
  {
   "cell_type": "code",
   "execution_count": 27,
   "id": "35024311-0ef6-479e-8c05-4825cb19fcb8",
   "metadata": {
    "execution": {
     "iopub.execute_input": "2024-01-18T14:50:28.126693Z",
     "iopub.status.busy": "2024-01-18T14:50:28.126524Z",
     "iopub.status.idle": "2024-01-18T14:50:53.503855Z",
     "shell.execute_reply": "2024-01-18T14:50:53.502874Z",
     "shell.execute_reply.started": "2024-01-18T14:50:28.126679Z"
    }
   },
   "outputs": [
    {
     "name": "stdout",
     "output_type": "stream",
     "text": [
      "Decomposition of the loss terms: \n",
      " loss(18.29402732849121) = loss1(3.9504380226135254) + 0.001 * loss2(0.019190413877367973) + 0.0001 * loss3(143435.703125)\n"
     ]
    },
    {
     "data": {
      "image/png": "[encoded data removed]",
      "text/plain": [
       "<Figure size 1000x250 with 1 Axes>"
      ]
     },
     "metadata": {},
     "output_type": "display_data"
    },
    {
     "name": "stdout",
     "output_type": "stream",
     "text": [
      "Saved the checkpoint corresponding to epoch: 0\n",
      "Decomposition of the loss terms: \n",
      " loss(0.06550288200378418) = loss1(0.007886083796620369) + 0.001 * loss2(0.19490371644496918) + 0.0001 * loss3(574.218994140625)\n"
     ]
    },
    {
     "data": {
      "image/png": "[encoded data removed]",
      "text/plain": [
       "<Figure size 1000x250 with 1 Axes>"
      ]
     },
     "metadata": {},
     "output_type": "display_data"
    },
    {
     "name": "stdout",
     "output_type": "stream",
     "text": [
      "Saved the checkpoint corresponding to epoch: 1000\n",
      "Decomposition of the loss terms: \n",
      " loss(0.023312203586101532) = loss1(0.0012995742727071047) + 0.001 * loss2(0.01613481156527996) + 0.0001 * loss3(219.96495056152344)\n"
     ]
    },
    {
     "data": {
      "image/png": "[encoded data removed]",
      "text/plain": [
       "<Figure size 1000x250 with 1 Axes>"
      ]
     },
     "metadata": {},
     "output_type": "display_data"
    },
    {
     "name": "stdout",
     "output_type": "stream",
     "text": [
      "Saved the checkpoint corresponding to epoch: 2000\n",
      "Training elapsed time (s): 25.386852979660034\n"
     ]
    }
   ],
   "source": [
    "for i in range(epochs_gpu):\n",
    "    optimiser_gpu.zero_grad()\n",
    "\n",
    "    # compute initial condition 1 loss:\n",
    "    ic1_predicted_gpu= model_init_gpu(ic1_t_mu_gpu)\n",
    "    loss_ic1_gpu = torch.mean((ic1_predicted_gpu - ic1_scope_gpu)**2)\n",
    "    loss_ic1_history_gpu.append(loss_ic1_gpu.item())\n",
    "\n",
    "\n",
    "    # compute initial condition 2 loss:\n",
    "    du_dtdmu_initial_gpu = torch.autograd.grad(outputs = ic1_predicted_gpu, inputs = ic1_t_mu_gpu, grad_outputs= torch.ones_like(ic1_predicted_gpu), create_graph= True)[0]\n",
    "    ic2_du_dt_gpu, ic2_du_dmu_gpu = du_dtdmu_initial_gpu[:, 0:1], du_dtdmu_initial_gpu[:,1:2]\n",
    "    loss_ic2_gpu = torch.mean((ic2_du_dt_gpu- ic2_scope_gpu)**2)\n",
    "    loss_ic2_history_gpu.append(loss_ic2_gpu.item())\n",
    "\n",
    "    # compute physic loss:\n",
    "    physic_domain_predicted_gpu = model_init_gpu(physic_domain_t_mu_gpu)\n",
    "    physic_domain_du_dtdmu_gpu = torch.autograd.grad(outputs = physic_domain_predicted_gpu, inputs = physic_domain_t_mu_gpu, grad_outputs= torch.ones_like(physic_domain_predicted_gpu), create_graph= True)[0]\n",
    "    physic_domain_d2u_d2t_d2mu_gpu = torch.autograd.grad(outputs = physic_domain_du_dtdmu_gpu[:,0:1], inputs = physic_domain_t_mu_gpu, grad_outputs= torch.ones_like(physic_domain_du_dtdmu_gpu[:,0:1]), create_graph= True)[0]\n",
    "    loss_differential_equation_gpu = torch.mean( (physic_domain_d2u_d2t_d2mu_gpu[:,0:1] + physic_domain_t_mu_gpu[:,1:2] * physic_domain_du_dtdmu_gpu[:,0:1] + k * physic_domain_predicted_gpu )**2)\n",
    "    loss_differential_equation_history_gpu.append(loss_differential_equation_gpu.item())\n",
    "    \n",
    "    loss_gpu = loss_ic1_gpu + lambda1_gpu * loss_ic2_gpu + lambda2_gpu * loss_differential_equation_gpu\n",
    "    \n",
    "    loss_gpu.backward()\n",
    "    optimiser_gpu.step()\n",
    "    \n",
    "    \n",
    "    if i%1000 == 0:\n",
    "        print(f'Decomposition of the loss terms: \\n loss({loss_gpu}) = loss1({loss_ic1_gpu}) + {lambda1_gpu} * loss2({loss_ic2_gpu}) + {lambda2_gpu} * loss3({loss_differential_equation_gpu})')\n",
    "        \n",
    "        test_predicted_gpu = model_init_gpu(test_in_t_constant_mu_gpu)\n",
    "        \n",
    "        plt.figure(figsize=(10,2.5))\n",
    "        plt.plot(\n",
    "                test_in_t_mu_gpu[0].cpu(), \n",
    "                u_exact_gpu.cpu(), \n",
    "                label=\"Exact solution\", \n",
    "                color=\"tab:grey\", \n",
    "                alpha=0.6\n",
    "        )\n",
    "        plt.plot(\n",
    "                test_in_t_mu_gpu[0].cpu(), \n",
    "                test_predicted_gpu[:,0].cpu().detach(), \n",
    "                label=\"PINN solution\", \n",
    "                color=\"tab:green\"\n",
    "        )\n",
    "        plt.scatter(\n",
    "                    physic_in_t_mu_gpu[0].cpu().detach(), \n",
    "                    torch.zeros_like(physic_in_t_mu_gpu[0]).cpu().detach(), \n",
    "                    s=20, \n",
    "                    lw=0, \n",
    "                    color=\"tab:red\",\n",
    "                    alpha=0.6,\n",
    "                    label= \"Training points\"\n",
    "        )\n",
    "        plt.scatter(\n",
    "                    test_in_t_mu_gpu[0].cpu().detach(), \n",
    "                    torch.zeros_like(test_in_t_mu_gpu[0]).cpu().detach(), \n",
    "                    s=20, \n",
    "                    lw=0, \n",
    "                    color=\"tab:green\",\n",
    "                    alpha=0.6,\n",
    "                    label= \"Seed points(testing)\"\n",
    "        )\n",
    "        plt.title(f\"Exact and predicted solution \\n u(t=(0,1), $\\mu$ = {test_mu_gpu}), model: {model_init_gpu.__class__.__name__}, activation function: Tanh, epoch = {i} \\n (learning rate: {learning_rate_gpu}, lambda1: {lambda1_gpu}, lambda2: {lambda2_gpu})\")\n",
    "        plt.grid()\n",
    "        plt.legend()\n",
    "        plt.show()\n",
    "        torch.save({\n",
    "                    \"epoch\": i,\n",
    "                    \"model_state_dict\": model_init_gpu.state_dict(),\n",
    "                    \"optimiser_state_dict\": optimiser_gpu.state_dict(),\n",
    "                    \"loss\": loss_gpu,\n",
    "                   },                    \n",
    "                    f\"{learning_rate_gpu}_{i}_gpu.pth\")\n",
    "        print(f\"Saved the checkpoint corresponding to epoch: {i}\")\n",
    "end_gpu = time.time()\n",
    "execution_time = (end_gpu - start_gpu)\n",
    "print(f\"Training elapsed time (s): {execution_time}\")"
   ]
  }
 ],
 "metadata": {
  "kernelspec": {
   "display_name": "Python 3 (ipykernel)",
   "language": "python",
   "name": "python3"
  },
  "language_info": {
   "codemirror_mode": {
    "name": "ipython",
    "version": 3
   },
   "file_extension": ".py",
   "mimetype": "text/x-python",
   "name": "python",
   "nbconvert_exporter": "python",
   "pygments_lexer": "ipython3",
   "version": "3.10.12"
  }
 },
 "nbformat": 4,
 "nbformat_minor": 5
}
