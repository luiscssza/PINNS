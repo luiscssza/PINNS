{
 "cells": [
  {
   "cell_type": "markdown",
   "id": "745557e6-0093-4b0c-9086-30e41c6cf26f",
   "metadata": {},
   "source": [
    "PINN_PENDULO_LUIS_T_MU.ipynb (2023.09.30)"
   ]
  },
  {
   "cell_type": "markdown",
   "id": "984affd8-1cd5-478c-8357-df169169151d",
   "metadata": {},
   "source": [
    "## Step 1: Definition and initialization"
   ]
  },
  {
   "cell_type": "code",
   "execution_count": 1,
   "id": "40c22569-040e-41ee-9ea1-3a937c7b7edb",
   "metadata": {
    "execution": {
     "iopub.execute_input": "2023-10-18T20:18:53.274493Z",
     "iopub.status.busy": "2023-10-18T20:18:53.274153Z",
     "iopub.status.idle": "2023-10-18T20:18:55.020174Z",
     "shell.execute_reply": "2023-10-18T20:18:55.019635Z",
     "shell.execute_reply.started": "2023-10-18T20:18:53.274456Z"
    }
   },
   "outputs": [],
   "source": [
    "### Import all what you need:\n",
    "import torch\n",
    "import torch.nn as nn\n",
    "from torchsummary import summary # https://pypi.org/project/torch-summary/\n",
    "import torchinfo \n",
    "import numpy as np\n",
    "import matplotlib.pyplot as plt"
   ]
  },
  {
   "cell_type": "code",
   "execution_count": 2,
   "id": "e2085019-11d0-4e4d-b8b1-a4a87e045612",
   "metadata": {
    "execution": {
     "iopub.execute_input": "2023-10-18T20:18:55.021690Z",
     "iopub.status.busy": "2023-10-18T20:18:55.021331Z",
     "iopub.status.idle": "2023-10-18T20:18:55.026369Z",
     "shell.execute_reply": "2023-10-18T20:18:55.025960Z",
     "shell.execute_reply.started": "2023-10-18T20:18:55.021671Z"
    }
   },
   "outputs": [
    {
     "data": {
      "text/plain": [
       "<torch._C.Generator at 0x7f54509e4890>"
      ]
     },
     "execution_count": 2,
     "metadata": {},
     "output_type": "execute_result"
    }
   ],
   "source": [
    "torch.manual_seed(123)"
   ]
  },
  {
   "cell_type": "code",
   "execution_count": 3,
   "id": "a6fdb0e9-ec24-4b7e-b4f6-5b509794feec",
   "metadata": {
    "execution": {
     "iopub.execute_input": "2023-10-18T20:18:56.412191Z",
     "iopub.status.busy": "2023-10-18T20:18:56.411544Z",
     "iopub.status.idle": "2023-10-18T20:18:56.418205Z",
     "shell.execute_reply": "2023-10-18T20:18:56.417093Z",
     "shell.execute_reply.started": "2023-10-18T20:18:56.412150Z"
    }
   },
   "outputs": [],
   "source": [
    "#Definition of the physical constants and hyperparameters:\n",
    "mass = 1\n",
    "d, w0 = 2, 20\n",
    "mu, k = 2*d, w0**2            # CUIDADO CON MU. Esta mu NO se utiliza!!!!!\n",
    "learning_rate =  1e-3         # learning rate\n",
    "lambda1, lambda2 = 1e-4, 1e-4 # loss term hyperparameters\n",
    "epochs = 20001"
   ]
  },
  {
   "cell_type": "markdown",
   "id": "c6de87bc-1605-40e9-9249-83ad7c93b410",
   "metadata": {},
   "source": [
    "### CUDA"
   ]
  },
  {
   "cell_type": "code",
   "execution_count": 4,
   "id": "9b087543-66e7-4964-a8f0-0c36f894a53d",
   "metadata": {
    "execution": {
     "iopub.execute_input": "2023-10-18T20:18:57.130084Z",
     "iopub.status.busy": "2023-10-18T20:18:57.129448Z",
     "iopub.status.idle": "2023-10-18T20:18:57.159059Z",
     "shell.execute_reply": "2023-10-18T20:18:57.157867Z",
     "shell.execute_reply.started": "2023-10-18T20:18:57.130044Z"
    }
   },
   "outputs": [
    {
     "name": "stdout",
     "output_type": "stream",
     "text": [
      "Using cuda device\n"
     ]
    }
   ],
   "source": [
    "# Save in a variable the device cuda(Linux and Windows), mps(Apple) or cpu, you will use for training:\n",
    "device = (\n",
    "    \"cuda\"\n",
    "    if torch.cuda.is_available()\n",
    "    else \"mps\"\n",
    "    if torch.backends.mps.is_available()\n",
    "    else \"cpu\"\n",
    ")\n",
    "print(f\"Using {device} device\")"
   ]
  },
  {
   "cell_type": "code",
   "execution_count": 5,
   "id": "c05773e1-42fd-43e0-a76f-cef595eeda96",
   "metadata": {
    "execution": {
     "iopub.execute_input": "2023-10-18T20:18:57.611809Z",
     "iopub.status.busy": "2023-10-18T20:18:57.611412Z",
     "iopub.status.idle": "2023-10-18T20:18:57.638802Z",
     "shell.execute_reply": "2023-10-18T20:18:57.637424Z",
     "shell.execute_reply.started": "2023-10-18T20:18:57.611772Z"
    }
   },
   "outputs": [
    {
     "data": {
      "text/plain": [
       "0"
      ]
     },
     "execution_count": 5,
     "metadata": {},
     "output_type": "execute_result"
    }
   ],
   "source": [
    "torch.cuda.current_device()"
   ]
  },
  {
   "cell_type": "markdown",
   "id": "a2a23905-0efb-486b-a59c-54f800cf0c66",
   "metadata": {},
   "source": [
    "#### Initial condition 1: generation of initial training points\n",
    "$$ u(t=0, \\mu) = 1\n",
    "$$\n"
   ]
  },
  {
   "cell_type": "code",
   "execution_count": 6,
   "id": "f2c7e3a6-70e5-4a5e-97e1-948db9811948",
   "metadata": {
    "execution": {
     "iopub.execute_input": "2023-10-18T20:18:58.523412Z",
     "iopub.status.busy": "2023-10-18T20:18:58.523021Z",
     "iopub.status.idle": "2023-10-18T20:18:58.528505Z",
     "shell.execute_reply": "2023-10-18T20:18:58.527324Z",
     "shell.execute_reply.started": "2023-10-18T20:18:58.523375Z"
    }
   },
   "outputs": [],
   "source": [
    "#### Initial condition 1: t and mu training points generation \n",
    "point_resolution = 40"
   ]
  },
  {
   "cell_type": "code",
   "execution_count": 7,
   "id": "76db9e31-10cc-4740-94ea-106a8490b485",
   "metadata": {
    "execution": {
     "iopub.execute_input": "2023-10-18T20:18:59.086182Z",
     "iopub.status.busy": "2023-10-18T20:18:59.085796Z",
     "iopub.status.idle": "2023-10-18T20:18:59.091066Z",
     "shell.execute_reply": "2023-10-18T20:18:59.089737Z",
     "shell.execute_reply.started": "2023-10-18T20:18:59.086145Z"
    }
   },
   "outputs": [],
   "source": [
    "#mu_range = (1,10)\n",
    "#solo_test = (*mu_range, point_resolution)\n",
    "#solo_test"
   ]
  },
  {
   "cell_type": "code",
   "execution_count": 8,
   "id": "8a55e2f9-2cec-440e-9a56-40b94684d95b",
   "metadata": {
    "execution": {
     "iopub.execute_input": "2023-10-18T20:18:59.921588Z",
     "iopub.status.busy": "2023-10-18T20:18:59.921162Z",
     "iopub.status.idle": "2023-10-18T20:18:59.926580Z",
     "shell.execute_reply": "2023-10-18T20:18:59.925209Z",
     "shell.execute_reply.started": "2023-10-18T20:18:59.921551Z"
    }
   },
   "outputs": [],
   "source": [
    "#torch.linspace(*test)"
   ]
  },
  {
   "cell_type": "code",
   "execution_count": 9,
   "id": "1b59d538-c9bf-4c3d-8120-6f37d3984851",
   "metadata": {
    "execution": {
     "iopub.execute_input": "2023-10-18T20:19:00.302204Z",
     "iopub.status.busy": "2023-10-18T20:19:00.301801Z",
     "iopub.status.idle": "2023-10-18T20:19:00.308936Z",
     "shell.execute_reply": "2023-10-18T20:19:00.307795Z",
     "shell.execute_reply.started": "2023-10-18T20:19:00.302167Z"
    }
   },
   "outputs": [],
   "source": [
    "ic1_t_mu = torch.stack([torch.zeros(point_resolution).requires_grad_(True), torch.linspace(1,10, point_resolution).requires_grad_(True)],-1)\n",
    "#ic1_t_mu = torch.stack([torch.zeros(point_resolution), torch.linspace(1,10, point_resolution)],-1).requires_grad_(True).to(device)\n",
    "#ic1_t_mu"
   ]
  },
  {
   "cell_type": "code",
   "execution_count": 10,
   "id": "1bffbbf4-1b6b-45b2-8f32-a323e9e9235e",
   "metadata": {
    "execution": {
     "iopub.execute_input": "2023-10-18T20:19:00.719338Z",
     "iopub.status.busy": "2023-10-18T20:19:00.718951Z",
     "iopub.status.idle": "2023-10-18T20:19:00.726365Z",
     "shell.execute_reply": "2023-10-18T20:19:00.724990Z",
     "shell.execute_reply.started": "2023-10-18T20:19:00.719302Z"
    }
   },
   "outputs": [
    {
     "name": "stdout",
     "output_type": "stream",
     "text": [
      "torch.Size([40, 2]) torch.Size([40, 1])\n"
     ]
    }
   ],
   "source": [
    "ic1_scope = torch.ones_like(ic1_t_mu[:,0:1]).requires_grad_(True)#.to(device)\n",
    "print(ic1_t_mu.shape, ic1_scope.shape)"
   ]
  },
  {
   "cell_type": "code",
   "execution_count": 11,
   "id": "8a449294-135f-4829-a3f8-b385e3f2d6d8",
   "metadata": {
    "execution": {
     "iopub.execute_input": "2023-10-18T20:19:01.137046Z",
     "iopub.status.busy": "2023-10-18T20:19:01.136625Z",
     "iopub.status.idle": "2023-10-18T20:19:01.141848Z",
     "shell.execute_reply": "2023-10-18T20:19:01.140731Z",
     "shell.execute_reply.started": "2023-10-18T20:19:01.137006Z"
    }
   },
   "outputs": [],
   "source": [
    "#ic1_scope"
   ]
  },
  {
   "cell_type": "markdown",
   "id": "14a3556d-a8e5-4869-96c5-1ad657294d10",
   "metadata": {},
   "source": [
    "#### Initial condition 2: t and mu training points generation:\n",
    "$$\n",
    "\\dfrac{d u}{d t}(t=0, \\mu) = 0~\n",
    "$$"
   ]
  },
  {
   "cell_type": "code",
   "execution_count": 12,
   "id": "e948f10f-422c-4c8c-b583-ccf88d582af8",
   "metadata": {
    "execution": {
     "iopub.execute_input": "2023-10-18T20:19:02.274374Z",
     "iopub.status.busy": "2023-10-18T20:19:02.273990Z",
     "iopub.status.idle": "2023-10-18T20:19:02.281654Z",
     "shell.execute_reply": "2023-10-18T20:19:02.280306Z",
     "shell.execute_reply.started": "2023-10-18T20:19:02.274338Z"
    }
   },
   "outputs": [],
   "source": [
    "ic2_t_mu = torch.stack([torch.zeros(point_resolution).requires_grad_(True), torch.linspace(1,10, point_resolution).requires_grad_(True)], -1)\n",
    "#ic2_t_mu = torch.stack([torch.zeros(point_resolution).requires_grad_(True).to(device), torch.linspace(1,10, point_resolution).requires_grad_(True).to(device)], -1)\n",
    "ic2_scope = torch.zeros_like(ic2_t_mu[:,0:1]).requires_grad_(True)#.to(device)\n",
    "#ic2_t_mu"
   ]
  },
  {
   "cell_type": "code",
   "execution_count": 13,
   "id": "bfe4683f-aebc-44a2-8e37-bb3197390e27",
   "metadata": {
    "execution": {
     "iopub.execute_input": "2023-10-18T20:19:02.926836Z",
     "iopub.status.busy": "2023-10-18T20:19:02.926451Z",
     "iopub.status.idle": "2023-10-18T20:19:02.931902Z",
     "shell.execute_reply": "2023-10-18T20:19:02.930573Z",
     "shell.execute_reply.started": "2023-10-18T20:19:02.926800Z"
    }
   },
   "outputs": [],
   "source": [
    "#ic2_scope"
   ]
  },
  {
   "cell_type": "markdown",
   "id": "92c522a7-1779-4393-8aa7-aeae804817db",
   "metadata": {},
   "source": [
    "#### Generation of physical domain training points: "
   ]
  },
  {
   "cell_type": "code",
   "execution_count": 14,
   "id": "2db496d1-a104-4b16-9b91-a4b1aeef5b2b",
   "metadata": {
    "execution": {
     "iopub.execute_input": "2023-10-18T20:19:05.154276Z",
     "iopub.status.busy": "2023-10-18T20:19:05.153883Z",
     "iopub.status.idle": "2023-10-18T20:19:05.165944Z",
     "shell.execute_reply": "2023-10-18T20:19:05.164811Z",
     "shell.execute_reply.started": "2023-10-18T20:19:05.154240Z"
    }
   },
   "outputs": [
    {
     "data": {
      "text/plain": [
       "[tensor([0.0100, 0.0354, 0.0608, 0.0862, 0.1115, 0.1369, 0.1623, 0.1877, 0.2131,\n",
       "         0.2385, 0.2638, 0.2892, 0.3146, 0.3400, 0.3654, 0.3908, 0.4162, 0.4415,\n",
       "         0.4669, 0.4923, 0.5177, 0.5431, 0.5685, 0.5938, 0.6192, 0.6446, 0.6700,\n",
       "         0.6954, 0.7208, 0.7462, 0.7715, 0.7969, 0.8223, 0.8477, 0.8731, 0.8985,\n",
       "         0.9238, 0.9492, 0.9746, 1.0000], requires_grad=True),\n",
       " tensor([ 1.0000,  1.2308,  1.4615,  1.6923,  1.9231,  2.1538,  2.3846,  2.6154,\n",
       "          2.8462,  3.0769,  3.3077,  3.5385,  3.7692,  4.0000,  4.2308,  4.4615,\n",
       "          4.6923,  4.9231,  5.1538,  5.3846,  5.6154,  5.8462,  6.0769,  6.3077,\n",
       "          6.5385,  6.7692,  7.0000,  7.2308,  7.4615,  7.6923,  7.9231,  8.1538,\n",
       "          8.3846,  8.6154,  8.8462,  9.0769,  9.3077,  9.5385,  9.7692, 10.0000],\n",
       "        requires_grad=True)]"
      ]
     },
     "execution_count": 14,
     "metadata": {},
     "output_type": "execute_result"
    }
   ],
   "source": [
    "### Generate domain physic loss sample points:\n",
    "physic_in_t_mu = [torch.linspace(1e-2,1, point_resolution).requires_grad_(True), torch.linspace(1,10, point_resolution).requires_grad_(True)] # Mejora: se puede utilizar torch.rand\n",
    "#physic_in_t_mu = [torch.linspace(1e-2,1, point_resolution).requires_grad_(True).to(device), torch.linspace(1,10, point_resolution).requires_grad_(True).to(device)] # Mejora: se puede utilizar torch.rand\n",
    "physic_in_t_mu"
   ]
  },
  {
   "cell_type": "code",
   "execution_count": 15,
   "id": "cdbe0c9a-733f-43f0-b7ad-ac1bd33443f9",
   "metadata": {
    "execution": {
     "iopub.execute_input": "2023-10-18T20:19:06.372173Z",
     "iopub.status.busy": "2023-10-18T20:19:06.371786Z",
     "iopub.status.idle": "2023-10-18T20:19:06.382016Z",
     "shell.execute_reply": "2023-10-18T20:19:06.380874Z",
     "shell.execute_reply.started": "2023-10-18T20:19:06.372136Z"
    }
   },
   "outputs": [
    {
     "data": {
      "text/plain": [
       "tensor([[1.0000e-02, 1.0000e+00],\n",
       "        [1.0000e-02, 1.2308e+00],\n",
       "        [1.0000e-02, 1.4615e+00],\n",
       "        ...,\n",
       "        [1.0000e+00, 9.5385e+00],\n",
       "        [1.0000e+00, 9.7692e+00],\n",
       "        [1.0000e+00, 1.0000e+01]], grad_fn=<ViewBackward0>)"
      ]
     },
     "execution_count": 15,
     "metadata": {},
     "output_type": "execute_result"
    }
   ],
   "source": [
    "physic_domain_t_mu = torch.stack(torch.meshgrid(*physic_in_t_mu, indexing='ij'), -1).view(-1, 2).requires_grad_(True)#.to(device)\n",
    "physic_domain_t_mu"
   ]
  },
  {
   "cell_type": "markdown",
   "id": "a58dd45d-654d-4134-88aa-aa2d9a2b035e",
   "metadata": {},
   "source": [
    "#### Generation of testing points:"
   ]
  },
  {
   "cell_type": "code",
   "execution_count": 16,
   "id": "331543da-62ec-4679-8c97-a42bb6918073",
   "metadata": {
    "execution": {
     "iopub.execute_input": "2023-10-18T20:19:08.321019Z",
     "iopub.status.busy": "2023-10-18T20:19:08.320601Z",
     "iopub.status.idle": "2023-10-18T20:19:08.326454Z",
     "shell.execute_reply": "2023-10-18T20:19:08.325097Z",
     "shell.execute_reply.started": "2023-10-18T20:19:08.320981Z"
    }
   },
   "outputs": [],
   "source": [
    "point_resolution_test = 100"
   ]
  },
  {
   "cell_type": "code",
   "execution_count": 17,
   "id": "3f67b655-9aad-46dd-8d6e-6d296cd9ba90",
   "metadata": {
    "execution": {
     "iopub.execute_input": "2023-10-18T20:19:09.750596Z",
     "iopub.status.busy": "2023-10-18T20:19:09.750210Z",
     "iopub.status.idle": "2023-10-18T20:19:09.759811Z",
     "shell.execute_reply": "2023-10-18T20:19:09.758644Z",
     "shell.execute_reply.started": "2023-10-18T20:19:09.750560Z"
    }
   },
   "outputs": [
    {
     "data": {
      "text/plain": [
       "torch.Size([10000, 2])"
      ]
     },
     "execution_count": 17,
     "metadata": {},
     "output_type": "execute_result"
    }
   ],
   "source": [
    "# get testing locations\n",
    "test_in_t_mu = [torch.linspace(0,1,point_resolution_test), torch.linspace(1,10,point_resolution_test) ]\n",
    "test_domain_t_mu = torch.stack(torch.meshgrid(*test_in_t_mu, indexing='ij'), -1).view(-1, 2)\n",
    "test_domain_t_mu.size()"
   ]
  },
  {
   "cell_type": "code",
   "execution_count": 18,
   "id": "c4488aab-6bad-48d3-b46d-11f07f810485",
   "metadata": {
    "execution": {
     "iopub.execute_input": "2023-10-18T20:19:11.047629Z",
     "iopub.status.busy": "2023-10-18T20:19:11.047185Z",
     "iopub.status.idle": "2023-10-18T20:19:11.052818Z",
     "shell.execute_reply": "2023-10-18T20:19:11.051466Z",
     "shell.execute_reply.started": "2023-10-18T20:19:11.047591Z"
    },
    "scrolled": true
   },
   "outputs": [],
   "source": [
    "#test_in_t_mu[0].view(point_resolution_test,-1)"
   ]
  },
  {
   "cell_type": "markdown",
   "id": "79002ac2-be30-4ac5-825c-b2398eeb8b29",
   "metadata": {},
   "source": [
    "### Exact solution"
   ]
  },
  {
   "cell_type": "code",
   "execution_count": 19,
   "id": "5790959c-49be-41c4-b8f3-90d01ed69d30",
   "metadata": {
    "execution": {
     "iopub.execute_input": "2023-10-18T20:19:12.419841Z",
     "iopub.status.busy": "2023-10-18T20:19:12.419457Z",
     "iopub.status.idle": "2023-10-18T20:19:12.427409Z",
     "shell.execute_reply": "2023-10-18T20:19:12.426066Z",
     "shell.execute_reply.started": "2023-10-18T20:19:12.419806Z"
    }
   },
   "outputs": [],
   "source": [
    "def exact_solution(d, w0, t):\n",
    "    \"Defines the analytical solution to the under-damped harmonic oscillator problem above.\"\n",
    "    assert d < w0             \n",
    "    w = np.sqrt(w0**2-d**2)\n",
    "    phi = np.arctan(-d/w)\n",
    "    A = 1/(2*np.cos(phi))\n",
    "    cos = torch.cos(phi+w*t)\n",
    "    exp = torch.exp(-d*t)\n",
    "    u = exp*2*A*cos\n",
    "    return u"
   ]
  },
  {
   "cell_type": "code",
   "execution_count": 20,
   "id": "47f8bd06-e42d-4709-94ef-4a041997235f",
   "metadata": {
    "execution": {
     "iopub.execute_input": "2023-10-18T20:19:12.919321Z",
     "iopub.status.busy": "2023-10-18T20:19:12.918937Z",
     "iopub.status.idle": "2023-10-18T20:19:12.924372Z",
     "shell.execute_reply": "2023-10-18T20:19:12.923055Z",
     "shell.execute_reply.started": "2023-10-18T20:19:12.919285Z"
    }
   },
   "outputs": [],
   "source": [
    "test_mu = 5"
   ]
  },
  {
   "cell_type": "code",
   "execution_count": 21,
   "id": "f120b6b3-492b-4e75-bad7-f87fc0879323",
   "metadata": {
    "execution": {
     "iopub.execute_input": "2023-10-18T20:19:13.638159Z",
     "iopub.status.busy": "2023-10-18T20:19:13.637098Z",
     "iopub.status.idle": "2023-10-18T20:19:13.645790Z",
     "shell.execute_reply": "2023-10-18T20:19:13.644801Z",
     "shell.execute_reply.started": "2023-10-18T20:19:13.638118Z"
    }
   },
   "outputs": [
    {
     "data": {
      "text/plain": [
       "torch.Size([100])"
      ]
     },
     "execution_count": 21,
     "metadata": {},
     "output_type": "execute_result"
    }
   ],
   "source": [
    "# Calculation of the exact solution:\n",
    "u_exact = exact_solution(test_mu/(2*mass), w0, test_in_t_mu[0])\n",
    "#u_exact.view(-1,1)\n",
    "u_exact.size()\n",
    "#u_exact.numel()\n",
    "#u_exact.dim()\n",
    "#u_exact"
   ]
  },
  {
   "cell_type": "code",
   "execution_count": 22,
   "id": "6cbaecfb-1f86-4d09-a822-b78be35429ff",
   "metadata": {
    "execution": {
     "iopub.execute_input": "2023-10-18T20:19:15.078334Z",
     "iopub.status.busy": "2023-10-18T20:19:15.077328Z",
     "iopub.status.idle": "2023-10-18T20:19:15.312933Z",
     "shell.execute_reply": "2023-10-18T20:19:15.312413Z",
     "shell.execute_reply.started": "2023-10-18T20:19:15.078293Z"
    }
   },
   "outputs": [
    {
     "data": {
      "image/png": "[encoded data removed]",
      "text/plain": [
       "<Figure size 1000x250 with 1 Axes>"
      ]
     },
     "metadata": {},
     "output_type": "display_data"
    }
   ],
   "source": [
    "plt.figure(figsize=(10,2.5))\n",
    "plt.plot(test_in_t_mu[0], \n",
    "         u_exact.cpu(), \n",
    "         label=\"Exact solution\", \n",
    "         color=\"tab:grey\", \n",
    "         alpha=0.6)\n",
    "plt.title(f\"Exact solution ($\\mu$ = {test_mu})\")\n",
    "plt.legend()\n",
    "plt.show()"
   ]
  },
  {
   "cell_type": "markdown",
   "id": "85ae450c-6244-4a69-839f-bad9e6115754",
   "metadata": {},
   "source": [
    "### Step 2: Create Model Class (NN)"
   ]
  },
  {
   "cell_type": "code",
   "execution_count": 23,
   "id": "2826af80-92e8-45f0-925a-c5042279bd00",
   "metadata": {
    "execution": {
     "iopub.execute_input": "2023-10-18T20:19:17.231888Z",
     "iopub.status.busy": "2023-10-18T20:19:17.229864Z",
     "iopub.status.idle": "2023-10-18T20:19:17.242021Z",
     "shell.execute_reply": "2023-10-18T20:19:17.240732Z",
     "shell.execute_reply.started": "2023-10-18T20:19:17.231817Z"
    }
   },
   "outputs": [],
   "source": [
    "### Definition of the Fully Connected Neural Network Class:\n",
    "# define NN\n",
    "class FCN(nn.Module):\n",
    "    \"Defines a fully-connected network\"\n",
    "    \n",
    "    def __init__(self, N_INPUT, N_OUTPUT, N_HIDDEN, N_LAYERS):\n",
    "        super().__init__()\n",
    "        activation = nn.Tanh\n",
    "        self.fcs = nn.Sequential(*[\n",
    "                        nn.Linear(N_INPUT, N_HIDDEN),\n",
    "                        activation()])\n",
    "        self.fch = nn.Sequential(*[\n",
    "                        nn.Sequential(*[\n",
    "                            nn.Linear(N_HIDDEN, N_HIDDEN),\n",
    "                            activation()]) for _ in range(N_LAYERS-1)])\n",
    "        self.fce = nn.Linear(N_HIDDEN, N_OUTPUT)\n",
    "        \n",
    "    def forward(self, x):\n",
    "        x = self.fcs(x)\n",
    "        x = self.fch(x)\n",
    "        x = self.fce(x)\n",
    "        return x"
   ]
  },
  {
   "cell_type": "code",
   "execution_count": 24,
   "id": "149edd3f-56dd-4bbe-887e-5e048662863d",
   "metadata": {
    "execution": {
     "iopub.execute_input": "2023-10-18T20:19:17.984734Z",
     "iopub.status.busy": "2023-10-18T20:19:17.984314Z",
     "iopub.status.idle": "2023-10-18T20:19:17.998227Z",
     "shell.execute_reply": "2023-10-18T20:19:17.996940Z",
     "shell.execute_reply.started": "2023-10-18T20:19:17.984696Z"
    }
   },
   "outputs": [],
   "source": [
    "### Definition of the Fully Connected Neural Network Class\n",
    "### ADDED ACTIVATION FUNCTION and INITIALIZATION\n",
    "\n",
    "class FCN_init(nn.Module):\n",
    "    \"Defines a fully-connected network\"\n",
    "    \n",
    "    def __init__(self, N_INPUT, N_OUTPUT, N_HIDDEN, N_LAYERS, activation = \"Tanh\"):#, initialization = \"Xavier\"):\n",
    "        super().__init__()\n",
    "        activation_functions = nn.ModuleDict([\n",
    "            [\"Tanh\", nn.Tanh()],\n",
    "            [\"ReLU\", nn.ReLU()],\n",
    "            [\"LeakyReLU\", nn.LeakyReLU()],\n",
    "            [\"Sigmoid\", nn.Sigmoid()],\n",
    "            [\"Softmax\", nn.Softmax()],\n",
    "            ])\n",
    "      # initialization_type = nn.ModuleDict([\n",
    "      #     [\"Xavier\", nn.init.xavier_normal_],\n",
    "      #     ])\n",
    "        #activation = nn.Tanh\n",
    "        self.fcs = nn.Sequential(*[\n",
    "                        nn.Linear(N_INPUT, N_HIDDEN),\n",
    "                        activation_functions[activation]])\n",
    "        self.fch = nn.Sequential(*[\n",
    "                        nn.Sequential(*[\n",
    "                            nn.Linear(N_HIDDEN, N_HIDDEN),\n",
    "                            activation_functions[activation]]) for _ in range(N_LAYERS-1)])\n",
    "        self.fce = nn.Linear(N_HIDDEN, N_OUTPUT)\n",
    "        self.weights_and_bias_initialization()\n",
    "        #self.initialization = initialization\n",
    "        \n",
    "    def forward(self, x):\n",
    "        x = self.fcs(x)\n",
    "        x = self.fch(x)\n",
    "        x = self.fce(x)\n",
    "        return x\n",
    "\n",
    "    def weights_and_bias_initialization(self):\n",
    "        for module_with_layers in self.modules():\n",
    "            if isinstance(module_with_layers, nn.Linear):\n",
    "                #initialization_type(module_with_layers.weight)\n",
    "                nn.init.xavier_uniform_(module_with_layers.weight)\n",
    "                #nn.init.constant_(module_with_layers.bias, 0)\n",
    "        "
   ]
  },
  {
   "cell_type": "markdown",
   "id": "aa88b304-2a28-4e90-9d1c-221701f1e0a3",
   "metadata": {},
   "source": [
    "### STEP 3: Instantiate the Model Class"
   ]
  },
  {
   "cell_type": "code",
   "execution_count": 25,
   "id": "356fb309-c4af-4b40-8697-d7dc700a6f58",
   "metadata": {
    "execution": {
     "iopub.execute_input": "2023-10-18T20:19:20.166378Z",
     "iopub.status.busy": "2023-10-18T20:19:20.165899Z",
     "iopub.status.idle": "2023-10-18T20:19:20.174802Z",
     "shell.execute_reply": "2023-10-18T20:19:20.173690Z",
     "shell.execute_reply.started": "2023-10-18T20:19:20.166338Z"
    }
   },
   "outputs": [],
   "source": [
    "model_init = FCN_init(2,1,64,4, activation= \"Tanh\")\n",
    "#model_init.parameters"
   ]
  },
  {
   "cell_type": "code",
   "execution_count": 26,
   "id": "da41c90f-58fe-4f55-aac7-1ec74fb61f22",
   "metadata": {
    "execution": {
     "iopub.execute_input": "2023-10-18T20:19:21.498186Z",
     "iopub.status.busy": "2023-10-18T20:19:21.497771Z",
     "iopub.status.idle": "2023-10-18T20:19:21.523142Z",
     "shell.execute_reply": "2023-10-18T20:19:21.522159Z",
     "shell.execute_reply.started": "2023-10-18T20:19:21.498148Z"
    }
   },
   "outputs": [
    {
     "data": {
      "text/plain": [
       "OrderedDict([('fcs.0.weight',\n",
       "              tensor([[-0.0216, -0.1466],\n",
       "                      [-0.1395,  0.0435],\n",
       "                      [ 0.0987,  0.0206],\n",
       "                      [ 0.2535,  0.1487],\n",
       "                      [-0.0186,  0.2706],\n",
       "                      [ 0.2128, -0.0282],\n",
       "                      [-0.0888, -0.1120],\n",
       "                      [-0.0930, -0.0410],\n",
       "                      [ 0.0445,  0.2546],\n",
       "                      [-0.1706, -0.2536],\n",
       "                      [-0.3003, -0.1721],\n",
       "                      [-0.0197, -0.1659],\n",
       "                      [-0.2705,  0.1050],\n",
       "                      [-0.0687, -0.2370],\n",
       "                      [-0.2436, -0.0726],\n",
       "                      [ 0.1456, -0.2699],\n",
       "                      [ 0.0870,  0.0186],\n",
       "                      [-0.0924, -0.0702],\n",
       "                      [-0.2049,  0.0565],\n",
       "                      [ 0.2734,  0.0723],\n",
       "                      [-0.2824,  0.1230],\n",
       "                      [-0.0173,  0.0720],\n",
       "                      [ 0.0021,  0.0657],\n",
       "                      [-0.2220, -0.2101],\n",
       "                      [-0.3001,  0.1793],\n",
       "                      [-0.1306, -0.0458],\n",
       "                      [ 0.1317,  0.1089],\n",
       "                      [ 0.2221,  0.1165],\n",
       "                      [-0.1372, -0.0460],\n",
       "                      [ 0.1622, -0.1142],\n",
       "                      [ 0.2956, -0.1604],\n",
       "                      [ 0.0983, -0.1568],\n",
       "                      [-0.2363,  0.0379],\n",
       "                      [-0.1181,  0.1438],\n",
       "                      [-0.0754,  0.2874],\n",
       "                      [ 0.0712,  0.2946],\n",
       "                      [-0.0735, -0.2031],\n",
       "                      [-0.0717, -0.1374],\n",
       "                      [ 0.1822, -0.1579],\n",
       "                      [-0.2087, -0.1916],\n",
       "                      [ 0.2381, -0.2119],\n",
       "                      [ 0.0437,  0.1977],\n",
       "                      [-0.1946, -0.0433],\n",
       "                      [-0.1495,  0.2812],\n",
       "                      [-0.0985,  0.0682],\n",
       "                      [ 0.0555, -0.2804],\n",
       "                      [ 0.1350, -0.1439],\n",
       "                      [ 0.2533,  0.2215],\n",
       "                      [ 0.0999, -0.0684],\n",
       "                      [-0.1705,  0.2502],\n",
       "                      [ 0.0510,  0.2958],\n",
       "                      [-0.0417, -0.2291],\n",
       "                      [ 0.2756,  0.1399],\n",
       "                      [ 0.2683, -0.2325],\n",
       "                      [ 0.0635, -0.2348],\n",
       "                      [ 0.1056,  0.2449],\n",
       "                      [ 0.1173, -0.0942],\n",
       "                      [-0.2343,  0.0806],\n",
       "                      [ 0.1759, -0.0882],\n",
       "                      [-0.2441,  0.1227],\n",
       "                      [ 0.1281, -0.0917],\n",
       "                      [-0.2818, -0.2897],\n",
       "                      [ 0.2935,  0.0181],\n",
       "                      [ 0.1967,  0.1053]])),\n",
       "             ('fcs.0.bias',\n",
       "              tensor([ 0.1975,  0.5592, -0.2858,  0.1858,  0.0040, -0.5318, -0.1717, -0.4722,\n",
       "                       0.3127,  0.0636,  0.0693, -0.2145,  0.0034, -0.2199,  0.2032,  0.6867,\n",
       "                       0.1071, -0.3132, -0.4319,  0.0541, -0.5246, -0.5315, -0.4602, -0.2402,\n",
       "                       0.0523,  0.4869,  0.2739,  0.5417, -0.4440,  0.0597, -0.6285,  0.4056,\n",
       "                       0.1474,  0.6839, -0.5029,  0.5671,  0.5970,  0.5717,  0.1009,  0.6430,\n",
       "                       0.4722,  0.5276, -0.0459, -0.5426, -0.0088,  0.1326, -0.4817, -0.4056,\n",
       "                      -0.6779, -0.2479,  0.6159,  0.1209, -0.0432,  0.0284,  0.4409, -0.6244,\n",
       "                      -0.5456, -0.2351, -0.4070,  0.3647,  0.4996, -0.6861, -0.6001, -0.6886])),\n",
       "             ('fch.0.0.weight',\n",
       "              tensor([[-0.0366, -0.1344, -0.2055,  ..., -0.0188,  0.1001,  0.1935],\n",
       "                      [-0.0464, -0.1352, -0.0544,  ..., -0.2047, -0.0839, -0.0624],\n",
       "                      [-0.1762, -0.2109, -0.2030,  ...,  0.0863, -0.1225, -0.2116],\n",
       "                      ...,\n",
       "                      [-0.0663, -0.0511, -0.0685,  ..., -0.0137,  0.0260,  0.1620],\n",
       "                      [ 0.1719,  0.1869,  0.0307,  ...,  0.1678, -0.1733,  0.0363],\n",
       "                      [-0.0854,  0.1473,  0.1373,  ...,  0.1975,  0.0269, -0.1739]])),\n",
       "             ('fch.0.0.bias',\n",
       "              tensor([-0.0531, -0.0282,  0.0229, -0.0795, -0.0380, -0.0370,  0.0890, -0.0936,\n",
       "                       0.0257,  0.0984,  0.0379, -0.0031,  0.0116, -0.0285, -0.0850,  0.0168,\n",
       "                      -0.1156, -0.0584, -0.0595,  0.0041,  0.0099,  0.1226,  0.0460, -0.0041,\n",
       "                       0.0101, -0.0804, -0.0065,  0.0816,  0.1021, -0.0470, -0.0800,  0.1025,\n",
       "                       0.0398,  0.0115, -0.0188,  0.0100,  0.0659,  0.0373, -0.0252,  0.0188,\n",
       "                      -0.0795,  0.0058,  0.1172, -0.0922, -0.0772,  0.0669, -0.1214,  0.0906,\n",
       "                      -0.0971,  0.1075, -0.0003,  0.0789, -0.1024, -0.1147, -0.0855, -0.1159,\n",
       "                      -0.0019, -0.0867, -0.0787,  0.0337, -0.1219,  0.0599,  0.0842, -0.0003])),\n",
       "             ('fch.1.0.weight',\n",
       "              tensor([[-0.2075, -0.0738,  0.1001,  ..., -0.1095,  0.0651,  0.1494],\n",
       "                      [-0.0069,  0.1570,  0.0561,  ...,  0.1378, -0.0213,  0.0912],\n",
       "                      [-0.0488, -0.2052, -0.1032,  ..., -0.0373, -0.1217,  0.1169],\n",
       "                      ...,\n",
       "                      [ 0.0978,  0.0474, -0.1198,  ...,  0.2150, -0.0008,  0.0169],\n",
       "                      [ 0.1722, -0.1157, -0.1707,  ..., -0.0604,  0.0338, -0.0821],\n",
       "                      [-0.1935,  0.0605,  0.1378,  ...,  0.1148,  0.1966,  0.1692]])),\n",
       "             ('fch.1.0.bias',\n",
       "              tensor([ 0.1031,  0.0191, -0.0758,  0.0871,  0.0950, -0.1171, -0.0109, -0.0570,\n",
       "                      -0.0065,  0.0494,  0.0864,  0.1093, -0.0905,  0.0471,  0.0177,  0.0371,\n",
       "                       0.0199, -0.0091,  0.0122,  0.0829, -0.1069, -0.0252, -0.0412,  0.0922,\n",
       "                      -0.0410, -0.0101, -0.0528, -0.1172, -0.0038,  0.1162, -0.0160,  0.0644,\n",
       "                      -0.0175,  0.0365, -0.0872,  0.1243,  0.1093, -0.0841, -0.1145, -0.1047,\n",
       "                      -0.1084,  0.1104, -0.0224,  0.0691,  0.0878,  0.0785,  0.0866,  0.1242,\n",
       "                      -0.0468,  0.1126,  0.0457,  0.1116,  0.0096,  0.0012, -0.1238, -0.1199,\n",
       "                      -0.0972,  0.0505, -0.0104,  0.0712,  0.0823,  0.0550,  0.0445, -0.0259])),\n",
       "             ('fch.2.0.weight',\n",
       "              tensor([[-0.1242,  0.2001, -0.0711,  ..., -0.1219, -0.0417, -0.0438],\n",
       "                      [-0.1271, -0.0632, -0.1701,  ..., -0.0896, -0.1472, -0.1762],\n",
       "                      [ 0.2014,  0.0716,  0.0137,  ..., -0.0506, -0.1125, -0.2136],\n",
       "                      ...,\n",
       "                      [ 0.2003, -0.0591,  0.1369,  ...,  0.1302, -0.0595,  0.0918],\n",
       "                      [-0.1121, -0.0837, -0.1576,  ...,  0.1712, -0.0033, -0.1368],\n",
       "                      [-0.0802,  0.0094,  0.1447,  ..., -0.0332,  0.0560,  0.0786]])),\n",
       "             ('fch.2.0.bias',\n",
       "              tensor([ 0.1188, -0.0847, -0.0345,  0.0518, -0.0809,  0.0276,  0.0979, -0.0242,\n",
       "                       0.0997,  0.0896, -0.1220,  0.0414,  0.0371,  0.1153,  0.1088, -0.0641,\n",
       "                      -0.0235, -0.0284,  0.0231,  0.0069, -0.1168,  0.0454, -0.0345,  0.0757,\n",
       "                       0.0098, -0.0063,  0.0960, -0.0607, -0.1067,  0.0220, -0.1055, -0.1003,\n",
       "                       0.0376, -0.0973, -0.0353,  0.1046, -0.0711,  0.0786,  0.0504,  0.0520,\n",
       "                      -0.0837,  0.0606, -0.0548, -0.0653,  0.0684,  0.0067,  0.0376, -0.0219,\n",
       "                       0.0686, -0.0936, -0.0075,  0.1143,  0.0872,  0.0349,  0.0261,  0.0660,\n",
       "                       0.0131,  0.0762,  0.0412,  0.0448,  0.0435, -0.0758, -0.1039,  0.0837])),\n",
       "             ('fce.weight',\n",
       "              tensor([[-0.0516,  0.2999, -0.0500,  0.0062, -0.1027,  0.1804,  0.2329, -0.1900,\n",
       "                       -0.1534,  0.1360, -0.2109,  0.1696,  0.0203,  0.0833,  0.3001,  0.2569,\n",
       "                       -0.0621, -0.1141, -0.0066,  0.0382, -0.2169,  0.0811,  0.1984,  0.0952,\n",
       "                       -0.2186, -0.0345,  0.0397, -0.0423,  0.1828,  0.0411, -0.2815,  0.1044,\n",
       "                       -0.0999, -0.2705,  0.2317, -0.1006, -0.2353,  0.2010,  0.2968, -0.0740,\n",
       "                        0.2436,  0.1039, -0.1276,  0.0738,  0.0113, -0.0686,  0.0673, -0.0468,\n",
       "                       -0.2910, -0.0567,  0.1101, -0.2674,  0.2681, -0.2367,  0.0260, -0.1482,\n",
       "                        0.2006,  0.2987,  0.0860, -0.0544, -0.0672,  0.1301, -0.0199,  0.1091]])),\n",
       "             ('fce.bias', tensor([0.0429]))])"
      ]
     },
     "execution_count": 26,
     "metadata": {},
     "output_type": "execute_result"
    }
   ],
   "source": [
    "model_init.state_dict()"
   ]
  },
  {
   "cell_type": "code",
   "execution_count": 27,
   "id": "d62c1514-2568-47c7-9490-d69da75aba84",
   "metadata": {
    "execution": {
     "iopub.execute_input": "2023-10-15T16:41:57.032226Z",
     "iopub.status.busy": "2023-10-15T16:41:57.032001Z",
     "iopub.status.idle": "2023-10-15T16:41:57.039907Z",
     "shell.execute_reply": "2023-10-15T16:41:57.039117Z",
     "shell.execute_reply.started": "2023-10-15T16:41:57.032206Z"
    }
   },
   "outputs": [],
   "source": [
    "#model_init.state_dict()[\"fce.weight\"]"
   ]
  },
  {
   "cell_type": "code",
   "execution_count": 28,
   "id": "31f1cec4-71f9-4930-958d-91fd7f80784f",
   "metadata": {
    "execution": {
     "iopub.execute_input": "2023-10-15T16:41:57.040809Z",
     "iopub.status.busy": "2023-10-15T16:41:57.040544Z",
     "iopub.status.idle": "2023-10-15T16:41:57.047022Z",
     "shell.execute_reply": "2023-10-15T16:41:57.046229Z",
     "shell.execute_reply.started": "2023-10-15T16:41:57.040787Z"
    }
   },
   "outputs": [],
   "source": [
    "#plt.imshow(model_init.state_dict()[\"fcs.0.weight\"])"
   ]
  },
  {
   "cell_type": "code",
   "execution_count": 29,
   "id": "79486ce8-afcc-43cb-851a-a5927773e549",
   "metadata": {
    "execution": {
     "iopub.execute_input": "2023-10-15T16:41:57.048076Z",
     "iopub.status.busy": "2023-10-15T16:41:57.047841Z",
     "iopub.status.idle": "2023-10-15T16:41:57.055171Z",
     "shell.execute_reply": "2023-10-15T16:41:57.054356Z",
     "shell.execute_reply.started": "2023-10-15T16:41:57.048054Z"
    }
   },
   "outputs": [
    {
     "data": {
      "text/plain": [
       "tensor([[True, True, True, True, True, True, True, True, True, True, True, True,\n",
       "         True, True, True, True, True, True, True, True, True, True, True, True,\n",
       "         True, True, True, True, True, True, True, True, True, True, True, True,\n",
       "         True, True, True, True, True, True, True, True, True, True, True, True,\n",
       "         True, True, True, True, True, True, True, True, True, True, True, True,\n",
       "         True, True, True, True]])"
      ]
     },
     "execution_count": 29,
     "metadata": {},
     "output_type": "execute_result"
    }
   ],
   "source": [
    "prueba = model_init.state_dict()[\"fce.weight\"]\n",
    "prueba == model_init.state_dict()[\"fce.weight\"]"
   ]
  },
  {
   "cell_type": "markdown",
   "id": "266fadd1-9f3e-419d-a358-222bafa32531",
   "metadata": {},
   "source": [
    "### STEP 4: Selection of the Optimizer"
   ]
  },
  {
   "cell_type": "code",
   "execution_count": 30,
   "id": "9012dbc9-3c41-47ba-abbd-8a087290ba6e",
   "metadata": {
    "execution": {
     "iopub.execute_input": "2023-10-15T16:41:57.056301Z",
     "iopub.status.busy": "2023-10-15T16:41:57.056073Z",
     "iopub.status.idle": "2023-10-15T16:41:57.060947Z",
     "shell.execute_reply": "2023-10-15T16:41:57.060095Z",
     "shell.execute_reply.started": "2023-10-15T16:41:57.056279Z"
    }
   },
   "outputs": [],
   "source": [
    "optimizer = torch.optim.Adam(model_init.parameters(), lr= learning_rate)\n",
    "#optimizer"
   ]
  },
  {
   "cell_type": "markdown",
   "id": "9108ca98-72f8-4471-8385-a0ca3053ca5c",
   "metadata": {},
   "source": [
    "#### Test points:"
   ]
  },
  {
   "cell_type": "code",
   "execution_count": 31,
   "id": "c376b2ed-ef6e-4108-a688-7e268e7172ad",
   "metadata": {
    "execution": {
     "iopub.execute_input": "2023-10-15T16:41:57.062051Z",
     "iopub.status.busy": "2023-10-15T16:41:57.061830Z",
     "iopub.status.idle": "2023-10-15T16:41:57.068985Z",
     "shell.execute_reply": "2023-10-15T16:41:57.068173Z",
     "shell.execute_reply.started": "2023-10-15T16:41:57.062030Z"
    }
   },
   "outputs": [
    {
     "data": {
      "text/plain": [
       "torch.Size([100, 2])"
      ]
     },
     "execution_count": 31,
     "metadata": {},
     "output_type": "execute_result"
    }
   ],
   "source": [
    "test_mu = 5\n",
    "test_in_t_constant_mu = torch.stack([torch.linspace(0,1,point_resolution_test), test_mu*torch.ones(point_resolution_test)], -1).view(-1,2)\n",
    "test_in_t_constant_mu.size()"
   ]
  },
  {
   "cell_type": "code",
   "execution_count": 32,
   "id": "79d8aeef-136e-442e-b752-b420f4c1b339",
   "metadata": {
    "execution": {
     "iopub.execute_input": "2023-10-15T16:41:57.070495Z",
     "iopub.status.busy": "2023-10-15T16:41:57.070262Z",
     "iopub.status.idle": "2023-10-15T16:41:57.074184Z",
     "shell.execute_reply": "2023-10-15T16:41:57.073384Z",
     "shell.execute_reply.started": "2023-10-15T16:41:57.070473Z"
    }
   },
   "outputs": [],
   "source": [
    "#test_domain_t_constant_mu = torch.stack(torch.meshgrid(*test_in_t_constant_mu, indexing='ij'), -1).view(-1, 2)\n",
    "#test_domain_t_constant_mu.size()"
   ]
  },
  {
   "cell_type": "code",
   "execution_count": 33,
   "id": "0d1e0d7d-fdbc-46d1-923b-9f6ebaded840",
   "metadata": {
    "execution": {
     "iopub.execute_input": "2023-10-15T16:41:57.075378Z",
     "iopub.status.busy": "2023-10-15T16:41:57.075135Z",
     "iopub.status.idle": "2023-10-15T16:41:57.079250Z",
     "shell.execute_reply": "2023-10-15T16:41:57.078487Z",
     "shell.execute_reply.started": "2023-10-15T16:41:57.075357Z"
    }
   },
   "outputs": [],
   "source": [
    "#test_domain_t_constant_mu"
   ]
  },
  {
   "cell_type": "code",
   "execution_count": 34,
   "id": "84d5f3e9-f7eb-4480-adca-523b7da72a6d",
   "metadata": {
    "execution": {
     "iopub.execute_input": "2023-10-15T16:41:57.080364Z",
     "iopub.status.busy": "2023-10-15T16:41:57.080126Z",
     "iopub.status.idle": "2023-10-15T16:41:57.091402Z",
     "shell.execute_reply": "2023-10-15T16:41:57.090098Z",
     "shell.execute_reply.started": "2023-10-15T16:41:57.080342Z"
    }
   },
   "outputs": [
    {
     "data": {
      "text/plain": [
       "torch.Size([100, 1])"
      ]
     },
     "execution_count": 34,
     "metadata": {},
     "output_type": "execute_result"
    }
   ],
   "source": [
    "test_predicted = model_init(test_in_t_constant_mu)\n",
    "test_predicted.size()"
   ]
  },
  {
   "cell_type": "code",
   "execution_count": 35,
   "id": "d54b550a-9286-4f5e-8291-65b39dfb5abe",
   "metadata": {
    "execution": {
     "iopub.execute_input": "2023-10-15T16:41:57.098255Z",
     "iopub.status.busy": "2023-10-15T16:41:57.095378Z",
     "iopub.status.idle": "2023-10-15T16:41:57.106906Z",
     "shell.execute_reply": "2023-10-15T16:41:57.105848Z",
     "shell.execute_reply.started": "2023-10-15T16:41:57.098208Z"
    }
   },
   "outputs": [],
   "source": [
    "#test_predicted"
   ]
  },
  {
   "cell_type": "code",
   "execution_count": 36,
   "id": "4d41b39a-0941-43a9-b3f3-ac45ffa10a6d",
   "metadata": {
    "execution": {
     "iopub.execute_input": "2023-10-15T16:41:57.111503Z",
     "iopub.status.busy": "2023-10-15T16:41:57.110865Z",
     "iopub.status.idle": "2023-10-15T16:41:57.221903Z",
     "shell.execute_reply": "2023-10-15T16:41:57.221256Z",
     "shell.execute_reply.started": "2023-10-15T16:41:57.111466Z"
    }
   },
   "outputs": [
    {
     "data": {
      "image/png": "[encoded data removed]",
      "text/plain": [
       "<Figure size 1000x250 with 1 Axes>"
      ]
     },
     "metadata": {},
     "output_type": "display_data"
    }
   ],
   "source": [
    "#u_test = pinn(test_t_frict_coeff_total).detach().cpu()\n",
    "plt.figure(figsize=(10,2.5))\n",
    "#plt.scatter(physics_t_frict_coeff.detach().cpu()[0:physics_t_points, 0], \n",
    "#                    torch.zeros_like(physics_t_frict_coeff.cpu())[0:physics_t_points, 0], \n",
    "#                    s=20, \n",
    "#                    linewidth=0, \n",
    "#                    color=\"tab:green\", \n",
    "#                    alpha=0.6)\n",
    "#plt.scatter(initial_t_frict_coeff.detach().cpu()[:, 0], \n",
    "#                    torch.zeros_like(initial_t_frict_coeff.cpu())[:, 0], \n",
    "#                    s=100, \n",
    "#                    linewidth=0, \n",
    "#                    color=\"tab:red\", \n",
    "#                    alpha=0.6)\n",
    "plt.plot(test_in_t_mu[0].detach().numpy(), \n",
    "                 u_exact, \n",
    "                 label=\"Exact solution\", \n",
    "                 color=\"tab:grey\", \n",
    "                 alpha=0.6)\n",
    "plt.plot(test_in_t_mu[0], \n",
    "                 test_predicted[:,0].detach().numpy(), \n",
    "                 label=\"PINN solution\", \n",
    "                 color=\"tab:green\")\n",
    "#plt.title(f\"Training step {i}\")\n",
    "plt.legend()\n",
    "plt.show()"
   ]
  },
  {
   "cell_type": "markdown",
   "id": "12207faa-2566-41f4-a4f4-9fda6b4006bc",
   "metadata": {},
   "source": [
    "## For-loop training"
   ]
  },
  {
   "cell_type": "code",
   "execution_count": 37,
   "id": "5efdc005-51ad-4751-b59d-55930259a8f5",
   "metadata": {
    "execution": {
     "iopub.execute_input": "2023-10-15T16:41:57.223056Z",
     "iopub.status.busy": "2023-10-15T16:41:57.222871Z",
     "iopub.status.idle": "2023-10-15T16:41:57.226127Z",
     "shell.execute_reply": "2023-10-15T16:41:57.225570Z",
     "shell.execute_reply.started": "2023-10-15T16:41:57.223038Z"
    }
   },
   "outputs": [],
   "source": [
    "epochs = 1001"
   ]
  },
  {
   "cell_type": "markdown",
   "id": "ce476bc3-0b84-4ae4-96fe-db1c13ccf92d",
   "metadata": {},
   "source": [
    "### Training using a different initialization: "
   ]
  },
  {
   "cell_type": "code",
   "execution_count": 38,
   "id": "c115806f-a108-4d73-bc79-86365ad111e2",
   "metadata": {
    "execution": {
     "iopub.execute_input": "2023-10-15T16:41:57.227115Z",
     "iopub.status.busy": "2023-10-15T16:41:57.226942Z",
     "iopub.status.idle": "2023-10-15T16:42:07.522344Z",
     "shell.execute_reply": "2023-10-15T16:42:07.521709Z",
     "shell.execute_reply.started": "2023-10-15T16:41:57.227099Z"
    }
   },
   "outputs": [
    {
     "data": {
      "image/png": "[encoded data removed]",
      "text/plain": [
       "<Figure size 1000x250 with 1 Axes>"
      ]
     },
     "metadata": {},
     "output_type": "display_data"
    },
    {
     "data": {
      "image/png": "[encoded data removed]",
      "text/plain": [
       "<Figure size 1000x250 with 1 Axes>"
      ]
     },
     "metadata": {},
     "output_type": "display_data"
    }
   ],
   "source": [
    "for i in range(epochs):\n",
    "    optimizer.zero_grad()\n",
    "\n",
    "    # compute initial condition 1 loss:\n",
    "    ic1_predicted= model_init(ic1_t_mu)\n",
    "    loss_ic1 = torch.mean((ic1_predicted - ic1_scope)**2)\n",
    "\n",
    "    # compute initial condition 2 loss:\n",
    "    du_dtdmu_initial = torch.autograd.grad(outputs = ic1_predicted, inputs = ic1_t_mu, grad_outputs= torch.ones_like(ic1_predicted), create_graph= True)[0]\n",
    "    ic2_du_dt, ic2_du_dmu = du_dtdmu_initial[:, 0:1], du_dtdmu_initial[:,1:2]\n",
    "    loss_ic2 = torch.mean((ic2_du_dt- ic2_scope)**2)\n",
    "\n",
    "    \n",
    "    # compute physic loss:\n",
    "    physic_domain_predicted = model_init(physic_domain_t_mu)\n",
    "    physic_domain_du_dtdmu = torch.autograd.grad(outputs = physic_domain_predicted, inputs = physic_domain_t_mu, grad_outputs= torch.ones_like(physic_domain_predicted), create_graph= True)[0]\n",
    "    physic_domain_d2u_d2t_d2mu = torch.autograd.grad(outputs = physic_domain_du_dtdmu[:,0:1], inputs = physic_domain_t_mu, grad_outputs= torch.ones_like(physic_domain_du_dtdmu[:,0:1]), create_graph= True)[0]\n",
    "    loss_differential_equation_1 = torch.mean( (physic_domain_d2u_d2t_d2mu[:,0:1] + physic_domain_t_mu[:,1:2] * physic_domain_du_dtdmu[:,0:1] + k * physic_domain_predicted )**2)\n",
    "\n",
    "    loss_1 = loss_ic1 + lambda1 * loss_ic2 + lambda2 * loss_differential_equation_1\n",
    "\n",
    "    \n",
    "    loss_1.backward()\n",
    "    optimizer.step()\n",
    "    \n",
    "    \n",
    "    if i%1000 == 0:\n",
    "        test_predicted = model_init(test_in_t_constant_mu)\n",
    "        \n",
    "        plt.figure(figsize=(10,2.5))\n",
    "#plt.scatter(physics_t_frict_coeff.detach().cpu()[0:physics_t_points, 0], \n",
    "#                    torch.zeros_like(physics_t_frict_coeff.cpu())[0:physics_t_points, 0], \n",
    "#                    s=20, \n",
    "#                    linewidth=0, \n",
    "#                    color=\"tab:green\", \n",
    "#                    alpha=0.6)\n",
    "#plt.scatter(initial_t_frict_coeff.detach().cpu()[:, 0], \n",
    "#                    torch.zeros_like(initial_t_frict_coeff.cpu())[:, 0], \n",
    "#                    s=100, \n",
    "#                    linewidth=0, \n",
    "#                    color=\"tab:red\", \n",
    "#                    alpha=0.6)\n",
    "        plt.plot(test_in_t_mu[0].detach().numpy(), \n",
    "                 u_exact, \n",
    "                 label=\"Exact solution\", \n",
    "                 color=\"tab:grey\", \n",
    "                 alpha=0.6)\n",
    "        plt.plot(test_in_t_mu[0], \n",
    "                 test_predicted[:,0].detach().numpy(), \n",
    "                 label=\"PINN solution\", \n",
    "                 color=\"tab:green\")\n",
    "        plt.title(f\"Training step {i}\")\n",
    "        plt.legend()\n",
    "        plt.show()\n",
    "        "
   ]
  },
  {
   "cell_type": "markdown",
   "id": "93eacc91-c2df-45b7-920d-221345fc8d30",
   "metadata": {},
   "source": [
    "### Inference:"
   ]
  },
  {
   "cell_type": "code",
   "execution_count": 39,
   "id": "b762fdbd-eafc-4975-ad71-9c3faefb2865",
   "metadata": {
    "execution": {
     "iopub.execute_input": "2023-10-15T16:42:07.523386Z",
     "iopub.status.busy": "2023-10-15T16:42:07.523199Z",
     "iopub.status.idle": "2023-10-15T16:42:07.528563Z",
     "shell.execute_reply": "2023-10-15T16:42:07.527992Z",
     "shell.execute_reply.started": "2023-10-15T16:42:07.523369Z"
    }
   },
   "outputs": [
    {
     "data": {
      "text/plain": [
       "torch.Size([100, 2])"
      ]
     },
     "execution_count": 39,
     "metadata": {},
     "output_type": "execute_result"
    }
   ],
   "source": [
    "test_mu = 7\n",
    "test_in_t_constant_mu = torch.stack([torch.linspace(0,1,point_resolution_test), test_mu*torch.ones(point_resolution_test)], -1).view(-1,2)\n",
    "test_in_t_constant_mu.size()"
   ]
  },
  {
   "cell_type": "code",
   "execution_count": 40,
   "id": "a26803c1-3b37-4df4-9309-da226f64f339",
   "metadata": {
    "execution": {
     "iopub.execute_input": "2023-10-15T16:42:07.529464Z",
     "iopub.status.busy": "2023-10-15T16:42:07.529285Z",
     "iopub.status.idle": "2023-10-15T16:42:07.547689Z",
     "shell.execute_reply": "2023-10-15T16:42:07.547246Z",
     "shell.execute_reply.started": "2023-10-15T16:42:07.529448Z"
    }
   },
   "outputs": [],
   "source": [
    "test_predicted = model_init(test_in_t_constant_mu)"
   ]
  },
  {
   "cell_type": "code",
   "execution_count": 41,
   "id": "a9de318c-f172-4e67-8527-72e729574f2e",
   "metadata": {
    "execution": {
     "iopub.execute_input": "2023-10-15T16:42:07.552282Z",
     "iopub.status.busy": "2023-10-15T16:42:07.551024Z",
     "iopub.status.idle": "2023-10-15T16:42:07.556430Z",
     "shell.execute_reply": "2023-10-15T16:42:07.555991Z",
     "shell.execute_reply.started": "2023-10-15T16:42:07.552261Z"
    }
   },
   "outputs": [],
   "source": [
    "u_exact = exact_solution(test_mu/(2*mass), w0, test_in_t_mu[0])"
   ]
  },
  {
   "cell_type": "code",
   "execution_count": 42,
   "id": "1cc8b99d-8ab9-4088-b2f6-e682024e9112",
   "metadata": {
    "execution": {
     "iopub.execute_input": "2023-10-15T16:42:07.558748Z",
     "iopub.status.busy": "2023-10-15T16:42:07.558087Z",
     "iopub.status.idle": "2023-10-15T16:42:07.731082Z",
     "shell.execute_reply": "2023-10-15T16:42:07.730588Z",
     "shell.execute_reply.started": "2023-10-15T16:42:07.558728Z"
    }
   },
   "outputs": [
    {
     "data": {
      "image/png": "[encoded data removed]",
      "text/plain": [
       "<Figure size 1000x250 with 1 Axes>"
      ]
     },
     "metadata": {},
     "output_type": "display_data"
    }
   ],
   "source": [
    "#u_test = pinn(test_t_frict_coeff_total).detach().cpu()\n",
    "plt.figure(figsize=(10,2.5))\n",
    "#plt.scatter(physics_t_frict_coeff.detach().cpu()[0:physics_t_points, 0], \n",
    "#                    torch.zeros_like(physics_t_frict_coeff.cpu())[0:physics_t_points, 0], \n",
    "#                    s=20, \n",
    "#                    linewidth=0, \n",
    "#                    color=\"tab:green\", \n",
    "#                    alpha=0.6)\n",
    "#plt.scatter(initial_t_frict_coeff.detach().cpu()[:, 0], \n",
    "#                    torch.zeros_like(initial_t_frict_coeff.cpu())[:, 0], \n",
    "#                    s=100, \n",
    "#                    linewidth=0, \n",
    "#                    color=\"tab:red\", \n",
    "#                    alpha=0.6)\n",
    "plt.plot(test_in_t_mu[0].detach().numpy(), \n",
    "                 u_exact, \n",
    "                 label=\"Exact solution\", \n",
    "                 color=\"tab:grey\", \n",
    "                 alpha=0.6)\n",
    "plt.plot(test_in_t_mu[0], \n",
    "                 test_predicted[:,0].detach().numpy(), \n",
    "                 label=\"PINN solution\", \n",
    "                 color=\"tab:green\")\n",
    "#plt.title(f\"Training step {i}\")\n",
    "plt.legend()\n",
    "plt.show()"
   ]
  },
  {
   "cell_type": "code",
   "execution_count": null,
   "id": "93513aeb-0ac3-4224-ace3-06c84adf01d2",
   "metadata": {},
   "outputs": [],
   "source": []
  },
  {
   "cell_type": "code",
   "execution_count": null,
   "id": "63702b16-ff3a-47d2-8fc9-cf8ac1477b32",
   "metadata": {},
   "outputs": [],
   "source": []
  },
  {
   "cell_type": "code",
   "execution_count": null,
   "id": "cf96e24b-5a53-4c72-867b-7ea09aa480cf",
   "metadata": {},
   "outputs": [],
   "source": []
  },
  {
   "cell_type": "code",
   "execution_count": null,
   "id": "990372eb-6e07-4dc2-91ed-babe99030285",
   "metadata": {},
   "outputs": [],
   "source": []
  },
  {
   "cell_type": "code",
   "execution_count": null,
   "id": "ff0929d2-2ede-4327-812d-d5f6b2811a49",
   "metadata": {},
   "outputs": [],
   "source": []
  },
  {
   "cell_type": "code",
   "execution_count": null,
   "id": "d4ece2ee-a497-455e-9842-c3785a177c41",
   "metadata": {},
   "outputs": [],
   "source": []
  },
  {
   "cell_type": "code",
   "execution_count": null,
   "id": "3ca1e537-bdbc-4a5c-bf94-620e6290989d",
   "metadata": {},
   "outputs": [],
   "source": []
  },
  {
   "cell_type": "code",
   "execution_count": null,
   "id": "f699a781-2c68-43c2-8990-a60764e4f8a7",
   "metadata": {},
   "outputs": [],
   "source": []
  },
  {
   "cell_type": "code",
   "execution_count": null,
   "id": "17021e0a-704d-4193-813f-40d43a965f2c",
   "metadata": {},
   "outputs": [],
   "source": []
  },
  {
   "cell_type": "code",
   "execution_count": null,
   "id": "88833635-6087-4ad3-b017-7e53510b5434",
   "metadata": {},
   "outputs": [],
   "source": []
  },
  {
   "cell_type": "code",
   "execution_count": null,
   "id": "2a30a8cf-145a-415f-9fb2-43b3e6c22dbe",
   "metadata": {},
   "outputs": [],
   "source": []
  },
  {
   "cell_type": "code",
   "execution_count": null,
   "id": "0922d389-183f-46db-aa32-4276d89489c6",
   "metadata": {},
   "outputs": [],
   "source": []
  },
  {
   "cell_type": "code",
   "execution_count": null,
   "id": "6d84bfca-a57c-47f2-bbb4-3488c71d53f9",
   "metadata": {},
   "outputs": [],
   "source": []
  }
 ],
 "metadata": {
  "kernelspec": {
   "display_name": "Python 3 (ipykernel)",
   "language": "python",
   "name": "python3"
  },
  "language_info": {
   "codemirror_mode": {
    "name": "ipython",
    "version": 3
   },
   "file_extension": ".py",
   "mimetype": "text/x-python",
   "name": "python",
   "nbconvert_exporter": "python",
   "pygments_lexer": "ipython3",
   "version": "3.10.12"
  }
 },
 "nbformat": 4,
 "nbformat_minor": 5
}
