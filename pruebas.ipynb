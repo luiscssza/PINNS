{
 "cells": [
  {
   "cell_type": "markdown",
   "id": "33e005c5-9e86-4452-b538-9dd5ab15d38f",
   "metadata": {
    "jp-MarkdownHeadingCollapsed": true
   },
   "source": [
    "## Test with tensors"
   ]
  },
  {
   "cell_type": "code",
   "execution_count": 2,
   "id": "f2682e75-ec89-495c-ad04-3b8ca4c859e6",
   "metadata": {
    "execution": {
     "iopub.execute_input": "2023-07-30T10:08:51.162690Z",
     "iopub.status.busy": "2023-07-30T10:08:51.162094Z",
     "iopub.status.idle": "2023-07-30T10:08:52.306626Z",
     "shell.execute_reply": "2023-07-30T10:08:52.305953Z",
     "shell.execute_reply.started": "2023-07-30T10:08:51.162668Z"
    }
   },
   "outputs": [],
   "source": [
    "import torch"
   ]
  },
  {
   "cell_type": "code",
   "execution_count": 5,
   "id": "d0410702-354b-476a-a692-433c6edd2167",
   "metadata": {
    "execution": {
     "iopub.execute_input": "2023-07-30T10:09:23.353547Z",
     "iopub.status.busy": "2023-07-30T10:09:23.352509Z",
     "iopub.status.idle": "2023-07-30T10:09:23.357619Z",
     "shell.execute_reply": "2023-07-30T10:09:23.356847Z",
     "shell.execute_reply.started": "2023-07-30T10:09:23.353508Z"
    }
   },
   "outputs": [],
   "source": [
    "t = torch.zeros(size=(1,0))"
   ]
  },
  {
   "cell_type": "code",
   "execution_count": 9,
   "id": "b0726d83-a52d-4b4b-b83e-cd5bfcb4dbeb",
   "metadata": {
    "execution": {
     "iopub.execute_input": "2023-07-30T10:10:10.221846Z",
     "iopub.status.busy": "2023-07-30T10:10:10.221219Z",
     "iopub.status.idle": "2023-07-30T10:10:10.226075Z",
     "shell.execute_reply": "2023-07-30T10:10:10.225482Z",
     "shell.execute_reply.started": "2023-07-30T10:10:10.221824Z"
    }
   },
   "outputs": [
    {
     "data": {
      "text/plain": [
       "tensor([], size=(1, 0))"
      ]
     },
     "execution_count": 9,
     "metadata": {},
     "output_type": "execute_result"
    }
   ],
   "source": [
    "t"
   ]
  },
  {
   "cell_type": "code",
   "execution_count": 10,
   "id": "a901ad30-d193-4015-af14-a2070319e3d5",
   "metadata": {
    "execution": {
     "iopub.execute_input": "2023-07-30T10:10:51.605118Z",
     "iopub.status.busy": "2023-07-30T10:10:51.604074Z",
     "iopub.status.idle": "2023-07-30T10:10:51.610865Z",
     "shell.execute_reply": "2023-07-30T10:10:51.609899Z",
     "shell.execute_reply.started": "2023-07-30T10:10:51.605081Z"
    }
   },
   "outputs": [
    {
     "data": {
      "text/plain": [
       "0"
      ]
     },
     "execution_count": 10,
     "metadata": {},
     "output_type": "execute_result"
    }
   ],
   "source": [
    "t.numel()"
   ]
  },
  {
   "cell_type": "code",
   "execution_count": 6,
   "id": "90e701bb-8064-4144-876a-ccda190d45aa",
   "metadata": {
    "execution": {
     "iopub.execute_input": "2023-07-30T10:09:34.040515Z",
     "iopub.status.busy": "2023-07-30T10:09:34.039748Z",
     "iopub.status.idle": "2023-07-30T10:09:34.044434Z",
     "shell.execute_reply": "2023-07-30T10:09:34.043804Z",
     "shell.execute_reply.started": "2023-07-30T10:09:34.040493Z"
    }
   },
   "outputs": [
    {
     "data": {
      "text/plain": [
       "0"
      ]
     },
     "execution_count": 6,
     "metadata": {},
     "output_type": "execute_result"
    }
   ],
   "source": [
    "t.nelement()   # returns zero, empty in this sense"
   ]
  },
  {
   "cell_type": "code",
   "execution_count": 7,
   "id": "ac120098-93a9-496b-8fa1-6d2e3f58c8a1",
   "metadata": {
    "execution": {
     "iopub.execute_input": "2023-07-30T10:09:41.386871Z",
     "iopub.status.busy": "2023-07-30T10:09:41.386023Z",
     "iopub.status.idle": "2023-07-30T10:09:41.392889Z",
     "shell.execute_reply": "2023-07-30T10:09:41.392001Z",
     "shell.execute_reply.started": "2023-07-30T10:09:41.386832Z"
    }
   },
   "outputs": [
    {
     "data": {
      "text/plain": [
       "2"
      ]
     },
     "execution_count": 7,
     "metadata": {},
     "output_type": "execute_result"
    }
   ],
   "source": [
    "len(t.size())  # returns two, not empty in this sense!!"
   ]
  },
  {
   "cell_type": "code",
   "execution_count": 8,
   "id": "ee6218cd-a45d-4407-8e57-20065bc7e0b3",
   "metadata": {
    "execution": {
     "iopub.execute_input": "2023-07-30T10:09:52.455533Z",
     "iopub.status.busy": "2023-07-30T10:09:52.454827Z",
     "iopub.status.idle": "2023-07-30T10:09:52.459464Z",
     "shell.execute_reply": "2023-07-30T10:09:52.458848Z",
     "shell.execute_reply.started": "2023-07-30T10:09:52.455512Z"
    }
   },
   "outputs": [
    {
     "data": {
      "text/plain": [
       "1"
      ]
     },
     "execution_count": 8,
     "metadata": {},
     "output_type": "execute_result"
    }
   ],
   "source": [
    "len(t)         # returns one, not empty in this sense!!"
   ]
  },
  {
   "cell_type": "code",
   "execution_count": 12,
   "id": "198a98da-1fe6-442c-9a85-39c01b4c8652",
   "metadata": {
    "execution": {
     "iopub.execute_input": "2023-07-30T10:11:25.648582Z",
     "iopub.status.busy": "2023-07-30T10:11:25.648001Z",
     "iopub.status.idle": "2023-07-30T10:11:25.652966Z",
     "shell.execute_reply": "2023-07-30T10:11:25.652339Z",
     "shell.execute_reply.started": "2023-07-30T10:11:25.648560Z"
    }
   },
   "outputs": [
    {
     "data": {
      "text/plain": [
       "0"
      ]
     },
     "execution_count": 12,
     "metadata": {},
     "output_type": "execute_result"
    }
   ],
   "source": [
    "t1 = torch.zeros(size=(0,1))\n",
    "len(t1)         # returns zero for this one!"
   ]
  },
  {
   "cell_type": "code",
   "execution_count": 13,
   "id": "cd3ca1a0-dc3f-487a-96b4-c286d3a49fda",
   "metadata": {
    "execution": {
     "iopub.execute_input": "2023-07-30T10:11:27.226781Z",
     "iopub.status.busy": "2023-07-30T10:11:27.226032Z",
     "iopub.status.idle": "2023-07-30T10:11:27.230807Z",
     "shell.execute_reply": "2023-07-30T10:11:27.230166Z",
     "shell.execute_reply.started": "2023-07-30T10:11:27.226757Z"
    }
   },
   "outputs": [
    {
     "data": {
      "text/plain": [
       "tensor([], size=(0, 1))"
      ]
     },
     "execution_count": 13,
     "metadata": {},
     "output_type": "execute_result"
    }
   ],
   "source": [
    "t1"
   ]
  },
  {
   "cell_type": "markdown",
   "id": "8bdd3941-24cb-4b69-84fa-85ed01116c83",
   "metadata": {},
   "source": [
    "# FROM BEN MOSELEY"
   ]
  },
  {
   "cell_type": "code",
   "execution_count": 20,
   "id": "d2809a10-35f0-4a6c-a8d0-0b4f3f7e1039",
   "metadata": {
    "execution": {
     "iopub.execute_input": "2023-07-30T10:16:41.246480Z",
     "iopub.status.busy": "2023-07-30T10:16:41.246052Z",
     "iopub.status.idle": "2023-07-30T10:16:41.251073Z",
     "shell.execute_reply": "2023-07-30T10:16:41.250505Z",
     "shell.execute_reply.started": "2023-07-30T10:16:41.246457Z"
    }
   },
   "outputs": [
    {
     "data": {
      "text/plain": [
       "<torch._C.Generator at 0x7f48a09b9230>"
      ]
     },
     "execution_count": 20,
     "metadata": {},
     "output_type": "execute_result"
    }
   ],
   "source": [
    "torch.manual_seed(123)"
   ]
  },
  {
   "cell_type": "markdown",
   "id": "48620de2-1ecd-4402-9b67-4157203bccc7",
   "metadata": {},
   "source": [
    "## DEVICE"
   ]
  },
  {
   "cell_type": "code",
   "execution_count": 15,
   "id": "379e7803-3353-49f6-a0bb-04947073a13c",
   "metadata": {
    "execution": {
     "iopub.execute_input": "2023-07-30T10:13:52.301224Z",
     "iopub.status.busy": "2023-07-30T10:13:52.300425Z",
     "iopub.status.idle": "2023-07-30T10:13:52.313654Z",
     "shell.execute_reply": "2023-07-30T10:13:52.313048Z",
     "shell.execute_reply.started": "2023-07-30T10:13:52.301188Z"
    },
    "jupyter": {
     "source_hidden": true
    }
   },
   "outputs": [
    {
     "data": {
      "text/plain": [
       "device(type='cuda', index=0)"
      ]
     },
     "execution_count": 15,
     "metadata": {},
     "output_type": "execute_result"
    }
   ],
   "source": [
    "device = torch.device(\"cuda:0\" if torch.cuda.is_available() else \"cpu\")\n",
    "device"
   ]
  },
  {
   "cell_type": "markdown",
   "id": "4d6d30c1-6a3a-4455-bc33-5884bb6ad1f5",
   "metadata": {},
   "source": [
    "## Test from Ben Moseley"
   ]
  },
  {
   "cell_type": "code",
   "execution_count": 24,
   "id": "089dd9d5-0329-412d-93d0-4bf59399d19c",
   "metadata": {
    "execution": {
     "iopub.execute_input": "2023-07-30T10:22:48.694031Z",
     "iopub.status.busy": "2023-07-30T10:22:48.693496Z",
     "iopub.status.idle": "2023-07-30T10:22:48.714160Z",
     "shell.execute_reply": "2023-07-30T10:22:48.713318Z",
     "shell.execute_reply.started": "2023-07-30T10:22:48.694007Z"
    }
   },
   "outputs": [
    {
     "data": {
      "text/plain": [
       "tensor([[0.]], device='cuda:0', grad_fn=<ToCopyBackward0>)"
      ]
     },
     "execution_count": 24,
     "metadata": {},
     "output_type": "execute_result"
    }
   ],
   "source": [
    "t_initial = torch.tensor(0.).view(-1,1).requires_grad_(True).to(device)\n",
    "t_initial"
   ]
  },
  {
   "cell_type": "code",
   "execution_count": 25,
   "id": "97494d05-2c18-4e9b-9126-d278ffcb515b",
   "metadata": {
    "execution": {
     "iopub.execute_input": "2023-07-30T10:22:49.120049Z",
     "iopub.status.busy": "2023-07-30T10:22:49.119126Z",
     "iopub.status.idle": "2023-07-30T10:22:49.124326Z",
     "shell.execute_reply": "2023-07-30T10:22:49.123736Z",
     "shell.execute_reply.started": "2023-07-30T10:22:49.120021Z"
    }
   },
   "outputs": [
    {
     "data": {
      "text/plain": [
       "torch.Size([1, 1])"
      ]
     },
     "execution_count": 25,
     "metadata": {},
     "output_type": "execute_result"
    }
   ],
   "source": [
    "t_initial.size()"
   ]
  },
  {
   "cell_type": "code",
   "execution_count": 26,
   "id": "c33f41a1-c7c8-4b9f-bd1a-3f86b5fe0380",
   "metadata": {
    "execution": {
     "iopub.execute_input": "2023-07-30T10:22:49.448847Z",
     "iopub.status.busy": "2023-07-30T10:22:49.448233Z",
     "iopub.status.idle": "2023-07-30T10:22:49.452947Z",
     "shell.execute_reply": "2023-07-30T10:22:49.452330Z",
     "shell.execute_reply.started": "2023-07-30T10:22:49.448820Z"
    }
   },
   "outputs": [
    {
     "data": {
      "text/plain": [
       "1"
      ]
     },
     "execution_count": 26,
     "metadata": {},
     "output_type": "execute_result"
    }
   ],
   "source": [
    "t_initial.numel()"
   ]
  },
  {
   "cell_type": "code",
   "execution_count": 27,
   "id": "f96e48fc-98f3-4fa0-a93f-54778a6975b1",
   "metadata": {
    "execution": {
     "iopub.execute_input": "2023-07-30T10:22:49.707837Z",
     "iopub.status.busy": "2023-07-30T10:22:49.707141Z",
     "iopub.status.idle": "2023-07-30T10:22:49.712465Z",
     "shell.execute_reply": "2023-07-30T10:22:49.711753Z",
     "shell.execute_reply.started": "2023-07-30T10:22:49.707815Z"
    }
   },
   "outputs": [
    {
     "data": {
      "text/plain": [
       "0.0"
      ]
     },
     "execution_count": 27,
     "metadata": {},
     "output_type": "execute_result"
    }
   ],
   "source": [
    "t_initial.item()"
   ]
  },
  {
   "cell_type": "code",
   "execution_count": 28,
   "id": "bb156db7-09fe-453a-b703-05b7a97da378",
   "metadata": {
    "execution": {
     "iopub.execute_input": "2023-07-30T10:22:49.966165Z",
     "iopub.status.busy": "2023-07-30T10:22:49.965451Z",
     "iopub.status.idle": "2023-07-30T10:22:49.970316Z",
     "shell.execute_reply": "2023-07-30T10:22:49.969781Z",
     "shell.execute_reply.started": "2023-07-30T10:22:49.966143Z"
    }
   },
   "outputs": [
    {
     "data": {
      "text/plain": [
       "tensor([0.], device='cuda:0', grad_fn=<SelectBackward0>)"
      ]
     },
     "execution_count": 28,
     "metadata": {},
     "output_type": "execute_result"
    }
   ],
   "source": [
    "t_initial[0]"
   ]
  },
  {
   "cell_type": "code",
   "execution_count": 53,
   "id": "6ba67660-2725-46e6-95bf-4123a11baa9a",
   "metadata": {
    "execution": {
     "iopub.execute_input": "2023-07-30T10:59:41.974839Z",
     "iopub.status.busy": "2023-07-30T10:59:41.972575Z",
     "iopub.status.idle": "2023-07-30T10:59:41.980828Z",
     "shell.execute_reply": "2023-07-30T10:59:41.980069Z",
     "shell.execute_reply.started": "2023-07-30T10:59:41.974809Z"
    }
   },
   "outputs": [
    {
     "data": {
      "text/plain": [
       "tensor(0., device='cuda:0', grad_fn=<SqueezeBackward0>)"
      ]
     },
     "execution_count": 53,
     "metadata": {},
     "output_type": "execute_result"
    }
   ],
   "source": [
    "t_initial_squeeze = t_initial.squeeze()\n",
    "t_initial_squeeze"
   ]
  },
  {
   "cell_type": "code",
   "execution_count": 54,
   "id": "e8cf864e-b796-4d41-ac22-7f859598ece7",
   "metadata": {
    "execution": {
     "iopub.execute_input": "2023-07-30T11:00:02.737708Z",
     "iopub.status.busy": "2023-07-30T11:00:02.736595Z",
     "iopub.status.idle": "2023-07-30T11:00:02.744599Z",
     "shell.execute_reply": "2023-07-30T11:00:02.743491Z",
     "shell.execute_reply.started": "2023-07-30T11:00:02.737669Z"
    }
   },
   "outputs": [
    {
     "data": {
      "text/plain": [
       "0.0"
      ]
     },
     "execution_count": 54,
     "metadata": {},
     "output_type": "execute_result"
    }
   ],
   "source": [
    "t_initial_squeeze.item()"
   ]
  },
  {
   "cell_type": "code",
   "execution_count": 56,
   "id": "050b1423-5ba3-451b-a9b4-f1d8fe0fc229",
   "metadata": {
    "execution": {
     "iopub.execute_input": "2023-07-30T11:00:36.289331Z",
     "iopub.status.busy": "2023-07-30T11:00:36.288565Z",
     "iopub.status.idle": "2023-07-30T11:00:36.308299Z",
     "shell.execute_reply": "2023-07-30T11:00:36.307727Z",
     "shell.execute_reply.started": "2023-07-30T11:00:36.289310Z"
    }
   },
   "outputs": [
    {
     "data": {
      "text/plain": [
       "float"
      ]
     },
     "execution_count": 56,
     "metadata": {},
     "output_type": "execute_result"
    }
   ],
   "source": [
    "type(t_initial_squeeze.item())"
   ]
  },
  {
   "cell_type": "code",
   "execution_count": 51,
   "id": "0a2238d9-99e5-4e6e-afdb-0477945f2b65",
   "metadata": {
    "execution": {
     "iopub.execute_input": "2023-07-30T10:58:15.841395Z",
     "iopub.status.busy": "2023-07-30T10:58:15.840682Z",
     "iopub.status.idle": "2023-07-30T10:58:15.845182Z",
     "shell.execute_reply": "2023-07-30T10:58:15.844652Z",
     "shell.execute_reply.started": "2023-07-30T10:58:15.841373Z"
    }
   },
   "outputs": [
    {
     "data": {
      "text/plain": [
       "torch.Size([])"
      ]
     },
     "execution_count": 51,
     "metadata": {},
     "output_type": "execute_result"
    }
   ],
   "source": [
    "t_initial_squeeze.size()"
   ]
  },
  {
   "cell_type": "code",
   "execution_count": 52,
   "id": "0c18a898-f0ef-42e6-936b-c90b47d1ef41",
   "metadata": {
    "execution": {
     "iopub.execute_input": "2023-07-30T10:58:41.559540Z",
     "iopub.status.busy": "2023-07-30T10:58:41.558525Z",
     "iopub.status.idle": "2023-07-30T10:58:41.566285Z",
     "shell.execute_reply": "2023-07-30T10:58:41.565116Z",
     "shell.execute_reply.started": "2023-07-30T10:58:41.559505Z"
    }
   },
   "outputs": [
    {
     "data": {
      "text/plain": [
       "1"
      ]
     },
     "execution_count": 52,
     "metadata": {},
     "output_type": "execute_result"
    }
   ],
   "source": [
    "t_initial_squeeze.nelement()"
   ]
  },
  {
   "cell_type": "code",
   "execution_count": 72,
   "id": "a49c2bc6-d180-4ecf-b905-6ba445c24830",
   "metadata": {
    "execution": {
     "iopub.execute_input": "2023-07-30T11:09:37.011343Z",
     "iopub.status.busy": "2023-07-30T11:09:37.010543Z",
     "iopub.status.idle": "2023-07-30T11:09:37.020861Z",
     "shell.execute_reply": "2023-07-30T11:09:37.020287Z",
     "shell.execute_reply.started": "2023-07-30T11:09:37.011313Z"
    }
   },
   "outputs": [
    {
     "data": {
      "text/plain": [
       "tensor([[0.0000],\n",
       "        [0.0345],\n",
       "        [0.0690],\n",
       "        [0.1034],\n",
       "        [0.1379],\n",
       "        [0.1724],\n",
       "        [0.2069],\n",
       "        [0.2414],\n",
       "        [0.2759],\n",
       "        [0.3103],\n",
       "        [0.3448],\n",
       "        [0.3793],\n",
       "        [0.4138],\n",
       "        [0.4483],\n",
       "        [0.4828],\n",
       "        [0.5172],\n",
       "        [0.5517],\n",
       "        [0.5862],\n",
       "        [0.6207],\n",
       "        [0.6552],\n",
       "        [0.6897],\n",
       "        [0.7241],\n",
       "        [0.7586],\n",
       "        [0.7931],\n",
       "        [0.8276],\n",
       "        [0.8621],\n",
       "        [0.8966],\n",
       "        [0.9310],\n",
       "        [0.9655],\n",
       "        [1.0000]], device='cuda:0', grad_fn=<ToCopyBackward0>)"
      ]
     },
     "execution_count": 72,
     "metadata": {},
     "output_type": "execute_result"
    }
   ],
   "source": [
    "# Define training points over the entire domain, for the physics loss\n",
    "t_physics = torch.linspace(0,1,30).view(-1,1).requires_grad_(True).to(device)\n",
    "t_physics"
   ]
  },
  {
   "cell_type": "code",
   "execution_count": 32,
   "id": "44940ef8-6aef-4c0d-93a7-81e8a041afda",
   "metadata": {
    "execution": {
     "iopub.execute_input": "2023-07-30T10:23:16.510448Z",
     "iopub.status.busy": "2023-07-30T10:23:16.509871Z",
     "iopub.status.idle": "2023-07-30T10:23:16.514363Z",
     "shell.execute_reply": "2023-07-30T10:23:16.513811Z",
     "shell.execute_reply.started": "2023-07-30T10:23:16.510424Z"
    }
   },
   "outputs": [
    {
     "data": {
      "text/plain": [
       "30"
      ]
     },
     "execution_count": 32,
     "metadata": {},
     "output_type": "execute_result"
    }
   ],
   "source": [
    "t_physics.numel()"
   ]
  },
  {
   "cell_type": "code",
   "execution_count": 33,
   "id": "13a05eb2-3395-43d9-a441-886e98d16006",
   "metadata": {
    "execution": {
     "iopub.execute_input": "2023-07-30T10:23:19.254123Z",
     "iopub.status.busy": "2023-07-30T10:23:19.253424Z",
     "iopub.status.idle": "2023-07-30T10:23:19.258034Z",
     "shell.execute_reply": "2023-07-30T10:23:19.257426Z",
     "shell.execute_reply.started": "2023-07-30T10:23:19.254102Z"
    }
   },
   "outputs": [
    {
     "data": {
      "text/plain": [
       "torch.Size([30, 1])"
      ]
     },
     "execution_count": 33,
     "metadata": {},
     "output_type": "execute_result"
    }
   ],
   "source": [
    "t_physics.size()"
   ]
  },
  {
   "cell_type": "code",
   "execution_count": 73,
   "id": "10becfc9-1d9b-4f8e-9186-0485b192a839",
   "metadata": {
    "execution": {
     "iopub.execute_input": "2023-07-30T11:10:00.676950Z",
     "iopub.status.busy": "2023-07-30T11:10:00.676217Z",
     "iopub.status.idle": "2023-07-30T11:10:00.681085Z",
     "shell.execute_reply": "2023-07-30T11:10:00.680546Z",
     "shell.execute_reply.started": "2023-07-30T11:10:00.676926Z"
    }
   },
   "outputs": [
    {
     "data": {
      "text/plain": [
       "torch.Size([30])"
      ]
     },
     "execution_count": 73,
     "metadata": {},
     "output_type": "execute_result"
    }
   ],
   "source": [
    "t_physics.squeeze().size()"
   ]
  },
  {
   "cell_type": "code",
   "execution_count": 34,
   "id": "1bcafe26-3bc3-4085-9dc3-b6e83ab9bea6",
   "metadata": {
    "execution": {
     "iopub.execute_input": "2023-07-30T10:23:43.170777Z",
     "iopub.status.busy": "2023-07-30T10:23:43.170026Z",
     "iopub.status.idle": "2023-07-30T10:23:43.189364Z",
     "shell.execute_reply": "2023-07-30T10:23:43.188538Z",
     "shell.execute_reply.started": "2023-07-30T10:23:43.170756Z"
    }
   },
   "outputs": [
    {
     "ename": "RuntimeError",
     "evalue": "a Tensor with 30 elements cannot be converted to Scalar",
     "output_type": "error",
     "traceback": [
      "\u001b[0;31m---------------------------------------------------------------------------\u001b[0m",
      "\u001b[0;31mRuntimeError\u001b[0m                              Traceback (most recent call last)",
      "Cell \u001b[0;32mIn[34], line 1\u001b[0m\n\u001b[0;32m----> 1\u001b[0m \u001b[43mt_physics\u001b[49m\u001b[38;5;241;43m.\u001b[39;49m\u001b[43mitem\u001b[49m\u001b[43m(\u001b[49m\u001b[43m)\u001b[49m\n",
      "\u001b[0;31mRuntimeError\u001b[0m: a Tensor with 30 elements cannot be converted to Scalar"
     ]
    }
   ],
   "source": [
    "t_physics.item()"
   ]
  },
  {
   "cell_type": "code",
   "execution_count": 95,
   "id": "c785264d-d539-4ff0-8702-7f02eacedb5d",
   "metadata": {
    "execution": {
     "iopub.execute_input": "2023-07-30T11:34:35.223013Z",
     "iopub.status.busy": "2023-07-30T11:34:35.222271Z",
     "iopub.status.idle": "2023-07-30T11:34:35.229171Z",
     "shell.execute_reply": "2023-07-30T11:34:35.228313Z",
     "shell.execute_reply.started": "2023-07-30T11:34:35.222991Z"
    }
   },
   "outputs": [
    {
     "data": {
      "text/plain": [
       "tensor([0.0000, 0.0345, 0.0690, 0.1034, 0.1379, 0.1724, 0.2069, 0.2414, 0.2759,\n",
       "        0.3103, 0.3448, 0.3793, 0.4138, 0.4483, 0.4828, 0.5172, 0.5517, 0.5862,\n",
       "        0.6207, 0.6552, 0.6897, 0.7241, 0.7586, 0.7931, 0.8276, 0.8621, 0.8966,\n",
       "        0.9310, 0.9655, 1.0000], device='cuda:0', grad_fn=<ToCopyBackward0>)"
      ]
     },
     "execution_count": 95,
     "metadata": {},
     "output_type": "execute_result"
    }
   ],
   "source": [
    "t_physics_without_view = torch.linspace(0,1,30).requires_grad_(True).to(device)\n",
    "t_physics_without_view"
   ]
  },
  {
   "cell_type": "code",
   "execution_count": 84,
   "id": "614221c5-75cb-4661-b852-db237dddba94",
   "metadata": {
    "execution": {
     "iopub.execute_input": "2023-07-30T11:32:53.061862Z",
     "iopub.status.busy": "2023-07-30T11:32:53.061162Z",
     "iopub.status.idle": "2023-07-30T11:32:53.066462Z",
     "shell.execute_reply": "2023-07-30T11:32:53.065803Z",
     "shell.execute_reply.started": "2023-07-30T11:32:53.061831Z"
    }
   },
   "outputs": [
    {
     "data": {
      "text/plain": [
       "30"
      ]
     },
     "execution_count": 84,
     "metadata": {},
     "output_type": "execute_result"
    }
   ],
   "source": [
    "t_physics_without_view.size()"
   ]
  },
  {
   "cell_type": "code",
   "execution_count": 40,
   "id": "5b199e2b-9716-4bdf-8598-00e6644230cf",
   "metadata": {
    "execution": {
     "iopub.execute_input": "2023-07-30T10:27:47.677414Z",
     "iopub.status.busy": "2023-07-30T10:27:47.676811Z",
     "iopub.status.idle": "2023-07-30T10:27:47.681726Z",
     "shell.execute_reply": "2023-07-30T10:27:47.681200Z",
     "shell.execute_reply.started": "2023-07-30T10:27:47.677392Z"
    }
   },
   "outputs": [
    {
     "data": {
      "text/plain": [
       "[[0.0],\n",
       " [0.03448275849223137],\n",
       " [0.06896551698446274],\n",
       " [0.10344827175140381],\n",
       " [0.13793103396892548],\n",
       " [0.17241379618644714],\n",
       " [0.20689654350280762],\n",
       " [0.24137930572032928],\n",
       " [0.27586206793785095],\n",
       " [0.3103448152542114],\n",
       " [0.3448275923728943],\n",
       " [0.37931033968925476],\n",
       " [0.41379308700561523],\n",
       " [0.4482758641242981],\n",
       " [0.48275861144065857],\n",
       " [0.517241358757019],\n",
       " [0.5517241358757019],\n",
       " [0.5862069129943848],\n",
       " [0.6206896305084229],\n",
       " [0.6551724076271057],\n",
       " [0.6896551847457886],\n",
       " [0.7241379022598267],\n",
       " [0.7586206793785095],\n",
       " [0.7931034564971924],\n",
       " [0.8275862336158752],\n",
       " [0.8620689511299133],\n",
       " [0.8965517282485962],\n",
       " [0.931034505367279],\n",
       " [0.9655172228813171],\n",
       " [1.0]]"
      ]
     },
     "execution_count": 40,
     "metadata": {},
     "output_type": "execute_result"
    }
   ],
   "source": [
    "t_physics_list = t_physics.tolist()\n",
    "t_physics_list"
   ]
  },
  {
   "cell_type": "code",
   "execution_count": 37,
   "id": "6993ec95-a2c2-44f1-a66c-18c0381a1148",
   "metadata": {
    "execution": {
     "iopub.execute_input": "2023-07-30T10:27:07.869147Z",
     "iopub.status.busy": "2023-07-30T10:27:07.868856Z",
     "iopub.status.idle": "2023-07-30T10:27:07.874638Z",
     "shell.execute_reply": "2023-07-30T10:27:07.873800Z",
     "shell.execute_reply.started": "2023-07-30T10:27:07.869127Z"
    }
   },
   "outputs": [
    {
     "data": {
      "text/plain": [
       "list"
      ]
     },
     "execution_count": 37,
     "metadata": {},
     "output_type": "execute_result"
    }
   ],
   "source": [
    "type(t_physics_list)"
   ]
  },
  {
   "cell_type": "code",
   "execution_count": 38,
   "id": "0060af35-ac1d-4f10-8247-e87582d2747f",
   "metadata": {
    "execution": {
     "iopub.execute_input": "2023-07-30T10:27:20.362991Z",
     "iopub.status.busy": "2023-07-30T10:27:20.362244Z",
     "iopub.status.idle": "2023-07-30T10:27:20.367016Z",
     "shell.execute_reply": "2023-07-30T10:27:20.366399Z",
     "shell.execute_reply.started": "2023-07-30T10:27:20.362968Z"
    }
   },
   "outputs": [
    {
     "data": {
      "text/plain": [
       "30"
      ]
     },
     "execution_count": 38,
     "metadata": {},
     "output_type": "execute_result"
    }
   ],
   "source": [
    "len(t_physics_list)"
   ]
  },
  {
   "cell_type": "code",
   "execution_count": 39,
   "id": "df7d567b-cbd4-4382-91fb-3dc7ddd8175e",
   "metadata": {
    "execution": {
     "iopub.execute_input": "2023-07-30T10:27:36.540588Z",
     "iopub.status.busy": "2023-07-30T10:27:36.539096Z",
     "iopub.status.idle": "2023-07-30T10:27:36.559473Z",
     "shell.execute_reply": "2023-07-30T10:27:36.558604Z",
     "shell.execute_reply.started": "2023-07-30T10:27:36.540472Z"
    }
   },
   "outputs": [
    {
     "ename": "AttributeError",
     "evalue": "'list' object has no attribute 'size'",
     "output_type": "error",
     "traceback": [
      "\u001b[0;31m---------------------------------------------------------------------------\u001b[0m",
      "\u001b[0;31mAttributeError\u001b[0m                            Traceback (most recent call last)",
      "Cell \u001b[0;32mIn[39], line 1\u001b[0m\n\u001b[0;32m----> 1\u001b[0m \u001b[43mt_physics_list\u001b[49m\u001b[38;5;241;43m.\u001b[39;49m\u001b[43msize\u001b[49m()\n",
      "\u001b[0;31mAttributeError\u001b[0m: 'list' object has no attribute 'size'"
     ]
    }
   ],
   "source": [
    "t_physics_list.size()"
   ]
  },
  {
   "cell_type": "code",
   "execution_count": 41,
   "id": "b1425d76-c683-4595-b16f-4af72ff87711",
   "metadata": {
    "execution": {
     "iopub.execute_input": "2023-07-30T10:28:20.295859Z",
     "iopub.status.busy": "2023-07-30T10:28:20.295180Z",
     "iopub.status.idle": "2023-07-30T10:28:20.300157Z",
     "shell.execute_reply": "2023-07-30T10:28:20.299522Z",
     "shell.execute_reply.started": "2023-07-30T10:28:20.295828Z"
    }
   },
   "outputs": [
    {
     "data": {
      "text/plain": [
       "list"
      ]
     },
     "execution_count": 41,
     "metadata": {},
     "output_type": "execute_result"
    }
   ],
   "source": [
    "type(t_physics_list[0])"
   ]
  },
  {
   "cell_type": "code",
   "execution_count": 48,
   "id": "eeef75a3-6757-4ea9-bf5b-43d9a5687363",
   "metadata": {
    "execution": {
     "iopub.execute_input": "2023-07-30T10:29:39.724958Z",
     "iopub.status.busy": "2023-07-30T10:29:39.724339Z",
     "iopub.status.idle": "2023-07-30T10:29:39.729398Z",
     "shell.execute_reply": "2023-07-30T10:29:39.728769Z",
     "shell.execute_reply.started": "2023-07-30T10:29:39.724916Z"
    }
   },
   "outputs": [
    {
     "data": {
      "text/plain": [
       "30"
      ]
     },
     "execution_count": 48,
     "metadata": {},
     "output_type": "execute_result"
    }
   ],
   "source": [
    "len(t_physics)"
   ]
  },
  {
   "cell_type": "code",
   "execution_count": 58,
   "id": "c3906cf3-2057-4e70-a534-7082cfc505d6",
   "metadata": {
    "execution": {
     "iopub.execute_input": "2023-07-30T11:01:59.159700Z",
     "iopub.status.busy": "2023-07-30T11:01:59.159247Z",
     "iopub.status.idle": "2023-07-30T11:01:59.164959Z",
     "shell.execute_reply": "2023-07-30T11:01:59.164329Z",
     "shell.execute_reply.started": "2023-07-30T11:01:59.159675Z"
    }
   },
   "outputs": [
    {
     "data": {
      "text/plain": [
       "tensor([[-1.1969,  0.2093],\n",
       "        [-0.9724, -0.7550]])"
      ]
     },
     "execution_count": 58,
     "metadata": {},
     "output_type": "execute_result"
    }
   ],
   "source": [
    "a = torch.randn(2, 2)\n",
    "a"
   ]
  },
  {
   "cell_type": "code",
   "execution_count": 61,
   "id": "74807f56-4100-4d42-8407-e3615d1d2039",
   "metadata": {
    "execution": {
     "iopub.execute_input": "2023-07-30T11:05:11.487689Z",
     "iopub.status.busy": "2023-07-30T11:05:11.486948Z",
     "iopub.status.idle": "2023-07-30T11:05:11.492563Z",
     "shell.execute_reply": "2023-07-30T11:05:11.491936Z",
     "shell.execute_reply.started": "2023-07-30T11:05:11.487662Z"
    }
   },
   "outputs": [
    {
     "data": {
      "text/plain": [
       "tensor([-1.1969,  0.2093, -0.9724, -0.7550])"
      ]
     },
     "execution_count": 61,
     "metadata": {},
     "output_type": "execute_result"
    }
   ],
   "source": [
    "a_flatten = a.flatten()\n",
    "a_flatten"
   ]
  },
  {
   "cell_type": "code",
   "execution_count": 62,
   "id": "49b833fe-d13e-410f-8a82-8eaf344b6d80",
   "metadata": {
    "execution": {
     "iopub.execute_input": "2023-07-30T11:05:55.152787Z",
     "iopub.status.busy": "2023-07-30T11:05:55.152278Z",
     "iopub.status.idle": "2023-07-30T11:05:55.157145Z",
     "shell.execute_reply": "2023-07-30T11:05:55.156463Z",
     "shell.execute_reply.started": "2023-07-30T11:05:55.152766Z"
    }
   },
   "outputs": [
    {
     "data": {
      "text/plain": [
       "torch.Size([4])"
      ]
     },
     "execution_count": 62,
     "metadata": {},
     "output_type": "execute_result"
    }
   ],
   "source": [
    "a_flatten.size()"
   ]
  },
  {
   "cell_type": "code",
   "execution_count": 65,
   "id": "505e9680-f81a-4754-949e-d0124bf76c97",
   "metadata": {
    "execution": {
     "iopub.execute_input": "2023-07-30T11:07:05.840522Z",
     "iopub.status.busy": "2023-07-30T11:07:05.839827Z",
     "iopub.status.idle": "2023-07-30T11:07:05.845568Z",
     "shell.execute_reply": "2023-07-30T11:07:05.845061Z",
     "shell.execute_reply.started": "2023-07-30T11:07:05.840499Z"
    }
   },
   "outputs": [
    {
     "data": {
      "text/plain": [
       "tensor([[ 1.,  2.,  3.,  4.],\n",
       "        [ 5.,  6.,  7.,  8.],\n",
       "        [ 9., 10., 11., 12.]])"
      ]
     },
     "execution_count": 65,
     "metadata": {},
     "output_type": "execute_result"
    }
   ],
   "source": [
    "X = torch.tensor([[1,2,3,4],\n",
    "              [5,6,7,8],\n",
    "              [9,10,11,12]], dtype = torch.float32)\n",
    "X"
   ]
  },
  {
   "cell_type": "code",
   "execution_count": 66,
   "id": "8737c477-8bc2-440c-ac0c-2b30a2ddb3a9",
   "metadata": {
    "execution": {
     "iopub.execute_input": "2023-07-30T11:07:11.349518Z",
     "iopub.status.busy": "2023-07-30T11:07:11.349251Z",
     "iopub.status.idle": "2023-07-30T11:07:11.353568Z",
     "shell.execute_reply": "2023-07-30T11:07:11.353043Z",
     "shell.execute_reply.started": "2023-07-30T11:07:11.349498Z"
    }
   },
   "outputs": [
    {
     "data": {
      "text/plain": [
       "torch.Size([3, 4])"
      ]
     },
     "execution_count": 66,
     "metadata": {},
     "output_type": "execute_result"
    }
   ],
   "source": [
    "X.size()"
   ]
  },
  {
   "cell_type": "code",
   "execution_count": 69,
   "id": "443c4ee0-d1d5-4ca8-9182-2d45878bae94",
   "metadata": {
    "execution": {
     "iopub.execute_input": "2023-07-30T11:07:44.876238Z",
     "iopub.status.busy": "2023-07-30T11:07:44.875921Z",
     "iopub.status.idle": "2023-07-30T11:07:44.881076Z",
     "shell.execute_reply": "2023-07-30T11:07:44.880526Z",
     "shell.execute_reply.started": "2023-07-30T11:07:44.876212Z"
    }
   },
   "outputs": [
    {
     "data": {
      "text/plain": [
       "tensor([ 1.,  2.,  3.,  4.,  5.,  6.,  7.,  8.,  9., 10., 11., 12.])"
      ]
     },
     "execution_count": 69,
     "metadata": {},
     "output_type": "execute_result"
    }
   ],
   "source": [
    "X.flatten()"
   ]
  },
  {
   "cell_type": "code",
   "execution_count": 70,
   "id": "27b46c53-1dca-416c-8f36-a531aa5e29de",
   "metadata": {
    "execution": {
     "iopub.execute_input": "2023-07-30T11:07:58.695151Z",
     "iopub.status.busy": "2023-07-30T11:07:58.694465Z",
     "iopub.status.idle": "2023-07-30T11:07:58.699610Z",
     "shell.execute_reply": "2023-07-30T11:07:58.699097Z",
     "shell.execute_reply.started": "2023-07-30T11:07:58.695126Z"
    }
   },
   "outputs": [
    {
     "data": {
      "text/plain": [
       "tensor([[ 1.,  2.,  3.,  4.],\n",
       "        [ 5.,  6.,  7.,  8.],\n",
       "        [ 9., 10., 11., 12.]])"
      ]
     },
     "execution_count": 70,
     "metadata": {},
     "output_type": "execute_result"
    }
   ],
   "source": [
    "X.squeeze() # squeeze no tiene sentido pq no hay ninguna dimension con 1"
   ]
  },
  {
   "cell_type": "code",
   "execution_count": 98,
   "id": "25ebc133-2a01-42ef-975d-4b48c6d1a30a",
   "metadata": {
    "execution": {
     "iopub.execute_input": "2023-07-30T11:38:09.950143Z",
     "iopub.status.busy": "2023-07-30T11:38:09.949521Z",
     "iopub.status.idle": "2023-07-30T11:38:09.969069Z",
     "shell.execute_reply": "2023-07-30T11:38:09.968407Z",
     "shell.execute_reply.started": "2023-07-30T11:38:09.950119Z"
    }
   },
   "outputs": [
    {
     "data": {
      "text/plain": [
       "tensor([0.], device='cuda:0', grad_fn=<SelectBackward0>)"
      ]
     },
     "execution_count": 98,
     "metadata": {},
     "output_type": "execute_result"
    }
   ],
   "source": [
    "t_physics[0]"
   ]
  },
  {
   "cell_type": "code",
   "execution_count": 102,
   "id": "a70090c0-1cf2-4135-bf19-71259f31fc3f",
   "metadata": {
    "execution": {
     "iopub.execute_input": "2023-07-30T11:48:30.435480Z",
     "iopub.status.busy": "2023-07-30T11:48:30.434743Z",
     "iopub.status.idle": "2023-07-30T11:48:30.440441Z",
     "shell.execute_reply": "2023-07-30T11:48:30.439889Z",
     "shell.execute_reply.started": "2023-07-30T11:48:30.435444Z"
    }
   },
   "outputs": [
    {
     "data": {
      "text/plain": [
       "tensor([[0.9156, 0.4340],\n",
       "        [0.0772, 0.3565],\n",
       "        [0.1479, 0.5331]], requires_grad=True)"
      ]
     },
     "execution_count": 102,
     "metadata": {},
     "output_type": "execute_result"
    }
   ],
   "source": [
    "t = torch.rand(3,2).requires_grad_(True)\n",
    "t"
   ]
  },
  {
   "cell_type": "code",
   "execution_count": 103,
   "id": "dcc5c14b-3b91-44e1-9051-18b8c8633ebd",
   "metadata": {
    "execution": {
     "iopub.execute_input": "2023-07-30T11:48:35.999321Z",
     "iopub.status.busy": "2023-07-30T11:48:35.998643Z",
     "iopub.status.idle": "2023-07-30T11:48:36.003325Z",
     "shell.execute_reply": "2023-07-30T11:48:36.002753Z",
     "shell.execute_reply.started": "2023-07-30T11:48:35.999298Z"
    }
   },
   "outputs": [
    {
     "data": {
      "text/plain": [
       "torch.Size([3, 2])"
      ]
     },
     "execution_count": 103,
     "metadata": {},
     "output_type": "execute_result"
    }
   ],
   "source": [
    "t.size()"
   ]
  },
  {
   "cell_type": "code",
   "execution_count": 109,
   "id": "d430163b-b7d2-4d74-a5ee-37d8ad93bec0",
   "metadata": {
    "execution": {
     "iopub.execute_input": "2023-07-30T11:49:51.392446Z",
     "iopub.status.busy": "2023-07-30T11:49:51.391797Z",
     "iopub.status.idle": "2023-07-30T11:49:51.397258Z",
     "shell.execute_reply": "2023-07-30T11:49:51.396641Z",
     "shell.execute_reply.started": "2023-07-30T11:49:51.392426Z"
    }
   },
   "outputs": [
    {
     "data": {
      "text/plain": [
       "tensor([[0.9156, 0.4340],\n",
       "        [0.0772, 0.3565],\n",
       "        [0.1479, 0.5331]], grad_fn=<SqueezeBackward1>)"
      ]
     },
     "execution_count": 109,
     "metadata": {},
     "output_type": "execute_result"
    }
   ],
   "source": [
    "t.squeeze(dim = 1)"
   ]
  },
  {
   "cell_type": "code",
   "execution_count": 112,
   "id": "60969724-5375-4250-a768-12c9317b11e2",
   "metadata": {
    "execution": {
     "iopub.execute_input": "2023-07-30T11:53:30.577722Z",
     "iopub.status.busy": "2023-07-30T11:53:30.577137Z",
     "iopub.status.idle": "2023-07-30T11:53:30.582274Z",
     "shell.execute_reply": "2023-07-30T11:53:30.581712Z",
     "shell.execute_reply.started": "2023-07-30T11:53:30.577700Z"
    }
   },
   "outputs": [
    {
     "data": {
      "text/plain": [
       "tensor([[[[0., 0.]],\n",
       "\n",
       "         [[0., 0.]]]])"
      ]
     },
     "execution_count": 112,
     "metadata": {},
     "output_type": "execute_result"
    }
   ],
   "source": [
    "x = torch.zeros(1,2,1,2)\n",
    "x"
   ]
  },
  {
   "cell_type": "code",
   "execution_count": 111,
   "id": "27b8347d-7b3b-4a4a-a460-90695efe5a3d",
   "metadata": {
    "execution": {
     "iopub.execute_input": "2023-07-30T11:51:54.440623Z",
     "iopub.status.busy": "2023-07-30T11:51:54.439858Z",
     "iopub.status.idle": "2023-07-30T11:51:54.446675Z",
     "shell.execute_reply": "2023-07-30T11:51:54.445702Z",
     "shell.execute_reply.started": "2023-07-30T11:51:54.440589Z"
    }
   },
   "outputs": [
    {
     "data": {
      "text/plain": [
       "torch.Size([2, 1, 2, 1, 2])"
      ]
     },
     "execution_count": 111,
     "metadata": {},
     "output_type": "execute_result"
    }
   ],
   "source": [
    "x.size()"
   ]
  },
  {
   "cell_type": "code",
   "execution_count": 288,
   "id": "cc5f498f-bcf5-42f9-8a61-1553924a4c99",
   "metadata": {
    "execution": {
     "iopub.execute_input": "2023-07-30T15:35:05.845262Z",
     "iopub.status.busy": "2023-07-30T15:35:05.844579Z",
     "iopub.status.idle": "2023-07-30T15:35:05.850185Z",
     "shell.execute_reply": "2023-07-30T15:35:05.849667Z",
     "shell.execute_reply.started": "2023-07-30T15:35:05.845239Z"
    }
   },
   "outputs": [
    {
     "data": {
      "text/plain": [
       "tensor([[1., 2.],\n",
       "        [3., 4.]], dtype=torch.float64, requires_grad=True)"
      ]
     },
     "execution_count": 288,
     "metadata": {},
     "output_type": "execute_result"
    }
   ],
   "source": [
    "# https://stackoverflow.com/questions/61598771/pytorch-squeeze-and-unsqueeze\n",
    "test = torch.tensor([[1,2],[3,4]], dtype = float).requires_grad_(True)\n",
    "test"
   ]
  },
  {
   "cell_type": "code",
   "execution_count": 219,
   "id": "27681b96-7e30-4b76-bc82-c9f9f7877ee2",
   "metadata": {
    "execution": {
     "iopub.execute_input": "2023-07-30T14:41:55.209062Z",
     "iopub.status.busy": "2023-07-30T14:41:55.208458Z",
     "iopub.status.idle": "2023-07-30T14:41:55.212859Z",
     "shell.execute_reply": "2023-07-30T14:41:55.212303Z",
     "shell.execute_reply.started": "2023-07-30T14:41:55.209040Z"
    }
   },
   "outputs": [
    {
     "data": {
      "text/plain": [
       "torch.Size([2, 2])"
      ]
     },
     "execution_count": 219,
     "metadata": {},
     "output_type": "execute_result"
    }
   ],
   "source": [
    "test.size()"
   ]
  },
  {
   "cell_type": "code",
   "execution_count": 220,
   "id": "65fdac9f-5b4a-42f5-9b69-dfa680bd9eaa",
   "metadata": {
    "execution": {
     "iopub.execute_input": "2023-07-30T14:41:55.523849Z",
     "iopub.status.busy": "2023-07-30T14:41:55.523307Z",
     "iopub.status.idle": "2023-07-30T14:41:55.528553Z",
     "shell.execute_reply": "2023-07-30T14:41:55.527886Z",
     "shell.execute_reply.started": "2023-07-30T14:41:55.523826Z"
    }
   },
   "outputs": [
    {
     "data": {
      "text/plain": [
       "tensor([[1., 2.],\n",
       "        [3., 4.]], dtype=torch.float64, grad_fn=<SqueezeBackward1>)"
      ]
     },
     "execution_count": 220,
     "metadata": {},
     "output_type": "execute_result"
    }
   ],
   "source": [
    "test.squeeze(dim = 1)"
   ]
  },
  {
   "cell_type": "code",
   "execution_count": 290,
   "id": "756cef44-0a89-473e-a4d9-d239b3dd7c24",
   "metadata": {
    "execution": {
     "iopub.execute_input": "2023-07-30T15:35:49.703193Z",
     "iopub.status.busy": "2023-07-30T15:35:49.702654Z",
     "iopub.status.idle": "2023-07-30T15:35:49.709328Z",
     "shell.execute_reply": "2023-07-30T15:35:49.708418Z",
     "shell.execute_reply.started": "2023-07-30T15:35:49.703166Z"
    }
   },
   "outputs": [
    {
     "data": {
      "text/plain": [
       "tensor([[[1., 2.],\n",
       "         [3., 4.]]], dtype=torch.float64, grad_fn=<UnsqueezeBackward0>)"
      ]
     },
     "execution_count": 290,
     "metadata": {},
     "output_type": "execute_result"
    }
   ],
   "source": [
    "test_0 = test.unsqueeze(dim = 0)\n",
    "test_0"
   ]
  },
  {
   "cell_type": "code",
   "execution_count": 222,
   "id": "b1583c5f-423f-4fe6-98d8-de1806fa43d2",
   "metadata": {
    "execution": {
     "iopub.execute_input": "2023-07-30T14:41:57.629900Z",
     "iopub.status.busy": "2023-07-30T14:41:57.629294Z",
     "iopub.status.idle": "2023-07-30T14:41:57.635060Z",
     "shell.execute_reply": "2023-07-30T14:41:57.634317Z",
     "shell.execute_reply.started": "2023-07-30T14:41:57.629878Z"
    }
   },
   "outputs": [
    {
     "data": {
      "text/plain": [
       "tensor([[[1., 2.]],\n",
       "\n",
       "        [[3., 4.]]], dtype=torch.float64, grad_fn=<UnsqueezeBackward0>)"
      ]
     },
     "execution_count": 222,
     "metadata": {},
     "output_type": "execute_result"
    }
   ],
   "source": [
    "test_1 = test.unsqueeze(dim = 1)\n",
    "test_1"
   ]
  },
  {
   "cell_type": "code",
   "execution_count": 234,
   "id": "83fa9242-a053-409b-adc4-293ec9d0e65f",
   "metadata": {
    "execution": {
     "iopub.execute_input": "2023-07-30T14:45:32.906132Z",
     "iopub.status.busy": "2023-07-30T14:45:32.905494Z",
     "iopub.status.idle": "2023-07-30T14:45:32.911571Z",
     "shell.execute_reply": "2023-07-30T14:45:32.910823Z",
     "shell.execute_reply.started": "2023-07-30T14:45:32.906109Z"
    }
   },
   "outputs": [
    {
     "data": {
      "text/plain": [
       "torch.Size([1, 2])"
      ]
     },
     "execution_count": 234,
     "metadata": {},
     "output_type": "execute_result"
    }
   ],
   "source": [
    "test_1[0].size()"
   ]
  },
  {
   "cell_type": "code",
   "execution_count": 223,
   "id": "d0f8ee2c-307a-41dd-bda6-059a1c0b060a",
   "metadata": {
    "execution": {
     "iopub.execute_input": "2023-07-30T14:41:58.862159Z",
     "iopub.status.busy": "2023-07-30T14:41:58.861682Z",
     "iopub.status.idle": "2023-07-30T14:41:58.866758Z",
     "shell.execute_reply": "2023-07-30T14:41:58.866224Z",
     "shell.execute_reply.started": "2023-07-30T14:41:58.862137Z"
    }
   },
   "outputs": [
    {
     "data": {
      "text/plain": [
       "tensor([[[1.],\n",
       "         [2.]],\n",
       "\n",
       "        [[3.],\n",
       "         [4.]]], dtype=torch.float64, grad_fn=<UnsqueezeBackward0>)"
      ]
     },
     "execution_count": 223,
     "metadata": {},
     "output_type": "execute_result"
    }
   ],
   "source": [
    "test_2 = test.unsqueeze(dim = 2)\n",
    "test_2"
   ]
  },
  {
   "cell_type": "code",
   "execution_count": 224,
   "id": "432a41a2-0243-4fda-99b2-643768802062",
   "metadata": {
    "execution": {
     "iopub.execute_input": "2023-07-30T14:41:59.336723Z",
     "iopub.status.busy": "2023-07-30T14:41:59.336145Z",
     "iopub.status.idle": "2023-07-30T14:41:59.356446Z",
     "shell.execute_reply": "2023-07-30T14:41:59.355660Z",
     "shell.execute_reply.started": "2023-07-30T14:41:59.336701Z"
    }
   },
   "outputs": [
    {
     "ename": "IndexError",
     "evalue": "Dimension out of range (expected to be in range of [-3, 2], but got 3)",
     "output_type": "error",
     "traceback": [
      "\u001b[0;31m---------------------------------------------------------------------------\u001b[0m",
      "\u001b[0;31mIndexError\u001b[0m                                Traceback (most recent call last)",
      "Cell \u001b[0;32mIn[224], line 1\u001b[0m\n\u001b[0;32m----> 1\u001b[0m test_3 \u001b[38;5;241m=\u001b[39m \u001b[43mtest\u001b[49m\u001b[38;5;241;43m.\u001b[39;49m\u001b[43munsqueeze\u001b[49m\u001b[43m(\u001b[49m\u001b[43mdim\u001b[49m\u001b[43m \u001b[49m\u001b[38;5;241;43m=\u001b[39;49m\u001b[43m \u001b[49m\u001b[38;5;241;43m3\u001b[39;49m\u001b[43m)\u001b[49m\n",
      "\u001b[0;31mIndexError\u001b[0m: Dimension out of range (expected to be in range of [-3, 2], but got 3)"
     ]
    }
   ],
   "source": [
    "test_3 = test.unsqueeze(dim = 3)"
   ]
  },
  {
   "cell_type": "code",
   "execution_count": 235,
   "id": "f00c0d5a-2126-41fb-991a-603cc03e5f3b",
   "metadata": {
    "execution": {
     "iopub.execute_input": "2023-07-30T14:52:01.251415Z",
     "iopub.status.busy": "2023-07-30T14:52:01.250821Z",
     "iopub.status.idle": "2023-07-30T14:52:01.256007Z",
     "shell.execute_reply": "2023-07-30T14:52:01.255381Z",
     "shell.execute_reply.started": "2023-07-30T14:52:01.251391Z"
    }
   },
   "outputs": [
    {
     "data": {
      "text/plain": [
       "tensor([[[1.],\n",
       "         [2.]],\n",
       "\n",
       "        [[3.],\n",
       "         [4.]]], dtype=torch.float64, grad_fn=<UnsqueezeBackward0>)"
      ]
     },
     "execution_count": 235,
     "metadata": {},
     "output_type": "execute_result"
    }
   ],
   "source": [
    "test_minus1 = test.unsqueeze(dim = -1)\n",
    "test_minus1"
   ]
  },
  {
   "cell_type": "code",
   "execution_count": 286,
   "id": "5edb3fe8-959b-47e8-87c2-56dd19bafd15",
   "metadata": {
    "execution": {
     "iopub.execute_input": "2023-07-30T15:34:40.835584Z",
     "iopub.status.busy": "2023-07-30T15:34:40.834363Z",
     "iopub.status.idle": "2023-07-30T15:34:40.842079Z",
     "shell.execute_reply": "2023-07-30T15:34:40.841229Z",
     "shell.execute_reply.started": "2023-07-30T15:34:40.835542Z"
    }
   },
   "outputs": [
    {
     "data": {
      "text/plain": [
       "3"
      ]
     },
     "execution_count": 286,
     "metadata": {},
     "output_type": "execute_result"
    }
   ],
   "source": [
    "test_minus2 = test.unsqueeze(dim = -2)\n",
    "test_minus2"
   ]
  },
  {
   "cell_type": "code",
   "execution_count": 237,
   "id": "8ee0e8e6-d888-4550-a0f0-c2d768d42df4",
   "metadata": {
    "execution": {
     "iopub.execute_input": "2023-07-30T14:52:25.991412Z",
     "iopub.status.busy": "2023-07-30T14:52:25.990956Z",
     "iopub.status.idle": "2023-07-30T14:52:25.996046Z",
     "shell.execute_reply": "2023-07-30T14:52:25.995467Z",
     "shell.execute_reply.started": "2023-07-30T14:52:25.991391Z"
    }
   },
   "outputs": [
    {
     "data": {
      "text/plain": [
       "tensor([[[1., 2.],\n",
       "         [3., 4.]]], dtype=torch.float64, grad_fn=<UnsqueezeBackward0>)"
      ]
     },
     "execution_count": 237,
     "metadata": {},
     "output_type": "execute_result"
    }
   ],
   "source": [
    "test_minus3 = test.unsqueeze(dim = -3)\n",
    "test_minus3"
   ]
  },
  {
   "cell_type": "code",
   "execution_count": 238,
   "id": "d08bc7b8-1b3b-431b-a8e1-eb634002ba55",
   "metadata": {
    "execution": {
     "iopub.execute_input": "2023-07-30T14:54:38.500216Z",
     "iopub.status.busy": "2023-07-30T14:54:38.499583Z",
     "iopub.status.idle": "2023-07-30T14:54:38.520683Z",
     "shell.execute_reply": "2023-07-30T14:54:38.519968Z",
     "shell.execute_reply.started": "2023-07-30T14:54:38.500194Z"
    }
   },
   "outputs": [
    {
     "ename": "IndexError",
     "evalue": "Dimension out of range (expected to be in range of [-3, 2], but got -4)",
     "output_type": "error",
     "traceback": [
      "\u001b[0;31m---------------------------------------------------------------------------\u001b[0m",
      "\u001b[0;31mIndexError\u001b[0m                                Traceback (most recent call last)",
      "Cell \u001b[0;32mIn[238], line 1\u001b[0m\n\u001b[0;32m----> 1\u001b[0m test_minus4 \u001b[38;5;241m=\u001b[39m \u001b[43mtest\u001b[49m\u001b[38;5;241;43m.\u001b[39;49m\u001b[43munsqueeze\u001b[49m\u001b[43m(\u001b[49m\u001b[43mdim\u001b[49m\u001b[43m \u001b[49m\u001b[38;5;241;43m=\u001b[39;49m\u001b[43m \u001b[49m\u001b[38;5;241;43m-\u001b[39;49m\u001b[38;5;241;43m4\u001b[39;49m\u001b[43m)\u001b[49m\n\u001b[1;32m      2\u001b[0m test_minus4\n",
      "\u001b[0;31mIndexError\u001b[0m: Dimension out of range (expected to be in range of [-3, 2], but got -4)"
     ]
    }
   ],
   "source": [
    "test_minus4 = test.unsqueeze(dim = -4)\n",
    "test_minus4"
   ]
  },
  {
   "cell_type": "markdown",
   "id": "724068f4-af91-40ea-9e62-91ee3a4b9e13",
   "metadata": {},
   "source": [
    "### More tests"
   ]
  },
  {
   "cell_type": "code",
   "execution_count": 202,
   "id": "c8234044-26e8-474b-a243-0cbef73bfc05",
   "metadata": {
    "execution": {
     "iopub.execute_input": "2023-07-30T13:35:00.031546Z",
     "iopub.status.busy": "2023-07-30T13:35:00.030350Z",
     "iopub.status.idle": "2023-07-30T13:35:00.038500Z",
     "shell.execute_reply": "2023-07-30T13:35:00.037678Z",
     "shell.execute_reply.started": "2023-07-30T13:35:00.031509Z"
    }
   },
   "outputs": [
    {
     "data": {
      "text/plain": [
       "tensor([[1, 2, 3]])"
      ]
     },
     "execution_count": 202,
     "metadata": {},
     "output_type": "execute_result"
    }
   ],
   "source": [
    "tensor = torch.tensor([[1, 2, 3]])\n",
    "tensor"
   ]
  },
  {
   "cell_type": "code",
   "execution_count": 210,
   "id": "0ae6ab8b-8b90-40a0-9a1a-3f88d2e988bc",
   "metadata": {
    "execution": {
     "iopub.execute_input": "2023-07-30T13:37:29.787715Z",
     "iopub.status.busy": "2023-07-30T13:37:29.786808Z",
     "iopub.status.idle": "2023-07-30T13:37:29.793711Z",
     "shell.execute_reply": "2023-07-30T13:37:29.792752Z",
     "shell.execute_reply.started": "2023-07-30T13:37:29.787680Z"
    }
   },
   "outputs": [
    {
     "data": {
      "text/plain": [
       "torch.Size([1, 3])"
      ]
     },
     "execution_count": 210,
     "metadata": {},
     "output_type": "execute_result"
    }
   ],
   "source": [
    "tensor.size()"
   ]
  },
  {
   "cell_type": "code",
   "execution_count": 193,
   "id": "41120cf9-7e82-46a8-a693-4524c4e48324",
   "metadata": {
    "execution": {
     "iopub.execute_input": "2023-07-30T13:12:06.928794Z",
     "iopub.status.busy": "2023-07-30T13:12:06.928257Z",
     "iopub.status.idle": "2023-07-30T13:12:06.934072Z",
     "shell.execute_reply": "2023-07-30T13:12:06.933372Z",
     "shell.execute_reply.started": "2023-07-30T13:12:06.928765Z"
    }
   },
   "outputs": [
    {
     "data": {
      "text/plain": [
       "tensor([[1, 2, 3]])"
      ]
     },
     "execution_count": 193,
     "metadata": {},
     "output_type": "execute_result"
    }
   ],
   "source": [
    "new_tensor = tensor.unsqueeze(0)\n",
    "new_tensor"
   ]
  },
  {
   "cell_type": "code",
   "execution_count": 206,
   "id": "bf67c1f9-dc83-4a1b-a095-a0465b58f0b1",
   "metadata": {
    "execution": {
     "iopub.execute_input": "2023-07-30T13:35:41.741206Z",
     "iopub.status.busy": "2023-07-30T13:35:41.740636Z",
     "iopub.status.idle": "2023-07-30T13:35:41.745526Z",
     "shell.execute_reply": "2023-07-30T13:35:41.745014Z",
     "shell.execute_reply.started": "2023-07-30T13:35:41.741186Z"
    }
   },
   "outputs": [
    {
     "data": {
      "text/plain": [
       "tensor([[4, 5, 6]])"
      ]
     },
     "execution_count": 206,
     "metadata": {},
     "output_type": "execute_result"
    }
   ],
   "source": [
    "new = torch.tensor([[4,5,6]])\n",
    "new"
   ]
  },
  {
   "cell_type": "code",
   "execution_count": 217,
   "id": "dc5f6342-81e9-4340-9d3d-29fa7a42aad7",
   "metadata": {
    "execution": {
     "iopub.execute_input": "2023-07-30T13:40:21.097481Z",
     "iopub.status.busy": "2023-07-30T13:40:21.096759Z",
     "iopub.status.idle": "2023-07-30T13:40:21.101718Z",
     "shell.execute_reply": "2023-07-30T13:40:21.101219Z",
     "shell.execute_reply.started": "2023-07-30T13:40:21.097459Z"
    }
   },
   "outputs": [
    {
     "data": {
      "text/plain": [
       "tensor([[1, 2, 3],\n",
       "        [4, 5, 6],\n",
       "        [4, 5, 6]])"
      ]
     },
     "execution_count": 217,
     "metadata": {},
     "output_type": "execute_result"
    }
   ],
   "source": [
    "torch.cat((tensor, new, new), dim = 0)"
   ]
  },
  {
   "cell_type": "code",
   "execution_count": 191,
   "id": "491d268b-04e5-4f6b-82e4-8f63367bed1d",
   "metadata": {
    "execution": {
     "iopub.execute_input": "2023-07-30T13:11:17.332863Z",
     "iopub.status.busy": "2023-07-30T13:11:17.332417Z",
     "iopub.status.idle": "2023-07-30T13:11:17.338012Z",
     "shell.execute_reply": "2023-07-30T13:11:17.337371Z",
     "shell.execute_reply.started": "2023-07-30T13:11:17.332839Z"
    }
   },
   "outputs": [
    {
     "data": {
      "text/plain": [
       "tensor([[1, 2, 3, 4, 5, 6]])"
      ]
     },
     "execution_count": 191,
     "metadata": {},
     "output_type": "execute_result"
    }
   ],
   "source": [
    "torch.cat((new_tensor, new.unsqueeze(0)),dim = 1 )"
   ]
  },
  {
   "cell_type": "code",
   "execution_count": 196,
   "id": "18cdaad5-030b-4be5-a87e-d16110834438",
   "metadata": {
    "execution": {
     "iopub.execute_input": "2023-07-30T13:16:16.395999Z",
     "iopub.status.busy": "2023-07-30T13:16:16.395505Z",
     "iopub.status.idle": "2023-07-30T13:16:16.401816Z",
     "shell.execute_reply": "2023-07-30T13:16:16.401298Z",
     "shell.execute_reply.started": "2023-07-30T13:16:16.395977Z"
    }
   },
   "outputs": [
    {
     "data": {
      "text/plain": [
       "tensor([[[[0.9950, 0.8413, 0.6599, 0.0103],\n",
       "          [0.4049, 0.9120, 0.2212, 0.2430],\n",
       "          [0.5446, 0.2318, 0.4691, 0.6447],\n",
       "          [0.8539, 0.5704, 0.6984, 0.9086]],\n",
       "\n",
       "         [[0.7512, 0.0135, 0.1066, 0.0439],\n",
       "          [0.3235, 0.9967, 0.0176, 0.5642],\n",
       "          [0.0583, 0.2467, 0.9792, 0.9671],\n",
       "          [0.2165, 0.5073, 0.2813, 0.3542]],\n",
       "\n",
       "         [[0.3945, 0.6523, 0.8893, 0.3985],\n",
       "          [0.1685, 0.0803, 0.3062, 0.2810],\n",
       "          [0.0130, 0.3146, 0.2945, 0.9927],\n",
       "          [0.7152, 0.1541, 0.2111, 0.6706]],\n",
       "\n",
       "         [[0.8069, 0.4668, 0.4996, 0.7229],\n",
       "          [0.3289, 0.0073, 0.6841, 0.9670],\n",
       "          [0.2815, 0.9219, 0.4205, 0.8534],\n",
       "          [0.7671, 0.8932, 0.0828, 0.7444]],\n",
       "\n",
       "         [[0.8024, 0.5709, 0.3982, 0.1936],\n",
       "          [0.6919, 0.5349, 0.2997, 0.7639],\n",
       "          [0.6354, 0.9895, 0.8558, 0.7738],\n",
       "          [0.6275, 0.8133, 0.4907, 0.3223]],\n",
       "\n",
       "         [[0.2288, 0.3530, 0.6361, 0.5468],\n",
       "          [0.7007, 0.7460, 0.7873, 0.4070],\n",
       "          [0.6171, 0.8900, 0.5759, 0.2692],\n",
       "          [0.2177, 0.4977, 0.5891, 0.2153]]],\n",
       "\n",
       "\n",
       "        [[[0.4886, 0.8509, 0.2574, 0.9658],\n",
       "          [0.0200, 0.6422, 0.0577, 0.1679],\n",
       "          [0.0867, 0.4655, 0.8141, 0.5207],\n",
       "          [0.1102, 0.5157, 0.6486, 0.9608]],\n",
       "\n",
       "         [[0.1088, 0.9821, 0.3329, 0.3981],\n",
       "          [0.4298, 0.7216, 0.3706, 0.4832],\n",
       "          [0.1587, 0.4676, 0.8720, 0.8696],\n",
       "          [0.8176, 0.2535, 0.3705, 0.3001]],\n",
       "\n",
       "         [[0.8085, 0.9653, 0.9741, 0.5936],\n",
       "          [0.0558, 0.4602, 0.5300, 0.8153],\n",
       "          [0.3299, 0.8452, 0.7800, 0.0940],\n",
       "          [0.9351, 0.7078, 0.0803, 0.7940]],\n",
       "\n",
       "         [[0.1410, 0.3413, 0.6202, 0.4340],\n",
       "          [0.3817, 0.8404, 0.8368, 0.8051],\n",
       "          [0.3842, 0.9439, 0.1968, 0.3684],\n",
       "          [0.9228, 0.8684, 0.0411, 0.3248]],\n",
       "\n",
       "         [[0.8645, 0.0277, 0.4772, 0.0358],\n",
       "          [0.5083, 0.4635, 0.8715, 0.0076],\n",
       "          [0.2121, 0.6517, 0.0028, 0.7141],\n",
       "          [0.7222, 0.0258, 0.1278, 0.5161]],\n",
       "\n",
       "         [[0.0635, 0.4897, 0.0398, 0.3222],\n",
       "          [0.4015, 0.1925, 0.4756, 0.1082],\n",
       "          [0.9160, 0.3368, 0.1412, 0.2159],\n",
       "          [0.6590, 0.9110, 0.1333, 0.5654]]]])"
      ]
     },
     "execution_count": 196,
     "metadata": {},
     "output_type": "execute_result"
    }
   ],
   "source": [
    "f = torch.rand(2, 6, 4, 4)  # 2 images 6 channels, 4x4 pixels\n",
    "f"
   ]
  },
  {
   "cell_type": "code",
   "execution_count": 197,
   "id": "fbcabe35-a30e-4a83-a21d-59ba40f873f7",
   "metadata": {
    "execution": {
     "iopub.execute_input": "2023-07-30T13:16:43.995156Z",
     "iopub.status.busy": "2023-07-30T13:16:43.994228Z",
     "iopub.status.idle": "2023-07-30T13:16:44.003131Z",
     "shell.execute_reply": "2023-07-30T13:16:44.002188Z",
     "shell.execute_reply.started": "2023-07-30T13:16:43.995130Z"
    }
   },
   "outputs": [
    {
     "data": {
      "text/plain": [
       "tensor([[[[[0.9950, 0.8413, 0.6599, 0.0103],\n",
       "           [0.4049, 0.9120, 0.2212, 0.2430],\n",
       "           [0.5446, 0.2318, 0.4691, 0.6447],\n",
       "           [0.8539, 0.5704, 0.6984, 0.9086]],\n",
       "\n",
       "          [[0.7512, 0.0135, 0.1066, 0.0439],\n",
       "           [0.3235, 0.9967, 0.0176, 0.5642],\n",
       "           [0.0583, 0.2467, 0.9792, 0.9671],\n",
       "           [0.2165, 0.5073, 0.2813, 0.3542]],\n",
       "\n",
       "          [[0.3945, 0.6523, 0.8893, 0.3985],\n",
       "           [0.1685, 0.0803, 0.3062, 0.2810],\n",
       "           [0.0130, 0.3146, 0.2945, 0.9927],\n",
       "           [0.7152, 0.1541, 0.2111, 0.6706]],\n",
       "\n",
       "          [[0.8069, 0.4668, 0.4996, 0.7229],\n",
       "           [0.3289, 0.0073, 0.6841, 0.9670],\n",
       "           [0.2815, 0.9219, 0.4205, 0.8534],\n",
       "           [0.7671, 0.8932, 0.0828, 0.7444]],\n",
       "\n",
       "          [[0.8024, 0.5709, 0.3982, 0.1936],\n",
       "           [0.6919, 0.5349, 0.2997, 0.7639],\n",
       "           [0.6354, 0.9895, 0.8558, 0.7738],\n",
       "           [0.6275, 0.8133, 0.4907, 0.3223]],\n",
       "\n",
       "          [[0.2288, 0.3530, 0.6361, 0.5468],\n",
       "           [0.7007, 0.7460, 0.7873, 0.4070],\n",
       "           [0.6171, 0.8900, 0.5759, 0.2692],\n",
       "           [0.2177, 0.4977, 0.5891, 0.2153]]],\n",
       "\n",
       "\n",
       "         [[[0.4886, 0.8509, 0.2574, 0.9658],\n",
       "           [0.0200, 0.6422, 0.0577, 0.1679],\n",
       "           [0.0867, 0.4655, 0.8141, 0.5207],\n",
       "           [0.1102, 0.5157, 0.6486, 0.9608]],\n",
       "\n",
       "          [[0.1088, 0.9821, 0.3329, 0.3981],\n",
       "           [0.4298, 0.7216, 0.3706, 0.4832],\n",
       "           [0.1587, 0.4676, 0.8720, 0.8696],\n",
       "           [0.8176, 0.2535, 0.3705, 0.3001]],\n",
       "\n",
       "          [[0.8085, 0.9653, 0.9741, 0.5936],\n",
       "           [0.0558, 0.4602, 0.5300, 0.8153],\n",
       "           [0.3299, 0.8452, 0.7800, 0.0940],\n",
       "           [0.9351, 0.7078, 0.0803, 0.7940]],\n",
       "\n",
       "          [[0.1410, 0.3413, 0.6202, 0.4340],\n",
       "           [0.3817, 0.8404, 0.8368, 0.8051],\n",
       "           [0.3842, 0.9439, 0.1968, 0.3684],\n",
       "           [0.9228, 0.8684, 0.0411, 0.3248]],\n",
       "\n",
       "          [[0.8645, 0.0277, 0.4772, 0.0358],\n",
       "           [0.5083, 0.4635, 0.8715, 0.0076],\n",
       "           [0.2121, 0.6517, 0.0028, 0.7141],\n",
       "           [0.7222, 0.0258, 0.1278, 0.5161]],\n",
       "\n",
       "          [[0.0635, 0.4897, 0.0398, 0.3222],\n",
       "           [0.4015, 0.1925, 0.4756, 0.1082],\n",
       "           [0.9160, 0.3368, 0.1412, 0.2159],\n",
       "           [0.6590, 0.9110, 0.1333, 0.5654]]]]])"
      ]
     },
     "execution_count": 197,
     "metadata": {},
     "output_type": "execute_result"
    }
   ],
   "source": [
    "f.unsqueeze(0)"
   ]
  },
  {
   "cell_type": "markdown",
   "id": "e577a30b-97d6-4a64-aa58-7348a8ec88ef",
   "metadata": {},
   "source": [
    "#### Example: https://saturncloud.io/blog/what-does-unsqueeze-do-in-pytorch/"
   ]
  },
  {
   "cell_type": "code",
   "execution_count": 320,
   "id": "a37206bf-30bf-45f9-89d2-e9bf481bcdf8",
   "metadata": {
    "execution": {
     "iopub.execute_input": "2023-07-30T15:58:48.950917Z",
     "iopub.status.busy": "2023-07-30T15:58:48.950168Z",
     "iopub.status.idle": "2023-07-30T15:58:48.956087Z",
     "shell.execute_reply": "2023-07-30T15:58:48.955370Z",
     "shell.execute_reply.started": "2023-07-30T15:58:48.950889Z"
    }
   },
   "outputs": [
    {
     "data": {
      "text/plain": [
       "tensor([1., 2., 3.])"
      ]
     },
     "execution_count": 320,
     "metadata": {},
     "output_type": "execute_result"
    }
   ],
   "source": [
    "# 1D -> 2D\n",
    "tensor_1D = torch.Tensor([1, 2, 3])\n",
    "tensor_1D"
   ]
  },
  {
   "cell_type": "code",
   "execution_count": 244,
   "id": "5086e9ba-d7e1-435c-9184-dfcd97ae388e",
   "metadata": {
    "execution": {
     "iopub.execute_input": "2023-07-30T15:02:30.912397Z",
     "iopub.status.busy": "2023-07-30T15:02:30.912128Z",
     "iopub.status.idle": "2023-07-30T15:02:30.917092Z",
     "shell.execute_reply": "2023-07-30T15:02:30.916284Z",
     "shell.execute_reply.started": "2023-07-30T15:02:30.912378Z"
    }
   },
   "outputs": [
    {
     "data": {
      "text/plain": [
       "torch.Size([3])"
      ]
     },
     "execution_count": 244,
     "metadata": {},
     "output_type": "execute_result"
    }
   ],
   "source": [
    "tensor_1D.size()"
   ]
  },
  {
   "cell_type": "code",
   "execution_count": 260,
   "id": "91d95db2-af80-429d-a467-b2d2d69313e4",
   "metadata": {
    "execution": {
     "iopub.execute_input": "2023-07-30T15:11:40.854007Z",
     "iopub.status.busy": "2023-07-30T15:11:40.853333Z",
     "iopub.status.idle": "2023-07-30T15:11:40.858568Z",
     "shell.execute_reply": "2023-07-30T15:11:40.857883Z",
     "shell.execute_reply.started": "2023-07-30T15:11:40.853986Z"
    }
   },
   "outputs": [
    {
     "data": {
      "text/plain": [
       "tensor(1.)"
      ]
     },
     "execution_count": 260,
     "metadata": {},
     "output_type": "execute_result"
    }
   ],
   "source": [
    "tensor_1D[0]"
   ]
  },
  {
   "cell_type": "code",
   "execution_count": 271,
   "id": "0f97d3de-035d-4d93-86ca-a24c5733d672",
   "metadata": {
    "execution": {
     "iopub.execute_input": "2023-07-30T15:28:33.768852Z",
     "iopub.status.busy": "2023-07-30T15:28:33.768269Z",
     "iopub.status.idle": "2023-07-30T15:28:33.772577Z",
     "shell.execute_reply": "2023-07-30T15:28:33.772054Z",
     "shell.execute_reply.started": "2023-07-30T15:28:33.768831Z"
    }
   },
   "outputs": [
    {
     "data": {
      "text/plain": [
       "1"
      ]
     },
     "execution_count": 271,
     "metadata": {},
     "output_type": "execute_result"
    }
   ],
   "source": [
    "tensor_1D.dim()"
   ]
  },
  {
   "cell_type": "code",
   "execution_count": 296,
   "id": "b926e8eb-39a8-4479-9dae-243cbec95967",
   "metadata": {
    "execution": {
     "iopub.execute_input": "2023-07-30T15:51:45.521226Z",
     "iopub.status.busy": "2023-07-30T15:51:45.520754Z",
     "iopub.status.idle": "2023-07-30T15:51:45.525954Z",
     "shell.execute_reply": "2023-07-30T15:51:45.525364Z",
     "shell.execute_reply.started": "2023-07-30T15:51:45.521205Z"
    }
   },
   "outputs": [
    {
     "data": {
      "text/plain": [
       "tensor([[1., 2., 3.]])"
      ]
     },
     "execution_count": 296,
     "metadata": {},
     "output_type": "execute_result"
    }
   ],
   "source": [
    "tensor_2D_d0 = tensor.unsqueeze(dim = 0) # added a new dimension adding [ ] externally when dim = 0, generating a 2D tensor\n",
    "tensor_2D_d0                             # 2D tensor: single row, 3 columns"
   ]
  },
  {
   "cell_type": "code",
   "execution_count": 343,
   "id": "4634f64a-0f7a-402b-9a05-f82ebe0bd187",
   "metadata": {
    "execution": {
     "iopub.execute_input": "2023-07-30T16:13:01.800726Z",
     "iopub.status.busy": "2023-07-30T16:13:01.800003Z",
     "iopub.status.idle": "2023-07-30T16:13:01.805424Z",
     "shell.execute_reply": "2023-07-30T16:13:01.804636Z",
     "shell.execute_reply.started": "2023-07-30T16:13:01.800704Z"
    }
   },
   "outputs": [
    {
     "data": {
      "text/plain": [
       "torch.Size([1, 3])"
      ]
     },
     "execution_count": 343,
     "metadata": {},
     "output_type": "execute_result"
    }
   ],
   "source": [
    "tensor_2D_d0.size()"
   ]
  },
  {
   "cell_type": "code",
   "execution_count": 300,
   "id": "585d44ec-d3e9-440a-92bc-9498b046c5e5",
   "metadata": {
    "execution": {
     "iopub.execute_input": "2023-07-30T15:53:07.654136Z",
     "iopub.status.busy": "2023-07-30T15:53:07.653466Z",
     "iopub.status.idle": "2023-07-30T15:53:07.658428Z",
     "shell.execute_reply": "2023-07-30T15:53:07.657925Z",
     "shell.execute_reply.started": "2023-07-30T15:53:07.654113Z"
    }
   },
   "outputs": [
    {
     "data": {
      "text/plain": [
       "tensor([[1.],\n",
       "        [2.],\n",
       "        [3.]])"
      ]
     },
     "execution_count": 300,
     "metadata": {},
     "output_type": "execute_result"
    }
   ],
   "source": [
    "tensor_2D_d1 = tensor.unsqueeze(dim = 1) # added a new dimension adding [ ] INternally when dim = 1, generating a 2D tensor\n",
    "tensor_2D_d1                            # 2D tensor: 3 rows, 1 column"
   ]
  },
  {
   "cell_type": "code",
   "execution_count": 302,
   "id": "191a61e9-de48-4e9e-a3e1-2c19eb75aebe",
   "metadata": {
    "execution": {
     "iopub.execute_input": "2023-07-30T15:53:16.539933Z",
     "iopub.status.busy": "2023-07-30T15:53:16.539317Z",
     "iopub.status.idle": "2023-07-30T15:53:16.544019Z",
     "shell.execute_reply": "2023-07-30T15:53:16.543483Z",
     "shell.execute_reply.started": "2023-07-30T15:53:16.539911Z"
    }
   },
   "outputs": [
    {
     "data": {
      "text/plain": [
       "torch.Size([3, 1])"
      ]
     },
     "execution_count": 302,
     "metadata": {},
     "output_type": "execute_result"
    }
   ],
   "source": [
    "tensor_2D_d1.size()"
   ]
  },
  {
   "cell_type": "code",
   "execution_count": 303,
   "id": "23a19feb-9d80-441c-bd60-f4a23c10f68f",
   "metadata": {
    "execution": {
     "iopub.execute_input": "2023-07-30T15:53:20.758039Z",
     "iopub.status.busy": "2023-07-30T15:53:20.757607Z",
     "iopub.status.idle": "2023-07-30T15:53:20.761609Z",
     "shell.execute_reply": "2023-07-30T15:53:20.761133Z",
     "shell.execute_reply.started": "2023-07-30T15:53:20.758018Z"
    }
   },
   "outputs": [
    {
     "data": {
      "text/plain": [
       "2"
      ]
     },
     "execution_count": 303,
     "metadata": {},
     "output_type": "execute_result"
    }
   ],
   "source": [
    "tensor_2D_d1.dim()"
   ]
  },
  {
   "cell_type": "code",
   "execution_count": 306,
   "id": "33214526-0790-4dea-bfcd-49c554dc7229",
   "metadata": {
    "execution": {
     "iopub.execute_input": "2023-07-30T15:54:33.572366Z",
     "iopub.status.busy": "2023-07-30T15:54:33.571910Z",
     "iopub.status.idle": "2023-07-30T15:54:33.577760Z",
     "shell.execute_reply": "2023-07-30T15:54:33.577230Z",
     "shell.execute_reply.started": "2023-07-30T15:54:33.572343Z"
    }
   },
   "outputs": [
    {
     "data": {
      "text/plain": [
       "tensor([[1., 2., 3.],\n",
       "        [1., 2., 3.]])"
      ]
     },
     "execution_count": 306,
     "metadata": {},
     "output_type": "execute_result"
    }
   ],
   "source": [
    "torch.cat((tensor_2D_d0, tensor_2D_d0), dim = 0)"
   ]
  },
  {
   "cell_type": "code",
   "execution_count": 313,
   "id": "60c8f672-cba3-40fc-b690-aea5926d49ae",
   "metadata": {
    "execution": {
     "iopub.execute_input": "2023-07-30T15:55:44.900334Z",
     "iopub.status.busy": "2023-07-30T15:55:44.899811Z",
     "iopub.status.idle": "2023-07-30T15:55:44.905400Z",
     "shell.execute_reply": "2023-07-30T15:55:44.904776Z",
     "shell.execute_reply.started": "2023-07-30T15:55:44.900309Z"
    }
   },
   "outputs": [
    {
     "data": {
      "text/plain": [
       "tensor([[1.],\n",
       "        [2.],\n",
       "        [3.],\n",
       "        [1.],\n",
       "        [2.],\n",
       "        [3.]])"
      ]
     },
     "execution_count": 313,
     "metadata": {},
     "output_type": "execute_result"
    }
   ],
   "source": [
    "torch.cat((tensor_2D_d1, tensor_2D_d1), dim = 0)"
   ]
  },
  {
   "cell_type": "code",
   "execution_count": 321,
   "id": "49639163-dc8e-4086-9fdc-40018504d8e7",
   "metadata": {
    "execution": {
     "iopub.execute_input": "2023-07-30T15:59:05.746704Z",
     "iopub.status.busy": "2023-07-30T15:59:05.745952Z",
     "iopub.status.idle": "2023-07-30T15:59:05.751587Z",
     "shell.execute_reply": "2023-07-30T15:59:05.751019Z",
     "shell.execute_reply.started": "2023-07-30T15:59:05.746682Z"
    }
   },
   "outputs": [
    {
     "data": {
      "text/plain": [
       "tensor([[0., 0., 0., 0., 0., 0., 0., 0.],\n",
       "        [0., 0., 0., 0., 0., 0., 0., 0.],\n",
       "        [0., 0., 0., 0., 0., 0., 0., 0.],\n",
       "        [0., 0., 0., 0., 0., 0., 0., 0.],\n",
       "        [0., 0., 0., 0., 0., 0., 0., 0.],\n",
       "        [0., 0., 0., 0., 0., 0., 0., 0.],\n",
       "        [0., 0., 0., 0., 0., 0., 0., 0.],\n",
       "        [0., 0., 0., 0., 0., 0., 0., 0.]])"
      ]
     },
     "execution_count": 321,
     "metadata": {},
     "output_type": "execute_result"
    }
   ],
   "source": [
    "# 2D -> 1D\n",
    "image = torch.zeros((8, 8)) # create a 8x8 image\n",
    "image"
   ]
  },
  {
   "cell_type": "code",
   "execution_count": 319,
   "id": "3daff3e9-2221-45ac-90b2-b6a9488c3069",
   "metadata": {
    "execution": {
     "iopub.execute_input": "2023-07-30T15:57:41.830481Z",
     "iopub.status.busy": "2023-07-30T15:57:41.829652Z",
     "iopub.status.idle": "2023-07-30T15:57:41.834403Z",
     "shell.execute_reply": "2023-07-30T15:57:41.833859Z",
     "shell.execute_reply.started": "2023-07-30T15:57:41.830451Z"
    }
   },
   "outputs": [
    {
     "data": {
      "text/plain": [
       "2"
      ]
     },
     "execution_count": 319,
     "metadata": {},
     "output_type": "execute_result"
    }
   ],
   "source": [
    "image.dim()"
   ]
  },
  {
   "cell_type": "code",
   "execution_count": 341,
   "id": "144aa8bd-18df-421e-8d5b-e00386f3da11",
   "metadata": {
    "execution": {
     "iopub.execute_input": "2023-07-30T16:12:00.575215Z",
     "iopub.status.busy": "2023-07-30T16:12:00.574769Z",
     "iopub.status.idle": "2023-07-30T16:12:00.579114Z",
     "shell.execute_reply": "2023-07-30T16:12:00.578549Z",
     "shell.execute_reply.started": "2023-07-30T16:12:00.575192Z"
    }
   },
   "outputs": [
    {
     "data": {
      "text/plain": [
       "torch.Size([8, 8])"
      ]
     },
     "execution_count": 341,
     "metadata": {},
     "output_type": "execute_result"
    }
   ],
   "source": [
    "image.size()"
   ]
  },
  {
   "cell_type": "code",
   "execution_count": 355,
   "id": "30ab1476-7830-4ea0-898e-147c97bbde35",
   "metadata": {
    "execution": {
     "iopub.execute_input": "2023-07-30T16:19:21.860988Z",
     "iopub.status.busy": "2023-07-30T16:19:21.860280Z",
     "iopub.status.idle": "2023-07-30T16:19:21.865834Z",
     "shell.execute_reply": "2023-07-30T16:19:21.865192Z",
     "shell.execute_reply.started": "2023-07-30T16:19:21.860967Z"
    }
   },
   "outputs": [
    {
     "data": {
      "text/plain": [
       "torch.Size([1, 8, 8])"
      ]
     },
     "execution_count": 355,
     "metadata": {},
     "output_type": "execute_result"
    }
   ],
   "source": [
    "image.unsqueeze(dim = 0).size()"
   ]
  },
  {
   "cell_type": "code",
   "execution_count": 365,
   "id": "12f102fd-e3a6-47e7-b333-08452eb50791",
   "metadata": {
    "execution": {
     "iopub.execute_input": "2023-07-30T16:20:42.702642Z",
     "iopub.status.busy": "2023-07-30T16:20:42.701857Z",
     "iopub.status.idle": "2023-07-30T16:20:42.706982Z",
     "shell.execute_reply": "2023-07-30T16:20:42.706431Z",
     "shell.execute_reply.started": "2023-07-30T16:20:42.702617Z"
    }
   },
   "outputs": [
    {
     "data": {
      "text/plain": [
       "torch.Size([1, 1, 8, 8])"
      ]
     },
     "execution_count": 365,
     "metadata": {},
     "output_type": "execute_result"
    }
   ],
   "source": [
    "image.unsqueeze(dim = 0).unsqueeze(dim = 0).size()"
   ]
  },
  {
   "cell_type": "markdown",
   "id": "2df411ce-1ace-47d5-ad0f-5329ce8e33e4",
   "metadata": {},
   "source": [
    "#### Tests of Tensors:"
   ]
  },
  {
   "cell_type": "code",
   "execution_count": 301,
   "id": "761ae03a-3125-4447-953f-864e1e069c21",
   "metadata": {
    "execution": {
     "iopub.execute_input": "2023-07-17T16:07:41.203561Z",
     "iopub.status.busy": "2023-07-17T16:07:41.203084Z",
     "iopub.status.idle": "2023-07-17T16:07:41.207837Z",
     "shell.execute_reply": "2023-07-17T16:07:41.206955Z",
     "shell.execute_reply.started": "2023-07-17T16:07:41.203516Z"
    }
   },
   "outputs": [],
   "source": [
    "x = torch.rand(4,4)"
   ]
  },
  {
   "cell_type": "code",
   "execution_count": 302,
   "id": "0cbda362-1d88-4db0-8bdd-634eeb6fc535",
   "metadata": {
    "execution": {
     "iopub.execute_input": "2023-07-17T16:07:41.945674Z",
     "iopub.status.busy": "2023-07-17T16:07:41.945202Z",
     "iopub.status.idle": "2023-07-17T16:07:41.955263Z",
     "shell.execute_reply": "2023-07-17T16:07:41.954215Z",
     "shell.execute_reply.started": "2023-07-17T16:07:41.945627Z"
    }
   },
   "outputs": [
    {
     "data": {
      "text/plain": [
       "tensor([[0.2266, 0.3803, 0.5491, 0.2714],\n",
       "        [0.2391, 0.3194, 0.8111, 0.7507],\n",
       "        [0.3306, 0.5374, 0.2845, 0.8459],\n",
       "        [0.2232, 0.2083, 0.8169, 0.1084]])"
      ]
     },
     "execution_count": 302,
     "metadata": {},
     "output_type": "execute_result"
    }
   ],
   "source": [
    "x"
   ]
  },
  {
   "cell_type": "code",
   "execution_count": 359,
   "id": "17c1f96b-a2df-44e6-8b69-10b87cd5da80",
   "metadata": {
    "execution": {
     "iopub.execute_input": "2023-07-17T19:23:17.220388Z",
     "iopub.status.busy": "2023-07-17T19:23:17.219412Z",
     "iopub.status.idle": "2023-07-17T19:23:17.224892Z",
     "shell.execute_reply": "2023-07-17T19:23:17.224125Z",
     "shell.execute_reply.started": "2023-07-17T19:23:17.220338Z"
    }
   },
   "outputs": [
    {
     "name": "stdout",
     "output_type": "stream",
     "text": [
      "False\n"
     ]
    }
   ],
   "source": [
    "print(x.requires_grad)"
   ]
  },
  {
   "cell_type": "code",
   "execution_count": 303,
   "id": "979bc408-3ae7-4b88-b88f-bde1e36e199e",
   "metadata": {
    "execution": {
     "iopub.execute_input": "2023-07-17T16:07:41.957867Z",
     "iopub.status.busy": "2023-07-17T16:07:41.957466Z",
     "iopub.status.idle": "2023-07-17T16:07:41.964388Z",
     "shell.execute_reply": "2023-07-17T16:07:41.963448Z",
     "shell.execute_reply.started": "2023-07-17T16:07:41.957823Z"
    }
   },
   "outputs": [
    {
     "data": {
      "text/plain": [
       "16"
      ]
     },
     "execution_count": 303,
     "metadata": {},
     "output_type": "execute_result"
    }
   ],
   "source": [
    "torch.numel(x)"
   ]
  },
  {
   "cell_type": "code",
   "execution_count": 304,
   "id": "7474512f-8f62-498b-be8d-52d44ff979f2",
   "metadata": {
    "execution": {
     "iopub.execute_input": "2023-07-17T16:07:41.966110Z",
     "iopub.status.busy": "2023-07-17T16:07:41.965727Z",
     "iopub.status.idle": "2023-07-17T16:07:41.973476Z",
     "shell.execute_reply": "2023-07-17T16:07:41.972424Z",
     "shell.execute_reply.started": "2023-07-17T16:07:41.966066Z"
    }
   },
   "outputs": [
    {
     "data": {
      "text/plain": [
       "torch.Size([4, 4])"
      ]
     },
     "execution_count": 304,
     "metadata": {},
     "output_type": "execute_result"
    }
   ],
   "source": [
    "x.size()"
   ]
  },
  {
   "cell_type": "code",
   "execution_count": 305,
   "id": "3a545b81-f68b-4c96-9491-9858e485c503",
   "metadata": {
    "execution": {
     "iopub.execute_input": "2023-07-17T16:07:42.065547Z",
     "iopub.status.busy": "2023-07-17T16:07:42.064826Z",
     "iopub.status.idle": "2023-07-17T16:07:42.073378Z",
     "shell.execute_reply": "2023-07-17T16:07:42.072420Z",
     "shell.execute_reply.started": "2023-07-17T16:07:42.065498Z"
    }
   },
   "outputs": [
    {
     "data": {
      "text/plain": [
       "tensor([0.2266, 0.3803, 0.5491, 0.2714, 0.2391, 0.3194, 0.8111, 0.7507, 0.3306,\n",
       "        0.5374, 0.2845, 0.8459, 0.2232, 0.2083, 0.8169, 0.1084])"
      ]
     },
     "execution_count": 305,
     "metadata": {},
     "output_type": "execute_result"
    }
   ],
   "source": [
    "y = x.view(16)\n",
    "y"
   ]
  },
  {
   "cell_type": "code",
   "execution_count": 306,
   "id": "b299fa94-2822-4d2a-9f3d-ccdf0b981387",
   "metadata": {
    "execution": {
     "iopub.execute_input": "2023-07-17T16:07:42.299445Z",
     "iopub.status.busy": "2023-07-17T16:07:42.298989Z",
     "iopub.status.idle": "2023-07-17T16:07:42.306725Z",
     "shell.execute_reply": "2023-07-17T16:07:42.305707Z",
     "shell.execute_reply.started": "2023-07-17T16:07:42.299401Z"
    }
   },
   "outputs": [
    {
     "data": {
      "text/plain": [
       "torch.Size([16])"
      ]
     },
     "execution_count": 306,
     "metadata": {},
     "output_type": "execute_result"
    }
   ],
   "source": [
    "y.size()"
   ]
  },
  {
   "cell_type": "code",
   "execution_count": 307,
   "id": "431f5529-babe-4fa8-8d3d-7f666fcc8d23",
   "metadata": {
    "execution": {
     "iopub.execute_input": "2023-07-17T16:07:42.666140Z",
     "iopub.status.busy": "2023-07-17T16:07:42.665683Z",
     "iopub.status.idle": "2023-07-17T16:07:42.674555Z",
     "shell.execute_reply": "2023-07-17T16:07:42.673667Z",
     "shell.execute_reply.started": "2023-07-17T16:07:42.666095Z"
    }
   },
   "outputs": [
    {
     "data": {
      "text/plain": [
       "tensor([[0.2266, 0.3803, 0.5491, 0.2714, 0.2391, 0.3194, 0.8111, 0.7507],\n",
       "        [0.3306, 0.5374, 0.2845, 0.8459, 0.2232, 0.2083, 0.8169, 0.1084]])"
      ]
     },
     "execution_count": 307,
     "metadata": {},
     "output_type": "execute_result"
    }
   ],
   "source": [
    "z = x.view(-1, 8)\n",
    "z"
   ]
  },
  {
   "cell_type": "code",
   "execution_count": 308,
   "id": "da628e10-4082-4203-a6e6-453c2dc4a8d0",
   "metadata": {
    "execution": {
     "iopub.execute_input": "2023-07-17T16:07:43.047634Z",
     "iopub.status.busy": "2023-07-17T16:07:43.047203Z",
     "iopub.status.idle": "2023-07-17T16:07:43.053948Z",
     "shell.execute_reply": "2023-07-17T16:07:43.053046Z",
     "shell.execute_reply.started": "2023-07-17T16:07:43.047593Z"
    }
   },
   "outputs": [
    {
     "data": {
      "text/plain": [
       "torch.Size([2, 8])"
      ]
     },
     "execution_count": 308,
     "metadata": {},
     "output_type": "execute_result"
    }
   ],
   "source": [
    "z.size()"
   ]
  },
  {
   "cell_type": "code",
   "execution_count": 309,
   "id": "550c01cf-c1dd-459a-beea-4b43d6f21ee0",
   "metadata": {
    "execution": {
     "iopub.execute_input": "2023-07-17T16:07:43.503991Z",
     "iopub.status.busy": "2023-07-17T16:07:43.503572Z",
     "iopub.status.idle": "2023-07-17T16:07:43.508201Z",
     "shell.execute_reply": "2023-07-17T16:07:43.507377Z",
     "shell.execute_reply.started": "2023-07-17T16:07:43.503951Z"
    }
   },
   "outputs": [],
   "source": [
    "w = z.view(-1, 1)"
   ]
  },
  {
   "cell_type": "code",
   "execution_count": 310,
   "id": "51b129c2-d31b-470e-b5f7-f7cdbc1fef73",
   "metadata": {
    "execution": {
     "iopub.execute_input": "2023-07-17T16:07:44.377279Z",
     "iopub.status.busy": "2023-07-17T16:07:44.376823Z",
     "iopub.status.idle": "2023-07-17T16:07:44.383663Z",
     "shell.execute_reply": "2023-07-17T16:07:44.382784Z",
     "shell.execute_reply.started": "2023-07-17T16:07:44.377218Z"
    }
   },
   "outputs": [
    {
     "data": {
      "text/plain": [
       "torch.Size([16, 1])"
      ]
     },
     "execution_count": 310,
     "metadata": {},
     "output_type": "execute_result"
    }
   ],
   "source": [
    "w.size()"
   ]
  },
  {
   "cell_type": "code",
   "execution_count": 312,
   "id": "b125c979-5e56-4202-b857-3254d810b4e6",
   "metadata": {
    "execution": {
     "iopub.execute_input": "2023-07-17T16:07:48.742395Z",
     "iopub.status.busy": "2023-07-17T16:07:48.741716Z",
     "iopub.status.idle": "2023-07-17T16:07:48.748934Z",
     "shell.execute_reply": "2023-07-17T16:07:48.748170Z",
     "shell.execute_reply.started": "2023-07-17T16:07:48.742348Z"
    }
   },
   "outputs": [
    {
     "data": {
      "text/plain": [
       "torch.Tensor"
      ]
     },
     "execution_count": 312,
     "metadata": {},
     "output_type": "execute_result"
    }
   ],
   "source": [
    "type(t_boundary)"
   ]
  },
  {
   "cell_type": "code",
   "execution_count": 313,
   "id": "4e361a50-dbdd-4f11-aa8c-bfa2dc78334b",
   "metadata": {
    "execution": {
     "iopub.execute_input": "2023-07-17T16:07:49.496853Z",
     "iopub.status.busy": "2023-07-17T16:07:49.496051Z",
     "iopub.status.idle": "2023-07-17T16:07:49.503420Z",
     "shell.execute_reply": "2023-07-17T16:07:49.502644Z",
     "shell.execute_reply.started": "2023-07-17T16:07:49.496698Z"
    }
   },
   "outputs": [
    {
     "data": {
      "text/plain": [
       "torch.Size([1, 1])"
      ]
     },
     "execution_count": 313,
     "metadata": {},
     "output_type": "execute_result"
    }
   ],
   "source": [
    "t_boundary.size()"
   ]
  },
  {
   "cell_type": "code",
   "execution_count": 314,
   "id": "aec7d073-b939-4da1-a70d-b11e9b1bab2a",
   "metadata": {
    "execution": {
     "iopub.execute_input": "2023-07-17T16:07:50.089791Z",
     "iopub.status.busy": "2023-07-17T16:07:50.088986Z",
     "iopub.status.idle": "2023-07-17T16:07:50.096126Z",
     "shell.execute_reply": "2023-07-17T16:07:50.095289Z",
     "shell.execute_reply.started": "2023-07-17T16:07:50.089743Z"
    }
   },
   "outputs": [
    {
     "data": {
      "text/plain": [
       "1"
      ]
     },
     "execution_count": 314,
     "metadata": {},
     "output_type": "execute_result"
    }
   ],
   "source": [
    "torch.numel(t_boundary)"
   ]
  },
  {
   "cell_type": "code",
   "execution_count": 315,
   "id": "08ac7866-e3ff-451a-bdb1-d7e2aa75ff41",
   "metadata": {
    "execution": {
     "iopub.execute_input": "2023-07-17T16:07:51.214727Z",
     "iopub.status.busy": "2023-07-17T16:07:51.213865Z",
     "iopub.status.idle": "2023-07-17T16:07:51.224421Z",
     "shell.execute_reply": "2023-07-17T16:07:51.223776Z",
     "shell.execute_reply.started": "2023-07-17T16:07:51.214655Z"
    }
   },
   "outputs": [
    {
     "data": {
      "text/plain": [
       "torch.Size([])"
      ]
     },
     "execution_count": 315,
     "metadata": {},
     "output_type": "execute_result"
    }
   ],
   "source": [
    "t_boundary_1 = torch.tensor(0.).requires_grad_(True)\n",
    "t_boundary_1.size()"
   ]
  },
  {
   "cell_type": "code",
   "execution_count": 316,
   "id": "c4299f89-ab6d-41c6-86d9-1e7591e01712",
   "metadata": {
    "execution": {
     "iopub.execute_input": "2023-07-17T16:07:51.910406Z",
     "iopub.status.busy": "2023-07-17T16:07:51.909294Z",
     "iopub.status.idle": "2023-07-17T16:07:51.919362Z",
     "shell.execute_reply": "2023-07-17T16:07:51.918513Z",
     "shell.execute_reply.started": "2023-07-17T16:07:51.910329Z"
    }
   },
   "outputs": [
    {
     "data": {
      "text/plain": [
       "torch.Tensor"
      ]
     },
     "execution_count": 316,
     "metadata": {},
     "output_type": "execute_result"
    }
   ],
   "source": [
    "type(t_boundary_1)"
   ]
  },
  {
   "cell_type": "code",
   "execution_count": 317,
   "id": "05ef951c-cd41-49eb-88a5-5396badd4750",
   "metadata": {
    "execution": {
     "iopub.execute_input": "2023-07-17T16:07:52.466560Z",
     "iopub.status.busy": "2023-07-17T16:07:52.465879Z",
     "iopub.status.idle": "2023-07-17T16:07:52.472910Z",
     "shell.execute_reply": "2023-07-17T16:07:52.472142Z",
     "shell.execute_reply.started": "2023-07-17T16:07:52.466512Z"
    }
   },
   "outputs": [
    {
     "data": {
      "text/plain": [
       "tensor(0., requires_grad=True)"
      ]
     },
     "execution_count": 317,
     "metadata": {},
     "output_type": "execute_result"
    }
   ],
   "source": [
    "t_boundary_1"
   ]
  },
  {
   "cell_type": "code",
   "execution_count": 361,
   "id": "6c55b527-b9fc-4244-a153-b904e85824b3",
   "metadata": {
    "execution": {
     "iopub.execute_input": "2023-07-17T19:24:50.087701Z",
     "iopub.status.busy": "2023-07-17T19:24:50.086996Z",
     "iopub.status.idle": "2023-07-17T19:24:50.094195Z",
     "shell.execute_reply": "2023-07-17T19:24:50.093255Z",
     "shell.execute_reply.started": "2023-07-17T19:24:50.087654Z"
    }
   },
   "outputs": [
    {
     "name": "stdout",
     "output_type": "stream",
     "text": [
      "tensor([[0.0000],\n",
      "        [0.0345],\n",
      "        [0.0690],\n",
      "        [0.1034],\n",
      "        [0.1379],\n",
      "        [0.1724],\n",
      "        [0.2069],\n",
      "        [0.2414],\n",
      "        [0.2759],\n",
      "        [0.3103],\n",
      "        [0.3448],\n",
      "        [0.3793],\n",
      "        [0.4138],\n",
      "        [0.4483],\n",
      "        [0.4828],\n",
      "        [0.5172],\n",
      "        [0.5517],\n",
      "        [0.5862],\n",
      "        [0.6207],\n",
      "        [0.6552],\n",
      "        [0.6897],\n",
      "        [0.7241],\n",
      "        [0.7586],\n",
      "        [0.7931],\n",
      "        [0.8276],\n",
      "        [0.8621],\n",
      "        [0.8966],\n",
      "        [0.9310],\n",
      "        [0.9655],\n",
      "        [1.0000]])\n"
     ]
    }
   ],
   "source": [
    "print(t_physics.data)"
   ]
  },
  {
   "cell_type": "code",
   "execution_count": 365,
   "id": "b61ec7b7-e8a2-4401-a605-f06bcd3bce1c",
   "metadata": {
    "execution": {
     "iopub.execute_input": "2023-07-17T19:31:07.268537Z",
     "iopub.status.busy": "2023-07-17T19:31:07.267799Z",
     "iopub.status.idle": "2023-07-17T19:31:07.274204Z",
     "shell.execute_reply": "2023-07-17T19:31:07.273456Z",
     "shell.execute_reply.started": "2023-07-17T19:31:07.268492Z"
    }
   },
   "outputs": [
    {
     "data": {
      "text/plain": [
       "True"
      ]
     },
     "execution_count": 365,
     "metadata": {},
     "output_type": "execute_result"
    }
   ],
   "source": [
    "t_physics.requires_grad"
   ]
  },
  {
   "cell_type": "code",
   "execution_count": 366,
   "id": "57e31df7-0665-4a17-88b6-3a602cf69ed3",
   "metadata": {
    "execution": {
     "iopub.execute_input": "2023-07-17T19:39:39.972896Z",
     "iopub.status.busy": "2023-07-17T19:39:39.972175Z",
     "iopub.status.idle": "2023-07-17T19:39:39.980479Z",
     "shell.execute_reply": "2023-07-17T19:39:39.979248Z",
     "shell.execute_reply.started": "2023-07-17T19:39:39.972843Z"
    }
   },
   "outputs": [
    {
     "name": "stdout",
     "output_type": "stream",
     "text": [
      "creating a tensor x:  tensor(3., requires_grad=True)\n"
     ]
    }
   ],
   "source": [
    "x = torch.tensor(3.0, requires_grad = True)\n",
    "print(\"creating a tensor x: \", x)"
   ]
  },
  {
   "cell_type": "code",
   "execution_count": 367,
   "id": "6ecefe0b-4965-4880-90fc-f9cbb20d92d2",
   "metadata": {
    "execution": {
     "iopub.execute_input": "2023-07-17T19:39:58.245759Z",
     "iopub.status.busy": "2023-07-17T19:39:58.244822Z",
     "iopub.status.idle": "2023-07-17T19:39:58.252354Z",
     "shell.execute_reply": "2023-07-17T19:39:58.251430Z",
     "shell.execute_reply.started": "2023-07-17T19:39:58.245713Z"
    }
   },
   "outputs": [
    {
     "name": "stdout",
     "output_type": "stream",
     "text": [
      "Result of the equation is:  tensor(27., grad_fn=<MulBackward0>)\n",
      "Dervative of the equation at x = 3 is:  tensor(18.)\n"
     ]
    }
   ],
   "source": [
    "y = 3 * x ** 2\n",
    "print(\"Result of the equation is: \", y)\n",
    "y.backward()\n",
    "print(\"Dervative of the equation at x = 3 is: \", x.grad)"
   ]
  },
  {
   "cell_type": "code",
   "execution_count": 368,
   "id": "735807ce-1ba9-4418-888f-ff047e8c9a8a",
   "metadata": {
    "execution": {
     "iopub.execute_input": "2023-07-17T19:40:12.726231Z",
     "iopub.status.busy": "2023-07-17T19:40:12.725587Z",
     "iopub.status.idle": "2023-07-17T19:40:12.734415Z",
     "shell.execute_reply": "2023-07-17T19:40:12.733246Z",
     "shell.execute_reply.started": "2023-07-17T19:40:12.726187Z"
    }
   },
   "outputs": [
    {
     "name": "stdout",
     "output_type": "stream",
     "text": [
      "data attribute of the tensor: tensor(3.)\n",
      "grad attribute of the tensor:: tensor(18.)\n",
      "grad_fn attribute of the tensor:: None\n",
      "is_leaf attribute of the tensor:: True\n",
      "requires_grad attribute of the tensor:: True\n"
     ]
    }
   ],
   "source": [
    "print('data attribute of the tensor:',x.data)\n",
    "print('grad attribute of the tensor::',x.grad)\n",
    "print('grad_fn attribute of the tensor::',x.grad_fn)\n",
    "print(\"is_leaf attribute of the tensor::\",x.is_leaf)\n",
    "print(\"requires_grad attribute of the tensor::\",x.requires_grad)"
   ]
  },
  {
   "cell_type": "code",
   "execution_count": 372,
   "id": "297564eb-a862-4fba-bad9-7edbc742ca7a",
   "metadata": {
    "execution": {
     "iopub.execute_input": "2023-07-17T20:03:45.237226Z",
     "iopub.status.busy": "2023-07-17T20:03:45.236754Z",
     "iopub.status.idle": "2023-07-17T20:03:45.245613Z",
     "shell.execute_reply": "2023-07-17T20:03:45.244445Z",
     "shell.execute_reply.started": "2023-07-17T20:03:45.237181Z"
    }
   },
   "outputs": [
    {
     "name": "stdout",
     "output_type": "stream",
     "text": [
      "data attribute of the tensor: tensor(27.)\n",
      "grad attribute of the tensor: None\n",
      "grad_fn attribute of the tensor: <MulBackward0 object at 0x7fc5bae72590>\n",
      "is_leaf attribute of the tensor: False\n",
      "requires_grad attribute of the tensor: True\n"
     ]
    },
    {
     "name": "stderr",
     "output_type": "stream",
     "text": [
      "/tmp/ipykernel_82/546295165.py:2: UserWarning: The .grad attribute of a Tensor that is not a leaf Tensor is being accessed. Its .grad attribute won't be populated during autograd.backward(). If you indeed want the .grad field to be populated for a non-leaf Tensor, use .retain_grad() on the non-leaf Tensor. If you access the non-leaf Tensor by mistake, make sure you access the leaf Tensor instead. See github.com/pytorch/pytorch/pull/30531 for more informations. (Triggered internally at /opt/conda/conda-bld/pytorch_1682343967769/work/build/aten/src/ATen/core/TensorBody.h:486.)\n",
      "  print('grad attribute of the tensor:',y.grad)\n"
     ]
    }
   ],
   "source": [
    "print('data attribute of the tensor:',y.data)\n",
    "print('grad attribute of the tensor:',y.grad)\n",
    "print('grad_fn attribute of the tensor:',y.grad_fn)\n",
    "print(\"is_leaf attribute of the tensor:\",y.is_leaf)\n",
    "print(\"requires_grad attribute of the tensor:\",y.requires_grad)"
   ]
  },
  {
   "cell_type": "code",
   "execution_count": 363,
   "id": "2633e537-de7b-42be-9d77-1cf5ce562c05",
   "metadata": {
    "execution": {
     "iopub.execute_input": "2023-07-17T19:25:49.834039Z",
     "iopub.status.busy": "2023-07-17T19:25:49.833082Z",
     "iopub.status.idle": "2023-07-17T19:25:49.841524Z",
     "shell.execute_reply": "2023-07-17T19:25:49.840799Z",
     "shell.execute_reply.started": "2023-07-17T19:25:49.833991Z"
    }
   },
   "outputs": [
    {
     "data": {
      "text/plain": [
       "tensor([[-281.6199],\n",
       "        [ 287.8589],\n",
       "        [  16.8344],\n",
       "        [-256.9503],\n",
       "        [-393.8383],\n",
       "        [  91.7973],\n",
       "        [ 280.4128],\n",
       "        [-233.8141],\n",
       "        [-164.0754],\n",
       "        [ -47.4722],\n",
       "        [  63.8647],\n",
       "        [ 228.3219],\n",
       "        [-104.8897],\n",
       "        [-253.5235],\n",
       "        [ 162.1633],\n",
       "        [  40.2926],\n",
       "        [ -79.4037],\n",
       "        [ -71.8829],\n",
       "        [ -25.3013],\n",
       "        [  48.3945],\n",
       "        [ 267.7218],\n",
       "        [-136.8341],\n",
       "        [-203.7547],\n",
       "        [ 122.0204],\n",
       "        [  76.6104],\n",
       "        [-107.3224],\n",
       "        [ -75.6846],\n",
       "        [  27.9414],\n",
       "        [  15.5472],\n",
       "        [ 118.9486]])"
      ]
     },
     "execution_count": 363,
     "metadata": {},
     "output_type": "execute_result"
    }
   ],
   "source": [
    "t_physics.grad"
   ]
  },
  {
   "cell_type": "code",
   "execution_count": 319,
   "id": "956bfc13-4e9b-4fce-8f5c-3125eab6aa1f",
   "metadata": {
    "execution": {
     "iopub.execute_input": "2023-07-17T16:07:54.292778Z",
     "iopub.status.busy": "2023-07-17T16:07:54.292062Z",
     "iopub.status.idle": "2023-07-17T16:07:54.300419Z",
     "shell.execute_reply": "2023-07-17T16:07:54.299630Z",
     "shell.execute_reply.started": "2023-07-17T16:07:54.292722Z"
    }
   },
   "outputs": [
    {
     "data": {
      "text/plain": [
       "tensor([[0.0000],\n",
       "        [0.0345],\n",
       "        [0.0690],\n",
       "        [0.1034],\n",
       "        [0.1379],\n",
       "        [0.1724],\n",
       "        [0.2069],\n",
       "        [0.2414],\n",
       "        [0.2759],\n",
       "        [0.3103],\n",
       "        [0.3448],\n",
       "        [0.3793],\n",
       "        [0.4138],\n",
       "        [0.4483],\n",
       "        [0.4828],\n",
       "        [0.5172],\n",
       "        [0.5517],\n",
       "        [0.5862],\n",
       "        [0.6207],\n",
       "        [0.6552],\n",
       "        [0.6897],\n",
       "        [0.7241],\n",
       "        [0.7586],\n",
       "        [0.7931],\n",
       "        [0.8276],\n",
       "        [0.8621],\n",
       "        [0.8966],\n",
       "        [0.9310],\n",
       "        [0.9655],\n",
       "        [1.0000]], requires_grad=True)"
      ]
     },
     "execution_count": 319,
     "metadata": {},
     "output_type": "execute_result"
    }
   ],
   "source": [
    "t_physics"
   ]
  },
  {
   "cell_type": "code",
   "execution_count": 320,
   "id": "cf56a91d-e28d-46a4-93a9-b0f2e4717aa6",
   "metadata": {
    "execution": {
     "iopub.execute_input": "2023-07-17T16:07:59.042465Z",
     "iopub.status.busy": "2023-07-17T16:07:59.041795Z",
     "iopub.status.idle": "2023-07-17T16:07:59.049035Z",
     "shell.execute_reply": "2023-07-17T16:07:59.048290Z",
     "shell.execute_reply.started": "2023-07-17T16:07:59.042419Z"
    }
   },
   "outputs": [
    {
     "data": {
      "text/plain": [
       "torch.Size([30])"
      ]
     },
     "execution_count": 320,
     "metadata": {},
     "output_type": "execute_result"
    }
   ],
   "source": [
    "t_physics_1 = torch.linspace(0,1,30).requires_grad_(True)\n",
    "t_physics_1.size()"
   ]
  },
  {
   "cell_type": "code",
   "execution_count": 321,
   "id": "c1afdbd5-eb1b-442b-be8b-0488f4d35ebd",
   "metadata": {
    "execution": {
     "iopub.execute_input": "2023-07-17T16:08:00.400370Z",
     "iopub.status.busy": "2023-07-17T16:08:00.399802Z",
     "iopub.status.idle": "2023-07-17T16:08:00.406113Z",
     "shell.execute_reply": "2023-07-17T16:08:00.405363Z",
     "shell.execute_reply.started": "2023-07-17T16:08:00.400334Z"
    }
   },
   "outputs": [
    {
     "data": {
      "text/plain": [
       "30"
      ]
     },
     "execution_count": 321,
     "metadata": {},
     "output_type": "execute_result"
    }
   ],
   "source": [
    "torch.numel(t_physics)"
   ]
  },
  {
   "cell_type": "code",
   "execution_count": 323,
   "id": "e5d1123f-9132-4abd-a9a5-a7cdd8b6a40f",
   "metadata": {
    "execution": {
     "iopub.execute_input": "2023-07-17T16:08:02.897555Z",
     "iopub.status.busy": "2023-07-17T16:08:02.896819Z",
     "iopub.status.idle": "2023-07-17T16:08:02.903776Z",
     "shell.execute_reply": "2023-07-17T16:08:02.902988Z",
     "shell.execute_reply.started": "2023-07-17T16:08:02.897507Z"
    }
   },
   "outputs": [
    {
     "data": {
      "text/plain": [
       "torch.Tensor"
      ]
     },
     "execution_count": 323,
     "metadata": {},
     "output_type": "execute_result"
    }
   ],
   "source": [
    "type(t_test)"
   ]
  },
  {
   "cell_type": "code",
   "execution_count": 324,
   "id": "27ce8e2a-450e-43e7-a884-98dd6e04998d",
   "metadata": {
    "execution": {
     "iopub.execute_input": "2023-07-17T16:08:04.215455Z",
     "iopub.status.busy": "2023-07-17T16:08:04.214691Z",
     "iopub.status.idle": "2023-07-17T16:08:04.219320Z",
     "shell.execute_reply": "2023-07-17T16:08:04.218571Z",
     "shell.execute_reply.started": "2023-07-17T16:08:04.215411Z"
    }
   },
   "outputs": [],
   "source": [
    "#t_test"
   ]
  },
  {
   "cell_type": "code",
   "execution_count": 325,
   "id": "549755c3-6686-444e-adc1-d586d3abe5d5",
   "metadata": {
    "execution": {
     "iopub.execute_input": "2023-07-17T16:08:07.161131Z",
     "iopub.status.busy": "2023-07-17T16:08:07.160549Z",
     "iopub.status.idle": "2023-07-17T16:08:07.167891Z",
     "shell.execute_reply": "2023-07-17T16:08:07.167146Z",
     "shell.execute_reply.started": "2023-07-17T16:08:07.161060Z"
    }
   },
   "outputs": [
    {
     "data": {
      "text/plain": [
       "torch.Size([300, 1])"
      ]
     },
     "execution_count": 325,
     "metadata": {},
     "output_type": "execute_result"
    }
   ],
   "source": [
    "t_test.size()"
   ]
  },
  {
   "cell_type": "code",
   "execution_count": 326,
   "id": "694fbdc1-9654-482e-bf50-d4d523efe79f",
   "metadata": {
    "execution": {
     "iopub.execute_input": "2023-07-17T16:08:07.741673Z",
     "iopub.status.busy": "2023-07-17T16:08:07.740817Z",
     "iopub.status.idle": "2023-07-17T16:08:07.748124Z",
     "shell.execute_reply": "2023-07-17T16:08:07.747341Z",
     "shell.execute_reply.started": "2023-07-17T16:08:07.741624Z"
    }
   },
   "outputs": [
    {
     "data": {
      "text/plain": [
       "torch.Size([300, 1])"
      ]
     },
     "execution_count": 326,
     "metadata": {},
     "output_type": "execute_result"
    }
   ],
   "source": [
    "t_test.shape"
   ]
  },
  {
   "cell_type": "code",
   "execution_count": 327,
   "id": "7c0c73d0-b71e-4a2b-a263-406fbb2c6abe",
   "metadata": {
    "execution": {
     "iopub.execute_input": "2023-07-17T16:08:08.552744Z",
     "iopub.status.busy": "2023-07-17T16:08:08.552093Z",
     "iopub.status.idle": "2023-07-17T16:08:08.559200Z",
     "shell.execute_reply": "2023-07-17T16:08:08.558412Z",
     "shell.execute_reply.started": "2023-07-17T16:08:08.552691Z"
    }
   },
   "outputs": [
    {
     "data": {
      "text/plain": [
       "300"
      ]
     },
     "execution_count": 327,
     "metadata": {},
     "output_type": "execute_result"
    }
   ],
   "source": [
    "torch.numel(t_test)"
   ]
  },
  {
   "cell_type": "markdown",
   "id": "d9400a15-2ab2-46d8-82da-90bd1a22950d",
   "metadata": {
    "jp-MarkdownHeadingCollapsed": true
   },
   "source": [
    "#### Tests:"
   ]
  },
  {
   "cell_type": "code",
   "execution_count": 379,
   "id": "d6f72132-0d85-4089-9934-f5aa8251f24e",
   "metadata": {
    "execution": {
     "iopub.execute_input": "2023-07-27T09:19:53.923077Z",
     "iopub.status.busy": "2023-07-27T09:19:53.922435Z",
     "iopub.status.idle": "2023-07-27T09:19:53.931255Z",
     "shell.execute_reply": "2023-07-27T09:19:53.930645Z",
     "shell.execute_reply.started": "2023-07-27T09:19:53.923044Z"
    }
   },
   "outputs": [
    {
     "name": "stdout",
     "output_type": "stream",
     "text": [
      "{'fc_in.weight': Parameter containing:\n",
      "tensor([[ 0.6727],\n",
      "        [ 0.8020],\n",
      "        [-0.2100],\n",
      "        [ 0.7619],\n",
      "        [-0.7832],\n",
      "        [ 0.0865],\n",
      "        [-0.5631],\n",
      "        [-0.2332],\n",
      "        [-0.2561],\n",
      "        [ 0.0748],\n",
      "        [ 0.9101],\n",
      "        [ 0.4951],\n",
      "        [-0.0042],\n",
      "        [ 0.7098],\n",
      "        [-0.5125],\n",
      "        [ 0.5154],\n",
      "        [-0.0927],\n",
      "        [-0.1740],\n",
      "        [ 0.1171],\n",
      "        [-0.7661],\n",
      "        [ 0.1156],\n",
      "        [ 0.3362],\n",
      "        [ 0.8549],\n",
      "        [-0.3113],\n",
      "        [ 0.3600],\n",
      "        [ 0.9995],\n",
      "        [-0.4290],\n",
      "        [ 0.9506],\n",
      "        [-0.4965],\n",
      "        [ 0.4408],\n",
      "        [ 0.3918],\n",
      "        [ 0.2793]], device='cuda:0', requires_grad=True), 'fc_in.bias': Parameter containing:\n",
      "tensor([ 0.7908, -0.4042,  0.2628,  0.0056, -0.7521, -0.2428, -0.6678,  0.4422,\n",
      "         0.0899,  0.0980, -0.3034,  0.0048, -0.3110,  0.2873,  0.9712,  0.1515,\n",
      "        -0.4429, -0.6108,  0.0764, -0.7418, -0.7517, -0.6509, -0.3396,  0.0740,\n",
      "         0.6886,  0.3873,  0.7661, -0.6279,  0.0844, -0.8889,  0.5737,  0.2084],\n",
      "       device='cuda:0', requires_grad=True), 'fc_out.weight': Parameter containing:\n",
      "tensor([[ 0.1710, -0.1257,  0.1418,  0.1492,  0.1429,  0.0252,  0.1607,  0.1181,\n",
      "          0.1319, -0.0115, -0.1357, -0.0022,  0.0332, -0.1204, -0.1014, -0.1695,\n",
      "         -0.0620,  0.1540,  0.0302, -0.0108,  0.0071,  0.1102, -0.1561, -0.1364,\n",
      "         -0.0588, -0.1017,  0.0912,  0.1249, -0.1715, -0.1500, -0.1721,  0.0667]],\n",
      "       device='cuda:0', requires_grad=True), 'fc_out.bias': Parameter containing:\n",
      "tensor([0.1423], device='cuda:0', requires_grad=True)}\n"
     ]
    }
   ],
   "source": [
    "print(dict(pinn.named_parameters()))"
   ]
  },
  {
   "cell_type": "code",
   "execution_count": 380,
   "id": "e3f24f70-8a8f-4372-9669-197492bb7ff0",
   "metadata": {
    "execution": {
     "iopub.execute_input": "2023-07-27T09:20:42.495499Z",
     "iopub.status.busy": "2023-07-27T09:20:42.495045Z",
     "iopub.status.idle": "2023-07-27T09:20:42.517436Z",
     "shell.execute_reply": "2023-07-27T09:20:42.516922Z",
     "shell.execute_reply.started": "2023-07-27T09:20:42.495475Z"
    }
   },
   "outputs": [
    {
     "data": {
      "text/plain": [
       "{'fc_in.weight': Parameter containing:\n",
       " tensor([[ 0.6727],\n",
       "         [ 0.8020],\n",
       "         [-0.2100],\n",
       "         [ 0.7619],\n",
       "         [-0.7832],\n",
       "         [ 0.0865],\n",
       "         [-0.5631],\n",
       "         [-0.2332],\n",
       "         [-0.2561],\n",
       "         [ 0.0748],\n",
       "         [ 0.9101],\n",
       "         [ 0.4951],\n",
       "         [-0.0042],\n",
       "         [ 0.7098],\n",
       "         [-0.5125],\n",
       "         [ 0.5154],\n",
       "         [-0.0927],\n",
       "         [-0.1740],\n",
       "         [ 0.1171],\n",
       "         [-0.7661],\n",
       "         [ 0.1156],\n",
       "         [ 0.3362],\n",
       "         [ 0.8549],\n",
       "         [-0.3113],\n",
       "         [ 0.3600],\n",
       "         [ 0.9995],\n",
       "         [-0.4290],\n",
       "         [ 0.9506],\n",
       "         [-0.4965],\n",
       "         [ 0.4408],\n",
       "         [ 0.3918],\n",
       "         [ 0.2793]], device='cuda:0', requires_grad=True),\n",
       " 'fc_in.bias': Parameter containing:\n",
       " tensor([ 0.7908, -0.4042,  0.2628,  0.0056, -0.7521, -0.2428, -0.6678,  0.4422,\n",
       "          0.0899,  0.0980, -0.3034,  0.0048, -0.3110,  0.2873,  0.9712,  0.1515,\n",
       "         -0.4429, -0.6108,  0.0764, -0.7418, -0.7517, -0.6509, -0.3396,  0.0740,\n",
       "          0.6886,  0.3873,  0.7661, -0.6279,  0.0844, -0.8889,  0.5737,  0.2084],\n",
       "        device='cuda:0', requires_grad=True),\n",
       " 'fc_out.weight': Parameter containing:\n",
       " tensor([[ 0.1710, -0.1257,  0.1418,  0.1492,  0.1429,  0.0252,  0.1607,  0.1181,\n",
       "           0.1319, -0.0115, -0.1357, -0.0022,  0.0332, -0.1204, -0.1014, -0.1695,\n",
       "          -0.0620,  0.1540,  0.0302, -0.0108,  0.0071,  0.1102, -0.1561, -0.1364,\n",
       "          -0.0588, -0.1017,  0.0912,  0.1249, -0.1715, -0.1500, -0.1721,  0.0667]],\n",
       "        device='cuda:0', requires_grad=True),\n",
       " 'fc_out.bias': Parameter containing:\n",
       " tensor([0.1423], device='cuda:0', requires_grad=True)}"
      ]
     },
     "execution_count": 380,
     "metadata": {},
     "output_type": "execute_result"
    }
   ],
   "source": [
    "dict(pinn.named_parameters())"
   ]
  },
  {
   "cell_type": "code",
   "execution_count": 381,
   "id": "ece9957f-f2da-498b-8a66-c4f77ace103a",
   "metadata": {
    "execution": {
     "iopub.execute_input": "2023-07-27T09:20:50.897740Z",
     "iopub.status.busy": "2023-07-27T09:20:50.897259Z",
     "iopub.status.idle": "2023-07-27T09:20:50.901746Z",
     "shell.execute_reply": "2023-07-27T09:20:50.901214Z",
     "shell.execute_reply.started": "2023-07-27T09:20:50.897719Z"
    }
   },
   "outputs": [
    {
     "data": {
      "text/plain": [
       "<generator object Module.named_parameters at 0x7f74aca17760>"
      ]
     },
     "execution_count": 381,
     "metadata": {},
     "output_type": "execute_result"
    }
   ],
   "source": [
    "pinn.named_parameters()"
   ]
  },
  {
   "cell_type": "code",
   "execution_count": 382,
   "id": "9049391f-4232-4b78-adfc-848a33d62fdc",
   "metadata": {
    "execution": {
     "iopub.execute_input": "2023-07-27T09:20:53.612270Z",
     "iopub.status.busy": "2023-07-27T09:20:53.611368Z",
     "iopub.status.idle": "2023-07-27T09:20:53.619201Z",
     "shell.execute_reply": "2023-07-27T09:20:53.618185Z",
     "shell.execute_reply.started": "2023-07-27T09:20:53.612231Z"
    }
   },
   "outputs": [
    {
     "data": {
      "text/plain": [
       "generator"
      ]
     },
     "execution_count": 382,
     "metadata": {},
     "output_type": "execute_result"
    }
   ],
   "source": [
    "type(pinn.named_parameters())"
   ]
  },
  {
   "cell_type": "code",
   "execution_count": 383,
   "id": "c330516d-db73-4c7d-a469-1edc5c6a367b",
   "metadata": {
    "execution": {
     "iopub.execute_input": "2023-07-27T09:20:56.591316Z",
     "iopub.status.busy": "2023-07-27T09:20:56.590905Z",
     "iopub.status.idle": "2023-07-27T09:20:56.598359Z",
     "shell.execute_reply": "2023-07-27T09:20:56.597428Z",
     "shell.execute_reply.started": "2023-07-27T09:20:56.591284Z"
    }
   },
   "outputs": [
    {
     "data": {
      "text/plain": [
       "torch.Size([1, 32])"
      ]
     },
     "execution_count": 383,
     "metadata": {},
     "output_type": "execute_result"
    }
   ],
   "source": [
    "pinn.state_dict()[\"fc_out.weight\"].size() # [\"fc_in.weight\"] [\"fc_in.bias\"], [\"fc_out.weight\"], [\"fc_out.bias\"]"
   ]
  },
  {
   "cell_type": "code",
   "execution_count": 384,
   "id": "44518d11-7cc6-482b-aa62-af5ec61df5d9",
   "metadata": {
    "execution": {
     "iopub.execute_input": "2023-07-27T09:21:06.280403Z",
     "iopub.status.busy": "2023-07-27T09:21:06.279497Z",
     "iopub.status.idle": "2023-07-27T09:21:06.304043Z",
     "shell.execute_reply": "2023-07-27T09:21:06.303512Z",
     "shell.execute_reply.started": "2023-07-27T09:21:06.280352Z"
    }
   },
   "outputs": [
    {
     "data": {
      "text/plain": [
       "OrderedDict([('fc_in.weight',\n",
       "              tensor([[ 0.6727],\n",
       "                      [ 0.8020],\n",
       "                      [-0.2100],\n",
       "                      [ 0.7619],\n",
       "                      [-0.7832],\n",
       "                      [ 0.0865],\n",
       "                      [-0.5631],\n",
       "                      [-0.2332],\n",
       "                      [-0.2561],\n",
       "                      [ 0.0748],\n",
       "                      [ 0.9101],\n",
       "                      [ 0.4951],\n",
       "                      [-0.0042],\n",
       "                      [ 0.7098],\n",
       "                      [-0.5125],\n",
       "                      [ 0.5154],\n",
       "                      [-0.0927],\n",
       "                      [-0.1740],\n",
       "                      [ 0.1171],\n",
       "                      [-0.7661],\n",
       "                      [ 0.1156],\n",
       "                      [ 0.3362],\n",
       "                      [ 0.8549],\n",
       "                      [-0.3113],\n",
       "                      [ 0.3600],\n",
       "                      [ 0.9995],\n",
       "                      [-0.4290],\n",
       "                      [ 0.9506],\n",
       "                      [-0.4965],\n",
       "                      [ 0.4408],\n",
       "                      [ 0.3918],\n",
       "                      [ 0.2793]], device='cuda:0')),\n",
       "             ('fc_in.bias',\n",
       "              tensor([ 0.7908, -0.4042,  0.2628,  0.0056, -0.7521, -0.2428, -0.6678,  0.4422,\n",
       "                       0.0899,  0.0980, -0.3034,  0.0048, -0.3110,  0.2873,  0.9712,  0.1515,\n",
       "                      -0.4429, -0.6108,  0.0764, -0.7418, -0.7517, -0.6509, -0.3396,  0.0740,\n",
       "                       0.6886,  0.3873,  0.7661, -0.6279,  0.0844, -0.8889,  0.5737,  0.2084],\n",
       "                     device='cuda:0')),\n",
       "             ('fc_out.weight',\n",
       "              tensor([[ 0.1710, -0.1257,  0.1418,  0.1492,  0.1429,  0.0252,  0.1607,  0.1181,\n",
       "                        0.1319, -0.0115, -0.1357, -0.0022,  0.0332, -0.1204, -0.1014, -0.1695,\n",
       "                       -0.0620,  0.1540,  0.0302, -0.0108,  0.0071,  0.1102, -0.1561, -0.1364,\n",
       "                       -0.0588, -0.1017,  0.0912,  0.1249, -0.1715, -0.1500, -0.1721,  0.0667]],\n",
       "                     device='cuda:0')),\n",
       "             ('fc_out.bias', tensor([0.1423], device='cuda:0'))])"
      ]
     },
     "execution_count": 384,
     "metadata": {},
     "output_type": "execute_result"
    }
   ],
   "source": [
    "pinn.state_dict()"
   ]
  },
  {
   "cell_type": "code",
   "execution_count": 385,
   "id": "c324b4a2-db19-4434-8e4b-3edd766a6889",
   "metadata": {
    "execution": {
     "iopub.execute_input": "2023-07-27T09:21:17.671554Z",
     "iopub.status.busy": "2023-07-27T09:21:17.670971Z",
     "iopub.status.idle": "2023-07-27T09:21:17.675342Z",
     "shell.execute_reply": "2023-07-27T09:21:17.674812Z",
     "shell.execute_reply.started": "2023-07-27T09:21:17.671533Z"
    }
   },
   "outputs": [
    {
     "data": {
      "text/plain": [
       "4"
      ]
     },
     "execution_count": 385,
     "metadata": {},
     "output_type": "execute_result"
    }
   ],
   "source": [
    "len(pinn.state_dict())"
   ]
  },
  {
   "cell_type": "code",
   "execution_count": 386,
   "id": "0c0a293d-5573-4e75-b2b2-a43b5aec79b2",
   "metadata": {
    "execution": {
     "iopub.execute_input": "2023-07-27T09:21:21.900011Z",
     "iopub.status.busy": "2023-07-27T09:21:21.899153Z",
     "iopub.status.idle": "2023-07-27T09:21:21.904577Z",
     "shell.execute_reply": "2023-07-27T09:21:21.903531Z",
     "shell.execute_reply.started": "2023-07-27T09:21:21.899989Z"
    }
   },
   "outputs": [
    {
     "name": "stdout",
     "output_type": "stream",
     "text": [
      "FCN(\n",
      "  (fc_in): Linear(in_features=1, out_features=32, bias=True)\n",
      "  (tangh): Tanh()\n",
      "  (fc_out): Linear(in_features=32, out_features=1, bias=True)\n",
      ")\n"
     ]
    }
   ],
   "source": [
    "print(pinn)"
   ]
  },
  {
   "cell_type": "code",
   "execution_count": 387,
   "id": "b5f52712-d2d0-467f-8df6-908259114e69",
   "metadata": {
    "execution": {
     "iopub.execute_input": "2023-07-27T09:21:23.791091Z",
     "iopub.status.busy": "2023-07-27T09:21:23.780987Z",
     "iopub.status.idle": "2023-07-27T09:21:23.795288Z",
     "shell.execute_reply": "2023-07-27T09:21:23.794700Z",
     "shell.execute_reply.started": "2023-07-27T09:21:23.791047Z"
    }
   },
   "outputs": [
    {
     "data": {
      "text/plain": [
       "OrderedDict([('fc_in', Linear(in_features=1, out_features=32, bias=True)),\n",
       "             ('tangh', Tanh()),\n",
       "             ('fc_out', Linear(in_features=32, out_features=1, bias=True))])"
      ]
     },
     "execution_count": 387,
     "metadata": {},
     "output_type": "execute_result"
    }
   ],
   "source": [
    "pinn._modules"
   ]
  },
  {
   "cell_type": "code",
   "execution_count": 388,
   "id": "7dfa7e8f-e43e-4153-831e-01c67e7ed1cc",
   "metadata": {
    "execution": {
     "iopub.execute_input": "2023-07-27T09:21:27.158384Z",
     "iopub.status.busy": "2023-07-27T09:21:27.157903Z",
     "iopub.status.idle": "2023-07-27T09:21:27.163573Z",
     "shell.execute_reply": "2023-07-27T09:21:27.162954Z",
     "shell.execute_reply.started": "2023-07-27T09:21:27.158357Z"
    }
   },
   "outputs": [
    {
     "name": "stdout",
     "output_type": "stream",
     "text": [
      "=================================================================\n",
      "Layer (type:depth-idx)                   Param #\n",
      "=================================================================\n",
      "├─Linear: 1-1                            64\n",
      "├─Tanh: 1-2                              --\n",
      "├─Linear: 1-3                            33\n",
      "=================================================================\n",
      "Total params: 97\n",
      "Trainable params: 97\n",
      "Non-trainable params: 0\n",
      "=================================================================\n"
     ]
    },
    {
     "data": {
      "text/plain": [
       "=================================================================\n",
       "Layer (type:depth-idx)                   Param #\n",
       "=================================================================\n",
       "├─Linear: 1-1                            64\n",
       "├─Tanh: 1-2                              --\n",
       "├─Linear: 1-3                            33\n",
       "=================================================================\n",
       "Total params: 97\n",
       "Trainable params: 97\n",
       "Non-trainable params: 0\n",
       "================================================================="
      ]
     },
     "execution_count": 388,
     "metadata": {},
     "output_type": "execute_result"
    }
   ],
   "source": [
    "summary(pinn, depth = 3, verbose = 2)"
   ]
  },
  {
   "cell_type": "code",
   "execution_count": 389,
   "id": "b54ea1ab-ac3f-4a2e-82c3-c2eaf80cedd3",
   "metadata": {
    "execution": {
     "iopub.execute_input": "2023-07-27T09:21:32.222270Z",
     "iopub.status.busy": "2023-07-27T09:21:32.221787Z",
     "iopub.status.idle": "2023-07-27T09:21:32.227546Z",
     "shell.execute_reply": "2023-07-27T09:21:32.226951Z",
     "shell.execute_reply.started": "2023-07-27T09:21:32.222249Z"
    }
   },
   "outputs": [
    {
     "name": "stdout",
     "output_type": "stream",
     "text": [
      "=================================================================\n",
      "Layer (type:depth-idx)                   Param #\n",
      "=================================================================\n",
      "FCN                                      --\n",
      "├─Linear: 1-1                            64\n",
      "│    └─weight                            ├─32\n",
      "│    └─bias                              └─32\n",
      "├─Tanh: 1-2                              --\n",
      "├─Linear: 1-3                            33\n",
      "│    └─weight                            ├─32\n",
      "│    └─bias                              └─1\n",
      "=================================================================\n",
      "Total params: 97\n",
      "Trainable params: 97\n",
      "Non-trainable params: 0\n",
      "=================================================================\n"
     ]
    },
    {
     "data": {
      "text/plain": [
       "=================================================================\n",
       "Layer (type:depth-idx)                   Param #\n",
       "=================================================================\n",
       "FCN                                      --\n",
       "├─Linear: 1-1                            64\n",
       "│    └─weight                            ├─32\n",
       "│    └─bias                              └─32\n",
       "├─Tanh: 1-2                              --\n",
       "├─Linear: 1-3                            33\n",
       "│    └─weight                            ├─32\n",
       "│    └─bias                              └─1\n",
       "=================================================================\n",
       "Total params: 97\n",
       "Trainable params: 97\n",
       "Non-trainable params: 0\n",
       "================================================================="
      ]
     },
     "execution_count": 389,
     "metadata": {},
     "output_type": "execute_result"
    }
   ],
   "source": [
    "torchinfo.summary(pinn, verbose = 2)"
   ]
  },
  {
   "cell_type": "markdown",
   "id": "a47ade1e-ead6-43fc-a6ee-7b06b1f2e457",
   "metadata": {},
   "source": [
    "#### Tests pinn.parameters():"
   ]
  },
  {
   "cell_type": "code",
   "execution_count": 391,
   "id": "6c4c4547-e1e7-4ab9-8fc7-c4430e536869",
   "metadata": {
    "execution": {
     "iopub.execute_input": "2023-07-27T09:21:48.688081Z",
     "iopub.status.busy": "2023-07-27T09:21:48.687494Z",
     "iopub.status.idle": "2023-07-27T09:21:48.691724Z",
     "shell.execute_reply": "2023-07-27T09:21:48.691228Z",
     "shell.execute_reply.started": "2023-07-27T09:21:48.688059Z"
    }
   },
   "outputs": [
    {
     "data": {
      "text/plain": [
       "<generator object Module.parameters at 0x7f74ac9000b0>"
      ]
     },
     "execution_count": 391,
     "metadata": {},
     "output_type": "execute_result"
    }
   ],
   "source": [
    "pinn.parameters()"
   ]
  },
  {
   "cell_type": "code",
   "execution_count": 423,
   "id": "e8156b7e-ac4c-4b64-93cd-ff7d2ec562fc",
   "metadata": {
    "execution": {
     "iopub.execute_input": "2023-07-27T09:42:19.666748Z",
     "iopub.status.busy": "2023-07-27T09:42:19.666083Z",
     "iopub.status.idle": "2023-07-27T09:42:19.671021Z",
     "shell.execute_reply": "2023-07-27T09:42:19.670063Z",
     "shell.execute_reply.started": "2023-07-27T09:42:19.666711Z"
    }
   },
   "outputs": [],
   "source": [
    "#list(pinn.parameters())"
   ]
  },
  {
   "cell_type": "code",
   "execution_count": 422,
   "id": "e2ee7121-23ae-418b-a61f-a41888566abc",
   "metadata": {
    "execution": {
     "iopub.execute_input": "2023-07-27T09:42:11.817594Z",
     "iopub.status.busy": "2023-07-27T09:42:11.816726Z",
     "iopub.status.idle": "2023-07-27T09:42:11.822328Z",
     "shell.execute_reply": "2023-07-27T09:42:11.821229Z",
     "shell.execute_reply.started": "2023-07-27T09:42:11.817555Z"
    }
   },
   "outputs": [],
   "source": [
    "#list(pinn.parameters())[0]"
   ]
  },
  {
   "cell_type": "code",
   "execution_count": 394,
   "id": "5a4f2987-f262-4bd9-bc5f-a13e356f31bf",
   "metadata": {
    "execution": {
     "iopub.execute_input": "2023-07-27T09:22:05.687159Z",
     "iopub.status.busy": "2023-07-27T09:22:05.686697Z",
     "iopub.status.idle": "2023-07-27T09:22:05.692223Z",
     "shell.execute_reply": "2023-07-27T09:22:05.691671Z",
     "shell.execute_reply.started": "2023-07-27T09:22:05.687136Z"
    }
   },
   "outputs": [
    {
     "data": {
      "text/plain": [
       "tensor([0.6727], device='cuda:0', grad_fn=<SelectBackward0>)"
      ]
     },
     "execution_count": 394,
     "metadata": {},
     "output_type": "execute_result"
    }
   ],
   "source": [
    "list(pinn.parameters())[0][0]"
   ]
  },
  {
   "cell_type": "code",
   "execution_count": 395,
   "id": "8bfad642-a228-4d86-aea5-14c383457aaf",
   "metadata": {
    "execution": {
     "iopub.execute_input": "2023-07-27T09:22:20.278655Z",
     "iopub.status.busy": "2023-07-27T09:22:20.278113Z",
     "iopub.status.idle": "2023-07-27T09:22:20.286775Z",
     "shell.execute_reply": "2023-07-27T09:22:20.286233Z",
     "shell.execute_reply.started": "2023-07-27T09:22:20.278634Z"
    }
   },
   "outputs": [
    {
     "data": {
      "text/plain": [
       "[Parameter containing:\n",
       " tensor([[ 0.6727],\n",
       "         [ 0.8020],\n",
       "         [-0.2100],\n",
       "         [ 0.7619],\n",
       "         [-0.7832],\n",
       "         [ 0.0865],\n",
       "         [-0.5631],\n",
       "         [-0.2332],\n",
       "         [-0.2561],\n",
       "         [ 0.0748],\n",
       "         [ 0.9101],\n",
       "         [ 0.4951],\n",
       "         [-0.0042],\n",
       "         [ 0.7098],\n",
       "         [-0.5125],\n",
       "         [ 0.5154],\n",
       "         [-0.0927],\n",
       "         [-0.1740],\n",
       "         [ 0.1171],\n",
       "         [-0.7661],\n",
       "         [ 0.1156],\n",
       "         [ 0.3362],\n",
       "         [ 0.8549],\n",
       "         [-0.3113],\n",
       "         [ 0.3600],\n",
       "         [ 0.9995],\n",
       "         [-0.4290],\n",
       "         [ 0.9506],\n",
       "         [-0.4965],\n",
       "         [ 0.4408],\n",
       "         [ 0.3918],\n",
       "         [ 0.2793]], device='cuda:0', requires_grad=True),\n",
       " Parameter containing:\n",
       " tensor([ 0.7908, -0.4042,  0.2628,  0.0056, -0.7521, -0.2428, -0.6678,  0.4422,\n",
       "          0.0899,  0.0980, -0.3034,  0.0048, -0.3110,  0.2873,  0.9712,  0.1515,\n",
       "         -0.4429, -0.6108,  0.0764, -0.7418, -0.7517, -0.6509, -0.3396,  0.0740,\n",
       "          0.6886,  0.3873,  0.7661, -0.6279,  0.0844, -0.8889,  0.5737,  0.2084],\n",
       "        device='cuda:0', requires_grad=True),\n",
       " Parameter containing:\n",
       " tensor([[ 0.1710, -0.1257,  0.1418,  0.1492,  0.1429,  0.0252,  0.1607,  0.1181,\n",
       "           0.1319, -0.0115, -0.1357, -0.0022,  0.0332, -0.1204, -0.1014, -0.1695,\n",
       "          -0.0620,  0.1540,  0.0302, -0.0108,  0.0071,  0.1102, -0.1561, -0.1364,\n",
       "          -0.0588, -0.1017,  0.0912,  0.1249, -0.1715, -0.1500, -0.1721,  0.0667]],\n",
       "        device='cuda:0', requires_grad=True),\n",
       " Parameter containing:\n",
       " tensor([0.1423], device='cuda:0', requires_grad=True)]"
      ]
     },
     "execution_count": 395,
     "metadata": {},
     "output_type": "execute_result"
    }
   ],
   "source": [
    "list(pinn.parameters())"
   ]
  },
  {
   "cell_type": "code",
   "execution_count": 396,
   "id": "1b2c23cb-e1de-4c88-ba6d-68c5aee69893",
   "metadata": {
    "execution": {
     "iopub.execute_input": "2023-07-27T09:22:27.451674Z",
     "iopub.status.busy": "2023-07-27T09:22:27.451190Z",
     "iopub.status.idle": "2023-07-27T09:22:27.455419Z",
     "shell.execute_reply": "2023-07-27T09:22:27.454850Z",
     "shell.execute_reply.started": "2023-07-27T09:22:27.451653Z"
    }
   },
   "outputs": [
    {
     "data": {
      "text/plain": [
       "torch.optim.adam.Adam"
      ]
     },
     "execution_count": 396,
     "metadata": {},
     "output_type": "execute_result"
    }
   ],
   "source": [
    "type(optimiser)"
   ]
  },
  {
   "cell_type": "markdown",
   "id": "55cc1c48-de6c-459d-928d-e1580987e65e",
   "metadata": {},
   "source": [
    "# Jason Brownlee"
   ]
  },
  {
   "cell_type": "markdown",
   "id": "f8404810-4188-4413-b480-747834814c5d",
   "metadata": {},
   "source": [
    "Mini-batch\n",
    "https://machinelearningmastery.com/mini-batch-gradient-descent-and-dataloader-in-pytorch/"
   ]
  },
  {
   "cell_type": "code",
   "execution_count": 366,
   "id": "3346463d-8a7a-4033-8148-74c61d4389ab",
   "metadata": {
    "execution": {
     "iopub.execute_input": "2023-08-07T14:43:30.761373Z",
     "iopub.status.busy": "2023-08-07T14:43:30.760753Z",
     "iopub.status.idle": "2023-08-07T14:43:31.120652Z",
     "shell.execute_reply": "2023-08-07T14:43:31.120115Z",
     "shell.execute_reply.started": "2023-08-07T14:43:30.761350Z"
    },
    "jp-MarkdownHeadingCollapsed": true
   },
   "outputs": [],
   "source": [
    "import matplotlib.pyplot as plt\n",
    "import torch\n",
    "from torch.utils.data import Dataset\n",
    "from torch.utils.data import DataLoader\n",
    "torch.manual_seed(42)\n",
    "\n",
    "# Creating a function f(X) with a slope of -5\n",
    "X = torch.arange(-5, 5, 0.1).view(-1, 1)\n",
    "func = -5 * X\n",
    "# Adding Gaussian noise to the function f(X) and saving it in Y\n",
    "Y = func + 0.4 * torch.randn(X.size())\n",
    "\n",
    "w = torch.tensor(-10.0, requires_grad = True)\n",
    "b = torch.tensor(-20.0, requires_grad = True)\n",
    "\n",
    "# defining the function for forward pass for prediction\n",
    "def forward(x):\n",
    "    return w * x + b\n",
    "\n",
    "# evaluating data points with Mean Square Error (MSE)\n",
    "def criterion(y_pred, y):\n",
    "    return torch.mean((y_pred - y) ** 2)\n",
    "\n",
    "# Creating our dataset class\n",
    "class Build_Data(Dataset):\n",
    "    # Constructor\n",
    "    def __init__(self):\n",
    "        self.x = torch.arange(-5, 5, 0.1).view(-1, 1)\n",
    "        self.y = -5 * X\n",
    "        self.len = self.x.shape[0]\n",
    "    # Getting the data\n",
    "    def __getitem__(self, index):\n",
    "        return self.x[index], self.y[index]\n",
    "    # Getting length of the data\n",
    "    def __len__(self):\n",
    "        return self.len"
   ]
  },
  {
   "cell_type": "code",
   "execution_count": 381,
   "id": "20ddfe90-9742-49b8-b55e-65bcfe22c336",
   "metadata": {
    "execution": {
     "iopub.execute_input": "2023-08-07T15:12:25.186062Z",
     "iopub.status.busy": "2023-08-07T15:12:25.185579Z",
     "iopub.status.idle": "2023-08-07T15:12:25.191621Z",
     "shell.execute_reply": "2023-08-07T15:12:25.190830Z",
     "shell.execute_reply.started": "2023-08-07T15:12:25.186041Z"
    }
   },
   "outputs": [
    {
     "data": {
      "text/plain": [
       "100"
      ]
     },
     "execution_count": 381,
     "metadata": {},
     "output_type": "execute_result"
    }
   ],
   "source": [
    "X = torch.arange(-5, 5, 0.1).view(-1, 1)\n",
    "X.shape[0]"
   ]
  },
  {
   "cell_type": "code",
   "execution_count": null,
   "id": "4abdd477-9af2-4576-b3d0-3ac1e110cde6",
   "metadata": {},
   "outputs": [],
   "source": [
    "import matplotlib.pyplot as plt\n",
    "import torch\n",
    "from torch.utils.data import Dataset\n",
    "from torch.utils.data import DataLoader\n",
    "torch.manual_seed(42)\n",
    "\n",
    "# Creating a function f(X) with a slope of -5\n",
    "X = torch.arange(-5, 5, 0.1).view(-1, 1)\n",
    "func = -5 * X\n",
    "# Adding Gaussian noise to the function f(X) and saving it in Y\n",
    "Y = func + 0.4 * torch.randn(X.size())\n",
    "\n",
    "w = torch.tensor(-10.0, requires_grad = True)\n",
    "b = torch.tensor(-20.0, requires_grad = True)\n",
    "\n",
    "# defining the function for forward pass for prediction\n",
    "def forward(x):\n",
    "    return w * x + b\n",
    "\n",
    "# evaluating data points with Mean Square Error (MSE)\n",
    "def criterion(y_pred, y):\n",
    "    return torch.mean((y_pred - y) ** 2)\n",
    "\n",
    "# Creating our dataset class\n",
    "class Build_Data(Dataset):\n",
    "    # Constructor\n",
    "    def __init__(self):\n",
    "        self.x = torch.arange(-5, 5, 0.1).view(-1, 1)\n",
    "        self.y = -5 * X\n",
    "        self.len = self.x.shape[0]\n",
    "    # Getting the data\n",
    "    def __getitem__(self, index):\n",
    "        return self.x[index], self.y[index]\n",
    "    # Getting length of the data\n",
    "    def __len__(self):\n",
    "        return self.len\n",
    "\n",
    "# Creating DataLoader object\n",
    "dataset = Build_Data()\n",
    "train_loader = DataLoader(dataset=dataset, batch_size=1)\n",
    "\n",
    "step_size = 0.1\n",
    "loss_SGD = []\n",
    "n_iter = 20\n",
    "\n",
    "for i in range (n_iter):\n",
    "    # calculating loss as in the beginning of an epoch and storing it\n",
    "    y_pred = forward(X)\n",
    "    loss_SGD.append(criterion(y_pred, Y).tolist())\n",
    "    for x, y in train_loader:\n",
    "        # making a prediction in forward pass\n",
    "        y_hat = forward(x)\n",
    "        # calculating the loss between original and predicted data points\n",
    "        loss = criterion(y_hat, y)\n",
    "        # backward pass for computing the gradients of the loss w.r.t to learnable parameters\n",
    "        loss.backward()\n",
    "        # updating the parameters after each iteration\n",
    "        w.data = w.data - step_size * w.grad.data\n",
    "        b.data = b.data - step_size * b.grad.data\n",
    "        # zeroing gradients after each iteration\n",
    "        w.grad.data.zero_()\n",
    "        b.grad.data.zero_()"
   ]
  },
  {
   "cell_type": "code",
   "execution_count": 373,
   "id": "7d28f2aa-1371-46d5-be9e-8438baa0375b",
   "metadata": {
    "execution": {
     "iopub.execute_input": "2023-08-07T14:48:46.867688Z",
     "iopub.status.busy": "2023-08-07T14:48:46.867239Z",
     "iopub.status.idle": "2023-08-07T14:48:46.887057Z",
     "shell.execute_reply": "2023-08-07T14:48:46.886567Z",
     "shell.execute_reply.started": "2023-08-07T14:48:46.867667Z"
    }
   },
   "outputs": [
    {
     "name": "stdout",
     "output_type": "stream",
     "text": [
      "tensor([[25.0000],\n",
      "        [24.5000],\n",
      "        [24.0000],\n",
      "        [23.5000],\n",
      "        [23.0000],\n",
      "        [22.5000],\n",
      "        [22.0000],\n",
      "        [21.5000],\n",
      "        [21.0000],\n",
      "        [20.5000]])\n",
      "next one\n",
      "tensor([[20.0000],\n",
      "        [19.5000],\n",
      "        [19.0000],\n",
      "        [18.5000],\n",
      "        [18.0000],\n",
      "        [17.5000],\n",
      "        [17.0000],\n",
      "        [16.5000],\n",
      "        [16.0000],\n",
      "        [15.5000]])\n",
      "next one\n",
      "tensor([[15.0000],\n",
      "        [14.5000],\n",
      "        [14.0000],\n",
      "        [13.5000],\n",
      "        [13.0000],\n",
      "        [12.5000],\n",
      "        [12.0000],\n",
      "        [11.5000],\n",
      "        [11.0000],\n",
      "        [10.5000]])\n",
      "next one\n",
      "tensor([[10.0000],\n",
      "        [ 9.5000],\n",
      "        [ 9.0000],\n",
      "        [ 8.5000],\n",
      "        [ 8.0000],\n",
      "        [ 7.5000],\n",
      "        [ 7.0000],\n",
      "        [ 6.5000],\n",
      "        [ 6.0000],\n",
      "        [ 5.5000]])\n",
      "next one\n",
      "tensor([[5.0000],\n",
      "        [4.5000],\n",
      "        [4.0000],\n",
      "        [3.5000],\n",
      "        [3.0000],\n",
      "        [2.5000],\n",
      "        [2.0000],\n",
      "        [1.5000],\n",
      "        [1.0000],\n",
      "        [0.5000]])\n",
      "next one\n",
      "tensor([[ 1.4901e-08],\n",
      "        [-5.0000e-01],\n",
      "        [-1.0000e+00],\n",
      "        [-1.5000e+00],\n",
      "        [-2.0000e+00],\n",
      "        [-2.5000e+00],\n",
      "        [-3.0000e+00],\n",
      "        [-3.5000e+00],\n",
      "        [-4.0000e+00],\n",
      "        [-4.5000e+00]])\n",
      "next one\n",
      "tensor([[-5.0000],\n",
      "        [-5.5000],\n",
      "        [-6.0000],\n",
      "        [-6.5000],\n",
      "        [-7.0000],\n",
      "        [-7.5000],\n",
      "        [-8.0000],\n",
      "        [-8.5000],\n",
      "        [-9.0000],\n",
      "        [-9.5000]])\n",
      "next one\n",
      "tensor([[-10.0000],\n",
      "        [-10.5000],\n",
      "        [-11.0000],\n",
      "        [-11.5000],\n",
      "        [-12.0000],\n",
      "        [-12.5000],\n",
      "        [-13.0000],\n",
      "        [-13.5000],\n",
      "        [-14.0000],\n",
      "        [-14.5000]])\n",
      "next one\n",
      "tensor([[-15.0000],\n",
      "        [-15.5000],\n",
      "        [-16.0000],\n",
      "        [-16.5000],\n",
      "        [-17.0000],\n",
      "        [-17.5000],\n",
      "        [-18.0000],\n",
      "        [-18.5000],\n",
      "        [-19.0000],\n",
      "        [-19.5000]])\n",
      "next one\n",
      "tensor([[-20.0000],\n",
      "        [-20.5000],\n",
      "        [-21.0000],\n",
      "        [-21.5000],\n",
      "        [-22.0000],\n",
      "        [-22.5000],\n",
      "        [-23.0000],\n",
      "        [-23.5000],\n",
      "        [-24.0000],\n",
      "        [-24.5000]])\n",
      "next one\n",
      "next iteration\n",
      "tensor([[25.0000],\n",
      "        [24.5000],\n",
      "        [24.0000],\n",
      "        [23.5000],\n",
      "        [23.0000],\n",
      "        [22.5000],\n",
      "        [22.0000],\n",
      "        [21.5000],\n",
      "        [21.0000],\n",
      "        [20.5000]])\n",
      "next one\n",
      "tensor([[20.0000],\n",
      "        [19.5000],\n",
      "        [19.0000],\n",
      "        [18.5000],\n",
      "        [18.0000],\n",
      "        [17.5000],\n",
      "        [17.0000],\n",
      "        [16.5000],\n",
      "        [16.0000],\n",
      "        [15.5000]])\n",
      "next one\n",
      "tensor([[15.0000],\n",
      "        [14.5000],\n",
      "        [14.0000],\n",
      "        [13.5000],\n",
      "        [13.0000],\n",
      "        [12.5000],\n",
      "        [12.0000],\n",
      "        [11.5000],\n",
      "        [11.0000],\n",
      "        [10.5000]])\n",
      "next one\n",
      "tensor([[10.0000],\n",
      "        [ 9.5000],\n",
      "        [ 9.0000],\n",
      "        [ 8.5000],\n",
      "        [ 8.0000],\n",
      "        [ 7.5000],\n",
      "        [ 7.0000],\n",
      "        [ 6.5000],\n",
      "        [ 6.0000],\n",
      "        [ 5.5000]])\n",
      "next one\n",
      "tensor([[5.0000],\n",
      "        [4.5000],\n",
      "        [4.0000],\n",
      "        [3.5000],\n",
      "        [3.0000],\n",
      "        [2.5000],\n",
      "        [2.0000],\n",
      "        [1.5000],\n",
      "        [1.0000],\n",
      "        [0.5000]])\n",
      "next one\n",
      "tensor([[ 1.4901e-08],\n",
      "        [-5.0000e-01],\n",
      "        [-1.0000e+00],\n",
      "        [-1.5000e+00],\n",
      "        [-2.0000e+00],\n",
      "        [-2.5000e+00],\n",
      "        [-3.0000e+00],\n",
      "        [-3.5000e+00],\n",
      "        [-4.0000e+00],\n",
      "        [-4.5000e+00]])\n",
      "next one\n",
      "tensor([[-5.0000],\n",
      "        [-5.5000],\n",
      "        [-6.0000],\n",
      "        [-6.5000],\n",
      "        [-7.0000],\n",
      "        [-7.5000],\n",
      "        [-8.0000],\n",
      "        [-8.5000],\n",
      "        [-9.0000],\n",
      "        [-9.5000]])\n",
      "next one\n",
      "tensor([[-10.0000],\n",
      "        [-10.5000],\n",
      "        [-11.0000],\n",
      "        [-11.5000],\n",
      "        [-12.0000],\n",
      "        [-12.5000],\n",
      "        [-13.0000],\n",
      "        [-13.5000],\n",
      "        [-14.0000],\n",
      "        [-14.5000]])\n",
      "next one\n",
      "tensor([[-15.0000],\n",
      "        [-15.5000],\n",
      "        [-16.0000],\n",
      "        [-16.5000],\n",
      "        [-17.0000],\n",
      "        [-17.5000],\n",
      "        [-18.0000],\n",
      "        [-18.5000],\n",
      "        [-19.0000],\n",
      "        [-19.5000]])\n",
      "next one\n",
      "tensor([[-20.0000],\n",
      "        [-20.5000],\n",
      "        [-21.0000],\n",
      "        [-21.5000],\n",
      "        [-22.0000],\n",
      "        [-22.5000],\n",
      "        [-23.0000],\n",
      "        [-23.5000],\n",
      "        [-24.0000],\n",
      "        [-24.5000]])\n",
      "next one\n",
      "next iteration\n"
     ]
    }
   ],
   "source": [
    "# Creating DataLoader object\n",
    "dataset = Build_Data()\n",
    "train_loader = DataLoader(dataset=dataset, batch_size=1)\n",
    "train_loader_10 = DataLoader(dataset=dataset, batch_size=10)\n",
    "\n",
    "step_size = 0.1\n",
    "loss_SGD = []\n",
    "n_iter = 2\n",
    " \n",
    "for i in range (n_iter):\n",
    "    # calculating loss as in the beginning of an epoch and storing it\n",
    "    y_pred = forward(X)\n",
    "    loss_SGD.append(criterion(y_pred, Y).tolist())\n",
    "    for x, y in train_loader_10:\n",
    "        # making a prediction in forward pass\n",
    "        y_hat = forward(x)\n",
    "        # calculating the loss between original and predicted data points\n",
    "        loss = criterion(y_hat, y)\n",
    "        # backward pass for computing the gradients of the loss w.r.t to learnable parameters\n",
    "        loss.backward()\n",
    "        # updating the parameters after each iteration\n",
    "        w.data = w.data - step_size * w.grad.data\n",
    "        b.data = b.data - step_size * b.grad.data\n",
    "        # zeroing gradients after each iteration\n",
    "        w.grad.data.zero_()\n",
    "        b.grad.data.zero_()\n",
    "        print(y)\n",
    "        print(\"next one\")\n",
    "        #print(y)\n",
    "    print(\"next iteration\")"
   ]
  },
  {
   "cell_type": "code",
   "execution_count": 385,
   "id": "6d2db7af-a903-4a46-9c74-28603a457449",
   "metadata": {
    "execution": {
     "iopub.execute_input": "2023-08-07T20:36:56.496173Z",
     "iopub.status.busy": "2023-08-07T20:36:56.495356Z",
     "iopub.status.idle": "2023-08-07T20:36:56.501761Z",
     "shell.execute_reply": "2023-08-07T20:36:56.500926Z",
     "shell.execute_reply.started": "2023-08-07T20:36:56.496149Z"
    }
   },
   "outputs": [
    {
     "data": {
      "text/plain": [
       "torch.Size([3])"
      ]
     },
     "execution_count": 385,
     "metadata": {},
     "output_type": "execute_result"
    }
   ],
   "source": [
    "x = torch.tensor([1, 2, 3])\n",
    "x.size()"
   ]
  },
  {
   "cell_type": "code",
   "execution_count": 397,
   "id": "1373a40f-d557-4f15-bdca-014b20986a97",
   "metadata": {
    "execution": {
     "iopub.execute_input": "2023-08-07T20:44:06.549566Z",
     "iopub.status.busy": "2023-08-07T20:44:06.548537Z",
     "iopub.status.idle": "2023-08-07T20:44:06.556447Z",
     "shell.execute_reply": "2023-08-07T20:44:06.555506Z",
     "shell.execute_reply.started": "2023-08-07T20:44:06.549527Z"
    }
   },
   "outputs": [
    {
     "data": {
      "text/plain": [
       "tensor([[1],\n",
       "        [2],\n",
       "        [3]])"
      ]
     },
     "execution_count": 397,
     "metadata": {},
     "output_type": "execute_result"
    }
   ],
   "source": [
    "x_1 = torch.tensor([[1], [2], [3]])\n",
    "x_1.size()\n",
    "x_1"
   ]
  },
  {
   "cell_type": "code",
   "execution_count": 406,
   "id": "80911780-4d14-4660-bc8b-71fb60ecbddf",
   "metadata": {
    "execution": {
     "iopub.execute_input": "2023-08-07T20:46:40.990972Z",
     "iopub.status.busy": "2023-08-07T20:46:40.990220Z",
     "iopub.status.idle": "2023-08-07T20:46:40.997984Z",
     "shell.execute_reply": "2023-08-07T20:46:40.997412Z",
     "shell.execute_reply.started": "2023-08-07T20:46:40.990932Z"
    }
   },
   "outputs": [
    {
     "data": {
      "text/plain": [
       "tensor([[[1],\n",
       "         [1],\n",
       "         [1],\n",
       "         [1]],\n",
       "\n",
       "        [[2],\n",
       "         [2],\n",
       "         [2],\n",
       "         [2]],\n",
       "\n",
       "        [[3],\n",
       "         [3],\n",
       "         [3],\n",
       "         [3]]])"
      ]
     },
     "execution_count": 406,
     "metadata": {},
     "output_type": "execute_result"
    }
   ],
   "source": [
    "torch.unsqueeze(x_1.expand(-1, 4), dim=-1)"
   ]
  },
  {
   "cell_type": "code",
   "execution_count": null,
   "id": "eaefdb29-a9e5-42db-8177-c587646c6fa5",
   "metadata": {},
   "outputs": [],
   "source": []
  },
  {
   "cell_type": "code",
   "execution_count": 591,
   "id": "3a52f383-a5e3-4c52-8226-163e4e701b02",
   "metadata": {
    "execution": {
     "iopub.execute_input": "2023-07-29T19:47:57.330339Z",
     "iopub.status.busy": "2023-07-29T19:47:57.329788Z",
     "iopub.status.idle": "2023-07-29T19:47:57.334605Z",
     "shell.execute_reply": "2023-07-29T19:47:57.334061Z",
     "shell.execute_reply.started": "2023-07-29T19:47:57.330318Z"
    }
   },
   "outputs": [
    {
     "data": {
      "text/plain": [
       "2"
      ]
     },
     "execution_count": 591,
     "metadata": {},
     "output_type": "execute_result"
    }
   ],
   "source": [
    "x = torch.randn(10, 2)\n",
    "x[0]"
   ]
  },
  {
   "cell_type": "code",
   "execution_count": 587,
   "id": "29040cde-03ca-4b0b-a91e-b8533f442029",
   "metadata": {
    "execution": {
     "iopub.execute_input": "2023-07-29T19:46:34.146696Z",
     "iopub.status.busy": "2023-07-29T19:46:34.145903Z",
     "iopub.status.idle": "2023-07-29T19:46:34.151943Z",
     "shell.execute_reply": "2023-07-29T19:46:34.151264Z",
     "shell.execute_reply.started": "2023-07-29T19:46:34.146668Z"
    }
   },
   "outputs": [
    {
     "data": {
      "text/plain": [
       "tensor([[-0.4330,  0.9634],\n",
       "        [ 1.2769,  1.0020],\n",
       "        [-0.4084,  0.1136],\n",
       "        [ 1.7447,  0.5347],\n",
       "        [ 0.0370,  0.4221],\n",
       "        [ 0.2748, -0.2607],\n",
       "        [ 1.1394,  1.0076],\n",
       "        [-0.8242,  0.6155],\n",
       "        [-0.7871, -0.8824],\n",
       "        [ 1.8951,  0.3365]])"
      ]
     },
     "execution_count": 587,
     "metadata": {},
     "output_type": "execute_result"
    }
   ],
   "source": [
    "x"
   ]
  },
  {
   "cell_type": "code",
   "execution_count": 828,
   "id": "931939c8-b821-4d17-8103-b4a128e4c390",
   "metadata": {
    "execution": {
     "iopub.execute_input": "2023-08-07T07:54:55.834705Z",
     "iopub.status.busy": "2023-08-07T07:54:55.833807Z",
     "iopub.status.idle": "2023-08-07T07:54:55.856520Z",
     "shell.execute_reply": "2023-08-07T07:54:55.855856Z",
     "shell.execute_reply.started": "2023-08-07T07:54:55.834670Z"
    }
   },
   "outputs": [
    {
     "ename": "RuntimeError",
     "evalue": "permute(sparse_coo): number of dimensions in the tensor input does not match the length of the desired ordering of dimensions i.e. input.dim() = 1 is not equal to len(dims) = 3",
     "output_type": "error",
     "traceback": [
      "\u001b[0;31m---------------------------------------------------------------------------\u001b[0m",
      "\u001b[0;31mRuntimeError\u001b[0m                              Traceback (most recent call last)",
      "Cell \u001b[0;32mIn[828], line 1\u001b[0m\n\u001b[0;32m----> 1\u001b[0m \u001b[43mtorch\u001b[49m\u001b[38;5;241;43m.\u001b[39;49m\u001b[43mpermute\u001b[49m\u001b[43m(\u001b[49m\u001b[43mtorch\u001b[49m\u001b[38;5;241;43m.\u001b[39;49m\u001b[43mtensor\u001b[49m\u001b[43m(\u001b[49m\u001b[43m[\u001b[49m\u001b[38;5;241;43m1\u001b[39;49m\u001b[43m,\u001b[49m\u001b[38;5;241;43m2\u001b[39;49m\u001b[43m,\u001b[49m\u001b[38;5;241;43m3\u001b[39;49m\u001b[43m]\u001b[49m\u001b[43m)\u001b[49m\u001b[43m,\u001b[49m\u001b[43m \u001b[49m\u001b[43mdims\u001b[49m\u001b[43m \u001b[49m\u001b[38;5;241;43m=\u001b[39;49m\u001b[43m \u001b[49m\u001b[43m(\u001b[49m\u001b[38;5;241;43m1\u001b[39;49m\u001b[43m,\u001b[49m\u001b[38;5;241;43m2\u001b[39;49m\u001b[43m,\u001b[49m\u001b[38;5;241;43m3\u001b[39;49m\u001b[43m)\u001b[49m\u001b[43m)\u001b[49m\n",
      "\u001b[0;31mRuntimeError\u001b[0m: permute(sparse_coo): number of dimensions in the tensor input does not match the length of the desired ordering of dimensions i.e. input.dim() = 1 is not equal to len(dims) = 3"
     ]
    }
   ],
   "source": [
    "torch.permute(torch.tensor([1,2,3]), dims = (1,2,3))"
   ]
  },
  {
   "cell_type": "code",
   "execution_count": 836,
   "id": "2be04c4a-6274-46f6-a5b1-6dc77d6fc142",
   "metadata": {
    "execution": {
     "iopub.execute_input": "2023-08-07T09:04:21.102263Z",
     "iopub.status.busy": "2023-08-07T09:04:21.101798Z",
     "iopub.status.idle": "2023-08-07T09:04:21.109623Z",
     "shell.execute_reply": "2023-08-07T09:04:21.108695Z",
     "shell.execute_reply.started": "2023-08-07T09:04:21.102228Z"
    }
   },
   "outputs": [
    {
     "data": {
      "text/plain": [
       "30"
      ]
     },
     "execution_count": 836,
     "metadata": {},
     "output_type": "execute_result"
    }
   ],
   "source": [
    "t_physics.size()[0]"
   ]
  },
  {
   "cell_type": "code",
   "execution_count": 840,
   "id": "83427c80-fd7d-41eb-bf34-efa3562d84b3",
   "metadata": {
    "execution": {
     "iopub.execute_input": "2023-08-07T09:07:13.375063Z",
     "iopub.status.busy": "2023-08-07T09:07:13.374552Z",
     "iopub.status.idle": "2023-08-07T09:07:13.395661Z",
     "shell.execute_reply": "2023-08-07T09:07:13.395012Z",
     "shell.execute_reply.started": "2023-08-07T09:07:13.375039Z"
    }
   },
   "outputs": [
    {
     "data": {
      "text/plain": [
       "tensor([[ 1.0000],\n",
       "        [ 1.3103],\n",
       "        [ 1.6207],\n",
       "        [ 1.9310],\n",
       "        [ 2.2414],\n",
       "        [ 2.5517],\n",
       "        [ 2.8621],\n",
       "        [ 3.1724],\n",
       "        [ 3.4828],\n",
       "        [ 3.7931],\n",
       "        [ 4.1034],\n",
       "        [ 4.4138],\n",
       "        [ 4.7241],\n",
       "        [ 5.0345],\n",
       "        [ 5.3448],\n",
       "        [ 5.6552],\n",
       "        [ 5.9655],\n",
       "        [ 6.2759],\n",
       "        [ 6.5862],\n",
       "        [ 6.8966],\n",
       "        [ 7.2069],\n",
       "        [ 7.5172],\n",
       "        [ 7.8276],\n",
       "        [ 8.1379],\n",
       "        [ 8.4483],\n",
       "        [ 8.7586],\n",
       "        [ 9.0690],\n",
       "        [ 9.3793],\n",
       "        [ 9.6897],\n",
       "        [10.0000]], device='cuda:0', grad_fn=<ToCopyBackward0>)"
      ]
     },
     "execution_count": 840,
     "metadata": {},
     "output_type": "execute_result"
    }
   ],
   "source": [
    "# Define training points over the entire domain, for the physics loss\n",
    "mu_1 = torch.linspace(1,10, t_physics.size(0)).view(-1, 1).requires_grad_(True).to(device)\n",
    "mu_1#.size()"
   ]
  },
  {
   "cell_type": "code",
   "execution_count": 864,
   "id": "b772d86d-7142-4661-862a-c51a3196a7e0",
   "metadata": {
    "execution": {
     "iopub.execute_input": "2023-08-07T09:48:05.978763Z",
     "iopub.status.busy": "2023-08-07T09:48:05.978477Z",
     "iopub.status.idle": "2023-08-07T09:48:05.986274Z",
     "shell.execute_reply": "2023-08-07T09:48:05.985378Z",
     "shell.execute_reply.started": "2023-08-07T09:48:05.978744Z"
    }
   },
   "outputs": [
    {
     "data": {
      "text/plain": [
       "tensor([[ 1.,  2.,  3.,  4.,  5.,  6.,  7.,  8.,  9., 10.]], device='cuda:0',\n",
       "       grad_fn=<ToCopyBackward0>)"
      ]
     },
     "execution_count": 864,
     "metadata": {},
     "output_type": "execute_result"
    }
   ],
   "source": [
    "# Define training points over the entire domain, for the physics loss\n",
    "mu_2 = torch.linspace(1,10, 10).view(1, -1).requires_grad_(True).to(device)\n",
    "mu_2#.size()"
   ]
  },
  {
   "cell_type": "code",
   "execution_count": 921,
   "id": "ef83e25a-6fe0-4536-8fa3-855eca924a1e",
   "metadata": {
    "execution": {
     "iopub.execute_input": "2023-08-07T16:53:29.329770Z",
     "iopub.status.busy": "2023-08-07T16:53:29.329029Z",
     "iopub.status.idle": "2023-08-07T16:53:29.340839Z",
     "shell.execute_reply": "2023-08-07T16:53:29.340224Z",
     "shell.execute_reply.started": "2023-08-07T16:53:29.329733Z"
    }
   },
   "outputs": [
    {
     "data": {
      "text/plain": [
       "tensor([[0.0000, 1.0000],\n",
       "        [0.0345, 1.0000],\n",
       "        [0.0690, 1.0000],\n",
       "        [0.1034, 1.0000],\n",
       "        [0.1379, 1.0000],\n",
       "        [0.1724, 1.0000],\n",
       "        [0.2069, 1.0000],\n",
       "        [0.2414, 1.0000],\n",
       "        [0.2759, 1.0000],\n",
       "        [0.3103, 1.0000],\n",
       "        [0.3448, 1.0000],\n",
       "        [0.3793, 1.0000],\n",
       "        [0.4138, 1.0000],\n",
       "        [0.4483, 1.0000],\n",
       "        [0.4828, 1.0000],\n",
       "        [0.5172, 1.0000],\n",
       "        [0.5517, 1.0000],\n",
       "        [0.5862, 1.0000],\n",
       "        [0.6207, 1.0000],\n",
       "        [0.6552, 1.0000],\n",
       "        [0.6897, 1.0000],\n",
       "        [0.7241, 1.0000],\n",
       "        [0.7586, 1.0000],\n",
       "        [0.7931, 1.0000],\n",
       "        [0.8276, 1.0000],\n",
       "        [0.8621, 1.0000],\n",
       "        [0.8966, 1.0000],\n",
       "        [0.9310, 1.0000],\n",
       "        [0.9655, 1.0000],\n",
       "        [1.0000, 1.0000]], device='cuda:0', grad_fn=<CatBackward0>)"
      ]
     },
     "execution_count": 921,
     "metadata": {},
     "output_type": "execute_result"
    }
   ],
   "source": [
    "mu_2_repeat = mu_2.repeat(t_physics.size(0),1)\n",
    "#torch.squeeze(mu_2_repeat[:,0], dim = -1)\n",
    "#mu_2_repeat.size()\n",
    "tensors = []\n",
    "for i in range(0,10):\n",
    "    tensors.append(torch.cat((t_physics, torch.unsqueeze(mu_2_repeat[:,i], dim = 1)), 1))\n",
    "    #tensors = mu_2_repeat_1_column = mu_2_repeat[:,0].clone()\n",
    "#torch.cat( (t_physics, torch.unsqueeze(mu_2_repeat_1_column, dim = 1), 1)\n",
    "tensors[0]"
   ]
  },
  {
   "cell_type": "code",
   "execution_count": 942,
   "id": "3ef39e78-522c-4bfc-82ba-dbfd402deffc",
   "metadata": {
    "execution": {
     "iopub.execute_input": "2023-08-08T08:27:36.744263Z",
     "iopub.status.busy": "2023-08-08T08:27:36.743643Z",
     "iopub.status.idle": "2023-08-08T08:27:36.747546Z",
     "shell.execute_reply": "2023-08-08T08:27:36.746964Z",
     "shell.execute_reply.started": "2023-08-08T08:27:36.744238Z"
    }
   },
   "outputs": [],
   "source": [
    "mus = torch.linspace(start = 0.25, end = 10, steps = 5)"
   ]
  },
  {
   "cell_type": "code",
   "execution_count": 943,
   "id": "cc5775db-4345-488a-835e-99e81680f5cd",
   "metadata": {
    "execution": {
     "iopub.execute_input": "2023-08-08T08:27:37.256569Z",
     "iopub.status.busy": "2023-08-08T08:27:37.256305Z",
     "iopub.status.idle": "2023-08-08T08:27:37.265917Z",
     "shell.execute_reply": "2023-08-08T08:27:37.265369Z",
     "shell.execute_reply.started": "2023-08-08T08:27:37.256551Z"
    }
   },
   "outputs": [
    {
     "data": {
      "text/plain": [
       "tensor([[10.],\n",
       "        [10.],\n",
       "        [10.],\n",
       "        [10.],\n",
       "        [10.],\n",
       "        [10.],\n",
       "        [10.],\n",
       "        [10.],\n",
       "        [10.],\n",
       "        [10.],\n",
       "        [10.],\n",
       "        [10.],\n",
       "        [10.],\n",
       "        [10.],\n",
       "        [10.],\n",
       "        [10.],\n",
       "        [10.],\n",
       "        [10.],\n",
       "        [10.],\n",
       "        [10.],\n",
       "        [10.],\n",
       "        [10.],\n",
       "        [10.],\n",
       "        [10.],\n",
       "        [10.],\n",
       "        [10.],\n",
       "        [10.],\n",
       "        [10.],\n",
       "        [10.],\n",
       "        [10.]], device='cuda:0', grad_fn=<MulBackward0>)"
      ]
     },
     "execution_count": 943,
     "metadata": {},
     "output_type": "execute_result"
    }
   ],
   "source": [
    "for count, mu_value in enumerate(mus):\n",
    "    tensor_i = (torch.ones_like(t_physics).requires_grad_(True).to(device))*mu_value\n",
    "tensor_i"
   ]
  },
  {
   "cell_type": "code",
   "execution_count": 539,
   "id": "031eb0d2-b919-4a3c-a3d6-1cf5c5b2c582",
   "metadata": {
    "execution": {
     "iopub.execute_input": "2023-07-27T14:45:21.055286Z",
     "iopub.status.busy": "2023-07-27T14:45:21.054395Z",
     "iopub.status.idle": "2023-07-27T14:45:21.064380Z",
     "shell.execute_reply": "2023-07-27T14:45:21.063740Z",
     "shell.execute_reply.started": "2023-07-27T14:45:21.055251Z"
    }
   },
   "outputs": [
    {
     "data": {
      "text/plain": [
       "tensor([[ 0.0000,  1.0000],\n",
       "        [ 0.0345,  1.3103],\n",
       "        [ 0.0690,  1.6207],\n",
       "        [ 0.1034,  1.9310],\n",
       "        [ 0.1379,  2.2414],\n",
       "        [ 0.1724,  2.5517],\n",
       "        [ 0.2069,  2.8621],\n",
       "        [ 0.2414,  3.1724],\n",
       "        [ 0.2759,  3.4828],\n",
       "        [ 0.3103,  3.7931],\n",
       "        [ 0.3448,  4.1034],\n",
       "        [ 0.3793,  4.4138],\n",
       "        [ 0.4138,  4.7241],\n",
       "        [ 0.4483,  5.0345],\n",
       "        [ 0.4828,  5.3448],\n",
       "        [ 0.5172,  5.6552],\n",
       "        [ 0.5517,  5.9655],\n",
       "        [ 0.5862,  6.2759],\n",
       "        [ 0.6207,  6.5862],\n",
       "        [ 0.6552,  6.8966],\n",
       "        [ 0.6897,  7.2069],\n",
       "        [ 0.7241,  7.5172],\n",
       "        [ 0.7586,  7.8276],\n",
       "        [ 0.7931,  8.1379],\n",
       "        [ 0.8276,  8.4483],\n",
       "        [ 0.8621,  8.7586],\n",
       "        [ 0.8966,  9.0690],\n",
       "        [ 0.9310,  9.3793],\n",
       "        [ 0.9655,  9.6897],\n",
       "        [ 1.0000, 10.0000]], device='cuda:0', grad_fn=<CatBackward0>)"
      ]
     },
     "execution_count": 539,
     "metadata": {},
     "output_type": "execute_result"
    }
   ],
   "source": [
    "t_physics_mu_1 = torch.cat((t_physics, mu_1), 1).to(device)\n",
    "t_physics_mu_1"
   ]
  },
  {
   "cell_type": "code",
   "execution_count": 540,
   "id": "aa2f678d-7ac5-4eaa-a863-c57c376cec27",
   "metadata": {
    "execution": {
     "iopub.execute_input": "2023-07-27T14:45:25.022302Z",
     "iopub.status.busy": "2023-07-27T14:45:25.021336Z",
     "iopub.status.idle": "2023-07-27T14:45:25.029007Z",
     "shell.execute_reply": "2023-07-27T14:45:25.028223Z",
     "shell.execute_reply.started": "2023-07-27T14:45:25.022256Z"
    }
   },
   "outputs": [
    {
     "data": {
      "text/plain": [
       "tensor([ 1.0000,  1.3103,  1.6207,  1.9310,  2.2414,  2.5517,  2.8621,  3.1724,\n",
       "         3.4828,  3.7931,  4.1034,  4.4138,  4.7241,  5.0345,  5.3448,  5.6552,\n",
       "         5.9655,  6.2759,  6.5862,  6.8966,  7.2069,  7.5172,  7.8276,  8.1379,\n",
       "         8.4483,  8.7586,  9.0690,  9.3793,  9.6897, 10.0000], device='cuda:0',\n",
       "       grad_fn=<SelectBackward0>)"
      ]
     },
     "execution_count": 540,
     "metadata": {},
     "output_type": "execute_result"
    }
   ],
   "source": [
    "t_physics_mu_1[:,1]"
   ]
  },
  {
   "cell_type": "code",
   "execution_count": 541,
   "id": "9a5e3461-d227-4615-b99f-b22712ef4a71",
   "metadata": {
    "execution": {
     "iopub.execute_input": "2023-07-27T14:45:32.173696Z",
     "iopub.status.busy": "2023-07-27T14:45:32.172768Z",
     "iopub.status.idle": "2023-07-27T14:45:32.178980Z",
     "shell.execute_reply": "2023-07-27T14:45:32.178171Z",
     "shell.execute_reply.started": "2023-07-27T14:45:32.173660Z"
    }
   },
   "outputs": [
    {
     "data": {
      "text/plain": [
       "True"
      ]
     },
     "execution_count": 541,
     "metadata": {},
     "output_type": "execute_result"
    }
   ],
   "source": [
    "t_physics_mu_1.requires_grad"
   ]
  },
  {
   "cell_type": "code",
   "execution_count": null,
   "id": "86a925d4-7dbd-4e29-b4ed-5999928068e1",
   "metadata": {},
   "outputs": [],
   "source": []
  },
  {
   "cell_type": "code",
   "execution_count": 418,
   "id": "c1257ace-630f-4d50-b13c-8927fd69bfae",
   "metadata": {
    "execution": {
     "iopub.execute_input": "2023-08-10T07:26:05.518477Z",
     "iopub.status.busy": "2023-08-10T07:26:05.517921Z",
     "iopub.status.idle": "2023-08-10T07:26:05.524541Z",
     "shell.execute_reply": "2023-08-10T07:26:05.524018Z",
     "shell.execute_reply.started": "2023-08-10T07:26:05.518456Z"
    }
   },
   "outputs": [
    {
     "data": {
      "text/plain": [
       "tensor([[1],\n",
       "        [2],\n",
       "        [3]])"
      ]
     },
     "execution_count": 418,
     "metadata": {},
     "output_type": "execute_result"
    }
   ],
   "source": [
    "test = torch.tensor([1,2,3]).view(-1,1)\n",
    "test"
   ]
  },
  {
   "cell_type": "code",
   "execution_count": 419,
   "id": "5eb8739f-779c-4fdd-866d-be9f11efea65",
   "metadata": {
    "execution": {
     "iopub.execute_input": "2023-08-10T07:26:06.068421Z",
     "iopub.status.busy": "2023-08-10T07:26:06.067844Z",
     "iopub.status.idle": "2023-08-10T07:26:06.073050Z",
     "shell.execute_reply": "2023-08-10T07:26:06.072508Z",
     "shell.execute_reply.started": "2023-08-10T07:26:06.068399Z"
    }
   },
   "outputs": [
    {
     "data": {
      "text/plain": [
       "tensor([[4],\n",
       "        [5],\n",
       "        [6]])"
      ]
     },
     "execution_count": 419,
     "metadata": {},
     "output_type": "execute_result"
    }
   ],
   "source": [
    "test1=  torch.tensor([4,5,6]).view(-1, 1)\n",
    "test1"
   ]
  },
  {
   "cell_type": "code",
   "execution_count": 421,
   "id": "3f65a3a2-868e-4e35-bf46-4729ee3e9ae2",
   "metadata": {
    "execution": {
     "iopub.execute_input": "2023-08-10T07:26:16.300838Z",
     "iopub.status.busy": "2023-08-10T07:26:16.300352Z",
     "iopub.status.idle": "2023-08-10T07:26:16.305264Z",
     "shell.execute_reply": "2023-08-10T07:26:16.304738Z",
     "shell.execute_reply.started": "2023-08-10T07:26:16.300816Z"
    }
   },
   "outputs": [
    {
     "data": {
      "text/plain": [
       "tensor([[1],\n",
       "        [2],\n",
       "        [3],\n",
       "        [4],\n",
       "        [5],\n",
       "        [6]])"
      ]
     },
     "execution_count": 421,
     "metadata": {},
     "output_type": "execute_result"
    }
   ],
   "source": [
    "torch.cat((test,test1), dim = 0)"
   ]
  },
  {
   "cell_type": "markdown",
   "id": "59f37ea6-5104-4bf7-8398-7d5edf6cf7e0",
   "metadata": {},
   "source": [
    "CONTIGUOUS versus NON-CONTIGUOUS https://discuss.pytorch.org/t/contigious-vs-non-contigious-tensor/30107"
   ]
  },
  {
   "cell_type": "code",
   "execution_count": 407,
   "id": "a398e22e-185c-4166-8c02-c5abd3795250",
   "metadata": {
    "execution": {
     "iopub.execute_input": "2023-08-09T09:08:03.674499Z",
     "iopub.status.busy": "2023-08-09T09:08:03.673631Z",
     "iopub.status.idle": "2023-08-09T09:08:03.679744Z",
     "shell.execute_reply": "2023-08-09T09:08:03.678660Z",
     "shell.execute_reply.started": "2023-08-09T09:08:03.674464Z"
    }
   },
   "outputs": [],
   "source": [
    "x = torch.arange(12).view(4, 3)"
   ]
  },
  {
   "cell_type": "code",
   "execution_count": 408,
   "id": "d385ce4b-8323-43f6-b0ce-c436f8f63a33",
   "metadata": {
    "execution": {
     "iopub.execute_input": "2023-08-09T09:08:05.992835Z",
     "iopub.status.busy": "2023-08-09T09:08:05.991929Z",
     "iopub.status.idle": "2023-08-09T09:08:05.998996Z",
     "shell.execute_reply": "2023-08-09T09:08:05.998099Z",
     "shell.execute_reply.started": "2023-08-09T09:08:05.992801Z"
    }
   },
   "outputs": [
    {
     "data": {
      "text/plain": [
       "tensor([[ 0,  1,  2],\n",
       "        [ 3,  4,  5],\n",
       "        [ 6,  7,  8],\n",
       "        [ 9, 10, 11]])"
      ]
     },
     "execution_count": 408,
     "metadata": {},
     "output_type": "execute_result"
    }
   ],
   "source": [
    "x"
   ]
  },
  {
   "cell_type": "code",
   "execution_count": 409,
   "id": "7c414d45-d99c-4052-b129-b958b0898863",
   "metadata": {
    "execution": {
     "iopub.execute_input": "2023-08-09T09:08:19.653011Z",
     "iopub.status.busy": "2023-08-09T09:08:19.652111Z",
     "iopub.status.idle": "2023-08-09T09:08:19.659189Z",
     "shell.execute_reply": "2023-08-09T09:08:19.658174Z",
     "shell.execute_reply.started": "2023-08-09T09:08:19.652969Z"
    }
   },
   "outputs": [
    {
     "data": {
      "text/plain": [
       "(3, 1)"
      ]
     },
     "execution_count": 409,
     "metadata": {},
     "output_type": "execute_result"
    }
   ],
   "source": [
    "x.stride()"
   ]
  },
  {
   "cell_type": "code",
   "execution_count": 410,
   "id": "0cc94abb-8c9d-4b00-8d20-ebbd1471a227",
   "metadata": {
    "execution": {
     "iopub.execute_input": "2023-08-09T09:08:36.850276Z",
     "iopub.status.busy": "2023-08-09T09:08:36.849525Z",
     "iopub.status.idle": "2023-08-09T09:08:36.855982Z",
     "shell.execute_reply": "2023-08-09T09:08:36.854991Z",
     "shell.execute_reply.started": "2023-08-09T09:08:36.850243Z"
    }
   },
   "outputs": [
    {
     "data": {
      "text/plain": [
       "torch.Tensor"
      ]
     },
     "execution_count": 410,
     "metadata": {},
     "output_type": "execute_result"
    }
   ],
   "source": [
    "type(x)"
   ]
  },
  {
   "cell_type": "code",
   "execution_count": 411,
   "id": "32e73b99-d580-4588-bfdc-67f7bc516661",
   "metadata": {
    "execution": {
     "iopub.execute_input": "2023-08-09T09:08:46.259833Z",
     "iopub.status.busy": "2023-08-09T09:08:46.259016Z",
     "iopub.status.idle": "2023-08-09T09:08:46.266287Z",
     "shell.execute_reply": "2023-08-09T09:08:46.265280Z",
     "shell.execute_reply.started": "2023-08-09T09:08:46.259795Z"
    }
   },
   "outputs": [
    {
     "data": {
      "text/plain": [
       "torch.Size([4, 3])"
      ]
     },
     "execution_count": 411,
     "metadata": {},
     "output_type": "execute_result"
    }
   ],
   "source": [
    "x.size()"
   ]
  },
  {
   "cell_type": "code",
   "execution_count": 413,
   "id": "0820d482-9a4a-4b45-bbf8-b528304a80a8",
   "metadata": {
    "execution": {
     "iopub.execute_input": "2023-08-09T09:20:08.218343Z",
     "iopub.status.busy": "2023-08-09T09:20:08.217555Z",
     "iopub.status.idle": "2023-08-09T09:20:08.223357Z",
     "shell.execute_reply": "2023-08-09T09:20:08.222811Z",
     "shell.execute_reply.started": "2023-08-09T09:20:08.218305Z"
    }
   },
   "outputs": [
    {
     "data": {
      "text/plain": [
       "tensor([[ 0,  3,  6,  9],\n",
       "        [ 1,  4,  7, 10],\n",
       "        [ 2,  5,  8, 11]])"
      ]
     },
     "execution_count": 413,
     "metadata": {},
     "output_type": "execute_result"
    }
   ],
   "source": [
    "y = x.t()\n",
    "y"
   ]
  },
  {
   "cell_type": "code",
   "execution_count": 414,
   "id": "a1e587d6-a0a7-4c08-acbe-f38b620df88e",
   "metadata": {
    "execution": {
     "iopub.execute_input": "2023-08-09T09:20:13.907977Z",
     "iopub.status.busy": "2023-08-09T09:20:13.907365Z",
     "iopub.status.idle": "2023-08-09T09:20:13.911684Z",
     "shell.execute_reply": "2023-08-09T09:20:13.911113Z",
     "shell.execute_reply.started": "2023-08-09T09:20:13.907930Z"
    }
   },
   "outputs": [
    {
     "data": {
      "text/plain": [
       "torch.Size([3, 4])"
      ]
     },
     "execution_count": 414,
     "metadata": {},
     "output_type": "execute_result"
    }
   ],
   "source": [
    "y.size()"
   ]
  },
  {
   "cell_type": "code",
   "execution_count": 415,
   "id": "7927eecf-0102-4dc6-91c1-366effc64aa9",
   "metadata": {
    "execution": {
     "iopub.execute_input": "2023-08-09T09:20:34.092473Z",
     "iopub.status.busy": "2023-08-09T09:20:34.091562Z",
     "iopub.status.idle": "2023-08-09T09:20:34.098101Z",
     "shell.execute_reply": "2023-08-09T09:20:34.097341Z",
     "shell.execute_reply.started": "2023-08-09T09:20:34.092436Z"
    }
   },
   "outputs": [
    {
     "data": {
      "text/plain": [
       "(1, 3)"
      ]
     },
     "execution_count": 415,
     "metadata": {},
     "output_type": "execute_result"
    }
   ],
   "source": [
    "y.stride()"
   ]
  },
  {
   "cell_type": "code",
   "execution_count": 416,
   "id": "70a937e4-20f7-4e6d-af6e-60e151c4dc18",
   "metadata": {
    "execution": {
     "iopub.execute_input": "2023-08-09T09:21:23.166812Z",
     "iopub.status.busy": "2023-08-09T09:21:23.165917Z",
     "iopub.status.idle": "2023-08-09T09:21:23.172681Z",
     "shell.execute_reply": "2023-08-09T09:21:23.171654Z",
     "shell.execute_reply.started": "2023-08-09T09:21:23.166773Z"
    }
   },
   "outputs": [
    {
     "data": {
      "text/plain": [
       "False"
      ]
     },
     "execution_count": 416,
     "metadata": {},
     "output_type": "execute_result"
    }
   ],
   "source": [
    "y.is_contiguous()"
   ]
  },
  {
   "cell_type": "code",
   "execution_count": null,
   "id": "e663a674-7297-47ec-8b3c-2df1fe77709e",
   "metadata": {},
   "outputs": [],
   "source": []
  }
 ],
 "metadata": {
  "kernelspec": {
   "display_name": "Python 3 (ipykernel)",
   "language": "python",
   "name": "python3"
  },
  "language_info": {
   "codemirror_mode": {
    "name": "ipython",
    "version": 3
   },
   "file_extension": ".py",
   "mimetype": "text/x-python",
   "name": "python",
   "nbconvert_exporter": "python",
   "pygments_lexer": "ipython3",
   "version": "3.10.11"
  }
 },
 "nbformat": 4,
 "nbformat_minor": 5
}
