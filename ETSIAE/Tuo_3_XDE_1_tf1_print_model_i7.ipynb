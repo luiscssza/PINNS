{
 "cells": [
  {
   "cell_type": "code",
   "execution_count": 2,
   "id": "04934ec9",
   "metadata": {},
   "outputs": [],
   "source": [
    "import tensorflow.compat.v1 as tf\n",
    "tf.disable_eager_execution()\n",
    "import deepxde as dde\n",
    "import numpy as np"
   ]
  },
  {
   "cell_type": "code",
   "execution_count": 3,
   "id": "f5ebdb82",
   "metadata": {},
   "outputs": [
    {
     "name": "stdout",
     "output_type": "stream",
     "text": [
      "Warning: 2540 points required, but 2550 points sampled.\n"
     ]
    }
   ],
   "source": [
    "# Problem parameters:\n",
    "a = 0.4  # Thermal diffusivity\n",
    "L = 1  # Length of the bar\n",
    "n = 1  # Frequency of the sinusoidal initial conditions\n",
    "\n",
    "def pde(x, y):\n",
    "    \"\"\"Expresses the PDE residual of the heat equation.\"\"\"\n",
    "    dy_t = dde.grad.jacobian(y, x, i=0, j=1)\n",
    "    dy_xx = dde.grad.hessian(y, x, i=0, j=0)\n",
    "    return dy_t - a * dy_xx\n",
    "\n",
    "# Computational geometry:\n",
    "geom = dde.geometry.Interval(0, L)\n",
    "timedomain = dde.geometry.TimeDomain(0, 1)\n",
    "geomtime = dde.geometry.GeometryXTime(geom, timedomain)\n",
    "\n",
    "# Initial and boundary conditions:\n",
    "bc = dde.icbc.NeumannBC(geomtime, lambda x: 0, lambda _, on_boundary: on_boundary)\n",
    "ic = dde.icbc.IC(\n",
    "    geomtime,\n",
    "    lambda x: np.cos(np.pi * x[:, 0:1] / L),\n",
    "    lambda _, on_initial: on_initial,\n",
    ")\n",
    "\n",
    "# Define the PDE problem and configurations of the network:\n",
    "data = dde.data.TimePDE(\n",
    "    geomtime,\n",
    "    pde, # minimize residual\n",
    "    [bc, ic],\n",
    "    num_domain=2540,\n",
    "    num_boundary=80,\n",
    "    num_initial=160,\n",
    "    num_test=2540,\n",
    ")\n",
    "net = dde.nn.FNN([2] + [10] * 2 + [1], \"tanh\", \"Glorot normal\")\n",
    "model = dde.Model(data, net)"
   ]
  },
  {
   "cell_type": "code",
   "execution_count": 4,
   "id": "c72c15f5",
   "metadata": {},
   "outputs": [
    {
     "name": "stdout",
     "output_type": "stream",
     "text": [
      "Compiling model...\n",
      "Building feed-forward neural network...\n",
      "'build' took 0.121782 s\n",
      "\n"
     ]
    },
    {
     "name": "stderr",
     "output_type": "stream",
     "text": [
      "C:\\Users\\reloj\\anaconda3\\lib\\site-packages\\deepxde\\nn\\tensorflow_compat_v1\\fnn.py:114: UserWarning: `tf.layers.dense` is deprecated and will be removed in a future version. Please use `tf.keras.layers.Dense` instead.\n",
      "  return tf.layers.dense(\n"
     ]
    },
    {
     "name": "stdout",
     "output_type": "stream",
     "text": [
      "'compile' took 1.113064 s\n",
      "\n",
      "Initializing variables...\n",
      "Training model...\n",
      "\n",
      "Step      Train loss                        Test loss                         Test metric\n",
      "0         [2.08e-02, 2.78e-02, 4.45e-01]    [2.07e-02, 2.78e-02, 4.45e-01]    []  \n",
      "1000      [2.21e-03, 6.34e-04, 1.90e-04]    [1.36e-03, 6.34e-04, 1.90e-04]    []  \n",
      "2000      [4.42e-04, 4.48e-05, 1.00e-05]    [3.23e-04, 4.48e-05, 1.00e-05]    []  \n",
      "3000      [2.78e-04, 2.18e-05, 3.28e-06]    [2.05e-04, 2.18e-05, 3.28e-06]    []  \n",
      "4000      [1.98e-04, 1.15e-05, 2.10e-06]    [1.42e-04, 1.15e-05, 2.10e-06]    []  \n",
      "5000      [1.53e-04, 7.16e-06, 1.61e-06]    [1.07e-04, 7.16e-06, 1.61e-06]    []  \n",
      "6000      [1.27e-04, 5.60e-06, 1.65e-06]    [8.88e-05, 5.60e-06, 1.65e-06]    []  \n",
      "7000      [9.75e-05, 3.48e-06, 1.07e-06]    [6.37e-05, 3.48e-06, 1.07e-06]    []  \n",
      "8000      [8.12e-05, 3.11e-06, 8.53e-07]    [5.23e-05, 3.11e-06, 8.53e-07]    []  \n",
      "9000      [7.02e-05, 2.94e-06, 7.49e-07]    [4.45e-05, 2.94e-06, 7.49e-07]    []  \n",
      "10000     [6.27e-05, 2.83e-06, 6.73e-07]    [3.91e-05, 2.83e-06, 6.73e-07]    []  \n",
      "\n",
      "Best model at step 10000:\n",
      "  train loss: 6.62e-05\n",
      "  test loss: 4.26e-05\n",
      "  test metric: []\n",
      "\n",
      "'train' took 61.809084 s\n",
      "\n"
     ]
    },
    {
     "data": {
      "text/plain": [
       "(<deepxde.model.LossHistory at 0x234c5e8c5b0>,\n",
       " <deepxde.model.TrainState at 0x234b78dcc40>)"
      ]
     },
     "execution_count": 4,
     "metadata": {},
     "output_type": "execute_result"
    }
   ],
   "source": [
    "# Build and train the model:\n",
    "model.compile(\"adam\", lr=1e-3)\n",
    "model.train(iterations=10000)"
   ]
  },
  {
   "cell_type": "code",
   "execution_count": 5,
   "id": "f0feb547",
   "metadata": {},
   "outputs": [
    {
     "name": "stdout",
     "output_type": "stream",
     "text": [
      "Variable: dense/kernel:0, Shape: (2, 10)\n",
      "[[-1.5990883   0.37469533  0.45382783  1.4474     -0.07592233 -0.52672696\n",
      "   0.4404916  -0.5205638   0.20294623 -1.4355215 ]\n",
      " [ 0.35831878 -0.7573527   1.004971    1.1180861   1.0793487  -0.39940417\n",
      "  -1.1148055   0.8970601   1.2398698  -0.6011251 ]]\n",
      "Variable: dense/bias:0, Shape: (10,)\n",
      "[ 0.48147652 -0.36868328  0.03046252 -0.5381217   0.44963765 -0.30798987\n",
      " -0.17150135  0.33380023  0.27705324  0.0529801 ]\n",
      "Variable: dense_1/kernel:0, Shape: (10, 10)\n",
      "[[ 1.0536628  -0.49546582  0.07132808 -0.74095696  0.03663914 -0.2922958\n",
      "  -0.4089138   0.8712825  -0.06003215 -0.2738065 ]\n",
      " [-0.91908675 -2.3150625  -0.8240347   0.33802855  0.46728927  0.5489989\n",
      "  -0.6502275  -0.21120869  0.22945999  0.20071827]\n",
      " [ 1.2934774  -0.6968734   0.75158674 -0.9747271   1.0177298   0.1179947\n",
      "  -1.0861077  -0.7476071  -0.5889487  -0.27543148]\n",
      " [-0.21390183  0.7311661   0.20615576  0.75262904 -0.26487216 -0.19175258\n",
      "   0.75638336  0.14215621 -0.3580125   0.09616257]\n",
      " [ 1.2015775   0.95445234  1.1236562  -0.80782527  0.42470506  0.12785882\n",
      "   0.61000043 -0.9342129   0.14390565 -0.45994318]\n",
      " [-1.0775234   0.68672454  0.10530937  0.72020423  0.2277084  -0.30480108\n",
      "   0.6192707   1.2052038   0.15748471  0.05885167]\n",
      " [-1.0113083  -0.75189614 -0.21684566  0.01310153  0.05959895  0.3876156\n",
      "  -0.8472625  -0.65872896  0.4646203  -0.17348807]\n",
      " [ 0.5442585   1.8280898   0.03903842 -0.18294318  0.11164559 -0.09238108\n",
      "   0.60801595  0.28739598 -0.09394822 -0.7130676 ]\n",
      " [ 1.3430296  -0.20690703  0.8004803  -1.1144905   0.3839028  -0.76793975\n",
      "  -0.07109464  0.08749716 -0.25983995 -0.3842698 ]\n",
      " [ 0.64280164 -0.9317488  -0.22593954 -0.59995836 -0.06981277 -0.4613428\n",
      "  -0.4542231   0.4425377   1.0964425  -1.0740045 ]]\n",
      "Variable: dense_1/bias:0, Shape: (10,)\n",
      "[ 0.39890122  0.26083645  0.45229217 -0.20202693 -0.28700912  0.2786602\n",
      "  0.23922195 -0.6248266  -0.21411678 -0.15889634]\n",
      "Variable: dense_2/kernel:0, Shape: (10, 1)\n",
      "[[ 0.9454503 ]\n",
      " [-1.1824375 ]\n",
      " [-0.68688387]\n",
      " [-1.5466278 ]\n",
      " [ 1.0601218 ]\n",
      " [ 0.837819  ]\n",
      " [-1.2697006 ]\n",
      " [-0.6169375 ]\n",
      " [ 0.47641292]\n",
      " [-0.9210249 ]]\n",
      "Variable: dense_2/bias:0, Shape: (1,)\n",
      "[-0.31388482]\n"
     ]
    }
   ],
   "source": [
    "model.print_model()"
   ]
  },
  {
   "cell_type": "code",
   "execution_count": null,
   "id": "785f382e",
   "metadata": {},
   "outputs": [],
   "source": []
  }
 ],
 "metadata": {
  "kernelspec": {
   "display_name": "Python 3 (ipykernel)",
   "language": "python",
   "name": "python3"
  },
  "language_info": {
   "codemirror_mode": {
    "name": "ipython",
    "version": 3
   },
   "file_extension": ".py",
   "mimetype": "text/x-python",
   "name": "python",
   "nbconvert_exporter": "python",
   "pygments_lexer": "ipython3",
   "version": "3.9.13"
  }
 },
 "nbformat": 4,
 "nbformat_minor": 5
}
